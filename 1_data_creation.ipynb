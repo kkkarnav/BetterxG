{
 "cells": [
  {
   "cell_type": "code",
   "execution_count": 1,
   "metadata": {
    "collapsed": true
   },
   "outputs": [],
   "source": [
    "import pandas as pd\n",
    "\n",
    "from tqdm import tqdm\n",
    "import warnings\n",
    "\n",
    "from statsbombpy import sb"
   ]
  },
  {
   "cell_type": "code",
   "execution_count": 2,
   "outputs": [],
   "source": [
    "###########################\n",
    "# This notebook uses the statsbombpy API to grab all events for all seasons of StatsBomb's open data. Note that this is a large volume of data - about 5 GB, and running the notebook might therefore be difficult due to network speed and data transfer constraints on the API. It is advisable to use the downloaded csv files available in the /data directory instead.\n",
    "###########################"
   ],
   "metadata": {
    "collapsed": false,
    "pycharm": {
     "name": "#%%\n"
    }
   }
  },
  {
   "cell_type": "code",
   "execution_count": 4,
   "outputs": [
    {
     "name": "stderr",
     "output_type": "stream",
     "text": [
      "52it [01:01,  1.19s/it]\n"
     ]
    }
   ],
   "source": [
    "# Scrape all events from all records in StatsBomb's open data and store then in a dataframe called all_events\n",
    "warnings.filterwarnings(\"ignore\")\n",
    "\n",
    "all_events = pd.DataFrame()\n",
    "all_events[\"season_id\"] = []\n",
    "all_events[\"match_id\"] = []\n",
    "\n",
    "for season in list(sb.competitions().iterrows())[1:2]:\n",
    "    for match in tqdm(sb.matches(competition_id=season[1].iloc[0], season_id=season[1].iloc[1]).iterrows()):\n",
    "        try:\n",
    "            all_events = pd.concat([all_events,\n",
    "                                    sb.events(match_id=match[1].iloc[0], split=False, flatten_attrs=True)\n",
    "                                   .assign(competition_id=season[1].iloc[3], season_id=season[1].iloc[7], match_id=match[1].iloc[0])], ignore_index=True)\n",
    "        except Exception as e:\n",
    "            print(e)"
   ],
   "metadata": {
    "collapsed": false,
    "pycharm": {
     "name": "#%%\n"
    }
   }
  },
  {
   "cell_type": "code",
   "execution_count": 2,
   "outputs": [
    {
     "name": "stderr",
     "output_type": "stream",
     "text": [
      "C:\\Users\\KARNAV\\AppData\\Local\\Temp\\ipykernel_9196\\2209106944.py:3: DtypeWarning: Columns (0,2,4,7,8,9,10,12,14,18,20,33,34,35,37,38,39,40,41,42,43,44,45,47,48,49,51,52,53,54,55,66,72,86,87,88,89,90,91,92,93,94,95,96,97,98,99,100,101,102,103,104,105,106,107,108,109,110,111,112,113,114,115,116) have mixed types. Specify dtype option on import or set low_memory=False.\n",
      "  all_events = pd.read_csv(f\"./data/all_events{i}.csv\")\n",
      "C:\\Users\\KARNAV\\AppData\\Local\\Temp\\ipykernel_9196\\2209106944.py:3: DtypeWarning: Columns (2,4,6,16,32,34,35,36,37,38,39,40,42,43,45,46,47,76,79,80,81,83,84,85,86,87,88,89,90,91,92,93,94,95,96,97,98,99,100,101,102,103,104,105,106,107,108,109,110) have mixed types. Specify dtype option on import or set low_memory=False.\n",
      "  all_events = pd.read_csv(f\"./data/all_events{i}.csv\")\n",
      "C:\\Users\\KARNAV\\AppData\\Local\\Temp\\ipykernel_9196\\2209106944.py:3: DtypeWarning: Columns (0,2,3,4,5,6,7,8,9,10,11,12,13,14,15,16,18,19,20,21,22,23,24,25,26,27,30,33,34,35,37,38,39,40,41,42,43,44,46,47,48,50,51,52,53,54,55,66,67,68,69,70,71,72,73,75,76,84,86,87,88,89,90,91,92,93,94,95,96,97,98,99,100,101,102,103,104,105,106,107,108,109,110,111,112,113,114,115,116,117,118,119) have mixed types. Specify dtype option on import or set low_memory=False.\n",
      "  all_events = pd.read_csv(f\"./data/all_events{i}.csv\")\n",
      "C:\\Users\\KARNAV\\AppData\\Local\\Temp\\ipykernel_9196\\2209106944.py:3: DtypeWarning: Columns (0,2,3,6,14,16,20,21,22,28,36,46,50,52,56,71,73,76,79,84,85,95,96,97,98,99,100,101,102,103,104,105,106,107,108,109,110,111,112,113,114,115,116) have mixed types. Specify dtype option on import or set low_memory=False.\n",
      "  all_events = pd.read_csv(f\"./data/all_events{i}.csv\")\n",
      "C:\\Users\\KARNAV\\AppData\\Local\\Temp\\ipykernel_9196\\2209106944.py:3: DtypeWarning: Columns (2,4,10,13,14,16,22,43,44,46,48,50,56,59,71,77,91,93,94,95,96,97,98,99,100,101,102,103,104,105,106,107,108,109,110,111,112,113,114,115,116,117,118) have mixed types. Specify dtype option on import or set low_memory=False.\n",
      "  all_events = pd.read_csv(f\"./data/all_events{i}.csv\")\n",
      "C:\\Users\\KARNAV\\AppData\\Local\\Temp\\ipykernel_9196\\2209106944.py:3: DtypeWarning: Columns (0,2,5,17,18,19,20,21,27,35,43,45,49,51,55,58,70,76,77,79,92,93,94,95,96,97,98,99,100,101,102,103,104,105,106,107,108,109,110,111,112,113,114,115,116,117,118) have mixed types. Specify dtype option on import or set low_memory=False.\n",
      "  all_events = pd.read_csv(f\"./data/all_events{i}.csv\")\n",
      "C:\\Users\\KARNAV\\AppData\\Local\\Temp\\ipykernel_9196\\2209106944.py:3: DtypeWarning: Columns (0,2,7,8,9,10,12,14,18,19,20,21,22,28,36,37,38,44,45,47,49,51,53,57,60,72,78,80,93,94,95,96,97,98,99,100,101,102,103,104,105,106,107,108,109,110,111,112,113,114,115,116,117,118) have mixed types. Specify dtype option on import or set low_memory=False.\n",
      "  all_events = pd.read_csv(f\"./data/all_events{i}.csv\")\n",
      "C:\\Users\\KARNAV\\AppData\\Local\\Temp\\ipykernel_9196\\2209106944.py:3: DtypeWarning: Columns (0,2,3,4,5,7,8,9,16,18,22,23,24,25,26,34,37,43,45,46,47,48,49,50,51,53,54,55,57,58,59,60,61,62,73,79,81,94,95,96,97,98,99,100,101,102,103,104,105,106,107,108,109,110,111,112,113,114,115,116,117,118) have mixed types. Specify dtype option on import or set low_memory=False.\n",
      "  all_events = pd.read_csv(f\"./data/all_events{i}.csv\")\n"
     ]
    },
    {
     "data": {
      "text/plain": "        season_id   match_id ball_receipt_outcome  \\\n3807    2015/2016  3890561.0                  NaN   \n3808    2015/2016  3890561.0                  NaN   \n3809    2015/2016  3890561.0                  NaN   \n3810    2015/2016  3890561.0                  NaN   \n3811    2015/2016  3890561.0                  NaN   \n...           ...        ...                  ...   \n713505        NaN        NaN                  NaN   \n713506        NaN        NaN                  NaN   \n713507        NaN        NaN                  NaN   \n713508        NaN        NaN                  NaN   \n713509        NaN        NaN                  NaN   \n\n       ball_recovery_recovery_failure block_deflection carry_end_location  \\\n3807                              NaN              NaN                NaN   \n3808                              NaN              NaN                NaN   \n3809                              NaN              NaN                NaN   \n3810                              NaN              NaN                NaN   \n3811                              NaN              NaN                NaN   \n...                               ...              ...                ...   \n713505                            NaN              NaN                NaN   \n713506                            NaN              NaN                NaN   \n713507                            NaN              NaN                NaN   \n713508                            NaN              NaN                NaN   \n713509                            NaN              NaN                NaN   \n\n       clearance_aerial_won clearance_body_part clearance_head  \\\n3807                    NaN                 NaN            NaN   \n3808                    NaN                 NaN            NaN   \n3809                    NaN                 NaN            NaN   \n3810                    NaN                 NaN            NaN   \n3811                    NaN                 NaN            NaN   \n...                     ...                 ...            ...   \n713505                  NaN                 NaN            NaN   \n713506                  NaN                 NaN            NaN   \n713507                  NaN                 NaN            NaN   \n713508                  NaN                 NaN            NaN   \n713509                  NaN                 NaN            NaN   \n\n       clearance_left_foot  ... shot_saved_to_post goalkeeper_lost_in_play  \\\n3807                   NaN  ...                NaN                     NaN   \n3808                   NaN  ...                NaN                     NaN   \n3809                   NaN  ...                NaN                     NaN   \n3810                   NaN  ...                NaN                     NaN   \n3811                   NaN  ...                NaN                     NaN   \n...                    ...  ...                ...                     ...   \n713505                 NaN  ...                NaN                     NaN   \n713506                 NaN  ...                NaN                     NaN   \n713507                 NaN  ...                NaN                     NaN   \n713508                 NaN  ...                NaN                     NaN   \n713509                 NaN  ...                NaN                     NaN   \n\n       goalkeeper_success_in_play dribble_no_touch  \\\n3807                          NaN              NaN   \n3808                          NaN              NaN   \n3809                          NaN              NaN   \n3810                          NaN              NaN   \n3811                          NaN              NaN   \n...                           ...              ...   \n713505                        NaN              NaN   \n713506                        NaN              NaN   \n713507                        NaN              NaN   \n713508                        NaN              NaN   \n713509                        NaN              NaN   \n\n       goalkeeper_penalty_saved_to_post shot_follows_dribble  \\\n3807                                NaN                  NaN   \n3808                                NaN                  NaN   \n3809                                NaN                  NaN   \n3810                                NaN                  NaN   \n3811                                NaN                  NaN   \n...                                 ...                  ...   \n713505                              NaN                  NaN   \n713506                              NaN                  NaN   \n713507                              NaN                  NaN   \n713508                              NaN                  NaN   \n713509                              NaN                  NaN   \n\n       player_off_permanent  goalkeeper_success_out shot_kick_off  \\\n3807                    NaN                     NaN           NaN   \n3808                    NaN                     NaN           NaN   \n3809                    NaN                     NaN           NaN   \n3810                    NaN                     NaN           NaN   \n3811                    NaN                     NaN           NaN   \n...                     ...                     ...           ...   \n713505                  NaN                     NaN           NaN   \n713506                  NaN                     NaN           NaN   \n713507                  NaN                     NaN           NaN   \n713508                  NaN                     NaN           NaN   \n713509                  NaN                     NaN           NaN   \n\n       goalkeeper_lost_out  \n3807                   NaN  \n3808                   NaN  \n3809                   NaN  \n3810                   NaN  \n3811                   NaN  \n...                    ...  \n713505                 NaN  \n713506                 NaN  \n713507                 NaN  \n713508                 NaN  \n713509                 NaN  \n\n[115286 rows x 941 columns]",
      "text/html": "<div>\n<style scoped>\n    .dataframe tbody tr th:only-of-type {\n        vertical-align: middle;\n    }\n\n    .dataframe tbody tr th {\n        vertical-align: top;\n    }\n\n    .dataframe thead th {\n        text-align: right;\n    }\n</style>\n<table border=\"1\" class=\"dataframe\">\n  <thead>\n    <tr style=\"text-align: right;\">\n      <th></th>\n      <th>season_id</th>\n      <th>match_id</th>\n      <th>ball_receipt_outcome</th>\n      <th>ball_recovery_recovery_failure</th>\n      <th>block_deflection</th>\n      <th>carry_end_location</th>\n      <th>clearance_aerial_won</th>\n      <th>clearance_body_part</th>\n      <th>clearance_head</th>\n      <th>clearance_left_foot</th>\n      <th>...</th>\n      <th>shot_saved_to_post</th>\n      <th>goalkeeper_lost_in_play</th>\n      <th>goalkeeper_success_in_play</th>\n      <th>dribble_no_touch</th>\n      <th>goalkeeper_penalty_saved_to_post</th>\n      <th>shot_follows_dribble</th>\n      <th>player_off_permanent</th>\n      <th>goalkeeper_success_out</th>\n      <th>shot_kick_off</th>\n      <th>goalkeeper_lost_out</th>\n    </tr>\n  </thead>\n  <tbody>\n    <tr>\n      <th>3807</th>\n      <td>2015/2016</td>\n      <td>3890561.0</td>\n      <td>NaN</td>\n      <td>NaN</td>\n      <td>NaN</td>\n      <td>NaN</td>\n      <td>NaN</td>\n      <td>NaN</td>\n      <td>NaN</td>\n      <td>NaN</td>\n      <td>...</td>\n      <td>NaN</td>\n      <td>NaN</td>\n      <td>NaN</td>\n      <td>NaN</td>\n      <td>NaN</td>\n      <td>NaN</td>\n      <td>NaN</td>\n      <td>NaN</td>\n      <td>NaN</td>\n      <td>NaN</td>\n    </tr>\n    <tr>\n      <th>3808</th>\n      <td>2015/2016</td>\n      <td>3890561.0</td>\n      <td>NaN</td>\n      <td>NaN</td>\n      <td>NaN</td>\n      <td>NaN</td>\n      <td>NaN</td>\n      <td>NaN</td>\n      <td>NaN</td>\n      <td>NaN</td>\n      <td>...</td>\n      <td>NaN</td>\n      <td>NaN</td>\n      <td>NaN</td>\n      <td>NaN</td>\n      <td>NaN</td>\n      <td>NaN</td>\n      <td>NaN</td>\n      <td>NaN</td>\n      <td>NaN</td>\n      <td>NaN</td>\n    </tr>\n    <tr>\n      <th>3809</th>\n      <td>2015/2016</td>\n      <td>3890561.0</td>\n      <td>NaN</td>\n      <td>NaN</td>\n      <td>NaN</td>\n      <td>NaN</td>\n      <td>NaN</td>\n      <td>NaN</td>\n      <td>NaN</td>\n      <td>NaN</td>\n      <td>...</td>\n      <td>NaN</td>\n      <td>NaN</td>\n      <td>NaN</td>\n      <td>NaN</td>\n      <td>NaN</td>\n      <td>NaN</td>\n      <td>NaN</td>\n      <td>NaN</td>\n      <td>NaN</td>\n      <td>NaN</td>\n    </tr>\n    <tr>\n      <th>3810</th>\n      <td>2015/2016</td>\n      <td>3890561.0</td>\n      <td>NaN</td>\n      <td>NaN</td>\n      <td>NaN</td>\n      <td>NaN</td>\n      <td>NaN</td>\n      <td>NaN</td>\n      <td>NaN</td>\n      <td>NaN</td>\n      <td>...</td>\n      <td>NaN</td>\n      <td>NaN</td>\n      <td>NaN</td>\n      <td>NaN</td>\n      <td>NaN</td>\n      <td>NaN</td>\n      <td>NaN</td>\n      <td>NaN</td>\n      <td>NaN</td>\n      <td>NaN</td>\n    </tr>\n    <tr>\n      <th>3811</th>\n      <td>2015/2016</td>\n      <td>3890561.0</td>\n      <td>NaN</td>\n      <td>NaN</td>\n      <td>NaN</td>\n      <td>NaN</td>\n      <td>NaN</td>\n      <td>NaN</td>\n      <td>NaN</td>\n      <td>NaN</td>\n      <td>...</td>\n      <td>NaN</td>\n      <td>NaN</td>\n      <td>NaN</td>\n      <td>NaN</td>\n      <td>NaN</td>\n      <td>NaN</td>\n      <td>NaN</td>\n      <td>NaN</td>\n      <td>NaN</td>\n      <td>NaN</td>\n    </tr>\n    <tr>\n      <th>...</th>\n      <td>...</td>\n      <td>...</td>\n      <td>...</td>\n      <td>...</td>\n      <td>...</td>\n      <td>...</td>\n      <td>...</td>\n      <td>...</td>\n      <td>...</td>\n      <td>...</td>\n      <td>...</td>\n      <td>...</td>\n      <td>...</td>\n      <td>...</td>\n      <td>...</td>\n      <td>...</td>\n      <td>...</td>\n      <td>...</td>\n      <td>...</td>\n      <td>...</td>\n      <td>...</td>\n    </tr>\n    <tr>\n      <th>713505</th>\n      <td>NaN</td>\n      <td>NaN</td>\n      <td>NaN</td>\n      <td>NaN</td>\n      <td>NaN</td>\n      <td>NaN</td>\n      <td>NaN</td>\n      <td>NaN</td>\n      <td>NaN</td>\n      <td>NaN</td>\n      <td>...</td>\n      <td>NaN</td>\n      <td>NaN</td>\n      <td>NaN</td>\n      <td>NaN</td>\n      <td>NaN</td>\n      <td>NaN</td>\n      <td>NaN</td>\n      <td>NaN</td>\n      <td>NaN</td>\n      <td>NaN</td>\n    </tr>\n    <tr>\n      <th>713506</th>\n      <td>NaN</td>\n      <td>NaN</td>\n      <td>NaN</td>\n      <td>NaN</td>\n      <td>NaN</td>\n      <td>NaN</td>\n      <td>NaN</td>\n      <td>NaN</td>\n      <td>NaN</td>\n      <td>NaN</td>\n      <td>...</td>\n      <td>NaN</td>\n      <td>NaN</td>\n      <td>NaN</td>\n      <td>NaN</td>\n      <td>NaN</td>\n      <td>NaN</td>\n      <td>NaN</td>\n      <td>NaN</td>\n      <td>NaN</td>\n      <td>NaN</td>\n    </tr>\n    <tr>\n      <th>713507</th>\n      <td>NaN</td>\n      <td>NaN</td>\n      <td>NaN</td>\n      <td>NaN</td>\n      <td>NaN</td>\n      <td>NaN</td>\n      <td>NaN</td>\n      <td>NaN</td>\n      <td>NaN</td>\n      <td>NaN</td>\n      <td>...</td>\n      <td>NaN</td>\n      <td>NaN</td>\n      <td>NaN</td>\n      <td>NaN</td>\n      <td>NaN</td>\n      <td>NaN</td>\n      <td>NaN</td>\n      <td>NaN</td>\n      <td>NaN</td>\n      <td>NaN</td>\n    </tr>\n    <tr>\n      <th>713508</th>\n      <td>NaN</td>\n      <td>NaN</td>\n      <td>NaN</td>\n      <td>NaN</td>\n      <td>NaN</td>\n      <td>NaN</td>\n      <td>NaN</td>\n      <td>NaN</td>\n      <td>NaN</td>\n      <td>NaN</td>\n      <td>...</td>\n      <td>NaN</td>\n      <td>NaN</td>\n      <td>NaN</td>\n      <td>NaN</td>\n      <td>NaN</td>\n      <td>NaN</td>\n      <td>NaN</td>\n      <td>NaN</td>\n      <td>NaN</td>\n      <td>NaN</td>\n    </tr>\n    <tr>\n      <th>713509</th>\n      <td>NaN</td>\n      <td>NaN</td>\n      <td>NaN</td>\n      <td>NaN</td>\n      <td>NaN</td>\n      <td>NaN</td>\n      <td>NaN</td>\n      <td>NaN</td>\n      <td>NaN</td>\n      <td>NaN</td>\n      <td>...</td>\n      <td>NaN</td>\n      <td>NaN</td>\n      <td>NaN</td>\n      <td>NaN</td>\n      <td>NaN</td>\n      <td>NaN</td>\n      <td>NaN</td>\n      <td>NaN</td>\n      <td>NaN</td>\n      <td>NaN</td>\n    </tr>\n  </tbody>\n</table>\n<p>115286 rows × 941 columns</p>\n</div>"
     },
     "execution_count": 2,
     "metadata": {},
     "output_type": "execute_result"
    }
   ],
   "source": [
    "all_dribbles = pd.DataFrame()\n",
    "for i in range(8):\n",
    "    all_events = pd.read_csv(f\"./data/all_events{i}.csv\")\n",
    "    all_dribbles = pd.concat([all_dribbles, all_events[all_events[\"type\"] == \"Dribble\"]], axis=1)\n",
    "all_dribbles"
   ],
   "metadata": {
    "collapsed": false,
    "pycharm": {
     "name": "#%%\n"
    }
   }
  },
  {
   "cell_type": "code",
   "execution_count": 3,
   "outputs": [],
   "source": [
    "all_dribbles.to_csv(\"./data/all_dribbles.csv\")"
   ],
   "metadata": {
    "collapsed": false,
    "pycharm": {
     "name": "#%%\n"
    }
   }
  },
  {
   "cell_type": "code",
   "execution_count": null,
   "outputs": [],
   "source": [],
   "metadata": {
    "collapsed": false,
    "pycharm": {
     "name": "#%%\n"
    }
   }
  }
 ],
 "metadata": {
  "kernelspec": {
   "display_name": "Python 3",
   "language": "python",
   "name": "python3"
  },
  "language_info": {
   "codemirror_mode": {
    "name": "ipython",
    "version": 2
   },
   "file_extension": ".py",
   "mimetype": "text/x-python",
   "name": "python",
   "nbconvert_exporter": "python",
   "pygments_lexer": "ipython2",
   "version": "2.7.6"
  }
 },
 "nbformat": 4,
 "nbformat_minor": 0
}