{
 "cells": [
  {
   "cell_type": "code",
   "execution_count": 1,
   "metadata": {
    "collapsed": true
   },
   "outputs": [],
   "source": [
    "import pandas as pd\n",
    "\n",
    "from tqdm import tqdm\n",
    "import warnings\n",
    "\n",
    "from statsbombpy import sb"
   ]
  },
  {
   "cell_type": "code",
   "execution_count": 2,
   "outputs": [],
   "source": [
    "###########################\n",
    "# This notebook uses the statsbombpy API to grab all events for all seasons of StatsBomb's open data. Note that this is a large volume of data - about 5 GB, and running the notebook might therefore be difficult due to network speed and data transfer constraints on the API. It is advisable to use the downloaded csv files available in the /data directory instead.\n",
    "###########################"
   ],
   "metadata": {
    "collapsed": false,
    "pycharm": {
     "name": "#%%\n"
    }
   }
  },
  {
   "cell_type": "code",
   "execution_count": 4,
   "outputs": [
    {
     "name": "stderr",
     "output_type": "stream",
     "text": [
      "52it [01:01,  1.19s/it]\n"
     ]
    }
   ],
   "source": [
    "# Scrape all events from all records in StatsBomb's open data and store then in a dataframe called all_events\n",
    "warnings.filterwarnings(\"ignore\")\n",
    "\n",
    "all_events = pd.DataFrame()\n",
    "all_events[\"season_id\"] = []\n",
    "all_events[\"match_id\"] = []\n",
    "\n",
    "for season in list(sb.competitions().iterrows())[1:2]:\n",
    "    for match in tqdm(sb.matches(competition_id=season[1].iloc[0], season_id=season[1].iloc[1]).iterrows()):\n",
    "        try:\n",
    "            all_events = pd.concat([all_events,\n",
    "                                    sb.events(match_id=match[1].iloc[0], split=False, flatten_attrs=True)\n",
    "                                   .assign(competition_id=season[1].iloc[3], season_id=season[1].iloc[7], match_id=match[1].iloc[0])], ignore_index=True)\n",
    "        except Exception as e:\n",
    "            print(e)"
   ],
   "metadata": {
    "collapsed": false,
    "pycharm": {
     "name": "#%%\n"
    }
   }
  },
  {
   "cell_type": "code",
   "execution_count": null,
   "outputs": [],
   "source": [
    "all_events"
   ],
   "metadata": {
    "collapsed": false,
    "pycharm": {
     "name": "#%%\n"
    }
   }
  }
 ],
 "metadata": {
  "kernelspec": {
   "display_name": "Python 3",
   "language": "python",
   "name": "python3"
  },
  "language_info": {
   "codemirror_mode": {
    "name": "ipython",
    "version": 2
   },
   "file_extension": ".py",
   "mimetype": "text/x-python",
   "name": "python",
   "nbconvert_exporter": "python",
   "pygments_lexer": "ipython2",
   "version": "2.7.6"
  }
 },
 "nbformat": 4,
 "nbformat_minor": 0
}