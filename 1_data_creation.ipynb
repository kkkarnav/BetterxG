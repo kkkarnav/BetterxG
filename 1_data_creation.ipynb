{
 "cells": [
  {
   "cell_type": "code",
   "execution_count": 3,
   "metadata": {
    "collapsed": true
   },
   "outputs": [],
   "source": [
    "import pandas as pd\n",
    "\n",
    "from tqdm import tqdm\n",
    "import warnings\n",
    "\n",
    "from statsbombpy import sb"
   ]
  },
  {
   "cell_type": "code",
   "execution_count": 4,
   "outputs": [
    {
     "name": "stderr",
     "output_type": "stream",
     "text": [
      "306it [06:17,  1.23s/it]\n",
      "52it [01:24,  1.62s/it]\n",
      "1it [00:01,  1.88s/it]\n",
      "1it [00:01,  1.71s/it]\n",
      "1it [00:01,  1.82s/it]\n",
      "1it [00:01,  1.97s/it]\n",
      "1it [00:01,  1.90s/it]\n",
      "1it [00:01,  1.57s/it]\n",
      "1it [00:03,  3.36s/it]\n",
      "1it [00:01,  1.66s/it]\n",
      "1it [00:01,  1.77s/it]\n"
     ]
    }
   ],
   "source": [
    "# Scrape all events from all records in StatsBomb's open data and store then in a dataframe called all_events\n",
    "warnings.filterwarnings(\"ignore\")\n",
    "counter = 0\n",
    "\n",
    "all_events = pd.DataFrame()\n",
    "for season in sb.competitions().iterrows():\n",
    "    for match in tqdm(sb.matches(competition_id=season[1].iloc[0], season_id=season[1].iloc[1]).iterrows()):\n",
    "        try:\n",
    "            all_events = pd.concat([all_events, sb.events(match_id=match[1].iloc[0], split=False, flatten_attrs=True)], ignore_index=True)\n",
    "        except Exception as e:\n",
    "            print(e)\n",
    "    # Remove this line to scrape all seasons instead of just one\n",
    "    counter += 1\n",
    "    if counter > 40:\n",
    "        break"
   ],
   "metadata": {
    "collapsed": false,
    "pycharm": {
     "name": "#%%\n"
    }
   }
  },
  {
   "cell_type": "code",
   "execution_count": 5,
   "outputs": [],
   "source": [
    "# Print all shots in the data\n",
    "all_shots = all_events[all_events[\"shot_type\"].notna()]"
   ],
   "metadata": {
    "collapsed": false,
    "pycharm": {
     "name": "#%%\n"
    }
   }
  },
  {
   "cell_type": "code",
   "execution_count": 6,
   "outputs": [
    {
     "data": {
      "text/plain": "Index(['ball_receipt_outcome', 'ball_recovery_recovery_failure',\n       'block_deflection', 'carry_end_location', 'clearance_aerial_won',\n       'clearance_body_part', 'clearance_head', 'clearance_left_foot',\n       'clearance_right_foot', 'counterpress',\n       ...\n       'goalkeeper_shot_saved_off_target', 'shot_saved_off_target',\n       'goalkeeper_shot_saved_to_post', 'shot_saved_to_post',\n       'goalkeeper_lost_out', 'goalkeeper_success_in_play',\n       'shot_follows_dribble', 'half_start_late_video_start',\n       'player_off_permanent', 'pass_backheel'],\n      dtype='object', length=115)"
     },
     "execution_count": 6,
     "metadata": {},
     "output_type": "execute_result"
    }
   ],
   "source": [
    "all_shots.columns"
   ],
   "metadata": {
    "collapsed": false,
    "pycharm": {
     "name": "#%%\n"
    }
   }
  },
  {
   "cell_type": "code",
   "execution_count": 12,
   "outputs": [],
   "source": [
    "# extract relevant attributes from the all_shots dataframe\n",
    "data = pd.DataFrame()\n",
    "data[\"period\"] = all_shots[\"period\"]\n",
    "data[\"minute\"] = all_shots[\"minute\"]\n",
    "data[\"possession\"] = all_shots[\"possession\"]\n",
    "data[\"play_pattern\"] = all_shots[\"play_pattern\"]\n",
    "data[\"position\"] = all_shots[\"position\"]\n",
    "data[\"location_x\"] = all_shots[\"location\"].apply(lambda x: x[0])\n",
    "data[\"location_y\"] = all_shots[\"location\"].apply(lambda x: x[1])\n",
    "data[\"duration\"] = all_shots[\"duration\"]\n",
    "data[\"technique\"] = all_shots[\"shot_technique\"]\n",
    "data[\"body_part\"] = all_shots[\"shot_body_part\"]\n",
    "data[\"type\"] = all_shots[\"shot_type\"]\n",
    "data[\"first_time\"] = all_shots[\"shot_first_time\"].fillna(False)\n",
    "data[\"open_goal\"] = all_shots[\"shot_open_goal\"].fillna(False)\n",
    "data[\"one_on_one\"] = all_shots[\"shot_one_on_one\"].fillna(False)\n",
    "data[\"statsbomb_xg\"] = all_shots[\"shot_statsbomb_xg\"]\n",
    "data[\"is_goal\"] = all_shots[\"shot_outcome\"].apply(lambda x: True if x == \"Goal\" else False)"
   ],
   "metadata": {
    "collapsed": false,
    "pycharm": {
     "name": "#%%\n"
    }
   }
  },
  {
   "cell_type": "code",
   "execution_count": 13,
   "outputs": [
    {
     "data": {
      "text/plain": "         period  minute  possession   play_pattern                 position  \\\n3692          1       4           7   Regular Play           Left Wing Back   \n3693          1       6          11  From Throw In           Center Forward   \n3694          1       8          15  From Throw In  Left Attacking Midfield   \n3695          1      13          27   From Counter            Left Midfield   \n3696          1      17          33   Regular Play           Center Forward   \n...         ...     ...         ...            ...                      ...   \n1267467       2      68         135    From Corner               Right Wing   \n1267468       2      70         136  From Kick Off        Secondary Striker   \n1267469       2      84         166   Regular Play           Right Midfield   \n1267470       2      90         175   Regular Play     Left Center Midfield   \n1267471       2      92         187   From Counter               Right Wing   \n\n         location_x  location_y  duration    technique   body_part       type  \\\n3692          108.1        31.2  0.597523  Half Volley   Left Foot  Open Play   \n3693          110.9        42.6  0.636048       Volley  Right Foot  Open Play   \n3694          117.9        29.1  0.125672  Half Volley   Left Foot  Open Play   \n3695          101.8        27.6  1.303079       Normal   Left Foot  Open Play   \n3696          109.3        26.5  0.666134       Normal  Right Foot  Open Play   \n...             ...         ...       ...          ...         ...        ...   \n1267467       100.0        45.0  0.981924       Normal  Right Foot  Open Play   \n1267468        99.0        32.0  1.341121       Normal  Right Foot  Open Play   \n1267469        99.0        48.0  1.635364       Normal   Left Foot  Open Play   \n1267470        86.0        56.0  1.504703          Lob  Right Foot  Open Play   \n1267471       107.0        59.0  0.640109       Normal  Right Foot  Open Play   \n\n         first_time  open_goal  one_on_one  statsbomb_xg  is_goal  \n3692           True      False       False      0.087901    False  \n3693           True      False       False      0.160274     True  \n3694           True      False       False      0.016036    False  \n3695          False      False       False      0.527759     True  \n3696          False      False       False      0.074020    False  \n...             ...        ...         ...           ...      ...  \n1267467       False      False       False      0.081895     True  \n1267468       False      False       False      0.052839    False  \n1267469       False      False       False      0.045260    False  \n1267470        True      False       False      0.011287    False  \n1267471       False      False       False      0.010115    False  \n\n[9392 rows x 16 columns]",
      "text/html": "<div>\n<style scoped>\n    .dataframe tbody tr th:only-of-type {\n        vertical-align: middle;\n    }\n\n    .dataframe tbody tr th {\n        vertical-align: top;\n    }\n\n    .dataframe thead th {\n        text-align: right;\n    }\n</style>\n<table border=\"1\" class=\"dataframe\">\n  <thead>\n    <tr style=\"text-align: right;\">\n      <th></th>\n      <th>period</th>\n      <th>minute</th>\n      <th>possession</th>\n      <th>play_pattern</th>\n      <th>position</th>\n      <th>location_x</th>\n      <th>location_y</th>\n      <th>duration</th>\n      <th>technique</th>\n      <th>body_part</th>\n      <th>type</th>\n      <th>first_time</th>\n      <th>open_goal</th>\n      <th>one_on_one</th>\n      <th>statsbomb_xg</th>\n      <th>is_goal</th>\n    </tr>\n  </thead>\n  <tbody>\n    <tr>\n      <th>3692</th>\n      <td>1</td>\n      <td>4</td>\n      <td>7</td>\n      <td>Regular Play</td>\n      <td>Left Wing Back</td>\n      <td>108.1</td>\n      <td>31.2</td>\n      <td>0.597523</td>\n      <td>Half Volley</td>\n      <td>Left Foot</td>\n      <td>Open Play</td>\n      <td>True</td>\n      <td>False</td>\n      <td>False</td>\n      <td>0.087901</td>\n      <td>False</td>\n    </tr>\n    <tr>\n      <th>3693</th>\n      <td>1</td>\n      <td>6</td>\n      <td>11</td>\n      <td>From Throw In</td>\n      <td>Center Forward</td>\n      <td>110.9</td>\n      <td>42.6</td>\n      <td>0.636048</td>\n      <td>Volley</td>\n      <td>Right Foot</td>\n      <td>Open Play</td>\n      <td>True</td>\n      <td>False</td>\n      <td>False</td>\n      <td>0.160274</td>\n      <td>True</td>\n    </tr>\n    <tr>\n      <th>3694</th>\n      <td>1</td>\n      <td>8</td>\n      <td>15</td>\n      <td>From Throw In</td>\n      <td>Left Attacking Midfield</td>\n      <td>117.9</td>\n      <td>29.1</td>\n      <td>0.125672</td>\n      <td>Half Volley</td>\n      <td>Left Foot</td>\n      <td>Open Play</td>\n      <td>True</td>\n      <td>False</td>\n      <td>False</td>\n      <td>0.016036</td>\n      <td>False</td>\n    </tr>\n    <tr>\n      <th>3695</th>\n      <td>1</td>\n      <td>13</td>\n      <td>27</td>\n      <td>From Counter</td>\n      <td>Left Midfield</td>\n      <td>101.8</td>\n      <td>27.6</td>\n      <td>1.303079</td>\n      <td>Normal</td>\n      <td>Left Foot</td>\n      <td>Open Play</td>\n      <td>False</td>\n      <td>False</td>\n      <td>False</td>\n      <td>0.527759</td>\n      <td>True</td>\n    </tr>\n    <tr>\n      <th>3696</th>\n      <td>1</td>\n      <td>17</td>\n      <td>33</td>\n      <td>Regular Play</td>\n      <td>Center Forward</td>\n      <td>109.3</td>\n      <td>26.5</td>\n      <td>0.666134</td>\n      <td>Normal</td>\n      <td>Right Foot</td>\n      <td>Open Play</td>\n      <td>False</td>\n      <td>False</td>\n      <td>False</td>\n      <td>0.074020</td>\n      <td>False</td>\n    </tr>\n    <tr>\n      <th>...</th>\n      <td>...</td>\n      <td>...</td>\n      <td>...</td>\n      <td>...</td>\n      <td>...</td>\n      <td>...</td>\n      <td>...</td>\n      <td>...</td>\n      <td>...</td>\n      <td>...</td>\n      <td>...</td>\n      <td>...</td>\n      <td>...</td>\n      <td>...</td>\n      <td>...</td>\n      <td>...</td>\n    </tr>\n    <tr>\n      <th>1267467</th>\n      <td>2</td>\n      <td>68</td>\n      <td>135</td>\n      <td>From Corner</td>\n      <td>Right Wing</td>\n      <td>100.0</td>\n      <td>45.0</td>\n      <td>0.981924</td>\n      <td>Normal</td>\n      <td>Right Foot</td>\n      <td>Open Play</td>\n      <td>False</td>\n      <td>False</td>\n      <td>False</td>\n      <td>0.081895</td>\n      <td>True</td>\n    </tr>\n    <tr>\n      <th>1267468</th>\n      <td>2</td>\n      <td>70</td>\n      <td>136</td>\n      <td>From Kick Off</td>\n      <td>Secondary Striker</td>\n      <td>99.0</td>\n      <td>32.0</td>\n      <td>1.341121</td>\n      <td>Normal</td>\n      <td>Right Foot</td>\n      <td>Open Play</td>\n      <td>False</td>\n      <td>False</td>\n      <td>False</td>\n      <td>0.052839</td>\n      <td>False</td>\n    </tr>\n    <tr>\n      <th>1267469</th>\n      <td>2</td>\n      <td>84</td>\n      <td>166</td>\n      <td>Regular Play</td>\n      <td>Right Midfield</td>\n      <td>99.0</td>\n      <td>48.0</td>\n      <td>1.635364</td>\n      <td>Normal</td>\n      <td>Left Foot</td>\n      <td>Open Play</td>\n      <td>False</td>\n      <td>False</td>\n      <td>False</td>\n      <td>0.045260</td>\n      <td>False</td>\n    </tr>\n    <tr>\n      <th>1267470</th>\n      <td>2</td>\n      <td>90</td>\n      <td>175</td>\n      <td>Regular Play</td>\n      <td>Left Center Midfield</td>\n      <td>86.0</td>\n      <td>56.0</td>\n      <td>1.504703</td>\n      <td>Lob</td>\n      <td>Right Foot</td>\n      <td>Open Play</td>\n      <td>True</td>\n      <td>False</td>\n      <td>False</td>\n      <td>0.011287</td>\n      <td>False</td>\n    </tr>\n    <tr>\n      <th>1267471</th>\n      <td>2</td>\n      <td>92</td>\n      <td>187</td>\n      <td>From Counter</td>\n      <td>Right Wing</td>\n      <td>107.0</td>\n      <td>59.0</td>\n      <td>0.640109</td>\n      <td>Normal</td>\n      <td>Right Foot</td>\n      <td>Open Play</td>\n      <td>False</td>\n      <td>False</td>\n      <td>False</td>\n      <td>0.010115</td>\n      <td>False</td>\n    </tr>\n  </tbody>\n</table>\n<p>9392 rows × 16 columns</p>\n</div>"
     },
     "execution_count": 13,
     "metadata": {},
     "output_type": "execute_result"
    }
   ],
   "source": [
    "data"
   ],
   "metadata": {
    "collapsed": false,
    "pycharm": {
     "name": "#%%\n"
    }
   }
  },
  {
   "cell_type": "code",
   "execution_count": 14,
   "outputs": [],
   "source": [
    "# one-hot encode the categorical data\n",
    "encoded_data = data\n",
    "for column_name in [\"play_pattern\", \"position\", \"technique\", \"body_part\", \"type\", \"first_time\", \"open_goal\", \"one_on_one\"]:\n",
    "    one_hot_encoded = pd.get_dummies(encoded_data[column_name], prefix=column_name)\n",
    "    encoded_data = encoded_data.drop(column_name, axis=1)\n",
    "    encoded_data = pd.concat([encoded_data, one_hot_encoded], axis=1)"
   ],
   "metadata": {
    "collapsed": false,
    "pycharm": {
     "name": "#%%\n"
    }
   }
  },
  {
   "cell_type": "code",
   "execution_count": 15,
   "outputs": [
    {
     "data": {
      "text/plain": "         period  minute  possession  location_x  location_y  duration  \\\n3692          1       4           7       108.1        31.2  0.597523   \n3693          1       6          11       110.9        42.6  0.636048   \n3694          1       8          15       117.9        29.1  0.125672   \n3695          1      13          27       101.8        27.6  1.303079   \n3696          1      17          33       109.3        26.5  0.666134   \n...         ...     ...         ...         ...         ...       ...   \n1267467       2      68         135       100.0        45.0  0.981924   \n1267468       2      70         136        99.0        32.0  1.341121   \n1267469       2      84         166        99.0        48.0  1.635364   \n1267470       2      90         175        86.0        56.0  1.504703   \n1267471       2      92         187       107.0        59.0  0.640109   \n\n         statsbomb_xg  is_goal  play_pattern_From Corner  \\\n3692         0.087901    False                     False   \n3693         0.160274     True                     False   \n3694         0.016036    False                     False   \n3695         0.527759     True                     False   \n3696         0.074020    False                     False   \n...               ...      ...                       ...   \n1267467      0.081895     True                      True   \n1267468      0.052839    False                     False   \n1267469      0.045260    False                     False   \n1267470      0.011287    False                     False   \n1267471      0.010115    False                     False   \n\n         play_pattern_From Counter  ...  type_Corner  type_Free Kick  \\\n3692                         False  ...        False           False   \n3693                         False  ...        False           False   \n3694                         False  ...        False           False   \n3695                          True  ...        False           False   \n3696                         False  ...        False           False   \n...                            ...  ...          ...             ...   \n1267467                      False  ...        False           False   \n1267468                      False  ...        False           False   \n1267469                      False  ...        False           False   \n1267470                      False  ...        False           False   \n1267471                       True  ...        False           False   \n\n         type_Open Play  type_Penalty  first_time_False  first_time_True  \\\n3692               True         False             False             True   \n3693               True         False             False             True   \n3694               True         False             False             True   \n3695               True         False              True            False   \n3696               True         False              True            False   \n...                 ...           ...               ...              ...   \n1267467            True         False              True            False   \n1267468            True         False              True            False   \n1267469            True         False              True            False   \n1267470            True         False             False             True   \n1267471            True         False              True            False   \n\n         open_goal_False  open_goal_True  one_on_one_False  one_on_one_True  \n3692                True           False              True            False  \n3693                True           False              True            False  \n3694                True           False              True            False  \n3695                True           False              True            False  \n3696                True           False              True            False  \n...                  ...             ...               ...              ...  \n1267467             True           False              True            False  \n1267468             True           False              True            False  \n1267469             True           False              True            False  \n1267470             True           False              True            False  \n1267471             True           False              True            False  \n\n[9392 rows x 62 columns]",
      "text/html": "<div>\n<style scoped>\n    .dataframe tbody tr th:only-of-type {\n        vertical-align: middle;\n    }\n\n    .dataframe tbody tr th {\n        vertical-align: top;\n    }\n\n    .dataframe thead th {\n        text-align: right;\n    }\n</style>\n<table border=\"1\" class=\"dataframe\">\n  <thead>\n    <tr style=\"text-align: right;\">\n      <th></th>\n      <th>period</th>\n      <th>minute</th>\n      <th>possession</th>\n      <th>location_x</th>\n      <th>location_y</th>\n      <th>duration</th>\n      <th>statsbomb_xg</th>\n      <th>is_goal</th>\n      <th>play_pattern_From Corner</th>\n      <th>play_pattern_From Counter</th>\n      <th>...</th>\n      <th>type_Corner</th>\n      <th>type_Free Kick</th>\n      <th>type_Open Play</th>\n      <th>type_Penalty</th>\n      <th>first_time_False</th>\n      <th>first_time_True</th>\n      <th>open_goal_False</th>\n      <th>open_goal_True</th>\n      <th>one_on_one_False</th>\n      <th>one_on_one_True</th>\n    </tr>\n  </thead>\n  <tbody>\n    <tr>\n      <th>3692</th>\n      <td>1</td>\n      <td>4</td>\n      <td>7</td>\n      <td>108.1</td>\n      <td>31.2</td>\n      <td>0.597523</td>\n      <td>0.087901</td>\n      <td>False</td>\n      <td>False</td>\n      <td>False</td>\n      <td>...</td>\n      <td>False</td>\n      <td>False</td>\n      <td>True</td>\n      <td>False</td>\n      <td>False</td>\n      <td>True</td>\n      <td>True</td>\n      <td>False</td>\n      <td>True</td>\n      <td>False</td>\n    </tr>\n    <tr>\n      <th>3693</th>\n      <td>1</td>\n      <td>6</td>\n      <td>11</td>\n      <td>110.9</td>\n      <td>42.6</td>\n      <td>0.636048</td>\n      <td>0.160274</td>\n      <td>True</td>\n      <td>False</td>\n      <td>False</td>\n      <td>...</td>\n      <td>False</td>\n      <td>False</td>\n      <td>True</td>\n      <td>False</td>\n      <td>False</td>\n      <td>True</td>\n      <td>True</td>\n      <td>False</td>\n      <td>True</td>\n      <td>False</td>\n    </tr>\n    <tr>\n      <th>3694</th>\n      <td>1</td>\n      <td>8</td>\n      <td>15</td>\n      <td>117.9</td>\n      <td>29.1</td>\n      <td>0.125672</td>\n      <td>0.016036</td>\n      <td>False</td>\n      <td>False</td>\n      <td>False</td>\n      <td>...</td>\n      <td>False</td>\n      <td>False</td>\n      <td>True</td>\n      <td>False</td>\n      <td>False</td>\n      <td>True</td>\n      <td>True</td>\n      <td>False</td>\n      <td>True</td>\n      <td>False</td>\n    </tr>\n    <tr>\n      <th>3695</th>\n      <td>1</td>\n      <td>13</td>\n      <td>27</td>\n      <td>101.8</td>\n      <td>27.6</td>\n      <td>1.303079</td>\n      <td>0.527759</td>\n      <td>True</td>\n      <td>False</td>\n      <td>True</td>\n      <td>...</td>\n      <td>False</td>\n      <td>False</td>\n      <td>True</td>\n      <td>False</td>\n      <td>True</td>\n      <td>False</td>\n      <td>True</td>\n      <td>False</td>\n      <td>True</td>\n      <td>False</td>\n    </tr>\n    <tr>\n      <th>3696</th>\n      <td>1</td>\n      <td>17</td>\n      <td>33</td>\n      <td>109.3</td>\n      <td>26.5</td>\n      <td>0.666134</td>\n      <td>0.074020</td>\n      <td>False</td>\n      <td>False</td>\n      <td>False</td>\n      <td>...</td>\n      <td>False</td>\n      <td>False</td>\n      <td>True</td>\n      <td>False</td>\n      <td>True</td>\n      <td>False</td>\n      <td>True</td>\n      <td>False</td>\n      <td>True</td>\n      <td>False</td>\n    </tr>\n    <tr>\n      <th>...</th>\n      <td>...</td>\n      <td>...</td>\n      <td>...</td>\n      <td>...</td>\n      <td>...</td>\n      <td>...</td>\n      <td>...</td>\n      <td>...</td>\n      <td>...</td>\n      <td>...</td>\n      <td>...</td>\n      <td>...</td>\n      <td>...</td>\n      <td>...</td>\n      <td>...</td>\n      <td>...</td>\n      <td>...</td>\n      <td>...</td>\n      <td>...</td>\n      <td>...</td>\n      <td>...</td>\n    </tr>\n    <tr>\n      <th>1267467</th>\n      <td>2</td>\n      <td>68</td>\n      <td>135</td>\n      <td>100.0</td>\n      <td>45.0</td>\n      <td>0.981924</td>\n      <td>0.081895</td>\n      <td>True</td>\n      <td>True</td>\n      <td>False</td>\n      <td>...</td>\n      <td>False</td>\n      <td>False</td>\n      <td>True</td>\n      <td>False</td>\n      <td>True</td>\n      <td>False</td>\n      <td>True</td>\n      <td>False</td>\n      <td>True</td>\n      <td>False</td>\n    </tr>\n    <tr>\n      <th>1267468</th>\n      <td>2</td>\n      <td>70</td>\n      <td>136</td>\n      <td>99.0</td>\n      <td>32.0</td>\n      <td>1.341121</td>\n      <td>0.052839</td>\n      <td>False</td>\n      <td>False</td>\n      <td>False</td>\n      <td>...</td>\n      <td>False</td>\n      <td>False</td>\n      <td>True</td>\n      <td>False</td>\n      <td>True</td>\n      <td>False</td>\n      <td>True</td>\n      <td>False</td>\n      <td>True</td>\n      <td>False</td>\n    </tr>\n    <tr>\n      <th>1267469</th>\n      <td>2</td>\n      <td>84</td>\n      <td>166</td>\n      <td>99.0</td>\n      <td>48.0</td>\n      <td>1.635364</td>\n      <td>0.045260</td>\n      <td>False</td>\n      <td>False</td>\n      <td>False</td>\n      <td>...</td>\n      <td>False</td>\n      <td>False</td>\n      <td>True</td>\n      <td>False</td>\n      <td>True</td>\n      <td>False</td>\n      <td>True</td>\n      <td>False</td>\n      <td>True</td>\n      <td>False</td>\n    </tr>\n    <tr>\n      <th>1267470</th>\n      <td>2</td>\n      <td>90</td>\n      <td>175</td>\n      <td>86.0</td>\n      <td>56.0</td>\n      <td>1.504703</td>\n      <td>0.011287</td>\n      <td>False</td>\n      <td>False</td>\n      <td>False</td>\n      <td>...</td>\n      <td>False</td>\n      <td>False</td>\n      <td>True</td>\n      <td>False</td>\n      <td>False</td>\n      <td>True</td>\n      <td>True</td>\n      <td>False</td>\n      <td>True</td>\n      <td>False</td>\n    </tr>\n    <tr>\n      <th>1267471</th>\n      <td>2</td>\n      <td>92</td>\n      <td>187</td>\n      <td>107.0</td>\n      <td>59.0</td>\n      <td>0.640109</td>\n      <td>0.010115</td>\n      <td>False</td>\n      <td>False</td>\n      <td>True</td>\n      <td>...</td>\n      <td>False</td>\n      <td>False</td>\n      <td>True</td>\n      <td>False</td>\n      <td>True</td>\n      <td>False</td>\n      <td>True</td>\n      <td>False</td>\n      <td>True</td>\n      <td>False</td>\n    </tr>\n  </tbody>\n</table>\n<p>9392 rows × 62 columns</p>\n</div>"
     },
     "execution_count": 15,
     "metadata": {},
     "output_type": "execute_result"
    }
   ],
   "source": [
    "encoded_data"
   ],
   "metadata": {
    "collapsed": false,
    "pycharm": {
     "name": "#%%\n"
    }
   }
  },
  {
   "cell_type": "code",
   "execution_count": 16,
   "outputs": [],
   "source": [
    "encoded_data.to_csv('./data.csv', index=False)"
   ],
   "metadata": {
    "collapsed": false,
    "pycharm": {
     "name": "#%%\n"
    }
   }
  },
  {
   "cell_type": "code",
   "execution_count": 11,
   "outputs": [],
   "source": [],
   "metadata": {
    "collapsed": false,
    "pycharm": {
     "name": "#%%\n"
    }
   }
  }
 ],
 "metadata": {
  "kernelspec": {
   "display_name": "Python 3",
   "language": "python",
   "name": "python3"
  },
  "language_info": {
   "codemirror_mode": {
    "name": "ipython",
    "version": 2
   },
   "file_extension": ".py",
   "mimetype": "text/x-python",
   "name": "python",
   "nbconvert_exporter": "python",
   "pygments_lexer": "ipython2",
   "version": "2.7.6"
  }
 },
 "nbformat": 4,
 "nbformat_minor": 0
}