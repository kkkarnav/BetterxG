{
 "cells": [
  {
   "cell_type": "code",
   "execution_count": 1,
   "metadata": {
    "collapsed": true
   },
   "outputs": [],
   "source": [
    "import pandas as pd\n",
    "\n",
    "from tqdm import tqdm\n",
    "import warnings\n",
    "\n",
    "from statsbombpy import sb\n",
    "\n",
    "warnings.filterwarnings(\"ignore\")"
   ]
  },
  {
   "cell_type": "code",
   "execution_count": 2,
   "outputs": [],
   "source": [
    "###########################\n",
    "# This notebook uses the statsbombpy API to grab all events for all seasons of StatsBomb's open data. Note that this is a large volume of data - about 5 GB, and running the notebook might therefore be difficult due to network speed and data transfer constraints on the API. It is advisable to use the downloaded csv files available in the /data directory instead.\n",
    "###########################"
   ],
   "metadata": {
    "collapsed": false,
    "pycharm": {
     "name": "#%%\n"
    }
   }
  },
  {
   "cell_type": "code",
   "execution_count": 3,
   "outputs": [
    {
     "name": "stderr",
     "output_type": "stream",
     "text": [
      "131it [02:39,  1.21s/it]\n"
     ]
    }
   ],
   "source": [
    "# Scrape all events from all records in StatsBomb's open data and store then in a dataframe called all_events\n",
    "all_events = pd.DataFrame()\n",
    "all_events[\"season_id\"] = []\n",
    "all_events[\"match_id\"] = []\n",
    "\n",
    "for season in list(sb.competitions().iterrows())[23:24]:\n",
    "    for match in tqdm(sb.matches(competition_id=season[1].iloc[0], season_id=season[1].iloc[1]).iterrows()):\n",
    "        try:\n",
    "            all_events = pd.concat([all_events,\n",
    "                                    sb.events(match_id=match[1].iloc[0], split=False, flatten_attrs=True)\n",
    "                                   .assign(competition_id=season[1].iloc[3], season_id=season[1].iloc[7], match_id=match[1].iloc[0])], ignore_index=True)\n",
    "        except Exception as e:\n",
    "            print(e)"
   ],
   "metadata": {
    "collapsed": false,
    "pycharm": {
     "name": "#%%\n"
    }
   }
  },
  {
   "cell_type": "code",
   "execution_count": 4,
   "outputs": [],
   "source": [
    "all_shots = pd.DataFrame()\n",
    "all_passes = pd.DataFrame()\n",
    "all_dribbles = pd.DataFrame()\n",
    "all_clearances = pd.DataFrame()\n",
    "\n",
    "# Use this on a full run\n",
    "# for i in range(8):\n",
    "    # all_events = pd.read_csv(f\"./data/all_events{i}.csv\")\n",
    "    # all_shots = pd.concat([all_shots, all_events[all_events[\"type\"] == \"Shot\"]], axis=1)\n",
    "    # all_passes = pd.concat([all_passes, all_events[all_events[\"type\"] == \"Pass\"]], axis=1)\n",
    "    # all_dribbles = pd.concat([all_dribbles, all_events[all_events[\"type\"] == \"Dribble\"]], axis=1)\n",
    "    # all_clearances = pd.concat([all_clearances, all_events[all_events[\"type\"] == \"Clearance\"]], axis=1)\n",
    "\n",
    "# Use this for the demo\n",
    "all_shots = pd.concat([all_shots, all_events[all_events[\"type\"] == \"Shot\"]], axis=1)\n",
    "all_passes = pd.concat([all_passes, all_events[all_events[\"type\"] == \"Pass\"]], axis=1)\n",
    "all_dribbles = pd.concat([all_dribbles, all_events[all_events[\"type\"] == \"Dribble\"]], axis=1)\n",
    "all_clearances = pd.concat([all_clearances, all_events[all_events[\"type\"] == \"Clearance\"]], axis=1)"
   ],
   "metadata": {
    "collapsed": false,
    "pycharm": {
     "name": "#%%\n"
    }
   }
  },
  {
   "cell_type": "code",
   "execution_count": null,
   "outputs": [],
   "source": [
    "all_shots.to_csv(\"./data/all_shots.csv\", index=False)\n",
    "all_passes.to_csv(\"./data/all_passes.csv\", index=False)\n",
    "all_dribbles.to_csv(\"./data/all_dribbles.csv\", index=False)\n",
    "all_clearances.to_csv(\"./data/all_clearances.csv\", index=False)"
   ],
   "metadata": {
    "collapsed": false,
    "pycharm": {
     "name": "#%%\n"
    }
   }
  },
  {
   "cell_type": "code",
   "execution_count": null,
   "outputs": [],
   "source": [],
   "metadata": {
    "collapsed": false,
    "pycharm": {
     "name": "#%%\n"
    }
   }
  }
 ],
 "metadata": {
  "kernelspec": {
   "display_name": "Python 3",
   "language": "python",
   "name": "python3"
  },
  "language_info": {
   "codemirror_mode": {
    "name": "ipython",
    "version": 2
   },
   "file_extension": ".py",
   "mimetype": "text/x-python",
   "name": "python",
   "nbconvert_exporter": "python",
   "pygments_lexer": "ipython2",
   "version": "2.7.6"
  }
 },
 "nbformat": 4,
 "nbformat_minor": 0
}