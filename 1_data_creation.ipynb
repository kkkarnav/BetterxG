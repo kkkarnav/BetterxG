{
 "cells": [
  {
   "cell_type": "code",
   "execution_count": 2,
   "metadata": {
    "collapsed": true
   },
   "outputs": [],
   "source": [
    "import pandas as pd\n",
    "\n",
    "from tqdm import tqdm\n",
    "import warnings\n",
    "\n",
    "from statsbombpy import sb"
   ]
  },
  {
   "cell_type": "code",
   "execution_count": 3,
   "outputs": [
    {
     "name": "stderr",
     "output_type": "stream",
     "text": [
      "306it [06:27,  1.27s/it]\n",
      "52it [01:25,  1.65s/it]\n",
      "1it [00:04,  4.55s/it]\n",
      "1it [00:03,  3.09s/it]\n",
      "1it [00:01,  1.60s/it]\n",
      "1it [00:02,  2.92s/it]\n",
      "1it [00:01,  1.46s/it]\n",
      "1it [00:01,  1.56s/it]\n",
      "1it [00:01,  1.69s/it]\n",
      "1it [00:01,  1.59s/it]\n",
      "1it [00:01,  1.52s/it]\n",
      "1it [00:01,  1.79s/it]\n",
      "1it [00:01,  1.78s/it]\n",
      "1it [00:01,  1.58s/it]\n",
      "1it [00:01,  1.61s/it]\n",
      "1it [00:01,  1.55s/it]\n",
      "1it [00:01,  1.85s/it]\n",
      "1it [00:01,  1.67s/it]\n",
      "1it [00:01,  1.69s/it]\n",
      "1it [00:01,  1.95s/it]\n",
      "1it [00:01,  1.89s/it]\n"
     ]
    }
   ],
   "source": [
    "# Scrape all events from all records in StatsBomb's open data and store then in a dataframe called all_events\n",
    "warnings.filterwarnings(\"ignore\")\n",
    "counter = 0\n",
    "\n",
    "all_events = pd.DataFrame()\n",
    "for season in sb.competitions().iterrows():\n",
    "    for match in tqdm(sb.matches(competition_id=season[1].iloc[0], season_id=season[1].iloc[1]).iterrows()):\n",
    "        try:\n",
    "            all_events = pd.concat([all_events, sb.events(match_id=match[1].iloc[0], split=False, flatten_attrs=True)], ignore_index=True)\n",
    "        except Exception as e:\n",
    "            print(e)\n",
    "    # Remove this line to scrape all seasons instead of just one\n",
    "    counter += 1\n",
    "    if counter > 20:\n",
    "        break"
   ],
   "metadata": {
    "collapsed": false,
    "pycharm": {
     "name": "#%%\n"
    }
   }
  },
  {
   "cell_type": "code",
   "execution_count": 21,
   "outputs": [
    {
     "data": {
      "text/plain": "        ball_receipt_outcome ball_recovery_recovery_failure block_deflection  \\\n0                        NaN                            NaN              NaN   \n1                        NaN                            NaN              NaN   \n2                        NaN                            NaN              NaN   \n3                        NaN                            NaN              NaN   \n4                        NaN                            NaN              NaN   \n...                      ...                            ...              ...   \n1301001                  NaN                            NaN              NaN   \n1301002                  NaN                            NaN              NaN   \n1301003                  NaN                            NaN              NaN   \n1301004                  NaN                            NaN              NaN   \n1301005                  NaN                            NaN              NaN   \n\n        carry_end_location clearance_aerial_won clearance_body_part  \\\n0                      NaN                  NaN                 NaN   \n1                      NaN                  NaN                 NaN   \n2                      NaN                  NaN                 NaN   \n3                      NaN                  NaN                 NaN   \n4                      NaN                  NaN                 NaN   \n...                    ...                  ...                 ...   \n1301001                NaN                  NaN                 NaN   \n1301002                NaN                  NaN                 NaN   \n1301003                NaN                  NaN                 NaN   \n1301004                NaN                  NaN                 NaN   \n1301005                NaN                  NaN                 NaN   \n\n        clearance_head clearance_left_foot clearance_right_foot counterpress  \\\n0                  NaN                 NaN                  NaN          NaN   \n1                  NaN                 NaN                  NaN          NaN   \n2                  NaN                 NaN                  NaN          NaN   \n3                  NaN                 NaN                  NaN          NaN   \n4                  NaN                 NaN                  NaN          NaN   \n...                ...                 ...                  ...          ...   \n1301001            NaN                 NaN                  NaN          NaN   \n1301002            NaN                 NaN                  NaN          NaN   \n1301003            NaN                 NaN                  NaN          NaN   \n1301004            NaN                 NaN                  NaN          NaN   \n1301005            NaN                 NaN                  NaN          NaN   \n\n         ... goalkeeper_shot_saved_to_post shot_saved_to_post  \\\n0        ...                           NaN                NaN   \n1        ...                           NaN                NaN   \n2        ...                           NaN                NaN   \n3        ...                           NaN                NaN   \n4        ...                           NaN                NaN   \n...      ...                           ...                ...   \n1301001  ...                           NaN                NaN   \n1301002  ...                           NaN                NaN   \n1301003  ...                           NaN                NaN   \n1301004  ...                           NaN                NaN   \n1301005  ...                           NaN                NaN   \n\n        goalkeeper_lost_out goalkeeper_success_in_play shot_follows_dribble  \\\n0                       NaN                        NaN                  NaN   \n1                       NaN                        NaN                  NaN   \n2                       NaN                        NaN                  NaN   \n3                       NaN                        NaN                  NaN   \n4                       NaN                        NaN                  NaN   \n...                     ...                        ...                  ...   \n1301001                 NaN                        NaN                  NaN   \n1301002                 NaN                        NaN                  NaN   \n1301003                 NaN                        NaN                  NaN   \n1301004                 NaN                        NaN                  NaN   \n1301005                 NaN                        NaN                  NaN   \n\n         half_start_late_video_start player_off_permanent pass_backheel  \\\n0                                NaN                  NaN           NaN   \n1                                NaN                  NaN           NaN   \n2                                NaN                  NaN           NaN   \n3                                NaN                  NaN           NaN   \n4                                NaN                  NaN           NaN   \n...                              ...                  ...           ...   \n1301001                          NaN                  NaN           NaN   \n1301002                          NaN                  NaN           NaN   \n1301003                          NaN                  NaN           NaN   \n1301004                          NaN                  NaN           NaN   \n1301005                          NaN                  NaN           NaN   \n\n        goalkeeper_lost_in_play half_end_early_video_end  \n0                           NaN                      NaN  \n1                           NaN                      NaN  \n2                           NaN                      NaN  \n3                           NaN                      NaN  \n4                           NaN                      NaN  \n...                         ...                      ...  \n1301001                     NaN                      NaN  \n1301002                     NaN                      NaN  \n1301003                     NaN                      NaN  \n1301004                     NaN                      NaN  \n1301005                     NaN                      NaN  \n\n[1301006 rows x 117 columns]",
      "text/html": "<div>\n<style scoped>\n    .dataframe tbody tr th:only-of-type {\n        vertical-align: middle;\n    }\n\n    .dataframe tbody tr th {\n        vertical-align: top;\n    }\n\n    .dataframe thead th {\n        text-align: right;\n    }\n</style>\n<table border=\"1\" class=\"dataframe\">\n  <thead>\n    <tr style=\"text-align: right;\">\n      <th></th>\n      <th>ball_receipt_outcome</th>\n      <th>ball_recovery_recovery_failure</th>\n      <th>block_deflection</th>\n      <th>carry_end_location</th>\n      <th>clearance_aerial_won</th>\n      <th>clearance_body_part</th>\n      <th>clearance_head</th>\n      <th>clearance_left_foot</th>\n      <th>clearance_right_foot</th>\n      <th>counterpress</th>\n      <th>...</th>\n      <th>goalkeeper_shot_saved_to_post</th>\n      <th>shot_saved_to_post</th>\n      <th>goalkeeper_lost_out</th>\n      <th>goalkeeper_success_in_play</th>\n      <th>shot_follows_dribble</th>\n      <th>half_start_late_video_start</th>\n      <th>player_off_permanent</th>\n      <th>pass_backheel</th>\n      <th>goalkeeper_lost_in_play</th>\n      <th>half_end_early_video_end</th>\n    </tr>\n  </thead>\n  <tbody>\n    <tr>\n      <th>0</th>\n      <td>NaN</td>\n      <td>NaN</td>\n      <td>NaN</td>\n      <td>NaN</td>\n      <td>NaN</td>\n      <td>NaN</td>\n      <td>NaN</td>\n      <td>NaN</td>\n      <td>NaN</td>\n      <td>NaN</td>\n      <td>...</td>\n      <td>NaN</td>\n      <td>NaN</td>\n      <td>NaN</td>\n      <td>NaN</td>\n      <td>NaN</td>\n      <td>NaN</td>\n      <td>NaN</td>\n      <td>NaN</td>\n      <td>NaN</td>\n      <td>NaN</td>\n    </tr>\n    <tr>\n      <th>1</th>\n      <td>NaN</td>\n      <td>NaN</td>\n      <td>NaN</td>\n      <td>NaN</td>\n      <td>NaN</td>\n      <td>NaN</td>\n      <td>NaN</td>\n      <td>NaN</td>\n      <td>NaN</td>\n      <td>NaN</td>\n      <td>...</td>\n      <td>NaN</td>\n      <td>NaN</td>\n      <td>NaN</td>\n      <td>NaN</td>\n      <td>NaN</td>\n      <td>NaN</td>\n      <td>NaN</td>\n      <td>NaN</td>\n      <td>NaN</td>\n      <td>NaN</td>\n    </tr>\n    <tr>\n      <th>2</th>\n      <td>NaN</td>\n      <td>NaN</td>\n      <td>NaN</td>\n      <td>NaN</td>\n      <td>NaN</td>\n      <td>NaN</td>\n      <td>NaN</td>\n      <td>NaN</td>\n      <td>NaN</td>\n      <td>NaN</td>\n      <td>...</td>\n      <td>NaN</td>\n      <td>NaN</td>\n      <td>NaN</td>\n      <td>NaN</td>\n      <td>NaN</td>\n      <td>NaN</td>\n      <td>NaN</td>\n      <td>NaN</td>\n      <td>NaN</td>\n      <td>NaN</td>\n    </tr>\n    <tr>\n      <th>3</th>\n      <td>NaN</td>\n      <td>NaN</td>\n      <td>NaN</td>\n      <td>NaN</td>\n      <td>NaN</td>\n      <td>NaN</td>\n      <td>NaN</td>\n      <td>NaN</td>\n      <td>NaN</td>\n      <td>NaN</td>\n      <td>...</td>\n      <td>NaN</td>\n      <td>NaN</td>\n      <td>NaN</td>\n      <td>NaN</td>\n      <td>NaN</td>\n      <td>NaN</td>\n      <td>NaN</td>\n      <td>NaN</td>\n      <td>NaN</td>\n      <td>NaN</td>\n    </tr>\n    <tr>\n      <th>4</th>\n      <td>NaN</td>\n      <td>NaN</td>\n      <td>NaN</td>\n      <td>NaN</td>\n      <td>NaN</td>\n      <td>NaN</td>\n      <td>NaN</td>\n      <td>NaN</td>\n      <td>NaN</td>\n      <td>NaN</td>\n      <td>...</td>\n      <td>NaN</td>\n      <td>NaN</td>\n      <td>NaN</td>\n      <td>NaN</td>\n      <td>NaN</td>\n      <td>NaN</td>\n      <td>NaN</td>\n      <td>NaN</td>\n      <td>NaN</td>\n      <td>NaN</td>\n    </tr>\n    <tr>\n      <th>...</th>\n      <td>...</td>\n      <td>...</td>\n      <td>...</td>\n      <td>...</td>\n      <td>...</td>\n      <td>...</td>\n      <td>...</td>\n      <td>...</td>\n      <td>...</td>\n      <td>...</td>\n      <td>...</td>\n      <td>...</td>\n      <td>...</td>\n      <td>...</td>\n      <td>...</td>\n      <td>...</td>\n      <td>...</td>\n      <td>...</td>\n      <td>...</td>\n      <td>...</td>\n      <td>...</td>\n    </tr>\n    <tr>\n      <th>1301001</th>\n      <td>NaN</td>\n      <td>NaN</td>\n      <td>NaN</td>\n      <td>NaN</td>\n      <td>NaN</td>\n      <td>NaN</td>\n      <td>NaN</td>\n      <td>NaN</td>\n      <td>NaN</td>\n      <td>NaN</td>\n      <td>...</td>\n      <td>NaN</td>\n      <td>NaN</td>\n      <td>NaN</td>\n      <td>NaN</td>\n      <td>NaN</td>\n      <td>NaN</td>\n      <td>NaN</td>\n      <td>NaN</td>\n      <td>NaN</td>\n      <td>NaN</td>\n    </tr>\n    <tr>\n      <th>1301002</th>\n      <td>NaN</td>\n      <td>NaN</td>\n      <td>NaN</td>\n      <td>NaN</td>\n      <td>NaN</td>\n      <td>NaN</td>\n      <td>NaN</td>\n      <td>NaN</td>\n      <td>NaN</td>\n      <td>NaN</td>\n      <td>...</td>\n      <td>NaN</td>\n      <td>NaN</td>\n      <td>NaN</td>\n      <td>NaN</td>\n      <td>NaN</td>\n      <td>NaN</td>\n      <td>NaN</td>\n      <td>NaN</td>\n      <td>NaN</td>\n      <td>NaN</td>\n    </tr>\n    <tr>\n      <th>1301003</th>\n      <td>NaN</td>\n      <td>NaN</td>\n      <td>NaN</td>\n      <td>NaN</td>\n      <td>NaN</td>\n      <td>NaN</td>\n      <td>NaN</td>\n      <td>NaN</td>\n      <td>NaN</td>\n      <td>NaN</td>\n      <td>...</td>\n      <td>NaN</td>\n      <td>NaN</td>\n      <td>NaN</td>\n      <td>NaN</td>\n      <td>NaN</td>\n      <td>NaN</td>\n      <td>NaN</td>\n      <td>NaN</td>\n      <td>NaN</td>\n      <td>NaN</td>\n    </tr>\n    <tr>\n      <th>1301004</th>\n      <td>NaN</td>\n      <td>NaN</td>\n      <td>NaN</td>\n      <td>NaN</td>\n      <td>NaN</td>\n      <td>NaN</td>\n      <td>NaN</td>\n      <td>NaN</td>\n      <td>NaN</td>\n      <td>NaN</td>\n      <td>...</td>\n      <td>NaN</td>\n      <td>NaN</td>\n      <td>NaN</td>\n      <td>NaN</td>\n      <td>NaN</td>\n      <td>NaN</td>\n      <td>NaN</td>\n      <td>NaN</td>\n      <td>NaN</td>\n      <td>NaN</td>\n    </tr>\n    <tr>\n      <th>1301005</th>\n      <td>NaN</td>\n      <td>NaN</td>\n      <td>NaN</td>\n      <td>NaN</td>\n      <td>NaN</td>\n      <td>NaN</td>\n      <td>NaN</td>\n      <td>NaN</td>\n      <td>NaN</td>\n      <td>NaN</td>\n      <td>...</td>\n      <td>NaN</td>\n      <td>NaN</td>\n      <td>NaN</td>\n      <td>NaN</td>\n      <td>NaN</td>\n      <td>NaN</td>\n      <td>NaN</td>\n      <td>NaN</td>\n      <td>NaN</td>\n      <td>NaN</td>\n    </tr>\n  </tbody>\n</table>\n<p>1301006 rows × 117 columns</p>\n</div>"
     },
     "execution_count": 21,
     "metadata": {},
     "output_type": "execute_result"
    }
   ],
   "source": [
    "all_events"
   ],
   "metadata": {
    "collapsed": false,
    "pycharm": {
     "name": "#%%\n"
    }
   }
  },
  {
   "cell_type": "code",
   "execution_count": 22,
   "outputs": [],
   "source": [
    "# Print all shots in the data\n",
    "all_shots = all_events[all_events[\"shot_type\"].notna()]"
   ],
   "metadata": {
    "collapsed": false,
    "pycharm": {
     "name": "#%%\n"
    }
   }
  },
  {
   "cell_type": "code",
   "execution_count": 23,
   "outputs": [
    {
     "data": {
      "text/plain": "Index(['ball_receipt_outcome', 'ball_recovery_recovery_failure',\n       'block_deflection', 'carry_end_location', 'clearance_aerial_won',\n       'clearance_body_part', 'clearance_head', 'clearance_left_foot',\n       'clearance_right_foot', 'counterpress',\n       ...\n       'goalkeeper_shot_saved_to_post', 'shot_saved_to_post',\n       'goalkeeper_lost_out', 'goalkeeper_success_in_play',\n       'shot_follows_dribble', 'half_start_late_video_start',\n       'player_off_permanent', 'pass_backheel', 'goalkeeper_lost_in_play',\n       'half_end_early_video_end'],\n      dtype='object', length=117)"
     },
     "execution_count": 23,
     "metadata": {},
     "output_type": "execute_result"
    }
   ],
   "source": [
    "all_shots.columns"
   ],
   "metadata": {
    "collapsed": false,
    "pycharm": {
     "name": "#%%\n"
    }
   }
  },
  {
   "cell_type": "code",
   "execution_count": 29,
   "outputs": [],
   "source": [
    "# extract relevant attributes from the all_shots dataframe\n",
    "data = pd.DataFrame()\n",
    "data[\"period\"] = all_shots[\"period\"]\n",
    "data[\"minute\"] = all_shots[\"minute\"]\n",
    "data[\"possession\"] = all_shots[\"possession\"]\n",
    "data[\"play_pattern\"] = all_shots[\"play_pattern\"]\n",
    "data[\"position\"] = all_shots[\"position\"]\n",
    "data[\"location_x\"] = all_shots[\"location\"].apply(lambda x: x[0])\n",
    "data[\"location_y\"] = all_shots[\"location\"].apply(lambda x: x[1])\n",
    "data[\"duration\"] = all_shots[\"duration\"]\n",
    "data[\"technique\"] = all_shots[\"shot_technique\"]\n",
    "data[\"body_part\"] = all_shots[\"shot_body_part\"]\n",
    "data[\"type\"] = all_shots[\"shot_type\"]\n",
    "data[\"first_time\"] = all_shots[\"shot_first_time\"].fillna(False)\n",
    "data[\"open_goal\"] = all_shots[\"shot_open_goal\"].fillna(False)\n",
    "data[\"one_on_one\"] = all_shots[\"shot_one_on_one\"].fillna(False)\n",
    "data[\"statsbomb_xg\"] = all_shots[\"shot_statsbomb_xg\"]\n",
    "data[\"end_location_x\"] = all_shots[\"shot_end_location\"].apply(lambda x: x[0])\n",
    "data[\"end_location_y\"] = all_shots[\"shot_end_location\"].apply(lambda x: x[1])\n",
    "data[\"is_goal\"] = all_shots[\"shot_outcome\"].apply(lambda x: True if x == \"Goal\" else False)"
   ],
   "metadata": {
    "collapsed": false,
    "pycharm": {
     "name": "#%%\n"
    }
   }
  },
  {
   "cell_type": "code",
   "execution_count": 30,
   "outputs": [
    {
     "data": {
      "text/plain": "         period  minute  possession    play_pattern                 position  \\\n3692          1       4           7    Regular Play           Left Wing Back   \n3693          1       6          11   From Throw In           Center Forward   \n3694          1       8          15   From Throw In  Left Attacking Midfield   \n3695          1      13          27    From Counter            Left Midfield   \n3696          1      17          33    Regular Play           Center Forward   \n...         ...     ...         ...             ...                      ...   \n1300989       2      83         185     From Corner        Right Center Back   \n1300990       2      83         187     From Keeper               Right Wing   \n1300991       2      84         190  From Free Kick               Right Back   \n1300992       2      85         193   From Throw In        Right Center Back   \n1300993       2      87         196  From Free Kick  Left Defensive Midfield   \n\n         location_x  location_y  duration    technique   body_part       type  \\\n3692          108.1        31.2  0.597523  Half Volley   Left Foot  Open Play   \n3693          110.9        42.6  0.636048       Volley  Right Foot  Open Play   \n3694          117.9        29.1  0.125672  Half Volley   Left Foot  Open Play   \n3695          101.8        27.6  1.303079       Normal   Left Foot  Open Play   \n3696          109.3        26.5  0.666134       Normal  Right Foot  Open Play   \n...             ...         ...       ...          ...         ...        ...   \n1300989       117.1        42.9  0.121192  Half Volley  Right Foot  Open Play   \n1300990       100.0        55.3  0.741536       Normal   Left Foot  Open Play   \n1300991        96.0        49.7  0.759679       Normal  Right Foot  Open Play   \n1300992        84.9        36.3  1.141500       Normal  Right Foot  Open Play   \n1300993       103.4        42.0  0.111159       Normal  Right Foot  Open Play   \n\n         first_time  open_goal  one_on_one  statsbomb_xg  end_location_x  \\\n3692           True      False       False      0.087901           120.0   \n3693           True      False       False      0.160274           120.0   \n3694           True      False       False      0.016036           118.1   \n3695          False      False       False      0.527759           120.0   \n3696          False      False       False      0.074020           118.8   \n...             ...        ...         ...           ...             ...   \n1300989       False      False        True      0.354868           118.4   \n1300990       False      False       False      0.039881           118.3   \n1300991       False      False       False      0.032110           120.0   \n1300992        True      False       False      0.014643           120.0   \n1300993        True      False       False      0.071804           109.0   \n\n         end_location_y  is_goal  \n3692               35.2    False  \n3693               39.3     True  \n3694               30.2    False  \n3695               39.0     True  \n3696               36.0    False  \n...                 ...      ...  \n1300989            42.5    False  \n1300990            43.9    False  \n1300991            47.0    False  \n1300992            48.2    False  \n1300993            41.2    False  \n\n[9691 rows x 18 columns]",
      "text/html": "<div>\n<style scoped>\n    .dataframe tbody tr th:only-of-type {\n        vertical-align: middle;\n    }\n\n    .dataframe tbody tr th {\n        vertical-align: top;\n    }\n\n    .dataframe thead th {\n        text-align: right;\n    }\n</style>\n<table border=\"1\" class=\"dataframe\">\n  <thead>\n    <tr style=\"text-align: right;\">\n      <th></th>\n      <th>period</th>\n      <th>minute</th>\n      <th>possession</th>\n      <th>play_pattern</th>\n      <th>position</th>\n      <th>location_x</th>\n      <th>location_y</th>\n      <th>duration</th>\n      <th>technique</th>\n      <th>body_part</th>\n      <th>type</th>\n      <th>first_time</th>\n      <th>open_goal</th>\n      <th>one_on_one</th>\n      <th>statsbomb_xg</th>\n      <th>end_location_x</th>\n      <th>end_location_y</th>\n      <th>is_goal</th>\n    </tr>\n  </thead>\n  <tbody>\n    <tr>\n      <th>3692</th>\n      <td>1</td>\n      <td>4</td>\n      <td>7</td>\n      <td>Regular Play</td>\n      <td>Left Wing Back</td>\n      <td>108.1</td>\n      <td>31.2</td>\n      <td>0.597523</td>\n      <td>Half Volley</td>\n      <td>Left Foot</td>\n      <td>Open Play</td>\n      <td>True</td>\n      <td>False</td>\n      <td>False</td>\n      <td>0.087901</td>\n      <td>120.0</td>\n      <td>35.2</td>\n      <td>False</td>\n    </tr>\n    <tr>\n      <th>3693</th>\n      <td>1</td>\n      <td>6</td>\n      <td>11</td>\n      <td>From Throw In</td>\n      <td>Center Forward</td>\n      <td>110.9</td>\n      <td>42.6</td>\n      <td>0.636048</td>\n      <td>Volley</td>\n      <td>Right Foot</td>\n      <td>Open Play</td>\n      <td>True</td>\n      <td>False</td>\n      <td>False</td>\n      <td>0.160274</td>\n      <td>120.0</td>\n      <td>39.3</td>\n      <td>True</td>\n    </tr>\n    <tr>\n      <th>3694</th>\n      <td>1</td>\n      <td>8</td>\n      <td>15</td>\n      <td>From Throw In</td>\n      <td>Left Attacking Midfield</td>\n      <td>117.9</td>\n      <td>29.1</td>\n      <td>0.125672</td>\n      <td>Half Volley</td>\n      <td>Left Foot</td>\n      <td>Open Play</td>\n      <td>True</td>\n      <td>False</td>\n      <td>False</td>\n      <td>0.016036</td>\n      <td>118.1</td>\n      <td>30.2</td>\n      <td>False</td>\n    </tr>\n    <tr>\n      <th>3695</th>\n      <td>1</td>\n      <td>13</td>\n      <td>27</td>\n      <td>From Counter</td>\n      <td>Left Midfield</td>\n      <td>101.8</td>\n      <td>27.6</td>\n      <td>1.303079</td>\n      <td>Normal</td>\n      <td>Left Foot</td>\n      <td>Open Play</td>\n      <td>False</td>\n      <td>False</td>\n      <td>False</td>\n      <td>0.527759</td>\n      <td>120.0</td>\n      <td>39.0</td>\n      <td>True</td>\n    </tr>\n    <tr>\n      <th>3696</th>\n      <td>1</td>\n      <td>17</td>\n      <td>33</td>\n      <td>Regular Play</td>\n      <td>Center Forward</td>\n      <td>109.3</td>\n      <td>26.5</td>\n      <td>0.666134</td>\n      <td>Normal</td>\n      <td>Right Foot</td>\n      <td>Open Play</td>\n      <td>False</td>\n      <td>False</td>\n      <td>False</td>\n      <td>0.074020</td>\n      <td>118.8</td>\n      <td>36.0</td>\n      <td>False</td>\n    </tr>\n    <tr>\n      <th>...</th>\n      <td>...</td>\n      <td>...</td>\n      <td>...</td>\n      <td>...</td>\n      <td>...</td>\n      <td>...</td>\n      <td>...</td>\n      <td>...</td>\n      <td>...</td>\n      <td>...</td>\n      <td>...</td>\n      <td>...</td>\n      <td>...</td>\n      <td>...</td>\n      <td>...</td>\n      <td>...</td>\n      <td>...</td>\n      <td>...</td>\n    </tr>\n    <tr>\n      <th>1300989</th>\n      <td>2</td>\n      <td>83</td>\n      <td>185</td>\n      <td>From Corner</td>\n      <td>Right Center Back</td>\n      <td>117.1</td>\n      <td>42.9</td>\n      <td>0.121192</td>\n      <td>Half Volley</td>\n      <td>Right Foot</td>\n      <td>Open Play</td>\n      <td>False</td>\n      <td>False</td>\n      <td>True</td>\n      <td>0.354868</td>\n      <td>118.4</td>\n      <td>42.5</td>\n      <td>False</td>\n    </tr>\n    <tr>\n      <th>1300990</th>\n      <td>2</td>\n      <td>83</td>\n      <td>187</td>\n      <td>From Keeper</td>\n      <td>Right Wing</td>\n      <td>100.0</td>\n      <td>55.3</td>\n      <td>0.741536</td>\n      <td>Normal</td>\n      <td>Left Foot</td>\n      <td>Open Play</td>\n      <td>False</td>\n      <td>False</td>\n      <td>False</td>\n      <td>0.039881</td>\n      <td>118.3</td>\n      <td>43.9</td>\n      <td>False</td>\n    </tr>\n    <tr>\n      <th>1300991</th>\n      <td>2</td>\n      <td>84</td>\n      <td>190</td>\n      <td>From Free Kick</td>\n      <td>Right Back</td>\n      <td>96.0</td>\n      <td>49.7</td>\n      <td>0.759679</td>\n      <td>Normal</td>\n      <td>Right Foot</td>\n      <td>Open Play</td>\n      <td>False</td>\n      <td>False</td>\n      <td>False</td>\n      <td>0.032110</td>\n      <td>120.0</td>\n      <td>47.0</td>\n      <td>False</td>\n    </tr>\n    <tr>\n      <th>1300992</th>\n      <td>2</td>\n      <td>85</td>\n      <td>193</td>\n      <td>From Throw In</td>\n      <td>Right Center Back</td>\n      <td>84.9</td>\n      <td>36.3</td>\n      <td>1.141500</td>\n      <td>Normal</td>\n      <td>Right Foot</td>\n      <td>Open Play</td>\n      <td>True</td>\n      <td>False</td>\n      <td>False</td>\n      <td>0.014643</td>\n      <td>120.0</td>\n      <td>48.2</td>\n      <td>False</td>\n    </tr>\n    <tr>\n      <th>1300993</th>\n      <td>2</td>\n      <td>87</td>\n      <td>196</td>\n      <td>From Free Kick</td>\n      <td>Left Defensive Midfield</td>\n      <td>103.4</td>\n      <td>42.0</td>\n      <td>0.111159</td>\n      <td>Normal</td>\n      <td>Right Foot</td>\n      <td>Open Play</td>\n      <td>True</td>\n      <td>False</td>\n      <td>False</td>\n      <td>0.071804</td>\n      <td>109.0</td>\n      <td>41.2</td>\n      <td>False</td>\n    </tr>\n  </tbody>\n</table>\n<p>9691 rows × 18 columns</p>\n</div>"
     },
     "execution_count": 30,
     "metadata": {},
     "output_type": "execute_result"
    }
   ],
   "source": [
    "data"
   ],
   "metadata": {
    "collapsed": false,
    "pycharm": {
     "name": "#%%\n"
    }
   }
  },
  {
   "cell_type": "code",
   "execution_count": 31,
   "outputs": [],
   "source": [
    "# one-hot encode the categorical data\n",
    "encoded_data = data\n",
    "for column_name in [\"play_pattern\", \"position\", \"technique\", \"body_part\", \"type\"]:\n",
    "    one_hot_encoded = pd.get_dummies(encoded_data[column_name], prefix=column_name)\n",
    "    encoded_data = encoded_data.drop(column_name, axis=1)\n",
    "    encoded_data = pd.concat([encoded_data, one_hot_encoded], axis=1)"
   ],
   "metadata": {
    "collapsed": false,
    "pycharm": {
     "name": "#%%\n"
    }
   }
  },
  {
   "cell_type": "code",
   "execution_count": 32,
   "outputs": [
    {
     "data": {
      "text/plain": "         period  minute  possession  location_x  location_y  duration  \\\n3692          1       4           7       108.1        31.2  0.597523   \n3693          1       6          11       110.9        42.6  0.636048   \n3694          1       8          15       117.9        29.1  0.125672   \n3695          1      13          27       101.8        27.6  1.303079   \n3696          1      17          33       109.3        26.5  0.666134   \n...         ...     ...         ...         ...         ...       ...   \n1300989       2      83         185       117.1        42.9  0.121192   \n1300990       2      83         187       100.0        55.3  0.741536   \n1300991       2      84         190        96.0        49.7  0.759679   \n1300992       2      85         193        84.9        36.3  1.141500   \n1300993       2      87         196       103.4        42.0  0.111159   \n\n         first_time  open_goal  one_on_one  statsbomb_xg  ...  \\\n3692           True      False       False      0.087901  ...   \n3693           True      False       False      0.160274  ...   \n3694           True      False       False      0.016036  ...   \n3695          False      False       False      0.527759  ...   \n3696          False      False       False      0.074020  ...   \n...             ...        ...         ...           ...  ...   \n1300989       False      False        True      0.354868  ...   \n1300990       False      False       False      0.039881  ...   \n1300991       False      False       False      0.032110  ...   \n1300992        True      False       False      0.014643  ...   \n1300993        True      False       False      0.071804  ...   \n\n         technique_Overhead Kick  technique_Volley  body_part_Head  \\\n3692                       False             False           False   \n3693                       False              True           False   \n3694                       False             False           False   \n3695                       False             False           False   \n3696                       False             False           False   \n...                          ...               ...             ...   \n1300989                    False             False           False   \n1300990                    False             False           False   \n1300991                    False             False           False   \n1300992                    False             False           False   \n1300993                    False             False           False   \n\n         body_part_Left Foot  body_part_Other  body_part_Right Foot  \\\n3692                    True            False                 False   \n3693                   False            False                  True   \n3694                    True            False                 False   \n3695                    True            False                 False   \n3696                   False            False                  True   \n...                      ...              ...                   ...   \n1300989                False            False                  True   \n1300990                 True            False                 False   \n1300991                False            False                  True   \n1300992                False            False                  True   \n1300993                False            False                  True   \n\n         type_Corner  type_Free Kick  type_Open Play  type_Penalty  \n3692           False           False            True         False  \n3693           False           False            True         False  \n3694           False           False            True         False  \n3695           False           False            True         False  \n3696           False           False            True         False  \n...              ...             ...             ...           ...  \n1300989        False           False            True         False  \n1300990        False           False            True         False  \n1300991        False           False            True         False  \n1300992        False           False            True         False  \n1300993        False           False            True         False  \n\n[9691 rows x 61 columns]",
      "text/html": "<div>\n<style scoped>\n    .dataframe tbody tr th:only-of-type {\n        vertical-align: middle;\n    }\n\n    .dataframe tbody tr th {\n        vertical-align: top;\n    }\n\n    .dataframe thead th {\n        text-align: right;\n    }\n</style>\n<table border=\"1\" class=\"dataframe\">\n  <thead>\n    <tr style=\"text-align: right;\">\n      <th></th>\n      <th>period</th>\n      <th>minute</th>\n      <th>possession</th>\n      <th>location_x</th>\n      <th>location_y</th>\n      <th>duration</th>\n      <th>first_time</th>\n      <th>open_goal</th>\n      <th>one_on_one</th>\n      <th>statsbomb_xg</th>\n      <th>...</th>\n      <th>technique_Overhead Kick</th>\n      <th>technique_Volley</th>\n      <th>body_part_Head</th>\n      <th>body_part_Left Foot</th>\n      <th>body_part_Other</th>\n      <th>body_part_Right Foot</th>\n      <th>type_Corner</th>\n      <th>type_Free Kick</th>\n      <th>type_Open Play</th>\n      <th>type_Penalty</th>\n    </tr>\n  </thead>\n  <tbody>\n    <tr>\n      <th>3692</th>\n      <td>1</td>\n      <td>4</td>\n      <td>7</td>\n      <td>108.1</td>\n      <td>31.2</td>\n      <td>0.597523</td>\n      <td>True</td>\n      <td>False</td>\n      <td>False</td>\n      <td>0.087901</td>\n      <td>...</td>\n      <td>False</td>\n      <td>False</td>\n      <td>False</td>\n      <td>True</td>\n      <td>False</td>\n      <td>False</td>\n      <td>False</td>\n      <td>False</td>\n      <td>True</td>\n      <td>False</td>\n    </tr>\n    <tr>\n      <th>3693</th>\n      <td>1</td>\n      <td>6</td>\n      <td>11</td>\n      <td>110.9</td>\n      <td>42.6</td>\n      <td>0.636048</td>\n      <td>True</td>\n      <td>False</td>\n      <td>False</td>\n      <td>0.160274</td>\n      <td>...</td>\n      <td>False</td>\n      <td>True</td>\n      <td>False</td>\n      <td>False</td>\n      <td>False</td>\n      <td>True</td>\n      <td>False</td>\n      <td>False</td>\n      <td>True</td>\n      <td>False</td>\n    </tr>\n    <tr>\n      <th>3694</th>\n      <td>1</td>\n      <td>8</td>\n      <td>15</td>\n      <td>117.9</td>\n      <td>29.1</td>\n      <td>0.125672</td>\n      <td>True</td>\n      <td>False</td>\n      <td>False</td>\n      <td>0.016036</td>\n      <td>...</td>\n      <td>False</td>\n      <td>False</td>\n      <td>False</td>\n      <td>True</td>\n      <td>False</td>\n      <td>False</td>\n      <td>False</td>\n      <td>False</td>\n      <td>True</td>\n      <td>False</td>\n    </tr>\n    <tr>\n      <th>3695</th>\n      <td>1</td>\n      <td>13</td>\n      <td>27</td>\n      <td>101.8</td>\n      <td>27.6</td>\n      <td>1.303079</td>\n      <td>False</td>\n      <td>False</td>\n      <td>False</td>\n      <td>0.527759</td>\n      <td>...</td>\n      <td>False</td>\n      <td>False</td>\n      <td>False</td>\n      <td>True</td>\n      <td>False</td>\n      <td>False</td>\n      <td>False</td>\n      <td>False</td>\n      <td>True</td>\n      <td>False</td>\n    </tr>\n    <tr>\n      <th>3696</th>\n      <td>1</td>\n      <td>17</td>\n      <td>33</td>\n      <td>109.3</td>\n      <td>26.5</td>\n      <td>0.666134</td>\n      <td>False</td>\n      <td>False</td>\n      <td>False</td>\n      <td>0.074020</td>\n      <td>...</td>\n      <td>False</td>\n      <td>False</td>\n      <td>False</td>\n      <td>False</td>\n      <td>False</td>\n      <td>True</td>\n      <td>False</td>\n      <td>False</td>\n      <td>True</td>\n      <td>False</td>\n    </tr>\n    <tr>\n      <th>...</th>\n      <td>...</td>\n      <td>...</td>\n      <td>...</td>\n      <td>...</td>\n      <td>...</td>\n      <td>...</td>\n      <td>...</td>\n      <td>...</td>\n      <td>...</td>\n      <td>...</td>\n      <td>...</td>\n      <td>...</td>\n      <td>...</td>\n      <td>...</td>\n      <td>...</td>\n      <td>...</td>\n      <td>...</td>\n      <td>...</td>\n      <td>...</td>\n      <td>...</td>\n      <td>...</td>\n    </tr>\n    <tr>\n      <th>1300989</th>\n      <td>2</td>\n      <td>83</td>\n      <td>185</td>\n      <td>117.1</td>\n      <td>42.9</td>\n      <td>0.121192</td>\n      <td>False</td>\n      <td>False</td>\n      <td>True</td>\n      <td>0.354868</td>\n      <td>...</td>\n      <td>False</td>\n      <td>False</td>\n      <td>False</td>\n      <td>False</td>\n      <td>False</td>\n      <td>True</td>\n      <td>False</td>\n      <td>False</td>\n      <td>True</td>\n      <td>False</td>\n    </tr>\n    <tr>\n      <th>1300990</th>\n      <td>2</td>\n      <td>83</td>\n      <td>187</td>\n      <td>100.0</td>\n      <td>55.3</td>\n      <td>0.741536</td>\n      <td>False</td>\n      <td>False</td>\n      <td>False</td>\n      <td>0.039881</td>\n      <td>...</td>\n      <td>False</td>\n      <td>False</td>\n      <td>False</td>\n      <td>True</td>\n      <td>False</td>\n      <td>False</td>\n      <td>False</td>\n      <td>False</td>\n      <td>True</td>\n      <td>False</td>\n    </tr>\n    <tr>\n      <th>1300991</th>\n      <td>2</td>\n      <td>84</td>\n      <td>190</td>\n      <td>96.0</td>\n      <td>49.7</td>\n      <td>0.759679</td>\n      <td>False</td>\n      <td>False</td>\n      <td>False</td>\n      <td>0.032110</td>\n      <td>...</td>\n      <td>False</td>\n      <td>False</td>\n      <td>False</td>\n      <td>False</td>\n      <td>False</td>\n      <td>True</td>\n      <td>False</td>\n      <td>False</td>\n      <td>True</td>\n      <td>False</td>\n    </tr>\n    <tr>\n      <th>1300992</th>\n      <td>2</td>\n      <td>85</td>\n      <td>193</td>\n      <td>84.9</td>\n      <td>36.3</td>\n      <td>1.141500</td>\n      <td>True</td>\n      <td>False</td>\n      <td>False</td>\n      <td>0.014643</td>\n      <td>...</td>\n      <td>False</td>\n      <td>False</td>\n      <td>False</td>\n      <td>False</td>\n      <td>False</td>\n      <td>True</td>\n      <td>False</td>\n      <td>False</td>\n      <td>True</td>\n      <td>False</td>\n    </tr>\n    <tr>\n      <th>1300993</th>\n      <td>2</td>\n      <td>87</td>\n      <td>196</td>\n      <td>103.4</td>\n      <td>42.0</td>\n      <td>0.111159</td>\n      <td>True</td>\n      <td>False</td>\n      <td>False</td>\n      <td>0.071804</td>\n      <td>...</td>\n      <td>False</td>\n      <td>False</td>\n      <td>False</td>\n      <td>False</td>\n      <td>False</td>\n      <td>True</td>\n      <td>False</td>\n      <td>False</td>\n      <td>True</td>\n      <td>False</td>\n    </tr>\n  </tbody>\n</table>\n<p>9691 rows × 61 columns</p>\n</div>"
     },
     "execution_count": 32,
     "metadata": {},
     "output_type": "execute_result"
    }
   ],
   "source": [
    "encoded_data"
   ],
   "metadata": {
    "collapsed": false,
    "pycharm": {
     "name": "#%%\n"
    }
   }
  },
  {
   "cell_type": "code",
   "execution_count": 33,
   "outputs": [],
   "source": [
    "encoded_data.to_csv('./data.csv', index=False)"
   ],
   "metadata": {
    "collapsed": false,
    "pycharm": {
     "name": "#%%\n"
    }
   }
  },
  {
   "cell_type": "code",
   "execution_count": 11,
   "outputs": [],
   "source": [],
   "metadata": {
    "collapsed": false,
    "pycharm": {
     "name": "#%%\n"
    }
   }
  }
 ],
 "metadata": {
  "kernelspec": {
   "display_name": "Python 3",
   "language": "python",
   "name": "python3"
  },
  "language_info": {
   "codemirror_mode": {
    "name": "ipython",
    "version": 2
   },
   "file_extension": ".py",
   "mimetype": "text/x-python",
   "name": "python",
   "nbconvert_exporter": "python",
   "pygments_lexer": "ipython2",
   "version": "2.7.6"
  }
 },
 "nbformat": 4,
 "nbformat_minor": 0
}