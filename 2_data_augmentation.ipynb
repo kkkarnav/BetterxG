{
 "cells": [
  {
   "cell_type": "code",
   "execution_count": 1,
   "metadata": {
    "collapsed": true
   },
   "outputs": [],
   "source": [
    "import pandas as pd\n",
    "import numpy as np\n",
    "import matplotlib.pyplot as plt\n",
    "\n",
    "import math\n",
    "import ast\n",
    "from tqdm import tqdm\n",
    "import warnings\n",
    "from pprint import pprint\n",
    "\n",
    "warnings.filterwarnings(\"ignore\")"
   ]
  },
  {
   "cell_type": "code",
   "execution_count": 2,
   "outputs": [],
   "source": [
    "all_shots = pd.read_csv(\"./data/all_shots.csv\")"
   ],
   "metadata": {
    "collapsed": false,
    "pycharm": {
     "name": "#%%\n"
    }
   }
  },
  {
   "cell_type": "code",
   "execution_count": 3,
   "outputs": [
    {
     "data": {
      "text/plain": "(84065, 122)"
     },
     "execution_count": 3,
     "metadata": {},
     "output_type": "execute_result"
    }
   ],
   "source": [
    "all_shots.shape"
   ],
   "metadata": {
    "collapsed": false,
    "pycharm": {
     "name": "#%%\n"
    }
   }
  },
  {
   "cell_type": "code",
   "execution_count": 4,
   "outputs": [
    {
     "data": {
      "text/plain": "season_id                             46\nmatch_id                            3316\nball_receipt_outcome                   0\nball_recovery_recovery_failure         0\nblock_deflection                       0\n                                    ... \ngoalkeeper_lost_in_play                0\nhalf_end_early_video_end               0\ngoalkeeper_saved_to_post               0\ngoalkeeper_penalty_saved_to_post       0\nshot_kick_off                          1\nLength: 122, dtype: int64"
     },
     "execution_count": 4,
     "metadata": {},
     "output_type": "execute_result"
    }
   ],
   "source": [
    "all_shots.nunique()"
   ],
   "metadata": {
    "collapsed": false,
    "pycharm": {
     "name": "#%%\n"
    }
   }
  },
  {
   "cell_type": "code",
   "execution_count": 7,
   "outputs": [
    {
     "data": {
      "text/plain": "['season_id',\n 'match_id',\n 'ball_receipt_outcome',\n 'ball_recovery_recovery_failure',\n 'block_deflection',\n 'carry_end_location',\n 'clearance_aerial_won',\n 'clearance_body_part',\n 'clearance_head',\n 'clearance_left_foot',\n 'clearance_right_foot',\n 'counterpress',\n 'dribble_nutmeg',\n 'dribble_outcome',\n 'dribble_overrun',\n 'duel_outcome',\n 'duel_type',\n 'duration',\n 'foul_committed_advantage',\n 'foul_committed_card',\n 'foul_won_advantage',\n 'foul_won_defensive',\n 'goalkeeper_body_part',\n 'goalkeeper_end_location',\n 'goalkeeper_outcome',\n 'goalkeeper_position',\n 'goalkeeper_technique',\n 'goalkeeper_type',\n 'id',\n 'index',\n 'interception_outcome',\n 'location',\n 'minute',\n 'off_camera',\n 'out',\n 'pass_aerial_won',\n 'pass_angle',\n 'pass_assisted_shot_id',\n 'pass_body_part',\n 'pass_cross',\n 'pass_cut_back',\n 'pass_deflected',\n 'pass_end_location',\n 'pass_goal_assist',\n 'pass_height',\n 'pass_inswinging',\n 'pass_length',\n 'pass_outcome',\n 'pass_outswinging',\n 'pass_recipient',\n 'pass_recipient_id',\n 'pass_shot_assist',\n 'pass_switch',\n 'pass_technique',\n 'pass_through_ball',\n 'pass_type',\n 'period',\n 'play_pattern',\n 'player',\n 'player_id',\n 'position',\n 'possession',\n 'possession_team',\n 'possession_team_id',\n 'related_events',\n 'second',\n 'shot_aerial_won',\n 'shot_body_part',\n 'shot_end_location',\n 'shot_first_time',\n 'shot_freeze_frame',\n 'shot_key_pass_id',\n 'shot_one_on_one',\n 'shot_outcome',\n 'shot_statsbomb_xg',\n 'shot_technique',\n 'shot_type',\n 'substitution_outcome',\n 'substitution_replacement',\n 'tactics',\n 'team',\n 'team_id',\n 'timestamp',\n 'type',\n 'under_pressure',\n 'competition_id',\n '50_50',\n 'bad_behaviour_card',\n 'ball_recovery_offensive',\n 'injury_stoppage_in_chain',\n 'miscontrol_aerial_won',\n 'pass_no_touch',\n 'pass_straight',\n 'block_offensive',\n 'foul_committed_type',\n 'foul_committed_offensive',\n 'shot_deflected',\n 'clearance_other',\n 'goalkeeper_success_out',\n 'pass_miscommunication',\n 'dribble_no_touch',\n 'foul_committed_penalty',\n 'foul_won_penalty',\n 'shot_open_goal',\n 'block_save_block',\n 'goalkeeper_punched_out',\n 'shot_redirect',\n 'goalkeeper_shot_saved_off_target',\n 'shot_saved_off_target',\n 'goalkeeper_shot_saved_to_post',\n 'shot_saved_to_post',\n 'goalkeeper_lost_out',\n 'goalkeeper_success_in_play',\n 'shot_follows_dribble',\n 'half_start_late_video_start',\n 'player_off_permanent',\n 'pass_backheel',\n 'goalkeeper_lost_in_play',\n 'half_end_early_video_end',\n 'goalkeeper_saved_to_post',\n 'goalkeeper_penalty_saved_to_post',\n 'shot_kick_off']"
     },
     "execution_count": 7,
     "metadata": {},
     "output_type": "execute_result"
    }
   ],
   "source": [
    "[column for column in all_shots.columns]"
   ],
   "metadata": {
    "collapsed": false,
    "pycharm": {
     "name": "#%%\n"
    }
   }
  },
  {
   "cell_type": "code",
   "execution_count": 6,
   "outputs": [],
   "source": [
    "all_passes = pd.read_csv(\"./data/all_passes.csv\")"
   ],
   "metadata": {
    "collapsed": false,
    "pycharm": {
     "name": "#%%\n"
    }
   }
  },
  {
   "cell_type": "code",
   "execution_count": 7,
   "outputs": [
    {
     "data": {
      "text/plain": "        season_id   match_id  ball_receipt_outcome  \\\n0       2015/2016  3890561.0                   NaN   \n1       2015/2016  3890561.0                   NaN   \n2       2015/2016  3890561.0                   NaN   \n3       2015/2016  3890561.0                   NaN   \n4       2015/2016  3890561.0                   NaN   \n...           ...        ...                   ...   \n687132       2019    69161.0                   NaN   \n687133       2019    69161.0                   NaN   \n687134       2019    69161.0                   NaN   \n687135       2019    69161.0                   NaN   \n687136       2019    69161.0                   NaN   \n\n        ball_recovery_recovery_failure  block_deflection  carry_end_location  \\\n0                                  NaN               NaN                 NaN   \n1                                  NaN               NaN                 NaN   \n2                                  NaN               NaN                 NaN   \n3                                  NaN               NaN                 NaN   \n4                                  NaN               NaN                 NaN   \n...                                ...               ...                 ...   \n687132                             NaN               NaN                 NaN   \n687133                             NaN               NaN                 NaN   \n687134                             NaN               NaN                 NaN   \n687135                             NaN               NaN                 NaN   \n687136                             NaN               NaN                 NaN   \n\n        clearance_aerial_won  clearance_body_part  clearance_head  \\\n0                        NaN                  NaN             NaN   \n1                        NaN                  NaN             NaN   \n2                        NaN                  NaN             NaN   \n3                        NaN                  NaN             NaN   \n4                        NaN                  NaN             NaN   \n...                      ...                  ...             ...   \n687132                   NaN                  NaN             NaN   \n687133                   NaN                  NaN             NaN   \n687134                   NaN                  NaN             NaN   \n687135                   NaN                  NaN             NaN   \n687136                   NaN                  NaN             NaN   \n\n        clearance_left_foot  ...  goalkeeper_success_in_play  \\\n0                       NaN  ...                         NaN   \n1                       NaN  ...                         NaN   \n2                       NaN  ...                         NaN   \n3                       NaN  ...                         NaN   \n4                       NaN  ...                         NaN   \n...                     ...  ...                         ...   \n687132                  NaN  ...                         NaN   \n687133                  NaN  ...                         NaN   \n687134                  NaN  ...                         NaN   \n687135                  NaN  ...                         NaN   \n687136                  NaN  ...                         NaN   \n\n       shot_follows_dribble  half_start_late_video_start  \\\n0                       NaN                          NaN   \n1                       NaN                          NaN   \n2                       NaN                          NaN   \n3                       NaN                          NaN   \n4                       NaN                          NaN   \n...                     ...                          ...   \n687132                  NaN                          NaN   \n687133                  NaN                          NaN   \n687134                  NaN                          NaN   \n687135                  NaN                          NaN   \n687136                  NaN                          NaN   \n\n        player_off_permanent  pass_backheel  goalkeeper_lost_in_play  \\\n0                        NaN            NaN                      NaN   \n1                        NaN            NaN                      NaN   \n2                        NaN            NaN                      NaN   \n3                        NaN            NaN                      NaN   \n4                        NaN            NaN                      NaN   \n...                      ...            ...                      ...   \n687132                   NaN            NaN                      NaN   \n687133                   NaN            NaN                      NaN   \n687134                   NaN            NaN                      NaN   \n687135                   NaN            NaN                      NaN   \n687136                   NaN            NaN                      NaN   \n\n        half_end_early_video_end  goalkeeper_saved_to_post  \\\n0                            NaN                       NaN   \n1                            NaN                       NaN   \n2                            NaN                       NaN   \n3                            NaN                       NaN   \n4                            NaN                       NaN   \n...                          ...                       ...   \n687132                       NaN                       NaN   \n687133                       NaN                       NaN   \n687134                       NaN                       NaN   \n687135                       NaN                       NaN   \n687136                       NaN                       NaN   \n\n        goalkeeper_penalty_saved_to_post  shot_kick_off  \n0                                    NaN            NaN  \n1                                    NaN            NaN  \n2                                    NaN            NaN  \n3                                    NaN            NaN  \n4                                    NaN            NaN  \n...                                  ...            ...  \n687132                               NaN            NaN  \n687133                               NaN            NaN  \n687134                               NaN            NaN  \n687135                               NaN            NaN  \n687136                               NaN            NaN  \n\n[687137 rows x 122 columns]",
      "text/html": "<div>\n<style scoped>\n    .dataframe tbody tr th:only-of-type {\n        vertical-align: middle;\n    }\n\n    .dataframe tbody tr th {\n        vertical-align: top;\n    }\n\n    .dataframe thead th {\n        text-align: right;\n    }\n</style>\n<table border=\"1\" class=\"dataframe\">\n  <thead>\n    <tr style=\"text-align: right;\">\n      <th></th>\n      <th>season_id</th>\n      <th>match_id</th>\n      <th>ball_receipt_outcome</th>\n      <th>ball_recovery_recovery_failure</th>\n      <th>block_deflection</th>\n      <th>carry_end_location</th>\n      <th>clearance_aerial_won</th>\n      <th>clearance_body_part</th>\n      <th>clearance_head</th>\n      <th>clearance_left_foot</th>\n      <th>...</th>\n      <th>goalkeeper_success_in_play</th>\n      <th>shot_follows_dribble</th>\n      <th>half_start_late_video_start</th>\n      <th>player_off_permanent</th>\n      <th>pass_backheel</th>\n      <th>goalkeeper_lost_in_play</th>\n      <th>half_end_early_video_end</th>\n      <th>goalkeeper_saved_to_post</th>\n      <th>goalkeeper_penalty_saved_to_post</th>\n      <th>shot_kick_off</th>\n    </tr>\n  </thead>\n  <tbody>\n    <tr>\n      <th>0</th>\n      <td>2015/2016</td>\n      <td>3890561.0</td>\n      <td>NaN</td>\n      <td>NaN</td>\n      <td>NaN</td>\n      <td>NaN</td>\n      <td>NaN</td>\n      <td>NaN</td>\n      <td>NaN</td>\n      <td>NaN</td>\n      <td>...</td>\n      <td>NaN</td>\n      <td>NaN</td>\n      <td>NaN</td>\n      <td>NaN</td>\n      <td>NaN</td>\n      <td>NaN</td>\n      <td>NaN</td>\n      <td>NaN</td>\n      <td>NaN</td>\n      <td>NaN</td>\n    </tr>\n    <tr>\n      <th>1</th>\n      <td>2015/2016</td>\n      <td>3890561.0</td>\n      <td>NaN</td>\n      <td>NaN</td>\n      <td>NaN</td>\n      <td>NaN</td>\n      <td>NaN</td>\n      <td>NaN</td>\n      <td>NaN</td>\n      <td>NaN</td>\n      <td>...</td>\n      <td>NaN</td>\n      <td>NaN</td>\n      <td>NaN</td>\n      <td>NaN</td>\n      <td>NaN</td>\n      <td>NaN</td>\n      <td>NaN</td>\n      <td>NaN</td>\n      <td>NaN</td>\n      <td>NaN</td>\n    </tr>\n    <tr>\n      <th>2</th>\n      <td>2015/2016</td>\n      <td>3890561.0</td>\n      <td>NaN</td>\n      <td>NaN</td>\n      <td>NaN</td>\n      <td>NaN</td>\n      <td>NaN</td>\n      <td>NaN</td>\n      <td>NaN</td>\n      <td>NaN</td>\n      <td>...</td>\n      <td>NaN</td>\n      <td>NaN</td>\n      <td>NaN</td>\n      <td>NaN</td>\n      <td>NaN</td>\n      <td>NaN</td>\n      <td>NaN</td>\n      <td>NaN</td>\n      <td>NaN</td>\n      <td>NaN</td>\n    </tr>\n    <tr>\n      <th>3</th>\n      <td>2015/2016</td>\n      <td>3890561.0</td>\n      <td>NaN</td>\n      <td>NaN</td>\n      <td>NaN</td>\n      <td>NaN</td>\n      <td>NaN</td>\n      <td>NaN</td>\n      <td>NaN</td>\n      <td>NaN</td>\n      <td>...</td>\n      <td>NaN</td>\n      <td>NaN</td>\n      <td>NaN</td>\n      <td>NaN</td>\n      <td>NaN</td>\n      <td>NaN</td>\n      <td>NaN</td>\n      <td>NaN</td>\n      <td>NaN</td>\n      <td>NaN</td>\n    </tr>\n    <tr>\n      <th>4</th>\n      <td>2015/2016</td>\n      <td>3890561.0</td>\n      <td>NaN</td>\n      <td>NaN</td>\n      <td>NaN</td>\n      <td>NaN</td>\n      <td>NaN</td>\n      <td>NaN</td>\n      <td>NaN</td>\n      <td>NaN</td>\n      <td>...</td>\n      <td>NaN</td>\n      <td>NaN</td>\n      <td>NaN</td>\n      <td>NaN</td>\n      <td>NaN</td>\n      <td>NaN</td>\n      <td>NaN</td>\n      <td>NaN</td>\n      <td>NaN</td>\n      <td>NaN</td>\n    </tr>\n    <tr>\n      <th>...</th>\n      <td>...</td>\n      <td>...</td>\n      <td>...</td>\n      <td>...</td>\n      <td>...</td>\n      <td>...</td>\n      <td>...</td>\n      <td>...</td>\n      <td>...</td>\n      <td>...</td>\n      <td>...</td>\n      <td>...</td>\n      <td>...</td>\n      <td>...</td>\n      <td>...</td>\n      <td>...</td>\n      <td>...</td>\n      <td>...</td>\n      <td>...</td>\n      <td>...</td>\n      <td>...</td>\n    </tr>\n    <tr>\n      <th>687132</th>\n      <td>2019</td>\n      <td>69161.0</td>\n      <td>NaN</td>\n      <td>NaN</td>\n      <td>NaN</td>\n      <td>NaN</td>\n      <td>NaN</td>\n      <td>NaN</td>\n      <td>NaN</td>\n      <td>NaN</td>\n      <td>...</td>\n      <td>NaN</td>\n      <td>NaN</td>\n      <td>NaN</td>\n      <td>NaN</td>\n      <td>NaN</td>\n      <td>NaN</td>\n      <td>NaN</td>\n      <td>NaN</td>\n      <td>NaN</td>\n      <td>NaN</td>\n    </tr>\n    <tr>\n      <th>687133</th>\n      <td>2019</td>\n      <td>69161.0</td>\n      <td>NaN</td>\n      <td>NaN</td>\n      <td>NaN</td>\n      <td>NaN</td>\n      <td>NaN</td>\n      <td>NaN</td>\n      <td>NaN</td>\n      <td>NaN</td>\n      <td>...</td>\n      <td>NaN</td>\n      <td>NaN</td>\n      <td>NaN</td>\n      <td>NaN</td>\n      <td>NaN</td>\n      <td>NaN</td>\n      <td>NaN</td>\n      <td>NaN</td>\n      <td>NaN</td>\n      <td>NaN</td>\n    </tr>\n    <tr>\n      <th>687134</th>\n      <td>2019</td>\n      <td>69161.0</td>\n      <td>NaN</td>\n      <td>NaN</td>\n      <td>NaN</td>\n      <td>NaN</td>\n      <td>NaN</td>\n      <td>NaN</td>\n      <td>NaN</td>\n      <td>NaN</td>\n      <td>...</td>\n      <td>NaN</td>\n      <td>NaN</td>\n      <td>NaN</td>\n      <td>NaN</td>\n      <td>NaN</td>\n      <td>NaN</td>\n      <td>NaN</td>\n      <td>NaN</td>\n      <td>NaN</td>\n      <td>NaN</td>\n    </tr>\n    <tr>\n      <th>687135</th>\n      <td>2019</td>\n      <td>69161.0</td>\n      <td>NaN</td>\n      <td>NaN</td>\n      <td>NaN</td>\n      <td>NaN</td>\n      <td>NaN</td>\n      <td>NaN</td>\n      <td>NaN</td>\n      <td>NaN</td>\n      <td>...</td>\n      <td>NaN</td>\n      <td>NaN</td>\n      <td>NaN</td>\n      <td>NaN</td>\n      <td>NaN</td>\n      <td>NaN</td>\n      <td>NaN</td>\n      <td>NaN</td>\n      <td>NaN</td>\n      <td>NaN</td>\n    </tr>\n    <tr>\n      <th>687136</th>\n      <td>2019</td>\n      <td>69161.0</td>\n      <td>NaN</td>\n      <td>NaN</td>\n      <td>NaN</td>\n      <td>NaN</td>\n      <td>NaN</td>\n      <td>NaN</td>\n      <td>NaN</td>\n      <td>NaN</td>\n      <td>...</td>\n      <td>NaN</td>\n      <td>NaN</td>\n      <td>NaN</td>\n      <td>NaN</td>\n      <td>NaN</td>\n      <td>NaN</td>\n      <td>NaN</td>\n      <td>NaN</td>\n      <td>NaN</td>\n      <td>NaN</td>\n    </tr>\n  </tbody>\n</table>\n<p>687137 rows × 122 columns</p>\n</div>"
     },
     "execution_count": 7,
     "metadata": {},
     "output_type": "execute_result"
    }
   ],
   "source": [
    "all_passes"
   ],
   "metadata": {
    "collapsed": false,
    "pycharm": {
     "name": "#%%\n"
    }
   }
  },
  {
   "cell_type": "code",
   "execution_count": 8,
   "outputs": [
    {
     "data": {
      "text/plain": "season_id                             46\nmatch_id                            3316\nball_receipt_outcome                   0\nball_recovery_recovery_failure         0\nblock_deflection                       0\n                                    ... \ngoalkeeper_lost_in_play                0\nhalf_end_early_video_end               0\ngoalkeeper_saved_to_post               0\ngoalkeeper_penalty_saved_to_post       0\nshot_kick_off                          1\nLength: 122, dtype: int64"
     },
     "execution_count": 8,
     "metadata": {},
     "output_type": "execute_result"
    }
   ],
   "source": [
    "all_shots.nunique()"
   ],
   "metadata": {
    "collapsed": false,
    "pycharm": {
     "name": "#%%\n"
    }
   }
  },
  {
   "cell_type": "code",
   "execution_count": 9,
   "outputs": [
    {
     "data": {
      "text/plain": "True     59210\nFalse    24855\nName: shot_key_pass_id, dtype: int64"
     },
     "execution_count": 9,
     "metadata": {},
     "output_type": "execute_result"
    }
   ],
   "source": [
    "all_shots['shot_key_pass_id'].notna().value_counts()"
   ],
   "metadata": {
    "collapsed": false,
    "pycharm": {
     "name": "#%%\n"
    }
   }
  },
  {
   "cell_type": "code",
   "execution_count": 10,
   "outputs": [
    {
     "data": {
      "text/plain": "0                 ['510415d8-785b-4476-a852-d8dab88514ec']\n1                 ['0b3c1ca9-326a-4ad8-b9c4-b615724e8d4b']\n2        ['7dfad14b-d366-45bc-9eb2-b0f12c2f76da', '8bdd...\n3                 ['a5ca19ae-426d-4751-99c8-026d95033717']\n4                 ['286fd384-aa80-4471-9488-98f89fd14af7']\n                               ...                        \n84060             ['fc529a28-2a80-4a4f-8af2-63f6f9483df1']\n84061             ['cbe6239f-1487-497c-9f31-6282d1fefd51']\n84062    ['599b62d7-cfe4-44e0-81fa-b4d6e6e8fb24', '5f45...\n84063             ['86e3c8ac-41a0-4a2d-b3fc-fa3f6078960c']\n84064    ['580e140d-62dc-4c20-ac97-cf357f195af5', 'cd7b...\nName: related_events, Length: 84065, dtype: object"
     },
     "execution_count": 10,
     "metadata": {},
     "output_type": "execute_result"
    }
   ],
   "source": [
    "all_shots[\"related_events\"]"
   ],
   "metadata": {
    "collapsed": false,
    "pycharm": {
     "name": "#%%\n"
    }
   }
  },
  {
   "cell_type": "code",
   "execution_count": 11,
   "outputs": [
    {
     "data": {
      "text/plain": "0     []\n1     []\n2     []\n3     []\n4     []\n5     []\n6     []\n7     []\n8     []\n9     []\n10    []\n11    []\n12    []\n13    []\n14    []\n15    []\n16    []\n17    []\n18    []\n19    []\nName: related_events, dtype: object"
     },
     "execution_count": 11,
     "metadata": {},
     "output_type": "execute_result"
    }
   ],
   "source": [
    "# Function to check if each item in the list is in the column\n",
    "def get_items_in_column(lst, column):\n",
    "    found_items = []\n",
    "    for item in lst:\n",
    "        if item in column.values:\n",
    "            found_items.append(item)\n",
    "    return found_items\n",
    "\n",
    "# Apply the function to each row in the column\n",
    "all_shots2 = all_shots.iloc[:20]\n",
    "temp = all_shots2['related_events'].apply(lambda x: get_items_in_column(x, all_passes['id']))\n",
    "temp"
   ],
   "metadata": {
    "collapsed": false,
    "pycharm": {
     "name": "#%%\n"
    }
   }
  },
  {
   "cell_type": "markdown",
   "source": [],
   "metadata": {
    "collapsed": false
   }
  },
  {
   "cell_type": "code",
   "execution_count": 12,
   "outputs": [],
   "source": [
    "key_passes = all_passes[all_passes[\"id\"].isin(all_shots['shot_key_pass_id'])]"
   ],
   "metadata": {
    "collapsed": false,
    "pycharm": {
     "name": "#%%\n"
    }
   }
  },
  {
   "cell_type": "code",
   "execution_count": 13,
   "outputs": [
    {
     "data": {
      "text/plain": "        season_id   match_id  ball_receipt_outcome  \\\n46      2015/2016  3890561.0                   NaN   \n84      2015/2016  3890561.0                   NaN   \n234     2015/2016  3890505.0                   NaN   \n268     2015/2016  3890505.0                   NaN   \n307     2015/2016  3890505.0                   NaN   \n...           ...        ...                   ...   \n686852       2019    69205.0                   NaN   \n686919       2019    69205.0                   NaN   \n686929       2019    69205.0                   NaN   \n686981       2019    69161.0                   NaN   \n687090       2019    69161.0                   NaN   \n\n        ball_recovery_recovery_failure  block_deflection  carry_end_location  \\\n46                                 NaN               NaN                 NaN   \n84                                 NaN               NaN                 NaN   \n234                                NaN               NaN                 NaN   \n268                                NaN               NaN                 NaN   \n307                                NaN               NaN                 NaN   \n...                                ...               ...                 ...   \n686852                             NaN               NaN                 NaN   \n686919                             NaN               NaN                 NaN   \n686929                             NaN               NaN                 NaN   \n686981                             NaN               NaN                 NaN   \n687090                             NaN               NaN                 NaN   \n\n        clearance_aerial_won  clearance_body_part  clearance_head  \\\n46                       NaN                  NaN             NaN   \n84                       NaN                  NaN             NaN   \n234                      NaN                  NaN             NaN   \n268                      NaN                  NaN             NaN   \n307                      NaN                  NaN             NaN   \n...                      ...                  ...             ...   \n686852                   NaN                  NaN             NaN   \n686919                   NaN                  NaN             NaN   \n686929                   NaN                  NaN             NaN   \n686981                   NaN                  NaN             NaN   \n687090                   NaN                  NaN             NaN   \n\n        clearance_left_foot  ...  goalkeeper_success_in_play  \\\n46                      NaN  ...                         NaN   \n84                      NaN  ...                         NaN   \n234                     NaN  ...                         NaN   \n268                     NaN  ...                         NaN   \n307                     NaN  ...                         NaN   \n...                     ...  ...                         ...   \n686852                  NaN  ...                         NaN   \n686919                  NaN  ...                         NaN   \n686929                  NaN  ...                         NaN   \n686981                  NaN  ...                         NaN   \n687090                  NaN  ...                         NaN   \n\n       shot_follows_dribble  half_start_late_video_start  \\\n46                      NaN                          NaN   \n84                      NaN                          NaN   \n234                     NaN                          NaN   \n268                     NaN                          NaN   \n307                     NaN                          NaN   \n...                     ...                          ...   \n686852                  NaN                          NaN   \n686919                  NaN                          NaN   \n686929                  NaN                          NaN   \n686981                  NaN                          NaN   \n687090                  NaN                          NaN   \n\n        player_off_permanent  pass_backheel  goalkeeper_lost_in_play  \\\n46                       NaN            NaN                      NaN   \n84                       NaN            NaN                      NaN   \n234                      NaN            NaN                      NaN   \n268                      NaN            NaN                      NaN   \n307                      NaN            NaN                      NaN   \n...                      ...            ...                      ...   \n686852                   NaN            NaN                      NaN   \n686919                   NaN            NaN                      NaN   \n686929                   NaN            NaN                      NaN   \n686981                   NaN            NaN                      NaN   \n687090                   NaN            NaN                      NaN   \n\n        half_end_early_video_end  goalkeeper_saved_to_post  \\\n46                           NaN                       NaN   \n84                           NaN                       NaN   \n234                          NaN                       NaN   \n268                          NaN                       NaN   \n307                          NaN                       NaN   \n...                          ...                       ...   \n686852                       NaN                       NaN   \n686919                       NaN                       NaN   \n686929                       NaN                       NaN   \n686981                       NaN                       NaN   \n687090                       NaN                       NaN   \n\n        goalkeeper_penalty_saved_to_post  shot_kick_off  \n46                                   NaN            NaN  \n84                                   NaN            NaN  \n234                                  NaN            NaN  \n268                                  NaN            NaN  \n307                                  NaN            NaN  \n...                                  ...            ...  \n686852                               NaN            NaN  \n686919                               NaN            NaN  \n686929                               NaN            NaN  \n686981                               NaN            NaN  \n687090                               NaN            NaN  \n\n[12236 rows x 122 columns]",
      "text/html": "<div>\n<style scoped>\n    .dataframe tbody tr th:only-of-type {\n        vertical-align: middle;\n    }\n\n    .dataframe tbody tr th {\n        vertical-align: top;\n    }\n\n    .dataframe thead th {\n        text-align: right;\n    }\n</style>\n<table border=\"1\" class=\"dataframe\">\n  <thead>\n    <tr style=\"text-align: right;\">\n      <th></th>\n      <th>season_id</th>\n      <th>match_id</th>\n      <th>ball_receipt_outcome</th>\n      <th>ball_recovery_recovery_failure</th>\n      <th>block_deflection</th>\n      <th>carry_end_location</th>\n      <th>clearance_aerial_won</th>\n      <th>clearance_body_part</th>\n      <th>clearance_head</th>\n      <th>clearance_left_foot</th>\n      <th>...</th>\n      <th>goalkeeper_success_in_play</th>\n      <th>shot_follows_dribble</th>\n      <th>half_start_late_video_start</th>\n      <th>player_off_permanent</th>\n      <th>pass_backheel</th>\n      <th>goalkeeper_lost_in_play</th>\n      <th>half_end_early_video_end</th>\n      <th>goalkeeper_saved_to_post</th>\n      <th>goalkeeper_penalty_saved_to_post</th>\n      <th>shot_kick_off</th>\n    </tr>\n  </thead>\n  <tbody>\n    <tr>\n      <th>46</th>\n      <td>2015/2016</td>\n      <td>3890561.0</td>\n      <td>NaN</td>\n      <td>NaN</td>\n      <td>NaN</td>\n      <td>NaN</td>\n      <td>NaN</td>\n      <td>NaN</td>\n      <td>NaN</td>\n      <td>NaN</td>\n      <td>...</td>\n      <td>NaN</td>\n      <td>NaN</td>\n      <td>NaN</td>\n      <td>NaN</td>\n      <td>NaN</td>\n      <td>NaN</td>\n      <td>NaN</td>\n      <td>NaN</td>\n      <td>NaN</td>\n      <td>NaN</td>\n    </tr>\n    <tr>\n      <th>84</th>\n      <td>2015/2016</td>\n      <td>3890561.0</td>\n      <td>NaN</td>\n      <td>NaN</td>\n      <td>NaN</td>\n      <td>NaN</td>\n      <td>NaN</td>\n      <td>NaN</td>\n      <td>NaN</td>\n      <td>NaN</td>\n      <td>...</td>\n      <td>NaN</td>\n      <td>NaN</td>\n      <td>NaN</td>\n      <td>NaN</td>\n      <td>NaN</td>\n      <td>NaN</td>\n      <td>NaN</td>\n      <td>NaN</td>\n      <td>NaN</td>\n      <td>NaN</td>\n    </tr>\n    <tr>\n      <th>234</th>\n      <td>2015/2016</td>\n      <td>3890505.0</td>\n      <td>NaN</td>\n      <td>NaN</td>\n      <td>NaN</td>\n      <td>NaN</td>\n      <td>NaN</td>\n      <td>NaN</td>\n      <td>NaN</td>\n      <td>NaN</td>\n      <td>...</td>\n      <td>NaN</td>\n      <td>NaN</td>\n      <td>NaN</td>\n      <td>NaN</td>\n      <td>NaN</td>\n      <td>NaN</td>\n      <td>NaN</td>\n      <td>NaN</td>\n      <td>NaN</td>\n      <td>NaN</td>\n    </tr>\n    <tr>\n      <th>268</th>\n      <td>2015/2016</td>\n      <td>3890505.0</td>\n      <td>NaN</td>\n      <td>NaN</td>\n      <td>NaN</td>\n      <td>NaN</td>\n      <td>NaN</td>\n      <td>NaN</td>\n      <td>NaN</td>\n      <td>NaN</td>\n      <td>...</td>\n      <td>NaN</td>\n      <td>NaN</td>\n      <td>NaN</td>\n      <td>NaN</td>\n      <td>NaN</td>\n      <td>NaN</td>\n      <td>NaN</td>\n      <td>NaN</td>\n      <td>NaN</td>\n      <td>NaN</td>\n    </tr>\n    <tr>\n      <th>307</th>\n      <td>2015/2016</td>\n      <td>3890505.0</td>\n      <td>NaN</td>\n      <td>NaN</td>\n      <td>NaN</td>\n      <td>NaN</td>\n      <td>NaN</td>\n      <td>NaN</td>\n      <td>NaN</td>\n      <td>NaN</td>\n      <td>...</td>\n      <td>NaN</td>\n      <td>NaN</td>\n      <td>NaN</td>\n      <td>NaN</td>\n      <td>NaN</td>\n      <td>NaN</td>\n      <td>NaN</td>\n      <td>NaN</td>\n      <td>NaN</td>\n      <td>NaN</td>\n    </tr>\n    <tr>\n      <th>...</th>\n      <td>...</td>\n      <td>...</td>\n      <td>...</td>\n      <td>...</td>\n      <td>...</td>\n      <td>...</td>\n      <td>...</td>\n      <td>...</td>\n      <td>...</td>\n      <td>...</td>\n      <td>...</td>\n      <td>...</td>\n      <td>...</td>\n      <td>...</td>\n      <td>...</td>\n      <td>...</td>\n      <td>...</td>\n      <td>...</td>\n      <td>...</td>\n      <td>...</td>\n      <td>...</td>\n    </tr>\n    <tr>\n      <th>686852</th>\n      <td>2019</td>\n      <td>69205.0</td>\n      <td>NaN</td>\n      <td>NaN</td>\n      <td>NaN</td>\n      <td>NaN</td>\n      <td>NaN</td>\n      <td>NaN</td>\n      <td>NaN</td>\n      <td>NaN</td>\n      <td>...</td>\n      <td>NaN</td>\n      <td>NaN</td>\n      <td>NaN</td>\n      <td>NaN</td>\n      <td>NaN</td>\n      <td>NaN</td>\n      <td>NaN</td>\n      <td>NaN</td>\n      <td>NaN</td>\n      <td>NaN</td>\n    </tr>\n    <tr>\n      <th>686919</th>\n      <td>2019</td>\n      <td>69205.0</td>\n      <td>NaN</td>\n      <td>NaN</td>\n      <td>NaN</td>\n      <td>NaN</td>\n      <td>NaN</td>\n      <td>NaN</td>\n      <td>NaN</td>\n      <td>NaN</td>\n      <td>...</td>\n      <td>NaN</td>\n      <td>NaN</td>\n      <td>NaN</td>\n      <td>NaN</td>\n      <td>NaN</td>\n      <td>NaN</td>\n      <td>NaN</td>\n      <td>NaN</td>\n      <td>NaN</td>\n      <td>NaN</td>\n    </tr>\n    <tr>\n      <th>686929</th>\n      <td>2019</td>\n      <td>69205.0</td>\n      <td>NaN</td>\n      <td>NaN</td>\n      <td>NaN</td>\n      <td>NaN</td>\n      <td>NaN</td>\n      <td>NaN</td>\n      <td>NaN</td>\n      <td>NaN</td>\n      <td>...</td>\n      <td>NaN</td>\n      <td>NaN</td>\n      <td>NaN</td>\n      <td>NaN</td>\n      <td>NaN</td>\n      <td>NaN</td>\n      <td>NaN</td>\n      <td>NaN</td>\n      <td>NaN</td>\n      <td>NaN</td>\n    </tr>\n    <tr>\n      <th>686981</th>\n      <td>2019</td>\n      <td>69161.0</td>\n      <td>NaN</td>\n      <td>NaN</td>\n      <td>NaN</td>\n      <td>NaN</td>\n      <td>NaN</td>\n      <td>NaN</td>\n      <td>NaN</td>\n      <td>NaN</td>\n      <td>...</td>\n      <td>NaN</td>\n      <td>NaN</td>\n      <td>NaN</td>\n      <td>NaN</td>\n      <td>NaN</td>\n      <td>NaN</td>\n      <td>NaN</td>\n      <td>NaN</td>\n      <td>NaN</td>\n      <td>NaN</td>\n    </tr>\n    <tr>\n      <th>687090</th>\n      <td>2019</td>\n      <td>69161.0</td>\n      <td>NaN</td>\n      <td>NaN</td>\n      <td>NaN</td>\n      <td>NaN</td>\n      <td>NaN</td>\n      <td>NaN</td>\n      <td>NaN</td>\n      <td>NaN</td>\n      <td>...</td>\n      <td>NaN</td>\n      <td>NaN</td>\n      <td>NaN</td>\n      <td>NaN</td>\n      <td>NaN</td>\n      <td>NaN</td>\n      <td>NaN</td>\n      <td>NaN</td>\n      <td>NaN</td>\n      <td>NaN</td>\n    </tr>\n  </tbody>\n</table>\n<p>12236 rows × 122 columns</p>\n</div>"
     },
     "execution_count": 13,
     "metadata": {},
     "output_type": "execute_result"
    }
   ],
   "source": [
    "key_passes"
   ],
   "metadata": {
    "collapsed": false,
    "pycharm": {
     "name": "#%%\n"
    }
   }
  },
  {
   "cell_type": "code",
   "execution_count": 14,
   "outputs": [
    {
     "data": {
      "text/plain": "        duration  pass_angle  pass_type  pass_height  pass_length  \\\n46      1.707827   -1.850475     Corner    High Pass    39.848340   \n84      1.635672    1.716809     Corner    High Pass    37.802250   \n234     1.320689    1.778707     Corner    High Pass    37.303352   \n268     1.350540   -1.871810     Corner     Low Pass    35.077200   \n307     1.571437   -1.551568   Recovery    High Pass    10.401923   \n...          ...         ...        ...          ...          ...   \n686852  2.271377   -1.125219   Recovery  Ground Pass    22.274874   \n686919  1.689300    0.895606  Free Kick    High Pass    34.717430   \n686929  1.788300   -1.394087  Free Kick    High Pass    42.664387   \n686981  1.010200    1.630133     Corner    High Pass    30.353418   \n687090  1.260800    1.536767   Throw-in     Low Pass    23.513613   \n\n                       pass_assisted_shot_id  \n46      fd99f442-49ae-4724-87e8-2512e4a5d9c6  \n84      4aaf9747-c33d-4f76-bb0f-d25ad1ebe7c6  \n234     749a19ff-d599-4170-a095-79b9865e2b06  \n268     37cdb09d-6504-48cb-a6cc-217790d53b4b  \n307     cffe1d92-0692-47ad-a71b-208c8a52dcc0  \n...                                      ...  \n686852  2c92a25a-2014-4080-b8fd-b69d72092898  \n686919  828295e4-feac-43c4-8b4a-47617f6d2408  \n686929  58997323-8e35-474d-815c-7926e1e143ba  \n686981  4201f68c-764d-45bd-bcfb-96470a72c2e8  \n687090  5582290f-1739-43d7-8d2b-37bcca19b844  \n\n[12236 rows x 6 columns]",
      "text/html": "<div>\n<style scoped>\n    .dataframe tbody tr th:only-of-type {\n        vertical-align: middle;\n    }\n\n    .dataframe tbody tr th {\n        vertical-align: top;\n    }\n\n    .dataframe thead th {\n        text-align: right;\n    }\n</style>\n<table border=\"1\" class=\"dataframe\">\n  <thead>\n    <tr style=\"text-align: right;\">\n      <th></th>\n      <th>duration</th>\n      <th>pass_angle</th>\n      <th>pass_type</th>\n      <th>pass_height</th>\n      <th>pass_length</th>\n      <th>pass_assisted_shot_id</th>\n    </tr>\n  </thead>\n  <tbody>\n    <tr>\n      <th>46</th>\n      <td>1.707827</td>\n      <td>-1.850475</td>\n      <td>Corner</td>\n      <td>High Pass</td>\n      <td>39.848340</td>\n      <td>fd99f442-49ae-4724-87e8-2512e4a5d9c6</td>\n    </tr>\n    <tr>\n      <th>84</th>\n      <td>1.635672</td>\n      <td>1.716809</td>\n      <td>Corner</td>\n      <td>High Pass</td>\n      <td>37.802250</td>\n      <td>4aaf9747-c33d-4f76-bb0f-d25ad1ebe7c6</td>\n    </tr>\n    <tr>\n      <th>234</th>\n      <td>1.320689</td>\n      <td>1.778707</td>\n      <td>Corner</td>\n      <td>High Pass</td>\n      <td>37.303352</td>\n      <td>749a19ff-d599-4170-a095-79b9865e2b06</td>\n    </tr>\n    <tr>\n      <th>268</th>\n      <td>1.350540</td>\n      <td>-1.871810</td>\n      <td>Corner</td>\n      <td>Low Pass</td>\n      <td>35.077200</td>\n      <td>37cdb09d-6504-48cb-a6cc-217790d53b4b</td>\n    </tr>\n    <tr>\n      <th>307</th>\n      <td>1.571437</td>\n      <td>-1.551568</td>\n      <td>Recovery</td>\n      <td>High Pass</td>\n      <td>10.401923</td>\n      <td>cffe1d92-0692-47ad-a71b-208c8a52dcc0</td>\n    </tr>\n    <tr>\n      <th>...</th>\n      <td>...</td>\n      <td>...</td>\n      <td>...</td>\n      <td>...</td>\n      <td>...</td>\n      <td>...</td>\n    </tr>\n    <tr>\n      <th>686852</th>\n      <td>2.271377</td>\n      <td>-1.125219</td>\n      <td>Recovery</td>\n      <td>Ground Pass</td>\n      <td>22.274874</td>\n      <td>2c92a25a-2014-4080-b8fd-b69d72092898</td>\n    </tr>\n    <tr>\n      <th>686919</th>\n      <td>1.689300</td>\n      <td>0.895606</td>\n      <td>Free Kick</td>\n      <td>High Pass</td>\n      <td>34.717430</td>\n      <td>828295e4-feac-43c4-8b4a-47617f6d2408</td>\n    </tr>\n    <tr>\n      <th>686929</th>\n      <td>1.788300</td>\n      <td>-1.394087</td>\n      <td>Free Kick</td>\n      <td>High Pass</td>\n      <td>42.664387</td>\n      <td>58997323-8e35-474d-815c-7926e1e143ba</td>\n    </tr>\n    <tr>\n      <th>686981</th>\n      <td>1.010200</td>\n      <td>1.630133</td>\n      <td>Corner</td>\n      <td>High Pass</td>\n      <td>30.353418</td>\n      <td>4201f68c-764d-45bd-bcfb-96470a72c2e8</td>\n    </tr>\n    <tr>\n      <th>687090</th>\n      <td>1.260800</td>\n      <td>1.536767</td>\n      <td>Throw-in</td>\n      <td>Low Pass</td>\n      <td>23.513613</td>\n      <td>5582290f-1739-43d7-8d2b-37bcca19b844</td>\n    </tr>\n  </tbody>\n</table>\n<p>12236 rows × 6 columns</p>\n</div>"
     },
     "execution_count": 14,
     "metadata": {},
     "output_type": "execute_result"
    }
   ],
   "source": [
    "key_passes[[\"duration\", \"pass_angle\", \"pass_type\", \"pass_height\", \"pass_length\", \"pass_assisted_shot_id\"]]"
   ],
   "metadata": {
    "collapsed": false,
    "pycharm": {
     "name": "#%%\n"
    }
   }
  },
  {
   "cell_type": "code",
   "execution_count": 15,
   "outputs": [],
   "source": [
    "key_passes[\"pass_duration\"] = key_passes[\"duration\"]\n",
    "all_shots = all_shots.drop([\"pass_angle\", \"pass_type\", \"pass_height\", \"pass_length\", \"pass_assisted_shot_id\"], axis=1)\n",
    "\n",
    "all_shots = pd.merge(all_shots, key_passes[[\"pass_duration\", \"pass_angle\", \"pass_type\", \"pass_height\", \"pass_length\", \"pass_assisted_shot_id\"]], how='left', left_on='id', right_on='pass_assisted_shot_id', suffixes=(\"\", \"\"))\n",
    "all_shots = all_shots.drop(\"pass_assisted_shot_id\", axis=1)"
   ],
   "metadata": {
    "collapsed": false,
    "pycharm": {
     "name": "#%%\n"
    }
   }
  },
  {
   "cell_type": "code",
   "execution_count": 16,
   "outputs": [],
   "source": [
    "possession_passes = all_passes.groupby([\"match_id\", \"possession\"]).agg({\n",
    "    'match_id': 'first',\n",
    "    'possession': 'first',\n",
    "    'duration': 'count'\n",
    "}).reset_index(drop=True)\n",
    "possession_passes[\"num_passes\"] = possession_passes[\"duration\"]\n",
    "possession_passes = possession_passes.drop(\"duration\", axis=1)\n",
    "\n",
    "all_shots = pd.merge(all_shots, possession_passes, how='left', on=[\"match_id\", \"possession\"])"
   ],
   "metadata": {
    "collapsed": false,
    "pycharm": {
     "name": "#%%\n"
    }
   }
  },
  {
   "cell_type": "code",
   "execution_count": 17,
   "outputs": [
    {
     "data": {
      "text/plain": "       season_id   match_id  ball_receipt_outcome  \\\n0      2015/2016  3890561.0                   NaN   \n1      2015/2016  3890561.0                   NaN   \n2      2015/2016  3890561.0                   NaN   \n3      2015/2016  3890561.0                   NaN   \n4      2015/2016  3890561.0                   NaN   \n...          ...        ...                   ...   \n84060       2019    69161.0                   NaN   \n84061       2019    69161.0                   NaN   \n84062       2019    69161.0                   NaN   \n84063       2019    69161.0                   NaN   \n84064       2019    69161.0                   NaN   \n\n       ball_recovery_recovery_failure  block_deflection  carry_end_location  \\\n0                                 NaN               NaN                 NaN   \n1                                 NaN               NaN                 NaN   \n2                                 NaN               NaN                 NaN   \n3                                 NaN               NaN                 NaN   \n4                                 NaN               NaN                 NaN   \n...                               ...               ...                 ...   \n84060                             NaN               NaN                 NaN   \n84061                             NaN               NaN                 NaN   \n84062                             NaN               NaN                 NaN   \n84063                             NaN               NaN                 NaN   \n84064                             NaN               NaN                 NaN   \n\n       clearance_aerial_won  clearance_body_part  clearance_head  \\\n0                       NaN                  NaN             NaN   \n1                       NaN                  NaN             NaN   \n2                       NaN                  NaN             NaN   \n3                       NaN                  NaN             NaN   \n4                       NaN                  NaN             NaN   \n...                     ...                  ...             ...   \n84060                   NaN                  NaN             NaN   \n84061                   NaN                  NaN             NaN   \n84062                   NaN                  NaN             NaN   \n84063                   NaN                  NaN             NaN   \n84064                   NaN                  NaN             NaN   \n\n       clearance_left_foot  ...  half_end_early_video_end  \\\n0                      NaN  ...                       NaN   \n1                      NaN  ...                       NaN   \n2                      NaN  ...                       NaN   \n3                      NaN  ...                       NaN   \n4                      NaN  ...                       NaN   \n...                    ...  ...                       ...   \n84060                  NaN  ...                       NaN   \n84061                  NaN  ...                       NaN   \n84062                  NaN  ...                       NaN   \n84063                  NaN  ...                       NaN   \n84064                  NaN  ...                       NaN   \n\n       goalkeeper_saved_to_post  goalkeeper_penalty_saved_to_post  \\\n0                           NaN                               NaN   \n1                           NaN                               NaN   \n2                           NaN                               NaN   \n3                           NaN                               NaN   \n4                           NaN                               NaN   \n...                         ...                               ...   \n84060                       NaN                               NaN   \n84061                       NaN                               NaN   \n84062                       NaN                               NaN   \n84063                       NaN                               NaN   \n84064                       NaN                               NaN   \n\n       shot_kick_off  pass_duration  pass_angle  pass_type  pass_height  \\\n0                NaN            NaN         NaN        NaN          NaN   \n1                NaN            NaN         NaN        NaN          NaN   \n2                NaN            NaN         NaN        NaN          NaN   \n3                NaN            NaN         NaN        NaN          NaN   \n4                NaN            NaN         NaN        NaN          NaN   \n...              ...            ...         ...        ...          ...   \n84060            NaN            NaN         NaN        NaN          NaN   \n84061            NaN         1.2608    1.536767   Throw-in     Low Pass   \n84062            NaN            NaN         NaN        NaN          NaN   \n84063            NaN            NaN         NaN        NaN          NaN   \n84064            NaN            NaN         NaN        NaN          NaN   \n\n       pass_length  num_passes  \n0              NaN         1.0  \n1              NaN         1.0  \n2              NaN         1.0  \n3              NaN         NaN  \n4              NaN         2.0  \n...            ...         ...  \n84060          NaN         1.0  \n84061    23.513613         1.0  \n84062          NaN         1.0  \n84063          NaN         NaN  \n84064          NaN         1.0  \n\n[84065 rows x 123 columns]",
      "text/html": "<div>\n<style scoped>\n    .dataframe tbody tr th:only-of-type {\n        vertical-align: middle;\n    }\n\n    .dataframe tbody tr th {\n        vertical-align: top;\n    }\n\n    .dataframe thead th {\n        text-align: right;\n    }\n</style>\n<table border=\"1\" class=\"dataframe\">\n  <thead>\n    <tr style=\"text-align: right;\">\n      <th></th>\n      <th>season_id</th>\n      <th>match_id</th>\n      <th>ball_receipt_outcome</th>\n      <th>ball_recovery_recovery_failure</th>\n      <th>block_deflection</th>\n      <th>carry_end_location</th>\n      <th>clearance_aerial_won</th>\n      <th>clearance_body_part</th>\n      <th>clearance_head</th>\n      <th>clearance_left_foot</th>\n      <th>...</th>\n      <th>half_end_early_video_end</th>\n      <th>goalkeeper_saved_to_post</th>\n      <th>goalkeeper_penalty_saved_to_post</th>\n      <th>shot_kick_off</th>\n      <th>pass_duration</th>\n      <th>pass_angle</th>\n      <th>pass_type</th>\n      <th>pass_height</th>\n      <th>pass_length</th>\n      <th>num_passes</th>\n    </tr>\n  </thead>\n  <tbody>\n    <tr>\n      <th>0</th>\n      <td>2015/2016</td>\n      <td>3890561.0</td>\n      <td>NaN</td>\n      <td>NaN</td>\n      <td>NaN</td>\n      <td>NaN</td>\n      <td>NaN</td>\n      <td>NaN</td>\n      <td>NaN</td>\n      <td>NaN</td>\n      <td>...</td>\n      <td>NaN</td>\n      <td>NaN</td>\n      <td>NaN</td>\n      <td>NaN</td>\n      <td>NaN</td>\n      <td>NaN</td>\n      <td>NaN</td>\n      <td>NaN</td>\n      <td>NaN</td>\n      <td>1.0</td>\n    </tr>\n    <tr>\n      <th>1</th>\n      <td>2015/2016</td>\n      <td>3890561.0</td>\n      <td>NaN</td>\n      <td>NaN</td>\n      <td>NaN</td>\n      <td>NaN</td>\n      <td>NaN</td>\n      <td>NaN</td>\n      <td>NaN</td>\n      <td>NaN</td>\n      <td>...</td>\n      <td>NaN</td>\n      <td>NaN</td>\n      <td>NaN</td>\n      <td>NaN</td>\n      <td>NaN</td>\n      <td>NaN</td>\n      <td>NaN</td>\n      <td>NaN</td>\n      <td>NaN</td>\n      <td>1.0</td>\n    </tr>\n    <tr>\n      <th>2</th>\n      <td>2015/2016</td>\n      <td>3890561.0</td>\n      <td>NaN</td>\n      <td>NaN</td>\n      <td>NaN</td>\n      <td>NaN</td>\n      <td>NaN</td>\n      <td>NaN</td>\n      <td>NaN</td>\n      <td>NaN</td>\n      <td>...</td>\n      <td>NaN</td>\n      <td>NaN</td>\n      <td>NaN</td>\n      <td>NaN</td>\n      <td>NaN</td>\n      <td>NaN</td>\n      <td>NaN</td>\n      <td>NaN</td>\n      <td>NaN</td>\n      <td>1.0</td>\n    </tr>\n    <tr>\n      <th>3</th>\n      <td>2015/2016</td>\n      <td>3890561.0</td>\n      <td>NaN</td>\n      <td>NaN</td>\n      <td>NaN</td>\n      <td>NaN</td>\n      <td>NaN</td>\n      <td>NaN</td>\n      <td>NaN</td>\n      <td>NaN</td>\n      <td>...</td>\n      <td>NaN</td>\n      <td>NaN</td>\n      <td>NaN</td>\n      <td>NaN</td>\n      <td>NaN</td>\n      <td>NaN</td>\n      <td>NaN</td>\n      <td>NaN</td>\n      <td>NaN</td>\n      <td>NaN</td>\n    </tr>\n    <tr>\n      <th>4</th>\n      <td>2015/2016</td>\n      <td>3890561.0</td>\n      <td>NaN</td>\n      <td>NaN</td>\n      <td>NaN</td>\n      <td>NaN</td>\n      <td>NaN</td>\n      <td>NaN</td>\n      <td>NaN</td>\n      <td>NaN</td>\n      <td>...</td>\n      <td>NaN</td>\n      <td>NaN</td>\n      <td>NaN</td>\n      <td>NaN</td>\n      <td>NaN</td>\n      <td>NaN</td>\n      <td>NaN</td>\n      <td>NaN</td>\n      <td>NaN</td>\n      <td>2.0</td>\n    </tr>\n    <tr>\n      <th>...</th>\n      <td>...</td>\n      <td>...</td>\n      <td>...</td>\n      <td>...</td>\n      <td>...</td>\n      <td>...</td>\n      <td>...</td>\n      <td>...</td>\n      <td>...</td>\n      <td>...</td>\n      <td>...</td>\n      <td>...</td>\n      <td>...</td>\n      <td>...</td>\n      <td>...</td>\n      <td>...</td>\n      <td>...</td>\n      <td>...</td>\n      <td>...</td>\n      <td>...</td>\n      <td>...</td>\n    </tr>\n    <tr>\n      <th>84060</th>\n      <td>2019</td>\n      <td>69161.0</td>\n      <td>NaN</td>\n      <td>NaN</td>\n      <td>NaN</td>\n      <td>NaN</td>\n      <td>NaN</td>\n      <td>NaN</td>\n      <td>NaN</td>\n      <td>NaN</td>\n      <td>...</td>\n      <td>NaN</td>\n      <td>NaN</td>\n      <td>NaN</td>\n      <td>NaN</td>\n      <td>NaN</td>\n      <td>NaN</td>\n      <td>NaN</td>\n      <td>NaN</td>\n      <td>NaN</td>\n      <td>1.0</td>\n    </tr>\n    <tr>\n      <th>84061</th>\n      <td>2019</td>\n      <td>69161.0</td>\n      <td>NaN</td>\n      <td>NaN</td>\n      <td>NaN</td>\n      <td>NaN</td>\n      <td>NaN</td>\n      <td>NaN</td>\n      <td>NaN</td>\n      <td>NaN</td>\n      <td>...</td>\n      <td>NaN</td>\n      <td>NaN</td>\n      <td>NaN</td>\n      <td>NaN</td>\n      <td>1.2608</td>\n      <td>1.536767</td>\n      <td>Throw-in</td>\n      <td>Low Pass</td>\n      <td>23.513613</td>\n      <td>1.0</td>\n    </tr>\n    <tr>\n      <th>84062</th>\n      <td>2019</td>\n      <td>69161.0</td>\n      <td>NaN</td>\n      <td>NaN</td>\n      <td>NaN</td>\n      <td>NaN</td>\n      <td>NaN</td>\n      <td>NaN</td>\n      <td>NaN</td>\n      <td>NaN</td>\n      <td>...</td>\n      <td>NaN</td>\n      <td>NaN</td>\n      <td>NaN</td>\n      <td>NaN</td>\n      <td>NaN</td>\n      <td>NaN</td>\n      <td>NaN</td>\n      <td>NaN</td>\n      <td>NaN</td>\n      <td>1.0</td>\n    </tr>\n    <tr>\n      <th>84063</th>\n      <td>2019</td>\n      <td>69161.0</td>\n      <td>NaN</td>\n      <td>NaN</td>\n      <td>NaN</td>\n      <td>NaN</td>\n      <td>NaN</td>\n      <td>NaN</td>\n      <td>NaN</td>\n      <td>NaN</td>\n      <td>...</td>\n      <td>NaN</td>\n      <td>NaN</td>\n      <td>NaN</td>\n      <td>NaN</td>\n      <td>NaN</td>\n      <td>NaN</td>\n      <td>NaN</td>\n      <td>NaN</td>\n      <td>NaN</td>\n      <td>NaN</td>\n    </tr>\n    <tr>\n      <th>84064</th>\n      <td>2019</td>\n      <td>69161.0</td>\n      <td>NaN</td>\n      <td>NaN</td>\n      <td>NaN</td>\n      <td>NaN</td>\n      <td>NaN</td>\n      <td>NaN</td>\n      <td>NaN</td>\n      <td>NaN</td>\n      <td>...</td>\n      <td>NaN</td>\n      <td>NaN</td>\n      <td>NaN</td>\n      <td>NaN</td>\n      <td>NaN</td>\n      <td>NaN</td>\n      <td>NaN</td>\n      <td>NaN</td>\n      <td>NaN</td>\n      <td>1.0</td>\n    </tr>\n  </tbody>\n</table>\n<p>84065 rows × 123 columns</p>\n</div>"
     },
     "execution_count": 17,
     "metadata": {},
     "output_type": "execute_result"
    }
   ],
   "source": [
    "all_shots"
   ],
   "metadata": {
    "collapsed": false,
    "pycharm": {
     "name": "#%%\n"
    }
   }
  },
  {
   "cell_type": "code",
   "execution_count": 18,
   "outputs": [],
   "source": [
    "# extract relevant attributes from the all_shots dataframe\n",
    "data = pd.DataFrame()\n",
    "\n",
    "# time attributes\n",
    "data[\"period\"] = all_shots[\"period\"]\n",
    "data[\"minute\"] = all_shots[\"minute\"]\n",
    "data[\"possession\"] = all_shots[\"possession\"]\n",
    "data[\"duration\"] = all_shots[\"duration\"]"
   ],
   "metadata": {
    "collapsed": false,
    "pycharm": {
     "name": "#%%\n"
    }
   }
  },
  {
   "cell_type": "code",
   "execution_count": 19,
   "outputs": [],
   "source": [
    "# qualitative attributes\n",
    "data[\"play_pattern\"] = all_shots[\"play_pattern\"]\n",
    "data[\"position\"] = all_shots[\"position\"]"
   ],
   "metadata": {
    "collapsed": false,
    "pycharm": {
     "name": "#%%\n"
    }
   }
  },
  {
   "cell_type": "code",
   "execution_count": 21,
   "outputs": [],
   "source": [
    "# shot attributes\n",
    "data[\"location_x\"] = all_shots[\"location\"].apply(lambda x: ast.literal_eval(x)[0])\n",
    "data[\"location_x_distance\"] = 120 - data[\"location_x\"]\n",
    "data[\"location_y\"] = all_shots[\"location\"].apply(lambda x: ast.literal_eval(x)[1])\n",
    "data[\"location_y_distance\"] = abs(data[\"location_y\"] - 40)\n",
    "data[\"duration\"] = all_shots[\"duration\"].apply(lambda x: x if x < 100 else 0)\n",
    "data[\"technique\"] = all_shots[\"shot_technique\"]\n",
    "data[\"body_part\"] = all_shots[\"shot_body_part\"]\n",
    "data[\"type\"] = all_shots[\"shot_type\"]\n",
    "data[\"is_penalty\"] = all_shots[\"shot_type\"] == \"Penalty\""
   ],
   "metadata": {
    "collapsed": false,
    "pycharm": {
     "name": "#%%\n"
    }
   }
  },
  {
   "cell_type": "code",
   "execution_count": 22,
   "outputs": [],
   "source": [
    "# shot modifiers\n",
    "data[\"first_time\"] = all_shots[\"shot_first_time\"].fillna(False)\n",
    "data[\"open_goal\"] = all_shots[\"shot_open_goal\"].fillna(False)\n",
    "data[\"one_on_one\"] = all_shots[\"shot_one_on_one\"].fillna(False)\n",
    "data[\"aerial_won\"] = all_shots[\"shot_aerial_won\"].fillna(False)\n",
    "data[\"follows_dribble\"] = all_shots[\"shot_follows_dribble\"].fillna(False)\n",
    "data[\"under_pressure\"] = all_shots[\"under_pressure\"].fillna(False)"
   ],
   "metadata": {
    "collapsed": false,
    "pycharm": {
     "name": "#%%\n"
    }
   }
  },
  {
   "cell_type": "code",
   "execution_count": 23,
   "outputs": [],
   "source": [
    "# preceding pass attributes\n",
    "data[\"pass_duration\"] = all_shots[\"pass_duration\"].fillna(all_shots[\"pass_duration\"].mean())\n",
    "data[\"pass_angle\"] = all_shots[\"pass_angle\"].fillna(all_shots[\"pass_angle\"].mean())\n",
    "data[\"pass_type\"] = all_shots[\"pass_type\"].fillna(\"Missing\")\n",
    "data[\"pass_height\"] = all_shots[\"pass_height\"].fillna(\"Missing\")\n",
    "data[\"pass_length\"] = all_shots[\"pass_length\"].fillna(all_shots[\"pass_length\"].mean())\n",
    "data[\"num_passes\"] = all_shots[\"num_passes\"].fillna(0)"
   ],
   "metadata": {
    "collapsed": false,
    "pycharm": {
     "name": "#%%\n"
    }
   }
  },
  {
   "cell_type": "code",
   "execution_count": 24,
   "outputs": [
    {
     "data": {
      "text/plain": "                                               opponents           shot  \\\n0      [[[115.7, 50.0], Left Back], [[113.2, 39.3], R...  (108.1, 31.2)   \n1      [[[98.4, 33.1], Right Defensive Midfield], [[9...  (110.9, 42.6)   \n2      [[[118.6, 39.2], Goalkeeper], [[100.4, 44.0], ...  (117.9, 29.1)   \n3      [[[93.1, 35.3], Right Wing Back], [[85.8, 34.9...  (101.8, 27.6)   \n4      [[[111.2, 32.8], Center Back], [[108.2, 33.2],...  (109.3, 26.5)   \n...                                                  ...            ...   \n84060  [[[119.1, 38.6], Goalkeeper], [[107.3, 47.0], ...   (96.3, 36.2)   \n84061  [[[104.9, 30.6], Right Center Back], [[99.6, 2...   (98.5, 24.3)   \n84062  [[[79.2, 21.1], Right Center Midfield], [[104....  (102.9, 54.6)   \n84063                                           [[[], ]]  (108.0, 40.0)   \n84064  [[[95.9, 46.3], Right Center Midfield], [[108....  (109.9, 18.3)   \n\n          goalkeeper  \n0      [119.0, 38.7]  \n1      [116.0, 42.0]  \n2      [118.6, 39.2]  \n3       [97.0, 26.8]  \n4      [118.3, 36.5]  \n...              ...  \n84060  [119.1, 38.6]  \n84061  [119.1, 38.2]  \n84062  [119.0, 42.5]  \n84063       [-1, -1]  \n84064  [118.6, 36.4]  \n\n[84065 rows x 3 columns]",
      "text/html": "<div>\n<style scoped>\n    .dataframe tbody tr th:only-of-type {\n        vertical-align: middle;\n    }\n\n    .dataframe tbody tr th {\n        vertical-align: top;\n    }\n\n    .dataframe thead th {\n        text-align: right;\n    }\n</style>\n<table border=\"1\" class=\"dataframe\">\n  <thead>\n    <tr style=\"text-align: right;\">\n      <th></th>\n      <th>opponents</th>\n      <th>shot</th>\n      <th>goalkeeper</th>\n    </tr>\n  </thead>\n  <tbody>\n    <tr>\n      <th>0</th>\n      <td>[[[115.7, 50.0], Left Back], [[113.2, 39.3], R...</td>\n      <td>(108.1, 31.2)</td>\n      <td>[119.0, 38.7]</td>\n    </tr>\n    <tr>\n      <th>1</th>\n      <td>[[[98.4, 33.1], Right Defensive Midfield], [[9...</td>\n      <td>(110.9, 42.6)</td>\n      <td>[116.0, 42.0]</td>\n    </tr>\n    <tr>\n      <th>2</th>\n      <td>[[[118.6, 39.2], Goalkeeper], [[100.4, 44.0], ...</td>\n      <td>(117.9, 29.1)</td>\n      <td>[118.6, 39.2]</td>\n    </tr>\n    <tr>\n      <th>3</th>\n      <td>[[[93.1, 35.3], Right Wing Back], [[85.8, 34.9...</td>\n      <td>(101.8, 27.6)</td>\n      <td>[97.0, 26.8]</td>\n    </tr>\n    <tr>\n      <th>4</th>\n      <td>[[[111.2, 32.8], Center Back], [[108.2, 33.2],...</td>\n      <td>(109.3, 26.5)</td>\n      <td>[118.3, 36.5]</td>\n    </tr>\n    <tr>\n      <th>...</th>\n      <td>...</td>\n      <td>...</td>\n      <td>...</td>\n    </tr>\n    <tr>\n      <th>84060</th>\n      <td>[[[119.1, 38.6], Goalkeeper], [[107.3, 47.0], ...</td>\n      <td>(96.3, 36.2)</td>\n      <td>[119.1, 38.6]</td>\n    </tr>\n    <tr>\n      <th>84061</th>\n      <td>[[[104.9, 30.6], Right Center Back], [[99.6, 2...</td>\n      <td>(98.5, 24.3)</td>\n      <td>[119.1, 38.2]</td>\n    </tr>\n    <tr>\n      <th>84062</th>\n      <td>[[[79.2, 21.1], Right Center Midfield], [[104....</td>\n      <td>(102.9, 54.6)</td>\n      <td>[119.0, 42.5]</td>\n    </tr>\n    <tr>\n      <th>84063</th>\n      <td>[[[], ]]</td>\n      <td>(108.0, 40.0)</td>\n      <td>[-1, -1]</td>\n    </tr>\n    <tr>\n      <th>84064</th>\n      <td>[[[95.9, 46.3], Right Center Midfield], [[108....</td>\n      <td>(109.9, 18.3)</td>\n      <td>[118.6, 36.4]</td>\n    </tr>\n  </tbody>\n</table>\n<p>84065 rows × 3 columns</p>\n</div>"
     },
     "execution_count": 24,
     "metadata": {},
     "output_type": "execute_result"
    }
   ],
   "source": [
    "# defensive/goalkeeper attributes\n",
    "locations = pd.DataFrame()\n",
    "locations[\"opponents\"] = all_shots[\"shot_freeze_frame\"].fillna('[{\"location\": [], \"position\": {\"name\": \"\"}, \"teammate\": False}]').apply(lambda frame: [[player[\"location\"], player[\"position\"][\"name\"]] for player in ast.literal_eval(frame) if not player[\"teammate\"]])\n",
    "locations[\"shot\"] = tuple(zip(data[\"location_x\"], data[\"location_y\"]))\n",
    "locations[\"goalkeeper\"] = locations[\"opponents\"].apply(lambda frame: [player[0] for player in frame if player[1] == \"Goalkeeper\"]).apply(lambda x: x[0] if len(x) != 0 else [-1, -1])\n",
    "locations"
   ],
   "metadata": {
    "collapsed": false,
    "pycharm": {
     "name": "#%%\n"
    }
   }
  },
  {
   "cell_type": "code",
   "execution_count": 25,
   "outputs": [],
   "source": [
    "def point_in_triangle(point, a, b, c):\n",
    "    as_x = point[0] - a[0]\n",
    "    as_y = point[1] - a[1]\n",
    "    s_ab = ((b[0] - a[0]) * as_y) - ((b[1] - a[1]) * as_x) > 0\n",
    "\n",
    "    if (((c[0] - a[0]) * as_y) - ((c[1] - a[1]) * as_x) > 0) == s_ab \\\n",
    "            or (((c[0] - b[0]) * (point[1] - b[1])) - ((c[1] - b[1]) * (point[0] - b[0])) > 0) != s_ab:\n",
    "        return False\n",
    "    else:\n",
    "        return True"
   ],
   "metadata": {
    "collapsed": false,
    "pycharm": {
     "name": "#%%\n"
    }
   }
  },
  {
   "cell_type": "code",
   "execution_count": 26,
   "outputs": [],
   "source": [
    "data[\"defenders_3m_radius\"] = locations.apply(lambda shot: (len([defender for defender in shot[\"opponents\"] if ((defender[0][0]-shot[\"shot\"][0])**2 + (defender[0][1]-shot[\"shot\"][1])**2) < 3**2])) if shot[\"opponents\"] != [[[], '']] else -1, axis=1)\n",
    "data[\"defenders_triangle\"] = locations.apply(lambda shot: (len([defender for defender in shot[\"opponents\"] if point_in_triangle(defender[0], shot[\"shot\"], [120, 36], [120, 44])])) if shot[\"opponents\"] != [[[], '']] else -1, axis=1)\n",
    "\n",
    "data[\"goalkeeper_x\"] = locations[\"goalkeeper\"].apply(lambda x: x[0])\n",
    "data[\"goalkeeper_y\"] = locations[\"goalkeeper\"].apply(lambda x: x[1])\n",
    "data[\"distance_to_goalie\"] = data.apply(lambda x: math.sqrt((x[\"goalkeeper_x\"] - x[\"location_x\"])**2 + (x[\"goalkeeper_y\"] - x[\"location_y\"])**2), axis=1)"
   ],
   "metadata": {
    "collapsed": false,
    "pycharm": {
     "name": "#%%\n"
    }
   }
  },
  {
   "cell_type": "code",
   "execution_count": 27,
   "outputs": [],
   "source": [
    "# target variables\n",
    "data[\"statsbomb_xg\"] = all_shots[\"shot_statsbomb_xg\"].apply(lambda x: float(x))\n",
    "data[\"end_location_x\"] = all_shots[\"shot_end_location\"].apply(lambda x: ast.literal_eval(x)[0])\n",
    "data[\"end_location_y\"] = all_shots[\"shot_end_location\"].apply(lambda x: ast.literal_eval(x)[1])\n",
    "data[\"is_goal\"] = all_shots[\"shot_outcome\"].apply(lambda x: True if x == \"Goal\" else False)"
   ],
   "metadata": {
    "collapsed": false,
    "pycharm": {
     "name": "#%%\n"
    }
   }
  },
  {
   "cell_type": "code",
   "execution_count": 28,
   "outputs": [],
   "source": [
    "data[\"shot_angle\"] =  data.apply(lambda x: math.atan2((x[\"end_location_y\"] - x[\"location_y\"]), (x[\"end_location_x\"] - x[\"location_x\"])), axis=1)\n",
    "data[\"good_foot\"] = data.apply(lambda shot: True if ((shot[\"body_part\"] == \"Right Foot\" and shot[\"location_y\"] < 42) or (shot[\"body_part\"] == \"Left Foot\" and shot[\"location_y\"] > 42)) else False, axis=1)"
   ],
   "metadata": {
    "collapsed": false,
    "pycharm": {
     "name": "#%%\n"
    }
   }
  },
  {
   "cell_type": "code",
   "execution_count": 29,
   "outputs": [
    {
     "data": {
      "text/plain": "       period  minute  possession  duration    play_pattern  \\\n0         1.0     4.0         7.0  0.597523    Regular Play   \n1         1.0     6.0        11.0  0.636048   From Throw In   \n2         1.0     8.0        15.0  0.125672   From Throw In   \n3         1.0    13.0        27.0  1.303079    From Counter   \n4         1.0    17.0        33.0  0.666134    Regular Play   \n...       ...     ...         ...       ...             ...   \n84060     2.0    59.0       118.0  1.029600  From Free Kick   \n84061     2.0    64.0       126.0  1.129000   From Throw In   \n84062     2.0    64.0       128.0  1.209200   From Throw In   \n84063     2.0    75.0       138.0  0.458900           Other   \n84064     2.0    78.0       143.0  1.418400   From Throw In   \n\n                      position  location_x  location_x_distance  location_y  \\\n0               Left Wing Back       108.1                 11.9        31.2   \n1               Center Forward       110.9                  9.1        42.6   \n2      Left Attacking Midfield       117.9                  2.1        29.1   \n3                Left Midfield       101.8                 18.2        27.6   \n4               Center Forward       109.3                 10.7        26.5   \n...                        ...         ...                  ...         ...   \n84060    Right Center Midfield        96.3                 23.7        36.2   \n84061     Left Center Midfield        98.5                 21.5        24.3   \n84062           Right Midfield       102.9                 17.1        54.6   \n84063                Left Wing       108.0                 12.0        40.0   \n84064                Left Wing       109.9                 10.1        18.3   \n\n       location_y_distance  ... defenders_triangle goalkeeper_x goalkeeper_y  \\\n0                      8.8  ...                  3        119.0         38.7   \n1                      2.6  ...                  1        116.0         42.0   \n2                     10.9  ...                  1        118.6         39.2   \n3                     12.4  ...                  0         97.0         26.8   \n4                     13.5  ...                  1        118.3         36.5   \n...                    ...  ...                ...          ...          ...   \n84060                  3.8  ...                  3        119.1         38.6   \n84061                 15.7  ...                  1        119.1         38.2   \n84062                 14.6  ...                  1        119.0         42.5   \n84063                  0.0  ...                 -1         -1.0         -1.0   \n84064                 21.7  ...                  1        118.6         36.4   \n\n       distance_to_goalie  statsbomb_xg  end_location_x  end_location_y  \\\n0               13.231024      0.087901           120.0            35.2   \n1                5.135173      0.160274           120.0            39.3   \n2               10.124228      0.016036           118.1            30.2   \n3                4.866210      0.527759           120.0            39.0   \n4               13.453624      0.074020           118.8            36.0   \n...                   ...           ...             ...             ...   \n84060           22.925968      0.038350           120.0            39.1   \n84061           24.850956      0.025679           120.0            47.1   \n84062           20.140010      0.037896           120.0            45.1   \n84063          116.456000      0.783500           120.0            36.3   \n84064           20.082331      0.006940           120.0            50.0   \n\n       is_goal  shot_angle  good_foot  \n0        False    0.324269      False  \n1         True   -0.347888      False  \n2        False    1.390943      False  \n3         True    0.559586      False  \n4        False    0.785398       True  \n...        ...         ...        ...  \n84060    False    0.121758      False  \n84061    False    0.814735       True  \n84062    False   -0.507099      False  \n84063     True   -0.299084       True  \n84064    False    1.262353       True  \n\n[84065 rows x 37 columns]",
      "text/html": "<div>\n<style scoped>\n    .dataframe tbody tr th:only-of-type {\n        vertical-align: middle;\n    }\n\n    .dataframe tbody tr th {\n        vertical-align: top;\n    }\n\n    .dataframe thead th {\n        text-align: right;\n    }\n</style>\n<table border=\"1\" class=\"dataframe\">\n  <thead>\n    <tr style=\"text-align: right;\">\n      <th></th>\n      <th>period</th>\n      <th>minute</th>\n      <th>possession</th>\n      <th>duration</th>\n      <th>play_pattern</th>\n      <th>position</th>\n      <th>location_x</th>\n      <th>location_x_distance</th>\n      <th>location_y</th>\n      <th>location_y_distance</th>\n      <th>...</th>\n      <th>defenders_triangle</th>\n      <th>goalkeeper_x</th>\n      <th>goalkeeper_y</th>\n      <th>distance_to_goalie</th>\n      <th>statsbomb_xg</th>\n      <th>end_location_x</th>\n      <th>end_location_y</th>\n      <th>is_goal</th>\n      <th>shot_angle</th>\n      <th>good_foot</th>\n    </tr>\n  </thead>\n  <tbody>\n    <tr>\n      <th>0</th>\n      <td>1.0</td>\n      <td>4.0</td>\n      <td>7.0</td>\n      <td>0.597523</td>\n      <td>Regular Play</td>\n      <td>Left Wing Back</td>\n      <td>108.1</td>\n      <td>11.9</td>\n      <td>31.2</td>\n      <td>8.8</td>\n      <td>...</td>\n      <td>3</td>\n      <td>119.0</td>\n      <td>38.7</td>\n      <td>13.231024</td>\n      <td>0.087901</td>\n      <td>120.0</td>\n      <td>35.2</td>\n      <td>False</td>\n      <td>0.324269</td>\n      <td>False</td>\n    </tr>\n    <tr>\n      <th>1</th>\n      <td>1.0</td>\n      <td>6.0</td>\n      <td>11.0</td>\n      <td>0.636048</td>\n      <td>From Throw In</td>\n      <td>Center Forward</td>\n      <td>110.9</td>\n      <td>9.1</td>\n      <td>42.6</td>\n      <td>2.6</td>\n      <td>...</td>\n      <td>1</td>\n      <td>116.0</td>\n      <td>42.0</td>\n      <td>5.135173</td>\n      <td>0.160274</td>\n      <td>120.0</td>\n      <td>39.3</td>\n      <td>True</td>\n      <td>-0.347888</td>\n      <td>False</td>\n    </tr>\n    <tr>\n      <th>2</th>\n      <td>1.0</td>\n      <td>8.0</td>\n      <td>15.0</td>\n      <td>0.125672</td>\n      <td>From Throw In</td>\n      <td>Left Attacking Midfield</td>\n      <td>117.9</td>\n      <td>2.1</td>\n      <td>29.1</td>\n      <td>10.9</td>\n      <td>...</td>\n      <td>1</td>\n      <td>118.6</td>\n      <td>39.2</td>\n      <td>10.124228</td>\n      <td>0.016036</td>\n      <td>118.1</td>\n      <td>30.2</td>\n      <td>False</td>\n      <td>1.390943</td>\n      <td>False</td>\n    </tr>\n    <tr>\n      <th>3</th>\n      <td>1.0</td>\n      <td>13.0</td>\n      <td>27.0</td>\n      <td>1.303079</td>\n      <td>From Counter</td>\n      <td>Left Midfield</td>\n      <td>101.8</td>\n      <td>18.2</td>\n      <td>27.6</td>\n      <td>12.4</td>\n      <td>...</td>\n      <td>0</td>\n      <td>97.0</td>\n      <td>26.8</td>\n      <td>4.866210</td>\n      <td>0.527759</td>\n      <td>120.0</td>\n      <td>39.0</td>\n      <td>True</td>\n      <td>0.559586</td>\n      <td>False</td>\n    </tr>\n    <tr>\n      <th>4</th>\n      <td>1.0</td>\n      <td>17.0</td>\n      <td>33.0</td>\n      <td>0.666134</td>\n      <td>Regular Play</td>\n      <td>Center Forward</td>\n      <td>109.3</td>\n      <td>10.7</td>\n      <td>26.5</td>\n      <td>13.5</td>\n      <td>...</td>\n      <td>1</td>\n      <td>118.3</td>\n      <td>36.5</td>\n      <td>13.453624</td>\n      <td>0.074020</td>\n      <td>118.8</td>\n      <td>36.0</td>\n      <td>False</td>\n      <td>0.785398</td>\n      <td>True</td>\n    </tr>\n    <tr>\n      <th>...</th>\n      <td>...</td>\n      <td>...</td>\n      <td>...</td>\n      <td>...</td>\n      <td>...</td>\n      <td>...</td>\n      <td>...</td>\n      <td>...</td>\n      <td>...</td>\n      <td>...</td>\n      <td>...</td>\n      <td>...</td>\n      <td>...</td>\n      <td>...</td>\n      <td>...</td>\n      <td>...</td>\n      <td>...</td>\n      <td>...</td>\n      <td>...</td>\n      <td>...</td>\n      <td>...</td>\n    </tr>\n    <tr>\n      <th>84060</th>\n      <td>2.0</td>\n      <td>59.0</td>\n      <td>118.0</td>\n      <td>1.029600</td>\n      <td>From Free Kick</td>\n      <td>Right Center Midfield</td>\n      <td>96.3</td>\n      <td>23.7</td>\n      <td>36.2</td>\n      <td>3.8</td>\n      <td>...</td>\n      <td>3</td>\n      <td>119.1</td>\n      <td>38.6</td>\n      <td>22.925968</td>\n      <td>0.038350</td>\n      <td>120.0</td>\n      <td>39.1</td>\n      <td>False</td>\n      <td>0.121758</td>\n      <td>False</td>\n    </tr>\n    <tr>\n      <th>84061</th>\n      <td>2.0</td>\n      <td>64.0</td>\n      <td>126.0</td>\n      <td>1.129000</td>\n      <td>From Throw In</td>\n      <td>Left Center Midfield</td>\n      <td>98.5</td>\n      <td>21.5</td>\n      <td>24.3</td>\n      <td>15.7</td>\n      <td>...</td>\n      <td>1</td>\n      <td>119.1</td>\n      <td>38.2</td>\n      <td>24.850956</td>\n      <td>0.025679</td>\n      <td>120.0</td>\n      <td>47.1</td>\n      <td>False</td>\n      <td>0.814735</td>\n      <td>True</td>\n    </tr>\n    <tr>\n      <th>84062</th>\n      <td>2.0</td>\n      <td>64.0</td>\n      <td>128.0</td>\n      <td>1.209200</td>\n      <td>From Throw In</td>\n      <td>Right Midfield</td>\n      <td>102.9</td>\n      <td>17.1</td>\n      <td>54.6</td>\n      <td>14.6</td>\n      <td>...</td>\n      <td>1</td>\n      <td>119.0</td>\n      <td>42.5</td>\n      <td>20.140010</td>\n      <td>0.037896</td>\n      <td>120.0</td>\n      <td>45.1</td>\n      <td>False</td>\n      <td>-0.507099</td>\n      <td>False</td>\n    </tr>\n    <tr>\n      <th>84063</th>\n      <td>2.0</td>\n      <td>75.0</td>\n      <td>138.0</td>\n      <td>0.458900</td>\n      <td>Other</td>\n      <td>Left Wing</td>\n      <td>108.0</td>\n      <td>12.0</td>\n      <td>40.0</td>\n      <td>0.0</td>\n      <td>...</td>\n      <td>-1</td>\n      <td>-1.0</td>\n      <td>-1.0</td>\n      <td>116.456000</td>\n      <td>0.783500</td>\n      <td>120.0</td>\n      <td>36.3</td>\n      <td>True</td>\n      <td>-0.299084</td>\n      <td>True</td>\n    </tr>\n    <tr>\n      <th>84064</th>\n      <td>2.0</td>\n      <td>78.0</td>\n      <td>143.0</td>\n      <td>1.418400</td>\n      <td>From Throw In</td>\n      <td>Left Wing</td>\n      <td>109.9</td>\n      <td>10.1</td>\n      <td>18.3</td>\n      <td>21.7</td>\n      <td>...</td>\n      <td>1</td>\n      <td>118.6</td>\n      <td>36.4</td>\n      <td>20.082331</td>\n      <td>0.006940</td>\n      <td>120.0</td>\n      <td>50.0</td>\n      <td>False</td>\n      <td>1.262353</td>\n      <td>True</td>\n    </tr>\n  </tbody>\n</table>\n<p>84065 rows × 37 columns</p>\n</div>"
     },
     "execution_count": 29,
     "metadata": {},
     "output_type": "execute_result"
    }
   ],
   "source": [
    "data"
   ],
   "metadata": {
    "collapsed": false,
    "pycharm": {
     "name": "#%%\n"
    }
   }
  },
  {
   "cell_type": "code",
   "execution_count": 30,
   "outputs": [
    {
     "data": {
      "text/plain": "period                     5\nminute                   139\npossession               290\nduration               78058\nplay_pattern               9\nposition                  25\nlocation_x               635\nlocation_x_distance      635\nlocation_y               702\nlocation_y_distance      499\ntechnique                  7\nbody_part                  4\ntype                       5\nis_penalty                 2\nfirst_time                 2\nopen_goal                  2\none_on_one                 2\naerial_won                 2\nfollows_dribble            2\nunder_pressure             2\npass_duration          11912\npass_angle             10519\npass_type                  8\npass_height                4\npass_length             9930\nnum_passes                13\ndefenders_3m_radius       10\ndefenders_triangle        13\ngoalkeeper_x             258\ngoalkeeper_y             355\ndistance_to_goalie     47155\nstatsbomb_xg           82551\nend_location_x           376\nend_location_y           705\nis_goal                    2\nshot_angle             54508\ngood_foot                  2\ndtype: int64"
     },
     "execution_count": 30,
     "metadata": {},
     "output_type": "execute_result"
    }
   ],
   "source": [
    "data.nunique()"
   ],
   "metadata": {
    "collapsed": false,
    "pycharm": {
     "name": "#%%\n"
    }
   }
  },
  {
   "cell_type": "code",
   "execution_count": 31,
   "outputs": [],
   "source": [
    "data.to_csv(\"./data/augmented_data.csv\", index=False)"
   ],
   "metadata": {
    "collapsed": false,
    "pycharm": {
     "name": "#%%\n"
    }
   }
  },
  {
   "cell_type": "code",
   "execution_count": null,
   "outputs": [],
   "source": [],
   "metadata": {
    "collapsed": false,
    "pycharm": {
     "name": "#%%\n"
    }
   }
  }
 ],
 "metadata": {
  "kernelspec": {
   "display_name": "Python 3",
   "language": "python",
   "name": "python3"
  },
  "language_info": {
   "codemirror_mode": {
    "name": "ipython",
    "version": 2
   },
   "file_extension": ".py",
   "mimetype": "text/x-python",
   "name": "python",
   "nbconvert_exporter": "python",
   "pygments_lexer": "ipython2",
   "version": "2.7.6"
  }
 },
 "nbformat": 4,
 "nbformat_minor": 0
}