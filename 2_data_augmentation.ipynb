{
 "cells": [
  {
   "cell_type": "code",
   "execution_count": 10,
   "metadata": {
    "collapsed": true
   },
   "outputs": [],
   "source": [
    "import pandas as pd\n",
    "import numpy as np\n",
    "import matplotlib.pyplot as plt\n",
    "\n",
    "import math\n",
    "import ast\n",
    "from tqdm import tqdm\n",
    "import warnings\n",
    "from pprint import pprint\n",
    "\n",
    "warnings.filterwarnings(\"ignore\")"
   ]
  },
  {
   "cell_type": "code",
   "execution_count": 11,
   "outputs": [],
   "source": [
    "all_shots = pd.read_csv(\"./data/all_shots.csv\")\n",
    "all_shots = all_shots.dropna(axis=1, how=\"all\")"
   ],
   "metadata": {
    "collapsed": false,
    "pycharm": {
     "name": "#%%\n"
    }
   }
  },
  {
   "cell_type": "code",
   "execution_count": 12,
   "outputs": [
    {
     "data": {
      "text/plain": "(84065, 43)"
     },
     "execution_count": 12,
     "metadata": {},
     "output_type": "execute_result"
    }
   ],
   "source": [
    "all_shots.shape"
   ],
   "metadata": {
    "collapsed": false,
    "pycharm": {
     "name": "#%%\n"
    }
   }
  },
  {
   "cell_type": "code",
   "execution_count": 13,
   "outputs": [
    {
     "data": {
      "text/plain": "season_id                   42\nmatch_id                  3312\nduration                 77926\nid                       83929\nindex                     4465\nlocation                 56583\nminute                     139\noff_camera                   1\nout                          1\nperiod                       5\nplay_pattern                 9\nplayer                    5638\nplayer_id                 5637\nposition                    25\npossession                 290\npossession_team            288\npossession_team_id         291\nrelated_events           83929\nsecond                      60\nshot_aerial_won              1\nshot_body_part               4\nshot_end_location        51584\nshot_first_time              1\nshot_freeze_frame        82866\nshot_key_pass_id         59111\nshot_one_on_one              1\nshot_outcome                 8\nshot_statsbomb_xg        82417\nshot_technique               7\nshot_type                    5\nteam                       288\nteam_id                    291\ntimestamp                82726\ntype                         1\nunder_pressure               1\ncompetition_id              17\nshot_deflected               1\nshot_open_goal               1\nshot_redirect                1\nshot_saved_off_target        1\nshot_saved_to_post           1\nshot_follows_dribble         1\nshot_kick_off                1\ndtype: int64"
     },
     "execution_count": 13,
     "metadata": {},
     "output_type": "execute_result"
    }
   ],
   "source": [
    "all_shots = all_shots[~all_shots[\"competition_id\"].isin([\"FIFA U20 World Cup\", \"North American League\", \"Liga Profesional\", \"Indian Super League\"])].drop(columns=all_shots.columns[all_shots.nunique() == 0]).sort_values(by=[\"match_id\", \"timestamp\"])\n",
    "all_shots.nunique()"
   ],
   "metadata": {
    "collapsed": false,
    "pycharm": {
     "name": "#%%\n"
    }
   }
  },
  {
   "cell_type": "code",
   "execution_count": 14,
   "outputs": [
    {
     "data": {
      "text/plain": "       season_id   match_id                                    id   index  \\\n15349  2018/2019     7298.0  9b82eaa3-2048-4157-aa9a-eabeb4fa0ebe    42.0   \n15366  2018/2019     7298.0  62a616ea-6791-422c-af80-1683d22bb9f5  2096.0   \n15367  2018/2019     7298.0  3279e6e0-c796-4871-aaaa-75344dc903b8  2136.0   \n15368  2018/2019     7298.0  28c07afb-53b7-497f-9bb0-1c586c27e2de  2154.0   \n15350  2018/2019     7298.0  25dace9c-6bf8-4ada-8a4f-bad0485141c9   237.0   \n...          ...        ...                                   ...     ...   \n7840        2023  3923881.0  11ac245b-fffb-43b9-a9ab-2953e50e1759  1011.0   \n7851        2023  3923881.0  bded325e-4b96-41d1-992d-3942344b5902  2483.0   \n7852        2023  3923881.0  3e369ccb-5ae2-45cf-8eb8-f24aec5e9e9d  2623.0   \n7841        2023  3923881.0  be20d643-eda2-46b4-bd3c-c305e5ce7725  1348.0   \n7853        2023  3923881.0  a95de9f0-7147-409d-a2cc-23dbc847b137  2657.0   \n\n            location  minute  period                     player  player_id  \\\n15349  [115.0, 25.0]     0.0     1.0            Francesca Kirby     4641.0   \n15366  [114.0, 34.0]    47.0     2.0            Ramona Bachmann     4659.0   \n15367  [115.0, 41.0]    48.0     2.0              Nikita Parris     4654.0   \n15368  [109.0, 39.0]    49.0     2.0            Francesca Kirby     4641.0   \n15350  [109.0, 51.0]     5.0     1.0            Francesca Kirby     4641.0   \n...              ...     ...     ...                        ...        ...   \n7840   [112.1, 44.3]    37.0     1.0       William Troost-Ekong     5455.0   \n7851   [102.9, 46.8]    89.0     2.0  Kelechi Promise Iheanacho     3708.0   \n7852    [97.4, 55.3]    93.0     2.0    Wilfried Stephane Singo    36539.0   \n7841    [87.2, 34.1]    49.0     1.0                Seko Fofana     7791.0   \n7853    [91.0, 44.4]    95.0     2.0             Alhassan Yusuf    27434.0   \n\n                       position  possession      possession_team  \\\n15349      Right Center Forward         4.0          Chelsea FCW   \n15366      Right Center Forward       107.0          Chelsea FCW   \n15367                Right Wing       120.0  Manchester City WFC   \n15368       Left Center Forward       121.0          Chelsea FCW   \n15350      Right Center Forward        15.0          Chelsea FCW   \n...                         ...         ...                  ...   \n7840                Center Back        58.0              Nigeria   \n7851                 Right Wing       149.0              Nigeria   \n7852                 Right Back       159.0        Côte d'Ivoire   \n7841       Left Center Midfield        82.0        Côte d'Ivoire   \n7853   Right Defensive Midfield       161.0              Nigeria   \n\n       possession_team_id  second                 team  team_id     timestamp  \\\n15349               971.0    47.0          Chelsea FCW    971.0  00:00:47.620   \n15366               971.0    59.0          Chelsea FCW    971.0  00:02:59.118   \n15367               746.0    41.0  Manchester City WFC    746.0  00:03:41.638   \n15368               971.0    37.0          Chelsea FCW    971.0  00:04:37.118   \n15350               971.0    12.0          Chelsea FCW    971.0  00:05:12.780   \n...                   ...     ...                  ...      ...           ...   \n7840                775.0     1.0              Nigeria    775.0  00:37:01.662   \n7851                775.0    12.0              Nigeria    775.0  00:44:12.865   \n7852               3374.0    55.0        Côte d'Ivoire   3374.0  00:48:55.619   \n7841               3374.0    28.0        Côte d'Ivoire   3374.0  00:49:28.253   \n7853                775.0    12.0              Nigeria    775.0  00:50:12.092   \n\n                competition_id shot_outcome  \n15349  FA Women's Super League      Blocked  \n15366  FA Women's Super League        Saved  \n15367  FA Women's Super League         Goal  \n15368  FA Women's Super League      Blocked  \n15350  FA Women's Super League      Blocked  \n...                        ...          ...  \n7840    African Cup of Nations         Goal  \n7851    African Cup of Nations      Blocked  \n7852    African Cup of Nations      Wayward  \n7841    African Cup of Nations        Saved  \n7853    African Cup of Nations      Wayward  \n\n[83929 rows x 19 columns]",
      "text/html": "<div>\n<style scoped>\n    .dataframe tbody tr th:only-of-type {\n        vertical-align: middle;\n    }\n\n    .dataframe tbody tr th {\n        vertical-align: top;\n    }\n\n    .dataframe thead th {\n        text-align: right;\n    }\n</style>\n<table border=\"1\" class=\"dataframe\">\n  <thead>\n    <tr style=\"text-align: right;\">\n      <th></th>\n      <th>season_id</th>\n      <th>match_id</th>\n      <th>id</th>\n      <th>index</th>\n      <th>location</th>\n      <th>minute</th>\n      <th>period</th>\n      <th>player</th>\n      <th>player_id</th>\n      <th>position</th>\n      <th>possession</th>\n      <th>possession_team</th>\n      <th>possession_team_id</th>\n      <th>second</th>\n      <th>team</th>\n      <th>team_id</th>\n      <th>timestamp</th>\n      <th>competition_id</th>\n      <th>shot_outcome</th>\n    </tr>\n  </thead>\n  <tbody>\n    <tr>\n      <th>15349</th>\n      <td>2018/2019</td>\n      <td>7298.0</td>\n      <td>9b82eaa3-2048-4157-aa9a-eabeb4fa0ebe</td>\n      <td>42.0</td>\n      <td>[115.0, 25.0]</td>\n      <td>0.0</td>\n      <td>1.0</td>\n      <td>Francesca Kirby</td>\n      <td>4641.0</td>\n      <td>Right Center Forward</td>\n      <td>4.0</td>\n      <td>Chelsea FCW</td>\n      <td>971.0</td>\n      <td>47.0</td>\n      <td>Chelsea FCW</td>\n      <td>971.0</td>\n      <td>00:00:47.620</td>\n      <td>FA Women's Super League</td>\n      <td>Blocked</td>\n    </tr>\n    <tr>\n      <th>15366</th>\n      <td>2018/2019</td>\n      <td>7298.0</td>\n      <td>62a616ea-6791-422c-af80-1683d22bb9f5</td>\n      <td>2096.0</td>\n      <td>[114.0, 34.0]</td>\n      <td>47.0</td>\n      <td>2.0</td>\n      <td>Ramona Bachmann</td>\n      <td>4659.0</td>\n      <td>Right Center Forward</td>\n      <td>107.0</td>\n      <td>Chelsea FCW</td>\n      <td>971.0</td>\n      <td>59.0</td>\n      <td>Chelsea FCW</td>\n      <td>971.0</td>\n      <td>00:02:59.118</td>\n      <td>FA Women's Super League</td>\n      <td>Saved</td>\n    </tr>\n    <tr>\n      <th>15367</th>\n      <td>2018/2019</td>\n      <td>7298.0</td>\n      <td>3279e6e0-c796-4871-aaaa-75344dc903b8</td>\n      <td>2136.0</td>\n      <td>[115.0, 41.0]</td>\n      <td>48.0</td>\n      <td>2.0</td>\n      <td>Nikita Parris</td>\n      <td>4654.0</td>\n      <td>Right Wing</td>\n      <td>120.0</td>\n      <td>Manchester City WFC</td>\n      <td>746.0</td>\n      <td>41.0</td>\n      <td>Manchester City WFC</td>\n      <td>746.0</td>\n      <td>00:03:41.638</td>\n      <td>FA Women's Super League</td>\n      <td>Goal</td>\n    </tr>\n    <tr>\n      <th>15368</th>\n      <td>2018/2019</td>\n      <td>7298.0</td>\n      <td>28c07afb-53b7-497f-9bb0-1c586c27e2de</td>\n      <td>2154.0</td>\n      <td>[109.0, 39.0]</td>\n      <td>49.0</td>\n      <td>2.0</td>\n      <td>Francesca Kirby</td>\n      <td>4641.0</td>\n      <td>Left Center Forward</td>\n      <td>121.0</td>\n      <td>Chelsea FCW</td>\n      <td>971.0</td>\n      <td>37.0</td>\n      <td>Chelsea FCW</td>\n      <td>971.0</td>\n      <td>00:04:37.118</td>\n      <td>FA Women's Super League</td>\n      <td>Blocked</td>\n    </tr>\n    <tr>\n      <th>15350</th>\n      <td>2018/2019</td>\n      <td>7298.0</td>\n      <td>25dace9c-6bf8-4ada-8a4f-bad0485141c9</td>\n      <td>237.0</td>\n      <td>[109.0, 51.0]</td>\n      <td>5.0</td>\n      <td>1.0</td>\n      <td>Francesca Kirby</td>\n      <td>4641.0</td>\n      <td>Right Center Forward</td>\n      <td>15.0</td>\n      <td>Chelsea FCW</td>\n      <td>971.0</td>\n      <td>12.0</td>\n      <td>Chelsea FCW</td>\n      <td>971.0</td>\n      <td>00:05:12.780</td>\n      <td>FA Women's Super League</td>\n      <td>Blocked</td>\n    </tr>\n    <tr>\n      <th>...</th>\n      <td>...</td>\n      <td>...</td>\n      <td>...</td>\n      <td>...</td>\n      <td>...</td>\n      <td>...</td>\n      <td>...</td>\n      <td>...</td>\n      <td>...</td>\n      <td>...</td>\n      <td>...</td>\n      <td>...</td>\n      <td>...</td>\n      <td>...</td>\n      <td>...</td>\n      <td>...</td>\n      <td>...</td>\n      <td>...</td>\n      <td>...</td>\n    </tr>\n    <tr>\n      <th>7840</th>\n      <td>2023</td>\n      <td>3923881.0</td>\n      <td>11ac245b-fffb-43b9-a9ab-2953e50e1759</td>\n      <td>1011.0</td>\n      <td>[112.1, 44.3]</td>\n      <td>37.0</td>\n      <td>1.0</td>\n      <td>William Troost-Ekong</td>\n      <td>5455.0</td>\n      <td>Center Back</td>\n      <td>58.0</td>\n      <td>Nigeria</td>\n      <td>775.0</td>\n      <td>1.0</td>\n      <td>Nigeria</td>\n      <td>775.0</td>\n      <td>00:37:01.662</td>\n      <td>African Cup of Nations</td>\n      <td>Goal</td>\n    </tr>\n    <tr>\n      <th>7851</th>\n      <td>2023</td>\n      <td>3923881.0</td>\n      <td>bded325e-4b96-41d1-992d-3942344b5902</td>\n      <td>2483.0</td>\n      <td>[102.9, 46.8]</td>\n      <td>89.0</td>\n      <td>2.0</td>\n      <td>Kelechi Promise Iheanacho</td>\n      <td>3708.0</td>\n      <td>Right Wing</td>\n      <td>149.0</td>\n      <td>Nigeria</td>\n      <td>775.0</td>\n      <td>12.0</td>\n      <td>Nigeria</td>\n      <td>775.0</td>\n      <td>00:44:12.865</td>\n      <td>African Cup of Nations</td>\n      <td>Blocked</td>\n    </tr>\n    <tr>\n      <th>7852</th>\n      <td>2023</td>\n      <td>3923881.0</td>\n      <td>3e369ccb-5ae2-45cf-8eb8-f24aec5e9e9d</td>\n      <td>2623.0</td>\n      <td>[97.4, 55.3]</td>\n      <td>93.0</td>\n      <td>2.0</td>\n      <td>Wilfried Stephane Singo</td>\n      <td>36539.0</td>\n      <td>Right Back</td>\n      <td>159.0</td>\n      <td>Côte d'Ivoire</td>\n      <td>3374.0</td>\n      <td>55.0</td>\n      <td>Côte d'Ivoire</td>\n      <td>3374.0</td>\n      <td>00:48:55.619</td>\n      <td>African Cup of Nations</td>\n      <td>Wayward</td>\n    </tr>\n    <tr>\n      <th>7841</th>\n      <td>2023</td>\n      <td>3923881.0</td>\n      <td>be20d643-eda2-46b4-bd3c-c305e5ce7725</td>\n      <td>1348.0</td>\n      <td>[87.2, 34.1]</td>\n      <td>49.0</td>\n      <td>1.0</td>\n      <td>Seko Fofana</td>\n      <td>7791.0</td>\n      <td>Left Center Midfield</td>\n      <td>82.0</td>\n      <td>Côte d'Ivoire</td>\n      <td>3374.0</td>\n      <td>28.0</td>\n      <td>Côte d'Ivoire</td>\n      <td>3374.0</td>\n      <td>00:49:28.253</td>\n      <td>African Cup of Nations</td>\n      <td>Saved</td>\n    </tr>\n    <tr>\n      <th>7853</th>\n      <td>2023</td>\n      <td>3923881.0</td>\n      <td>a95de9f0-7147-409d-a2cc-23dbc847b137</td>\n      <td>2657.0</td>\n      <td>[91.0, 44.4]</td>\n      <td>95.0</td>\n      <td>2.0</td>\n      <td>Alhassan Yusuf</td>\n      <td>27434.0</td>\n      <td>Right Defensive Midfield</td>\n      <td>161.0</td>\n      <td>Nigeria</td>\n      <td>775.0</td>\n      <td>12.0</td>\n      <td>Nigeria</td>\n      <td>775.0</td>\n      <td>00:50:12.092</td>\n      <td>African Cup of Nations</td>\n      <td>Wayward</td>\n    </tr>\n  </tbody>\n</table>\n<p>83929 rows × 19 columns</p>\n</div>"
     },
     "execution_count": 14,
     "metadata": {},
     "output_type": "execute_result"
    }
   ],
   "source": [
    "all_shots[[\"season_id\", \"match_id\", \"id\", \"index\", \"location\", \"minute\", \"period\", \"player\", \"player_id\", \"position\", \"possession\", \"possession_team\", \"possession_team_id\", \"second\", \"team\", \"team_id\", \"timestamp\", \"competition_id\", \"shot_outcome\"]].sort_values(by=[\"match_id\", \"timestamp\"])"
   ],
   "metadata": {
    "collapsed": false,
    "pycharm": {
     "name": "#%%\n"
    }
   }
  },
  {
   "cell_type": "code",
   "execution_count": 15,
   "outputs": [],
   "source": [
    "all_passes = pd.read_csv(\"./data/all_passes.csv\")\n",
    "all_passes = all_passes.dropna(axis=1, how=\"all\")"
   ],
   "metadata": {
    "collapsed": false,
    "pycharm": {
     "name": "#%%\n"
    }
   }
  },
  {
   "cell_type": "code",
   "execution_count": 16,
   "outputs": [
    {
     "data": {
      "text/plain": "        season_id   match_id counterpress  duration  \\\n0       2015/2016  3890561.0          NaN  0.453238   \n1       2015/2016  3890561.0          NaN  2.538089   \n2       2015/2016  3890561.0          NaN  1.135869   \n3       2015/2016  3890561.0          NaN  2.230030   \n4       2015/2016  3890561.0          NaN  1.192052   \n...           ...        ...          ...       ...   \n687132       2019    69161.0          NaN  5.353800   \n687133       2019    69161.0          NaN  1.877000   \n687134       2019    69161.0          NaN  1.189900   \n687135       2019    69161.0          NaN  0.146950   \n687136       2019    69161.0          NaN  1.565900   \n\n                                          id   index       location  minute  \\\n0       644e16d7-10ca-45f0-8128-fc0055d6f753     5.0   [61.0, 40.1]     0.0   \n1       edf9049e-3f5e-4e79-b60e-3613cc533626    33.0   [40.4, 80.0]     0.0   \n2       e7bd044e-3fd2-4eca-832b-b68053c162cc    78.0   [53.7, 59.1]     1.0   \n3       00e29014-6e3a-42eb-b548-18e79639a78b    82.0   [45.6, 27.0]     1.0   \n4       dbcb87e8-a610-47e8-9c84-0af0335c222a   117.0   [44.5, 54.6]     1.0   \n...                                      ...     ...            ...     ...   \n687132  005d19bc-1fae-4827-8c11-a4765bd3a66c  2887.0   [43.4, 13.9]    93.0   \n687133  0ebea548-dfda-4540-8212-514a228fc923  2891.0    [98.1, 0.1]    94.0   \n687134  a769c9a6-e8b1-45d7-8593-c72ec42d5547  2937.0    [67.1, 2.3]    95.0   \n687135  a594f25d-aca3-4674-a527-e92e0ac1c8a2  2964.0   [30.7, 80.0]    96.0   \n687136  6e64ac5a-6e71-426d-aacc-4b428d45ce7e  3017.0  [106.7, 80.0]    97.0   \n\n       off_camera  out  ... second                   team team_id  \\\n0             NaN  NaN  ...    0.0             Hoffenheim   175.0   \n1             NaN  NaN  ...   28.0             Schalke 04   181.0   \n2             NaN  NaN  ...    8.0             Hoffenheim   175.0   \n3             NaN  NaN  ...   11.0             Schalke 04   181.0   \n4             NaN  NaN  ...   34.0             Schalke 04   181.0   \n...           ...  ...  ...    ...                    ...     ...   \n687132        NaN  NaN  ...   41.0  United States Women's  1214.0   \n687133        NaN  NaN  ...    0.0  United States Women's  1214.0   \n687134        NaN  NaN  ...    8.0  United States Women's  1214.0   \n687135       True  NaN  ...   20.0          Spain Women's   863.0   \n687136        NaN  NaN  ...   44.0  United States Women's  1214.0   \n\n           timestamp  type under_pressure     competition_id pass_straight  \\\n0       00:00:00.482  Pass            NaN      1. Bundesliga           NaN   \n1       00:00:28.242  Pass            NaN      1. Bundesliga           NaN   \n2       00:01:08.949  Pass            NaN      1. Bundesliga           NaN   \n3       00:01:11.014  Pass            NaN      1. Bundesliga           NaN   \n4       00:01:34.943  Pass            NaN      1. Bundesliga           NaN   \n...              ...   ...            ...                ...           ...   \n687132  00:48:41.735  Pass            NaN  Women's World Cup           NaN   \n687133  00:49:00.901  Pass            NaN  Women's World Cup           NaN   \n687134  00:50:08.281  Pass            NaN  Women's World Cup           NaN   \n687135  00:51:20.326  Pass            NaN  Women's World Cup           NaN   \n687136  00:52:44.431  Pass            NaN  Women's World Cup           NaN   \n\n       pass_miscommunication pass_backheel  \n0                        NaN           NaN  \n1                        NaN           NaN  \n2                        NaN           NaN  \n3                        NaN           NaN  \n4                        NaN           NaN  \n...                      ...           ...  \n687132                   NaN           NaN  \n687133                   NaN           NaN  \n687134                   NaN           NaN  \n687135                   NaN           NaN  \n687136                   NaN           NaN  \n\n[687137 rows x 50 columns]",
      "text/html": "<div>\n<style scoped>\n    .dataframe tbody tr th:only-of-type {\n        vertical-align: middle;\n    }\n\n    .dataframe tbody tr th {\n        vertical-align: top;\n    }\n\n    .dataframe thead th {\n        text-align: right;\n    }\n</style>\n<table border=\"1\" class=\"dataframe\">\n  <thead>\n    <tr style=\"text-align: right;\">\n      <th></th>\n      <th>season_id</th>\n      <th>match_id</th>\n      <th>counterpress</th>\n      <th>duration</th>\n      <th>id</th>\n      <th>index</th>\n      <th>location</th>\n      <th>minute</th>\n      <th>off_camera</th>\n      <th>out</th>\n      <th>...</th>\n      <th>second</th>\n      <th>team</th>\n      <th>team_id</th>\n      <th>timestamp</th>\n      <th>type</th>\n      <th>under_pressure</th>\n      <th>competition_id</th>\n      <th>pass_straight</th>\n      <th>pass_miscommunication</th>\n      <th>pass_backheel</th>\n    </tr>\n  </thead>\n  <tbody>\n    <tr>\n      <th>0</th>\n      <td>2015/2016</td>\n      <td>3890561.0</td>\n      <td>NaN</td>\n      <td>0.453238</td>\n      <td>644e16d7-10ca-45f0-8128-fc0055d6f753</td>\n      <td>5.0</td>\n      <td>[61.0, 40.1]</td>\n      <td>0.0</td>\n      <td>NaN</td>\n      <td>NaN</td>\n      <td>...</td>\n      <td>0.0</td>\n      <td>Hoffenheim</td>\n      <td>175.0</td>\n      <td>00:00:00.482</td>\n      <td>Pass</td>\n      <td>NaN</td>\n      <td>1. Bundesliga</td>\n      <td>NaN</td>\n      <td>NaN</td>\n      <td>NaN</td>\n    </tr>\n    <tr>\n      <th>1</th>\n      <td>2015/2016</td>\n      <td>3890561.0</td>\n      <td>NaN</td>\n      <td>2.538089</td>\n      <td>edf9049e-3f5e-4e79-b60e-3613cc533626</td>\n      <td>33.0</td>\n      <td>[40.4, 80.0]</td>\n      <td>0.0</td>\n      <td>NaN</td>\n      <td>NaN</td>\n      <td>...</td>\n      <td>28.0</td>\n      <td>Schalke 04</td>\n      <td>181.0</td>\n      <td>00:00:28.242</td>\n      <td>Pass</td>\n      <td>NaN</td>\n      <td>1. Bundesliga</td>\n      <td>NaN</td>\n      <td>NaN</td>\n      <td>NaN</td>\n    </tr>\n    <tr>\n      <th>2</th>\n      <td>2015/2016</td>\n      <td>3890561.0</td>\n      <td>NaN</td>\n      <td>1.135869</td>\n      <td>e7bd044e-3fd2-4eca-832b-b68053c162cc</td>\n      <td>78.0</td>\n      <td>[53.7, 59.1]</td>\n      <td>1.0</td>\n      <td>NaN</td>\n      <td>NaN</td>\n      <td>...</td>\n      <td>8.0</td>\n      <td>Hoffenheim</td>\n      <td>175.0</td>\n      <td>00:01:08.949</td>\n      <td>Pass</td>\n      <td>NaN</td>\n      <td>1. Bundesliga</td>\n      <td>NaN</td>\n      <td>NaN</td>\n      <td>NaN</td>\n    </tr>\n    <tr>\n      <th>3</th>\n      <td>2015/2016</td>\n      <td>3890561.0</td>\n      <td>NaN</td>\n      <td>2.230030</td>\n      <td>00e29014-6e3a-42eb-b548-18e79639a78b</td>\n      <td>82.0</td>\n      <td>[45.6, 27.0]</td>\n      <td>1.0</td>\n      <td>NaN</td>\n      <td>NaN</td>\n      <td>...</td>\n      <td>11.0</td>\n      <td>Schalke 04</td>\n      <td>181.0</td>\n      <td>00:01:11.014</td>\n      <td>Pass</td>\n      <td>NaN</td>\n      <td>1. Bundesliga</td>\n      <td>NaN</td>\n      <td>NaN</td>\n      <td>NaN</td>\n    </tr>\n    <tr>\n      <th>4</th>\n      <td>2015/2016</td>\n      <td>3890561.0</td>\n      <td>NaN</td>\n      <td>1.192052</td>\n      <td>dbcb87e8-a610-47e8-9c84-0af0335c222a</td>\n      <td>117.0</td>\n      <td>[44.5, 54.6]</td>\n      <td>1.0</td>\n      <td>NaN</td>\n      <td>NaN</td>\n      <td>...</td>\n      <td>34.0</td>\n      <td>Schalke 04</td>\n      <td>181.0</td>\n      <td>00:01:34.943</td>\n      <td>Pass</td>\n      <td>NaN</td>\n      <td>1. Bundesliga</td>\n      <td>NaN</td>\n      <td>NaN</td>\n      <td>NaN</td>\n    </tr>\n    <tr>\n      <th>...</th>\n      <td>...</td>\n      <td>...</td>\n      <td>...</td>\n      <td>...</td>\n      <td>...</td>\n      <td>...</td>\n      <td>...</td>\n      <td>...</td>\n      <td>...</td>\n      <td>...</td>\n      <td>...</td>\n      <td>...</td>\n      <td>...</td>\n      <td>...</td>\n      <td>...</td>\n      <td>...</td>\n      <td>...</td>\n      <td>...</td>\n      <td>...</td>\n      <td>...</td>\n      <td>...</td>\n    </tr>\n    <tr>\n      <th>687132</th>\n      <td>2019</td>\n      <td>69161.0</td>\n      <td>NaN</td>\n      <td>5.353800</td>\n      <td>005d19bc-1fae-4827-8c11-a4765bd3a66c</td>\n      <td>2887.0</td>\n      <td>[43.4, 13.9]</td>\n      <td>93.0</td>\n      <td>NaN</td>\n      <td>NaN</td>\n      <td>...</td>\n      <td>41.0</td>\n      <td>United States Women's</td>\n      <td>1214.0</td>\n      <td>00:48:41.735</td>\n      <td>Pass</td>\n      <td>NaN</td>\n      <td>Women's World Cup</td>\n      <td>NaN</td>\n      <td>NaN</td>\n      <td>NaN</td>\n    </tr>\n    <tr>\n      <th>687133</th>\n      <td>2019</td>\n      <td>69161.0</td>\n      <td>NaN</td>\n      <td>1.877000</td>\n      <td>0ebea548-dfda-4540-8212-514a228fc923</td>\n      <td>2891.0</td>\n      <td>[98.1, 0.1]</td>\n      <td>94.0</td>\n      <td>NaN</td>\n      <td>NaN</td>\n      <td>...</td>\n      <td>0.0</td>\n      <td>United States Women's</td>\n      <td>1214.0</td>\n      <td>00:49:00.901</td>\n      <td>Pass</td>\n      <td>NaN</td>\n      <td>Women's World Cup</td>\n      <td>NaN</td>\n      <td>NaN</td>\n      <td>NaN</td>\n    </tr>\n    <tr>\n      <th>687134</th>\n      <td>2019</td>\n      <td>69161.0</td>\n      <td>NaN</td>\n      <td>1.189900</td>\n      <td>a769c9a6-e8b1-45d7-8593-c72ec42d5547</td>\n      <td>2937.0</td>\n      <td>[67.1, 2.3]</td>\n      <td>95.0</td>\n      <td>NaN</td>\n      <td>NaN</td>\n      <td>...</td>\n      <td>8.0</td>\n      <td>United States Women's</td>\n      <td>1214.0</td>\n      <td>00:50:08.281</td>\n      <td>Pass</td>\n      <td>NaN</td>\n      <td>Women's World Cup</td>\n      <td>NaN</td>\n      <td>NaN</td>\n      <td>NaN</td>\n    </tr>\n    <tr>\n      <th>687135</th>\n      <td>2019</td>\n      <td>69161.0</td>\n      <td>NaN</td>\n      <td>0.146950</td>\n      <td>a594f25d-aca3-4674-a527-e92e0ac1c8a2</td>\n      <td>2964.0</td>\n      <td>[30.7, 80.0]</td>\n      <td>96.0</td>\n      <td>True</td>\n      <td>NaN</td>\n      <td>...</td>\n      <td>20.0</td>\n      <td>Spain Women's</td>\n      <td>863.0</td>\n      <td>00:51:20.326</td>\n      <td>Pass</td>\n      <td>NaN</td>\n      <td>Women's World Cup</td>\n      <td>NaN</td>\n      <td>NaN</td>\n      <td>NaN</td>\n    </tr>\n    <tr>\n      <th>687136</th>\n      <td>2019</td>\n      <td>69161.0</td>\n      <td>NaN</td>\n      <td>1.565900</td>\n      <td>6e64ac5a-6e71-426d-aacc-4b428d45ce7e</td>\n      <td>3017.0</td>\n      <td>[106.7, 80.0]</td>\n      <td>97.0</td>\n      <td>NaN</td>\n      <td>NaN</td>\n      <td>...</td>\n      <td>44.0</td>\n      <td>United States Women's</td>\n      <td>1214.0</td>\n      <td>00:52:44.431</td>\n      <td>Pass</td>\n      <td>NaN</td>\n      <td>Women's World Cup</td>\n      <td>NaN</td>\n      <td>NaN</td>\n      <td>NaN</td>\n    </tr>\n  </tbody>\n</table>\n<p>687137 rows × 50 columns</p>\n</div>"
     },
     "execution_count": 16,
     "metadata": {},
     "output_type": "execute_result"
    }
   ],
   "source": [
    "all_passes"
   ],
   "metadata": {
    "collapsed": false,
    "pycharm": {
     "name": "#%%\n"
    }
   }
  },
  {
   "cell_type": "code",
   "execution_count": 17,
   "outputs": [
    {
     "data": {
      "text/plain": "season_id                   42\nmatch_id                  3312\nduration                 77926\nid                       83929\nindex                     4465\nlocation                 56583\nminute                     139\noff_camera                   1\nout                          1\nperiod                       5\nplay_pattern                 9\nplayer                    5638\nplayer_id                 5637\nposition                    25\npossession                 290\npossession_team            288\npossession_team_id         291\nrelated_events           83929\nsecond                      60\nshot_aerial_won              1\nshot_body_part               4\nshot_end_location        51584\nshot_first_time              1\nshot_freeze_frame        82866\nshot_key_pass_id         59111\nshot_one_on_one              1\nshot_outcome                 8\nshot_statsbomb_xg        82417\nshot_technique               7\nshot_type                    5\nteam                       288\nteam_id                    291\ntimestamp                82726\ntype                         1\nunder_pressure               1\ncompetition_id              17\nshot_deflected               1\nshot_open_goal               1\nshot_redirect                1\nshot_saved_off_target        1\nshot_saved_to_post           1\nshot_follows_dribble         1\nshot_kick_off                1\ndtype: int64"
     },
     "execution_count": 17,
     "metadata": {},
     "output_type": "execute_result"
    }
   ],
   "source": [
    "all_shots.nunique()"
   ],
   "metadata": {
    "collapsed": false,
    "pycharm": {
     "name": "#%%\n"
    }
   }
  },
  {
   "cell_type": "code",
   "execution_count": 18,
   "outputs": [
    {
     "data": {
      "text/plain": "True     59111\nFalse    24818\nName: shot_key_pass_id, dtype: int64"
     },
     "execution_count": 18,
     "metadata": {},
     "output_type": "execute_result"
    }
   ],
   "source": [
    "all_shots['shot_key_pass_id'].notna().value_counts()"
   ],
   "metadata": {
    "collapsed": false,
    "pycharm": {
     "name": "#%%\n"
    }
   }
  },
  {
   "cell_type": "code",
   "execution_count": 19,
   "outputs": [
    {
     "data": {
      "text/plain": "15349    ['a1c408ce-f949-4dfd-801f-08ed281da0cc', 'e3be...\n15366             ['b5abbcf4-f58b-412c-b55e-7114812fa2f8']\n15367             ['4f7c3d8d-a93e-49f5-9c49-c5c29a6f3d86']\n15368    ['1a3a5de3-19b3-4ab7-b707-1f4b90c8a5e0', '534f...\n15350    ['7d64a307-d6e2-46e7-97cd-211198e0537e', '8bc7...\n                               ...                        \n7840     ['4708852e-5db3-4c35-be3a-1de2d1304134', '9158...\n7851     ['76574587-dc10-4538-be43-aae7d0cfcbe5', 'd4b7...\n7852              ['663015a0-57c5-400f-8ced-bf98f9f49ce4']\n7841              ['6ecadb13-fc59-4753-9640-df9b5d70b3e8']\n7853              ['edb432f3-df04-465b-850e-92ed23209714']\nName: related_events, Length: 83929, dtype: object"
     },
     "execution_count": 19,
     "metadata": {},
     "output_type": "execute_result"
    }
   ],
   "source": [
    "all_shots[\"related_events\"]"
   ],
   "metadata": {
    "collapsed": false,
    "pycharm": {
     "name": "#%%\n"
    }
   }
  },
  {
   "cell_type": "code",
   "execution_count": 20,
   "outputs": [],
   "source": [
    "# Function to check if each item in the list is in the column\n",
    "def get_items_in_column(lst, column):\n",
    "    found_items = []\n",
    "    for item in lst:\n",
    "        if item in column.values:\n",
    "            found_items.append(item)\n",
    "    return found_items"
   ],
   "metadata": {
    "collapsed": false,
    "pycharm": {
     "name": "#%%\n"
    }
   }
  },
  {
   "cell_type": "markdown",
   "source": [],
   "metadata": {
    "collapsed": false
   }
  },
  {
   "cell_type": "markdown",
   "source": [],
   "metadata": {
    "collapsed": false
   }
  },
  {
   "cell_type": "code",
   "execution_count": 21,
   "outputs": [],
   "source": [
    "key_passes = all_passes[all_passes[\"id\"].isin(all_shots['shot_key_pass_id'])]"
   ],
   "metadata": {
    "collapsed": false,
    "pycharm": {
     "name": "#%%\n"
    }
   }
  },
  {
   "cell_type": "code",
   "execution_count": 22,
   "outputs": [
    {
     "data": {
      "text/plain": "        season_id   match_id counterpress  duration  \\\n46      2015/2016  3890561.0          NaN  1.707827   \n84      2015/2016  3890561.0          NaN  1.635672   \n234     2015/2016  3890505.0          NaN  1.320689   \n268     2015/2016  3890505.0          NaN  1.350540   \n307     2015/2016  3890505.0          NaN  1.571437   \n...           ...        ...          ...       ...   \n686852       2019    69205.0          NaN  2.271377   \n686919       2019    69205.0          NaN  1.689300   \n686929       2019    69205.0          NaN  1.788300   \n686981       2019    69161.0          NaN  1.010200   \n687090       2019    69161.0          NaN  1.260800   \n\n                                          id   index       location  minute  \\\n46      4ab0e3ff-5a97-4248-9903-e760b73751d0  1064.0  [120.0, 80.0]    25.0   \n84      ff2db91c-594c-41bd-a043-e10a22991df7  1824.0   [120.0, 0.1]    45.0   \n234     52eda370-fb40-429e-ab12-5d81cafcc4a1  1290.0   [120.0, 0.1]    32.0   \n268     963ba4f6-1fa1-4ab3-9a61-06fc2e0ac8cc  1893.0  [120.0, 80.0]    49.0   \n307     50726434-2e34-490c-816f-82e538364458  2655.0   [94.0, 49.5]    67.0   \n...                                      ...     ...            ...     ...   \n686852  255fb1c4-fadf-46f9-828f-0f82f87e17ec  1213.0   [94.3, 52.5]    35.0   \n686919  2147eb68-403d-461d-a77d-be722e586a25  2403.0   [88.5, 12.4]    69.0   \n686929  7de2eba5-5785-4242-86b8-5352f8c16440  2547.0  [103.3, 76.4]    79.0   \n686981  80d3d657-572a-4bdf-8d95-547cccf76eef   348.0   [120.0, 0.1]    13.0   \n687090  4f5392cf-d4e4-4e9d-b771-bd50ab09435a  2208.0   [100.4, 0.1]    64.0   \n\n       off_camera  out  ... second                   team team_id  \\\n46            NaN  NaN  ...    2.0             Schalke 04   181.0   \n84            NaN  NaN  ...    9.0             Hoffenheim   175.0   \n234           NaN  NaN  ...   21.0          Bayern Munich   169.0   \n268           NaN  NaN  ...   32.0          Bayern Munich   169.0   \n307           NaN  NaN  ...   57.0    Eintracht Frankfurt   184.0   \n...           ...  ...  ...    ...                    ...     ...   \n686852        NaN  NaN  ...   53.0          Italy Women's   855.0   \n686919        NaN  NaN  ...   15.0    Netherlands Women's   851.0   \n686929        NaN  NaN  ...   23.0    Netherlands Women's   851.0   \n686981        NaN  NaN  ...   18.0  United States Women's  1214.0   \n687090        NaN  NaN  ...    4.0  United States Women's  1214.0   \n\n           timestamp  type under_pressure     competition_id pass_straight  \\\n46      00:25:02.368  Pass            NaN      1. Bundesliga           NaN   \n84      00:45:09.889  Pass            NaN      1. Bundesliga           NaN   \n234     00:32:21.424  Pass            NaN      1. Bundesliga          True   \n268     00:04:32.819  Pass            NaN      1. Bundesliga          True   \n307     00:22:57.501  Pass            NaN      1. Bundesliga           NaN   \n...              ...   ...            ...                ...           ...   \n686852  00:35:53.647  Pass            NaN  Women's World Cup           NaN   \n686919  00:24:15.328  Pass            NaN  Women's World Cup           NaN   \n686929  00:34:23.347  Pass            NaN  Women's World Cup           NaN   \n686981  00:13:18.535  Pass            NaN  Women's World Cup           NaN   \n687090  00:19:04.423  Pass            NaN  Women's World Cup           NaN   \n\n       pass_miscommunication pass_backheel  \n46                       NaN           NaN  \n84                       NaN           NaN  \n234                      NaN           NaN  \n268                      NaN           NaN  \n307                      NaN           NaN  \n...                      ...           ...  \n686852                   NaN           NaN  \n686919                   NaN           NaN  \n686929                   NaN           NaN  \n686981                   NaN           NaN  \n687090                   NaN           NaN  \n\n[12221 rows x 50 columns]",
      "text/html": "<div>\n<style scoped>\n    .dataframe tbody tr th:only-of-type {\n        vertical-align: middle;\n    }\n\n    .dataframe tbody tr th {\n        vertical-align: top;\n    }\n\n    .dataframe thead th {\n        text-align: right;\n    }\n</style>\n<table border=\"1\" class=\"dataframe\">\n  <thead>\n    <tr style=\"text-align: right;\">\n      <th></th>\n      <th>season_id</th>\n      <th>match_id</th>\n      <th>counterpress</th>\n      <th>duration</th>\n      <th>id</th>\n      <th>index</th>\n      <th>location</th>\n      <th>minute</th>\n      <th>off_camera</th>\n      <th>out</th>\n      <th>...</th>\n      <th>second</th>\n      <th>team</th>\n      <th>team_id</th>\n      <th>timestamp</th>\n      <th>type</th>\n      <th>under_pressure</th>\n      <th>competition_id</th>\n      <th>pass_straight</th>\n      <th>pass_miscommunication</th>\n      <th>pass_backheel</th>\n    </tr>\n  </thead>\n  <tbody>\n    <tr>\n      <th>46</th>\n      <td>2015/2016</td>\n      <td>3890561.0</td>\n      <td>NaN</td>\n      <td>1.707827</td>\n      <td>4ab0e3ff-5a97-4248-9903-e760b73751d0</td>\n      <td>1064.0</td>\n      <td>[120.0, 80.0]</td>\n      <td>25.0</td>\n      <td>NaN</td>\n      <td>NaN</td>\n      <td>...</td>\n      <td>2.0</td>\n      <td>Schalke 04</td>\n      <td>181.0</td>\n      <td>00:25:02.368</td>\n      <td>Pass</td>\n      <td>NaN</td>\n      <td>1. Bundesliga</td>\n      <td>NaN</td>\n      <td>NaN</td>\n      <td>NaN</td>\n    </tr>\n    <tr>\n      <th>84</th>\n      <td>2015/2016</td>\n      <td>3890561.0</td>\n      <td>NaN</td>\n      <td>1.635672</td>\n      <td>ff2db91c-594c-41bd-a043-e10a22991df7</td>\n      <td>1824.0</td>\n      <td>[120.0, 0.1]</td>\n      <td>45.0</td>\n      <td>NaN</td>\n      <td>NaN</td>\n      <td>...</td>\n      <td>9.0</td>\n      <td>Hoffenheim</td>\n      <td>175.0</td>\n      <td>00:45:09.889</td>\n      <td>Pass</td>\n      <td>NaN</td>\n      <td>1. Bundesliga</td>\n      <td>NaN</td>\n      <td>NaN</td>\n      <td>NaN</td>\n    </tr>\n    <tr>\n      <th>234</th>\n      <td>2015/2016</td>\n      <td>3890505.0</td>\n      <td>NaN</td>\n      <td>1.320689</td>\n      <td>52eda370-fb40-429e-ab12-5d81cafcc4a1</td>\n      <td>1290.0</td>\n      <td>[120.0, 0.1]</td>\n      <td>32.0</td>\n      <td>NaN</td>\n      <td>NaN</td>\n      <td>...</td>\n      <td>21.0</td>\n      <td>Bayern Munich</td>\n      <td>169.0</td>\n      <td>00:32:21.424</td>\n      <td>Pass</td>\n      <td>NaN</td>\n      <td>1. Bundesliga</td>\n      <td>True</td>\n      <td>NaN</td>\n      <td>NaN</td>\n    </tr>\n    <tr>\n      <th>268</th>\n      <td>2015/2016</td>\n      <td>3890505.0</td>\n      <td>NaN</td>\n      <td>1.350540</td>\n      <td>963ba4f6-1fa1-4ab3-9a61-06fc2e0ac8cc</td>\n      <td>1893.0</td>\n      <td>[120.0, 80.0]</td>\n      <td>49.0</td>\n      <td>NaN</td>\n      <td>NaN</td>\n      <td>...</td>\n      <td>32.0</td>\n      <td>Bayern Munich</td>\n      <td>169.0</td>\n      <td>00:04:32.819</td>\n      <td>Pass</td>\n      <td>NaN</td>\n      <td>1. Bundesliga</td>\n      <td>True</td>\n      <td>NaN</td>\n      <td>NaN</td>\n    </tr>\n    <tr>\n      <th>307</th>\n      <td>2015/2016</td>\n      <td>3890505.0</td>\n      <td>NaN</td>\n      <td>1.571437</td>\n      <td>50726434-2e34-490c-816f-82e538364458</td>\n      <td>2655.0</td>\n      <td>[94.0, 49.5]</td>\n      <td>67.0</td>\n      <td>NaN</td>\n      <td>NaN</td>\n      <td>...</td>\n      <td>57.0</td>\n      <td>Eintracht Frankfurt</td>\n      <td>184.0</td>\n      <td>00:22:57.501</td>\n      <td>Pass</td>\n      <td>NaN</td>\n      <td>1. Bundesliga</td>\n      <td>NaN</td>\n      <td>NaN</td>\n      <td>NaN</td>\n    </tr>\n    <tr>\n      <th>...</th>\n      <td>...</td>\n      <td>...</td>\n      <td>...</td>\n      <td>...</td>\n      <td>...</td>\n      <td>...</td>\n      <td>...</td>\n      <td>...</td>\n      <td>...</td>\n      <td>...</td>\n      <td>...</td>\n      <td>...</td>\n      <td>...</td>\n      <td>...</td>\n      <td>...</td>\n      <td>...</td>\n      <td>...</td>\n      <td>...</td>\n      <td>...</td>\n      <td>...</td>\n      <td>...</td>\n    </tr>\n    <tr>\n      <th>686852</th>\n      <td>2019</td>\n      <td>69205.0</td>\n      <td>NaN</td>\n      <td>2.271377</td>\n      <td>255fb1c4-fadf-46f9-828f-0f82f87e17ec</td>\n      <td>1213.0</td>\n      <td>[94.3, 52.5]</td>\n      <td>35.0</td>\n      <td>NaN</td>\n      <td>NaN</td>\n      <td>...</td>\n      <td>53.0</td>\n      <td>Italy Women's</td>\n      <td>855.0</td>\n      <td>00:35:53.647</td>\n      <td>Pass</td>\n      <td>NaN</td>\n      <td>Women's World Cup</td>\n      <td>NaN</td>\n      <td>NaN</td>\n      <td>NaN</td>\n    </tr>\n    <tr>\n      <th>686919</th>\n      <td>2019</td>\n      <td>69205.0</td>\n      <td>NaN</td>\n      <td>1.689300</td>\n      <td>2147eb68-403d-461d-a77d-be722e586a25</td>\n      <td>2403.0</td>\n      <td>[88.5, 12.4]</td>\n      <td>69.0</td>\n      <td>NaN</td>\n      <td>NaN</td>\n      <td>...</td>\n      <td>15.0</td>\n      <td>Netherlands Women's</td>\n      <td>851.0</td>\n      <td>00:24:15.328</td>\n      <td>Pass</td>\n      <td>NaN</td>\n      <td>Women's World Cup</td>\n      <td>NaN</td>\n      <td>NaN</td>\n      <td>NaN</td>\n    </tr>\n    <tr>\n      <th>686929</th>\n      <td>2019</td>\n      <td>69205.0</td>\n      <td>NaN</td>\n      <td>1.788300</td>\n      <td>7de2eba5-5785-4242-86b8-5352f8c16440</td>\n      <td>2547.0</td>\n      <td>[103.3, 76.4]</td>\n      <td>79.0</td>\n      <td>NaN</td>\n      <td>NaN</td>\n      <td>...</td>\n      <td>23.0</td>\n      <td>Netherlands Women's</td>\n      <td>851.0</td>\n      <td>00:34:23.347</td>\n      <td>Pass</td>\n      <td>NaN</td>\n      <td>Women's World Cup</td>\n      <td>NaN</td>\n      <td>NaN</td>\n      <td>NaN</td>\n    </tr>\n    <tr>\n      <th>686981</th>\n      <td>2019</td>\n      <td>69161.0</td>\n      <td>NaN</td>\n      <td>1.010200</td>\n      <td>80d3d657-572a-4bdf-8d95-547cccf76eef</td>\n      <td>348.0</td>\n      <td>[120.0, 0.1]</td>\n      <td>13.0</td>\n      <td>NaN</td>\n      <td>NaN</td>\n      <td>...</td>\n      <td>18.0</td>\n      <td>United States Women's</td>\n      <td>1214.0</td>\n      <td>00:13:18.535</td>\n      <td>Pass</td>\n      <td>NaN</td>\n      <td>Women's World Cup</td>\n      <td>NaN</td>\n      <td>NaN</td>\n      <td>NaN</td>\n    </tr>\n    <tr>\n      <th>687090</th>\n      <td>2019</td>\n      <td>69161.0</td>\n      <td>NaN</td>\n      <td>1.260800</td>\n      <td>4f5392cf-d4e4-4e9d-b771-bd50ab09435a</td>\n      <td>2208.0</td>\n      <td>[100.4, 0.1]</td>\n      <td>64.0</td>\n      <td>NaN</td>\n      <td>NaN</td>\n      <td>...</td>\n      <td>4.0</td>\n      <td>United States Women's</td>\n      <td>1214.0</td>\n      <td>00:19:04.423</td>\n      <td>Pass</td>\n      <td>NaN</td>\n      <td>Women's World Cup</td>\n      <td>NaN</td>\n      <td>NaN</td>\n      <td>NaN</td>\n    </tr>\n  </tbody>\n</table>\n<p>12221 rows × 50 columns</p>\n</div>"
     },
     "execution_count": 22,
     "metadata": {},
     "output_type": "execute_result"
    }
   ],
   "source": [
    "key_passes"
   ],
   "metadata": {
    "collapsed": false,
    "pycharm": {
     "name": "#%%\n"
    }
   }
  },
  {
   "cell_type": "code",
   "execution_count": 23,
   "outputs": [
    {
     "data": {
      "text/plain": "        duration  pass_angle  pass_type  pass_height  pass_length  \\\n46      1.707827   -1.850475     Corner    High Pass    39.848340   \n84      1.635672    1.716809     Corner    High Pass    37.802250   \n234     1.320689    1.778707     Corner    High Pass    37.303352   \n268     1.350540   -1.871810     Corner     Low Pass    35.077200   \n307     1.571437   -1.551568   Recovery    High Pass    10.401923   \n...          ...         ...        ...          ...          ...   \n686852  2.271377   -1.125219   Recovery  Ground Pass    22.274874   \n686919  1.689300    0.895606  Free Kick    High Pass    34.717430   \n686929  1.788300   -1.394087  Free Kick    High Pass    42.664387   \n686981  1.010200    1.630133     Corner    High Pass    30.353418   \n687090  1.260800    1.536767   Throw-in     Low Pass    23.513613   \n\n                       pass_assisted_shot_id  \n46      fd99f442-49ae-4724-87e8-2512e4a5d9c6  \n84      4aaf9747-c33d-4f76-bb0f-d25ad1ebe7c6  \n234     749a19ff-d599-4170-a095-79b9865e2b06  \n268     37cdb09d-6504-48cb-a6cc-217790d53b4b  \n307     cffe1d92-0692-47ad-a71b-208c8a52dcc0  \n...                                      ...  \n686852  2c92a25a-2014-4080-b8fd-b69d72092898  \n686919  828295e4-feac-43c4-8b4a-47617f6d2408  \n686929  58997323-8e35-474d-815c-7926e1e143ba  \n686981  4201f68c-764d-45bd-bcfb-96470a72c2e8  \n687090  5582290f-1739-43d7-8d2b-37bcca19b844  \n\n[12221 rows x 6 columns]",
      "text/html": "<div>\n<style scoped>\n    .dataframe tbody tr th:only-of-type {\n        vertical-align: middle;\n    }\n\n    .dataframe tbody tr th {\n        vertical-align: top;\n    }\n\n    .dataframe thead th {\n        text-align: right;\n    }\n</style>\n<table border=\"1\" class=\"dataframe\">\n  <thead>\n    <tr style=\"text-align: right;\">\n      <th></th>\n      <th>duration</th>\n      <th>pass_angle</th>\n      <th>pass_type</th>\n      <th>pass_height</th>\n      <th>pass_length</th>\n      <th>pass_assisted_shot_id</th>\n    </tr>\n  </thead>\n  <tbody>\n    <tr>\n      <th>46</th>\n      <td>1.707827</td>\n      <td>-1.850475</td>\n      <td>Corner</td>\n      <td>High Pass</td>\n      <td>39.848340</td>\n      <td>fd99f442-49ae-4724-87e8-2512e4a5d9c6</td>\n    </tr>\n    <tr>\n      <th>84</th>\n      <td>1.635672</td>\n      <td>1.716809</td>\n      <td>Corner</td>\n      <td>High Pass</td>\n      <td>37.802250</td>\n      <td>4aaf9747-c33d-4f76-bb0f-d25ad1ebe7c6</td>\n    </tr>\n    <tr>\n      <th>234</th>\n      <td>1.320689</td>\n      <td>1.778707</td>\n      <td>Corner</td>\n      <td>High Pass</td>\n      <td>37.303352</td>\n      <td>749a19ff-d599-4170-a095-79b9865e2b06</td>\n    </tr>\n    <tr>\n      <th>268</th>\n      <td>1.350540</td>\n      <td>-1.871810</td>\n      <td>Corner</td>\n      <td>Low Pass</td>\n      <td>35.077200</td>\n      <td>37cdb09d-6504-48cb-a6cc-217790d53b4b</td>\n    </tr>\n    <tr>\n      <th>307</th>\n      <td>1.571437</td>\n      <td>-1.551568</td>\n      <td>Recovery</td>\n      <td>High Pass</td>\n      <td>10.401923</td>\n      <td>cffe1d92-0692-47ad-a71b-208c8a52dcc0</td>\n    </tr>\n    <tr>\n      <th>...</th>\n      <td>...</td>\n      <td>...</td>\n      <td>...</td>\n      <td>...</td>\n      <td>...</td>\n      <td>...</td>\n    </tr>\n    <tr>\n      <th>686852</th>\n      <td>2.271377</td>\n      <td>-1.125219</td>\n      <td>Recovery</td>\n      <td>Ground Pass</td>\n      <td>22.274874</td>\n      <td>2c92a25a-2014-4080-b8fd-b69d72092898</td>\n    </tr>\n    <tr>\n      <th>686919</th>\n      <td>1.689300</td>\n      <td>0.895606</td>\n      <td>Free Kick</td>\n      <td>High Pass</td>\n      <td>34.717430</td>\n      <td>828295e4-feac-43c4-8b4a-47617f6d2408</td>\n    </tr>\n    <tr>\n      <th>686929</th>\n      <td>1.788300</td>\n      <td>-1.394087</td>\n      <td>Free Kick</td>\n      <td>High Pass</td>\n      <td>42.664387</td>\n      <td>58997323-8e35-474d-815c-7926e1e143ba</td>\n    </tr>\n    <tr>\n      <th>686981</th>\n      <td>1.010200</td>\n      <td>1.630133</td>\n      <td>Corner</td>\n      <td>High Pass</td>\n      <td>30.353418</td>\n      <td>4201f68c-764d-45bd-bcfb-96470a72c2e8</td>\n    </tr>\n    <tr>\n      <th>687090</th>\n      <td>1.260800</td>\n      <td>1.536767</td>\n      <td>Throw-in</td>\n      <td>Low Pass</td>\n      <td>23.513613</td>\n      <td>5582290f-1739-43d7-8d2b-37bcca19b844</td>\n    </tr>\n  </tbody>\n</table>\n<p>12221 rows × 6 columns</p>\n</div>"
     },
     "execution_count": 23,
     "metadata": {},
     "output_type": "execute_result"
    }
   ],
   "source": [
    "key_passes[[\"duration\", \"pass_angle\", \"pass_type\", \"pass_height\", \"pass_length\", \"pass_assisted_shot_id\"]]"
   ],
   "metadata": {
    "collapsed": false,
    "pycharm": {
     "name": "#%%\n"
    }
   }
  },
  {
   "cell_type": "code",
   "execution_count": 24,
   "outputs": [],
   "source": [
    "key_passes[\"pass_duration\"] = key_passes[\"duration\"]\n",
    "\n",
    "all_shots = pd.merge(all_shots, key_passes[[\"pass_duration\", \"pass_angle\", \"pass_type\", \"pass_height\", \"pass_length\", \"pass_assisted_shot_id\"]], how='left', left_on='id', right_on='pass_assisted_shot_id', suffixes=(\"\", \"\"))\n",
    "all_shots = all_shots.drop(\"pass_assisted_shot_id\", axis=1)"
   ],
   "metadata": {
    "collapsed": false,
    "pycharm": {
     "name": "#%%\n"
    }
   }
  },
  {
   "cell_type": "code",
   "execution_count": 25,
   "outputs": [],
   "source": [
    "possession_passes = all_passes.groupby([\"match_id\", \"possession\"]).agg({\n",
    "    'match_id': 'first',\n",
    "    'possession': 'first',\n",
    "    'duration': 'count'\n",
    "}).reset_index(drop=True)\n",
    "possession_passes[\"num_passes\"] = possession_passes[\"duration\"]\n",
    "possession_passes = possession_passes.drop(\"duration\", axis=1)\n",
    "\n",
    "all_shots = pd.merge(all_shots, possession_passes, how='left', on=[\"match_id\", \"possession\"])"
   ],
   "metadata": {
    "collapsed": false,
    "pycharm": {
     "name": "#%%\n"
    }
   }
  },
  {
   "cell_type": "code",
   "execution_count": 26,
   "outputs": [
    {
     "data": {
      "text/plain": "       season_id   match_id  duration                                    id  \\\n0      2018/2019     7298.0  0.560000  9b82eaa3-2048-4157-aa9a-eabeb4fa0ebe   \n1      2018/2019     7298.0  0.613000  62a616ea-6791-422c-af80-1683d22bb9f5   \n2      2018/2019     7298.0  0.400000  3279e6e0-c796-4871-aaaa-75344dc903b8   \n3      2018/2019     7298.0  0.120000  28c07afb-53b7-497f-9bb0-1c586c27e2de   \n4      2018/2019     7298.0  0.400000  25dace9c-6bf8-4ada-8a4f-bad0485141c9   \n...          ...        ...       ...                                   ...   \n83924       2023  3923881.0  1.188547  11ac245b-fffb-43b9-a9ab-2953e50e1759   \n83925       2023  3923881.0  0.314267  bded325e-4b96-41d1-992d-3942344b5902   \n83926       2023  3923881.0  1.510618  3e369ccb-5ae2-45cf-8eb8-f24aec5e9e9d   \n83927       2023  3923881.0  1.050901  be20d643-eda2-46b4-bd3c-c305e5ce7725   \n83928       2023  3923881.0  1.079523  a95de9f0-7147-409d-a2cc-23dbc847b137   \n\n        index       location  minute off_camera   out  period  ...  \\\n0        42.0  [115.0, 25.0]     0.0        NaN   NaN     1.0  ...   \n1      2096.0  [114.0, 34.0]    47.0        NaN   NaN     2.0  ...   \n2      2136.0  [115.0, 41.0]    48.0        NaN   NaN     2.0  ...   \n3      2154.0  [109.0, 39.0]    49.0        NaN   NaN     2.0  ...   \n4       237.0  [109.0, 51.0]     5.0        NaN   NaN     1.0  ...   \n...       ...            ...     ...        ...   ...     ...  ...   \n83924  1011.0  [112.1, 44.3]    37.0        NaN   NaN     1.0  ...   \n83925  2483.0  [102.9, 46.8]    89.0        NaN   NaN     2.0  ...   \n83926  2623.0   [97.4, 55.3]    93.0        NaN  True     2.0  ...   \n83927  1348.0   [87.2, 34.1]    49.0        NaN   NaN     1.0  ...   \n83928  2657.0   [91.0, 44.4]    95.0        NaN   NaN     2.0  ...   \n\n      shot_saved_off_target shot_saved_to_post  shot_follows_dribble  \\\n0                       NaN                NaN                   NaN   \n1                       NaN                NaN                   NaN   \n2                       NaN                NaN                   NaN   \n3                       NaN                NaN                   NaN   \n4                       NaN                NaN                   NaN   \n...                     ...                ...                   ...   \n83924                   NaN                NaN                   NaN   \n83925                   NaN                NaN                   NaN   \n83926                   NaN                NaN                   NaN   \n83927                   NaN                NaN                   NaN   \n83928                   NaN                NaN                   NaN   \n\n      shot_kick_off  pass_duration pass_angle     pass_type pass_height  \\\n0               NaN            NaN        NaN           NaN         NaN   \n1               NaN            NaN        NaN           NaN         NaN   \n2               NaN            NaN        NaN           NaN         NaN   \n3               NaN           1.12   0.927295  Interception    Low Pass   \n4               NaN            NaN        NaN           NaN         NaN   \n...             ...            ...        ...           ...         ...   \n83924           NaN            NaN        NaN           NaN         NaN   \n83925           NaN            NaN        NaN           NaN         NaN   \n83926           NaN            NaN        NaN           NaN         NaN   \n83927           NaN            NaN        NaN           NaN         NaN   \n83928           NaN            NaN        NaN           NaN         NaN   \n\n       pass_length num_passes  \n0              NaN        NaN  \n1              NaN        NaN  \n2              NaN        NaN  \n3             10.0        1.0  \n4              NaN        1.0  \n...            ...        ...  \n83924          NaN        1.0  \n83925          NaN        5.0  \n83926          NaN        1.0  \n83927          NaN        NaN  \n83928          NaN        3.0  \n\n[83929 rows x 49 columns]",
      "text/html": "<div>\n<style scoped>\n    .dataframe tbody tr th:only-of-type {\n        vertical-align: middle;\n    }\n\n    .dataframe tbody tr th {\n        vertical-align: top;\n    }\n\n    .dataframe thead th {\n        text-align: right;\n    }\n</style>\n<table border=\"1\" class=\"dataframe\">\n  <thead>\n    <tr style=\"text-align: right;\">\n      <th></th>\n      <th>season_id</th>\n      <th>match_id</th>\n      <th>duration</th>\n      <th>id</th>\n      <th>index</th>\n      <th>location</th>\n      <th>minute</th>\n      <th>off_camera</th>\n      <th>out</th>\n      <th>period</th>\n      <th>...</th>\n      <th>shot_saved_off_target</th>\n      <th>shot_saved_to_post</th>\n      <th>shot_follows_dribble</th>\n      <th>shot_kick_off</th>\n      <th>pass_duration</th>\n      <th>pass_angle</th>\n      <th>pass_type</th>\n      <th>pass_height</th>\n      <th>pass_length</th>\n      <th>num_passes</th>\n    </tr>\n  </thead>\n  <tbody>\n    <tr>\n      <th>0</th>\n      <td>2018/2019</td>\n      <td>7298.0</td>\n      <td>0.560000</td>\n      <td>9b82eaa3-2048-4157-aa9a-eabeb4fa0ebe</td>\n      <td>42.0</td>\n      <td>[115.0, 25.0]</td>\n      <td>0.0</td>\n      <td>NaN</td>\n      <td>NaN</td>\n      <td>1.0</td>\n      <td>...</td>\n      <td>NaN</td>\n      <td>NaN</td>\n      <td>NaN</td>\n      <td>NaN</td>\n      <td>NaN</td>\n      <td>NaN</td>\n      <td>NaN</td>\n      <td>NaN</td>\n      <td>NaN</td>\n      <td>NaN</td>\n    </tr>\n    <tr>\n      <th>1</th>\n      <td>2018/2019</td>\n      <td>7298.0</td>\n      <td>0.613000</td>\n      <td>62a616ea-6791-422c-af80-1683d22bb9f5</td>\n      <td>2096.0</td>\n      <td>[114.0, 34.0]</td>\n      <td>47.0</td>\n      <td>NaN</td>\n      <td>NaN</td>\n      <td>2.0</td>\n      <td>...</td>\n      <td>NaN</td>\n      <td>NaN</td>\n      <td>NaN</td>\n      <td>NaN</td>\n      <td>NaN</td>\n      <td>NaN</td>\n      <td>NaN</td>\n      <td>NaN</td>\n      <td>NaN</td>\n      <td>NaN</td>\n    </tr>\n    <tr>\n      <th>2</th>\n      <td>2018/2019</td>\n      <td>7298.0</td>\n      <td>0.400000</td>\n      <td>3279e6e0-c796-4871-aaaa-75344dc903b8</td>\n      <td>2136.0</td>\n      <td>[115.0, 41.0]</td>\n      <td>48.0</td>\n      <td>NaN</td>\n      <td>NaN</td>\n      <td>2.0</td>\n      <td>...</td>\n      <td>NaN</td>\n      <td>NaN</td>\n      <td>NaN</td>\n      <td>NaN</td>\n      <td>NaN</td>\n      <td>NaN</td>\n      <td>NaN</td>\n      <td>NaN</td>\n      <td>NaN</td>\n      <td>NaN</td>\n    </tr>\n    <tr>\n      <th>3</th>\n      <td>2018/2019</td>\n      <td>7298.0</td>\n      <td>0.120000</td>\n      <td>28c07afb-53b7-497f-9bb0-1c586c27e2de</td>\n      <td>2154.0</td>\n      <td>[109.0, 39.0]</td>\n      <td>49.0</td>\n      <td>NaN</td>\n      <td>NaN</td>\n      <td>2.0</td>\n      <td>...</td>\n      <td>NaN</td>\n      <td>NaN</td>\n      <td>NaN</td>\n      <td>NaN</td>\n      <td>1.12</td>\n      <td>0.927295</td>\n      <td>Interception</td>\n      <td>Low Pass</td>\n      <td>10.0</td>\n      <td>1.0</td>\n    </tr>\n    <tr>\n      <th>4</th>\n      <td>2018/2019</td>\n      <td>7298.0</td>\n      <td>0.400000</td>\n      <td>25dace9c-6bf8-4ada-8a4f-bad0485141c9</td>\n      <td>237.0</td>\n      <td>[109.0, 51.0]</td>\n      <td>5.0</td>\n      <td>NaN</td>\n      <td>NaN</td>\n      <td>1.0</td>\n      <td>...</td>\n      <td>NaN</td>\n      <td>NaN</td>\n      <td>NaN</td>\n      <td>NaN</td>\n      <td>NaN</td>\n      <td>NaN</td>\n      <td>NaN</td>\n      <td>NaN</td>\n      <td>NaN</td>\n      <td>1.0</td>\n    </tr>\n    <tr>\n      <th>...</th>\n      <td>...</td>\n      <td>...</td>\n      <td>...</td>\n      <td>...</td>\n      <td>...</td>\n      <td>...</td>\n      <td>...</td>\n      <td>...</td>\n      <td>...</td>\n      <td>...</td>\n      <td>...</td>\n      <td>...</td>\n      <td>...</td>\n      <td>...</td>\n      <td>...</td>\n      <td>...</td>\n      <td>...</td>\n      <td>...</td>\n      <td>...</td>\n      <td>...</td>\n      <td>...</td>\n    </tr>\n    <tr>\n      <th>83924</th>\n      <td>2023</td>\n      <td>3923881.0</td>\n      <td>1.188547</td>\n      <td>11ac245b-fffb-43b9-a9ab-2953e50e1759</td>\n      <td>1011.0</td>\n      <td>[112.1, 44.3]</td>\n      <td>37.0</td>\n      <td>NaN</td>\n      <td>NaN</td>\n      <td>1.0</td>\n      <td>...</td>\n      <td>NaN</td>\n      <td>NaN</td>\n      <td>NaN</td>\n      <td>NaN</td>\n      <td>NaN</td>\n      <td>NaN</td>\n      <td>NaN</td>\n      <td>NaN</td>\n      <td>NaN</td>\n      <td>1.0</td>\n    </tr>\n    <tr>\n      <th>83925</th>\n      <td>2023</td>\n      <td>3923881.0</td>\n      <td>0.314267</td>\n      <td>bded325e-4b96-41d1-992d-3942344b5902</td>\n      <td>2483.0</td>\n      <td>[102.9, 46.8]</td>\n      <td>89.0</td>\n      <td>NaN</td>\n      <td>NaN</td>\n      <td>2.0</td>\n      <td>...</td>\n      <td>NaN</td>\n      <td>NaN</td>\n      <td>NaN</td>\n      <td>NaN</td>\n      <td>NaN</td>\n      <td>NaN</td>\n      <td>NaN</td>\n      <td>NaN</td>\n      <td>NaN</td>\n      <td>5.0</td>\n    </tr>\n    <tr>\n      <th>83926</th>\n      <td>2023</td>\n      <td>3923881.0</td>\n      <td>1.510618</td>\n      <td>3e369ccb-5ae2-45cf-8eb8-f24aec5e9e9d</td>\n      <td>2623.0</td>\n      <td>[97.4, 55.3]</td>\n      <td>93.0</td>\n      <td>NaN</td>\n      <td>True</td>\n      <td>2.0</td>\n      <td>...</td>\n      <td>NaN</td>\n      <td>NaN</td>\n      <td>NaN</td>\n      <td>NaN</td>\n      <td>NaN</td>\n      <td>NaN</td>\n      <td>NaN</td>\n      <td>NaN</td>\n      <td>NaN</td>\n      <td>1.0</td>\n    </tr>\n    <tr>\n      <th>83927</th>\n      <td>2023</td>\n      <td>3923881.0</td>\n      <td>1.050901</td>\n      <td>be20d643-eda2-46b4-bd3c-c305e5ce7725</td>\n      <td>1348.0</td>\n      <td>[87.2, 34.1]</td>\n      <td>49.0</td>\n      <td>NaN</td>\n      <td>NaN</td>\n      <td>1.0</td>\n      <td>...</td>\n      <td>NaN</td>\n      <td>NaN</td>\n      <td>NaN</td>\n      <td>NaN</td>\n      <td>NaN</td>\n      <td>NaN</td>\n      <td>NaN</td>\n      <td>NaN</td>\n      <td>NaN</td>\n      <td>NaN</td>\n    </tr>\n    <tr>\n      <th>83928</th>\n      <td>2023</td>\n      <td>3923881.0</td>\n      <td>1.079523</td>\n      <td>a95de9f0-7147-409d-a2cc-23dbc847b137</td>\n      <td>2657.0</td>\n      <td>[91.0, 44.4]</td>\n      <td>95.0</td>\n      <td>NaN</td>\n      <td>NaN</td>\n      <td>2.0</td>\n      <td>...</td>\n      <td>NaN</td>\n      <td>NaN</td>\n      <td>NaN</td>\n      <td>NaN</td>\n      <td>NaN</td>\n      <td>NaN</td>\n      <td>NaN</td>\n      <td>NaN</td>\n      <td>NaN</td>\n      <td>3.0</td>\n    </tr>\n  </tbody>\n</table>\n<p>83929 rows × 49 columns</p>\n</div>"
     },
     "execution_count": 26,
     "metadata": {},
     "output_type": "execute_result"
    }
   ],
   "source": [
    "all_shots"
   ],
   "metadata": {
    "collapsed": false,
    "pycharm": {
     "name": "#%%\n"
    }
   }
  },
  {
   "cell_type": "code",
   "execution_count": 27,
   "outputs": [],
   "source": [
    "# extract relevant attributes from the all_shots dataframe\n",
    "data = pd.DataFrame()\n",
    "\n",
    "# time attributes\n",
    "data[\"period\"] = all_shots[\"period\"]\n",
    "data[\"minute\"] = all_shots[\"minute\"]\n",
    "data[\"possession\"] = all_shots[\"possession\"]\n",
    "data[\"duration\"] = all_shots[\"duration\"]\n",
    "data[\"season_id\"] = all_shots[\"season_id\"]\n",
    "data[\"match_id\"] = all_shots[\"match_id\"]\n",
    "data[\"timestamp\"] = all_shots[\"timestamp\"]\n",
    "data[\"team\"] = all_shots[\"team\"]\n",
    "\n",
    "data = data.sort_values(by=[\"match_id\", \"timestamp\"])"
   ],
   "metadata": {
    "collapsed": false,
    "pycharm": {
     "name": "#%%\n"
    }
   }
  },
  {
   "cell_type": "code",
   "execution_count": 28,
   "outputs": [],
   "source": [
    "# qualitative attributes\n",
    "data[\"play_pattern\"] = all_shots[\"play_pattern\"]\n",
    "data[\"position\"] = all_shots[\"position\"]"
   ],
   "metadata": {
    "collapsed": false,
    "pycharm": {
     "name": "#%%\n"
    }
   }
  },
  {
   "cell_type": "code",
   "execution_count": 29,
   "outputs": [],
   "source": [
    "# shot attributes\n",
    "data[\"location_x\"] = all_shots[\"location\"].apply(lambda x: ast.literal_eval(x)[0])\n",
    "data[\"location_x_distance\"] = 120 - data[\"location_x\"]\n",
    "data[\"location_y\"] = all_shots[\"location\"].apply(lambda x: ast.literal_eval(x)[1])\n",
    "data[\"location_y_distance\"] = abs(data[\"location_y\"] - 40)\n",
    "data[\"duration\"] = all_shots[\"duration\"].apply(lambda x: x if x < 100 else 0)\n",
    "data[\"technique\"] = all_shots[\"shot_technique\"]\n",
    "data[\"body_part\"] = all_shots[\"shot_body_part\"]\n",
    "data[\"type\"] = all_shots[\"shot_type\"]\n",
    "data[\"is_penalty\"] = all_shots[\"shot_type\"] == \"Penalty\"\n",
    "data[\"is_header\"] = all_shots[\"shot_body_part\"] == \"Head\""
   ],
   "metadata": {
    "collapsed": false,
    "pycharm": {
     "name": "#%%\n"
    }
   }
  },
  {
   "cell_type": "code",
   "execution_count": 30,
   "outputs": [],
   "source": [
    "# shot modifiers\n",
    "data[\"first_time\"] = all_shots[\"shot_first_time\"].fillna(False)\n",
    "data[\"open_goal\"] = all_shots[\"shot_open_goal\"].fillna(False)\n",
    "data[\"one_on_one\"] = all_shots[\"shot_one_on_one\"].fillna(False)\n",
    "data[\"aerial_won\"] = all_shots[\"shot_aerial_won\"].fillna(False)\n",
    "data[\"follows_dribble\"] = all_shots[\"shot_follows_dribble\"].fillna(False)\n",
    "data[\"under_pressure\"] = all_shots[\"under_pressure\"].fillna(False)"
   ],
   "metadata": {
    "collapsed": false,
    "pycharm": {
     "name": "#%%\n"
    }
   }
  },
  {
   "cell_type": "code",
   "execution_count": 31,
   "outputs": [],
   "source": [
    "# preceding pass attributes\n",
    "data[\"pass_duration\"] = all_shots[\"pass_duration\"].fillna(all_shots[\"pass_duration\"].mean())\n",
    "data[\"pass_angle\"] = all_shots[\"pass_angle\"].fillna(all_shots[\"pass_angle\"].mean())\n",
    "data[\"pass_type\"] = all_shots[\"pass_type\"].fillna(\"Missing\")\n",
    "data[\"pass_height\"] = all_shots[\"pass_height\"].fillna(\"Missing\")\n",
    "data[\"pass_length\"] = all_shots[\"pass_length\"].fillna(all_shots[\"pass_length\"].mean())\n",
    "data[\"num_passes\"] = all_shots[\"num_passes\"].fillna(0)"
   ],
   "metadata": {
    "collapsed": false,
    "pycharm": {
     "name": "#%%\n"
    }
   }
  },
  {
   "cell_type": "code",
   "execution_count": 32,
   "outputs": [
    {
     "data": {
      "text/plain": "                                               opponents           shot  \\\n0      [[[112.0, 28.0], Right Back], [[103.0, 50.0], ...  (115.0, 25.0)   \n1      [[[111.0, 41.0], Right Center Back], [[97.0, 4...  (114.0, 34.0)   \n2      [[[106.0, 21.0], Right Midfield], [[112.0, 46....  (115.0, 41.0)   \n3      [[[109.0, 31.0], Right Center Midfield], [[103...  (109.0, 39.0)   \n4      [[[106.0, 42.0], Right Center Midfield], [[115...  (109.0, 51.0)   \n...                                                  ...            ...   \n83924  [[[114.0, 43.2], Right Center Midfield], [[112...  (112.1, 44.3)   \n83925  [[[96.3, 37.3], Right Wing], [[106.0, 44.9], R...  (102.9, 46.8)   \n83926  [[[117.6, 41.3], Goalkeeper], [[95.6, 56.9], C...   (97.4, 55.3)   \n83927  [[[101.3, 20.0], Right Wing Back], [[95.3, 13....   (87.2, 34.1)   \n83928  [[[102.8, 43.1], Center Forward], [[109.7, 39....   (91.0, 44.4)   \n\n          goalkeeper  \n0      [120.0, 26.0]  \n1      [119.0, 39.0]  \n2      [118.0, 40.0]  \n3      [119.0, 41.0]  \n4      [119.0, 40.0]  \n...              ...  \n83924  [119.0, 41.7]  \n83925  [116.9, 41.4]  \n83926  [117.6, 41.3]  \n83927  [118.5, 39.4]  \n83928  [117.4, 39.9]  \n\n[83929 rows x 3 columns]",
      "text/html": "<div>\n<style scoped>\n    .dataframe tbody tr th:only-of-type {\n        vertical-align: middle;\n    }\n\n    .dataframe tbody tr th {\n        vertical-align: top;\n    }\n\n    .dataframe thead th {\n        text-align: right;\n    }\n</style>\n<table border=\"1\" class=\"dataframe\">\n  <thead>\n    <tr style=\"text-align: right;\">\n      <th></th>\n      <th>opponents</th>\n      <th>shot</th>\n      <th>goalkeeper</th>\n    </tr>\n  </thead>\n  <tbody>\n    <tr>\n      <th>0</th>\n      <td>[[[112.0, 28.0], Right Back], [[103.0, 50.0], ...</td>\n      <td>(115.0, 25.0)</td>\n      <td>[120.0, 26.0]</td>\n    </tr>\n    <tr>\n      <th>1</th>\n      <td>[[[111.0, 41.0], Right Center Back], [[97.0, 4...</td>\n      <td>(114.0, 34.0)</td>\n      <td>[119.0, 39.0]</td>\n    </tr>\n    <tr>\n      <th>2</th>\n      <td>[[[106.0, 21.0], Right Midfield], [[112.0, 46....</td>\n      <td>(115.0, 41.0)</td>\n      <td>[118.0, 40.0]</td>\n    </tr>\n    <tr>\n      <th>3</th>\n      <td>[[[109.0, 31.0], Right Center Midfield], [[103...</td>\n      <td>(109.0, 39.0)</td>\n      <td>[119.0, 41.0]</td>\n    </tr>\n    <tr>\n      <th>4</th>\n      <td>[[[106.0, 42.0], Right Center Midfield], [[115...</td>\n      <td>(109.0, 51.0)</td>\n      <td>[119.0, 40.0]</td>\n    </tr>\n    <tr>\n      <th>...</th>\n      <td>...</td>\n      <td>...</td>\n      <td>...</td>\n    </tr>\n    <tr>\n      <th>83924</th>\n      <td>[[[114.0, 43.2], Right Center Midfield], [[112...</td>\n      <td>(112.1, 44.3)</td>\n      <td>[119.0, 41.7]</td>\n    </tr>\n    <tr>\n      <th>83925</th>\n      <td>[[[96.3, 37.3], Right Wing], [[106.0, 44.9], R...</td>\n      <td>(102.9, 46.8)</td>\n      <td>[116.9, 41.4]</td>\n    </tr>\n    <tr>\n      <th>83926</th>\n      <td>[[[117.6, 41.3], Goalkeeper], [[95.6, 56.9], C...</td>\n      <td>(97.4, 55.3)</td>\n      <td>[117.6, 41.3]</td>\n    </tr>\n    <tr>\n      <th>83927</th>\n      <td>[[[101.3, 20.0], Right Wing Back], [[95.3, 13....</td>\n      <td>(87.2, 34.1)</td>\n      <td>[118.5, 39.4]</td>\n    </tr>\n    <tr>\n      <th>83928</th>\n      <td>[[[102.8, 43.1], Center Forward], [[109.7, 39....</td>\n      <td>(91.0, 44.4)</td>\n      <td>[117.4, 39.9]</td>\n    </tr>\n  </tbody>\n</table>\n<p>83929 rows × 3 columns</p>\n</div>"
     },
     "execution_count": 32,
     "metadata": {},
     "output_type": "execute_result"
    }
   ],
   "source": [
    "# locations for defensive/goalkeeper attributes\n",
    "locations = pd.DataFrame()\n",
    "locations[\"opponents\"] = all_shots[\"shot_freeze_frame\"].fillna('[{\"location\": [], \"position\": {\"name\": \"\"}, \"teammate\": False}]').apply(lambda frame: [[player[\"location\"], player[\"position\"][\"name\"]] for player in ast.literal_eval(frame) if not player[\"teammate\"]])\n",
    "locations[\"shot\"] = tuple(zip(data[\"location_x\"], data[\"location_y\"]))\n",
    "locations[\"goalkeeper\"] = locations[\"opponents\"].apply(lambda frame: [player[0] for player in frame if player[1] == \"Goalkeeper\"]).apply(lambda x: x[0] if len(x) != 0 else [-1, -1])\n",
    "locations"
   ],
   "metadata": {
    "collapsed": false,
    "pycharm": {
     "name": "#%%\n"
    }
   }
  },
  {
   "cell_type": "code",
   "execution_count": 33,
   "outputs": [],
   "source": [
    "def point_in_triangle(point, a, b, c):\n",
    "    as_x = point[0] - a[0]\n",
    "    as_y = point[1] - a[1]\n",
    "    s_ab = ((b[0] - a[0]) * as_y) - ((b[1] - a[1]) * as_x) > 0\n",
    "\n",
    "    if (((c[0] - a[0]) * as_y) - ((c[1] - a[1]) * as_x) > 0) == s_ab \\\n",
    "            or (((c[0] - b[0]) * (point[1] - b[1])) - ((c[1] - b[1]) * (point[0] - b[0])) > 0) != s_ab:\n",
    "        return False\n",
    "    else:\n",
    "        return True"
   ],
   "metadata": {
    "collapsed": false,
    "pycharm": {
     "name": "#%%\n"
    }
   }
  },
  {
   "cell_type": "code",
   "execution_count": 34,
   "outputs": [],
   "source": [
    "def angle_between_sides(a, b, c):\n",
    "    cos_theta = (a**2 + b**2 - c**2) / (2 * a * b)\n",
    "    theta = math.degrees(math.acos(cos_theta))\n",
    "    return theta"
   ],
   "metadata": {
    "collapsed": false,
    "pycharm": {
     "name": "#%%\n"
    }
   }
  },
  {
   "cell_type": "code",
   "execution_count": 35,
   "outputs": [],
   "source": [
    "def best_distance(point) :\n",
    "\n",
    "    line = (0, 8)\n",
    "    left_line = (point[0] - 120, point[1] - 36)\n",
    "    right_line = (point[0] - 120, point[1] - 44)\n",
    "\n",
    "    line_dot_left = line[0] * left_line[0] + line[1] * left_line[1]\n",
    "    line_dot_right = line[0] * right_line[0] + line[1] * right_line[1]\n",
    "\n",
    "    if line_dot_right > 0:\n",
    "        x = 120 - point[0]\n",
    "        y = 44 - point[1]\n",
    "        return math.sqrt(x * x + y * y)\n",
    "    elif line_dot_left < 0:\n",
    "        x = 120 - point[0]\n",
    "        y = 36 - point[1]\n",
    "        return math.sqrt(x * x + y * y)\n",
    "    else:\n",
    "        return 120 - point[0]"
   ],
   "metadata": {
    "collapsed": false,
    "pycharm": {
     "name": "#%%\n"
    }
   }
  },
  {
   "cell_type": "code",
   "execution_count": 36,
   "outputs": [],
   "source": [
    "# defensive/goalkeeper attributes\n",
    "data[\"defenders_3m_radius\"] = locations.apply(lambda shot: (len([defender for defender in shot[\"opponents\"] if ((defender[0][0]-shot[\"shot\"][0])**2 + (defender[0][1]-shot[\"shot\"][1])**2) < 3**2])) if shot[\"opponents\"] != [[[], '']] else -1, axis=1)\n",
    "data[\"defenders_triangle\"] = locations.apply(lambda shot: (len([defender for defender in shot[\"opponents\"] if point_in_triangle(defender[0], shot[\"shot\"], [120, 36], [120, 44])])) if shot[\"opponents\"] != [[[], '']] else -1, axis=1)\n",
    "\n",
    "data[\"goalkeeper_x\"] = locations[\"goalkeeper\"].apply(lambda x: x[0])\n",
    "data[\"goalkeeper_y\"] = locations[\"goalkeeper\"].apply(lambda x: x[1])\n",
    "data[\"distance_to_goalie\"] = data.apply(lambda x: math.sqrt((x[\"goalkeeper_x\"] - x[\"location_x\"])**2 + (x[\"goalkeeper_y\"] - x[\"location_y\"])**2), axis=1)"
   ],
   "metadata": {
    "collapsed": false,
    "pycharm": {
     "name": "#%%\n"
    }
   }
  },
  {
   "cell_type": "code",
   "execution_count": 37,
   "outputs": [
    {
     "ename": "SyntaxError",
     "evalue": "invalid syntax (1008936511.py, line 6)",
     "output_type": "error",
     "traceback": [
      "\u001B[1;36m  Cell \u001B[1;32mIn[37], line 6\u001B[1;36m\u001B[0m\n\u001B[1;33m    data[\"goalie_error\"] = points.apply(lambda point: )\u001B[0m\n\u001B[1;37m                                                      ^\u001B[0m\n\u001B[1;31mSyntaxError\u001B[0m\u001B[1;31m:\u001B[0m invalid syntax\n"
     ]
    }
   ],
   "source": [
    "# angle/location attributes\n",
    "points = pd.Series(zip(data['location_x'].replace(120.0, 119.9), data['location_y']))\n",
    "data[\"shooting_range\"] = points.apply(lambda point: angle_between_sides(math.dist(point, (120, 36)), math.dist((120, 44), point), 8))\n",
    "data[\"goal_distance\"] = points.apply(lambda point: math.dist(point, (120, 40)))\n",
    "data[\"best_distance\"] = points.apply(lambda point: best_distance(point))"
   ],
   "metadata": {
    "collapsed": false,
    "pycharm": {
     "name": "#%%\n"
    }
   }
  },
  {
   "cell_type": "code",
   "execution_count": null,
   "outputs": [],
   "source": [
    "# target variables\n",
    "data[\"statsbomb_xg\"] = all_shots[\"shot_statsbomb_xg\"].apply(lambda x: float(x))\n",
    "data[\"end_location_x\"] = all_shots[\"shot_end_location\"].apply(lambda x: ast.literal_eval(x)[0])\n",
    "data[\"end_location_y\"] = all_shots[\"shot_end_location\"].apply(lambda x: ast.literal_eval(x)[1])\n",
    "data[\"is_goal\"] = all_shots[\"shot_outcome\"].apply(lambda x: True if x == \"Goal\" else False)"
   ],
   "metadata": {
    "collapsed": false,
    "pycharm": {
     "name": "#%%\n"
    }
   }
  },
  {
   "cell_type": "code",
   "execution_count": null,
   "outputs": [],
   "source": [
    "data[\"shot_angle\"] =  data.apply(lambda x: math.atan2((x[\"end_location_y\"] - x[\"location_y\"]), (x[\"end_location_x\"] - x[\"location_x\"])), axis=1)\n",
    "data[\"good_foot\"] = data.apply(lambda shot: True if ((shot[\"body_part\"] == \"Right Foot\" and shot[\"location_y\"] < 42) or (shot[\"body_part\"] == \"Left Foot\" and shot[\"location_y\"] > 42)) else False, axis=1)"
   ],
   "metadata": {
    "collapsed": false,
    "pycharm": {
     "name": "#%%\n"
    }
   }
  },
  {
   "cell_type": "code",
   "execution_count": null,
   "outputs": [],
   "source": [
    "data[\"shots_so_far\"] = all_shots.groupby([\"match_id\", \"team\"])[\"timestamp\"].cumcount()\n",
    "data[\"xg_so_far\"] = all_shots.groupby([\"match_id\", \"team\"])[\"shot_statsbomb_xg\"].cumsum()\n",
    "data[\"xg_so_far\"] = data[\"xg_so_far\"] - data[\"statsbomb_xg\"]\n",
    "\n",
    "all_goals = all_shots[all_shots[\"shot_outcome\"] == \"Goal\"]\n",
    "\n",
    "first_scorers = all_goals.groupby(['match_id']).first()[[\"team\"]]\n",
    "all_goals[\"is_first\"] = all_goals[['match_id', 'team']].apply(tuple, axis=1).isin(list(zip(first_scorers.index, first_scorers[\"team\"])))\n",
    "\n",
    "all_goals[\"first_tally_temp\"] = all_goals[all_goals[\"is_first\"] == True].groupby([\"match_id\", \"is_first\"]).cumcount()\n",
    "all_goals[\"first_tally\"] = all_goals.groupby([\"match_id\"])[\"first_tally_temp\"].fillna(method=\"ffill\")\n",
    "all_goals.loc[all_goals['first_tally_temp'].isnull() & ~all_goals['first_tally'].isnull(), 'first_tally'] = all_goals.loc[all_goals['first_tally_temp'].isnull() & ~all_goals['first_tally'].isnull(), 'first_tally'] + 1\n",
    "\n",
    "all_goals[\"second_tally_temp\"] = all_goals[all_goals[\"is_first\"] == False].groupby([\"match_id\", \"is_first\"]).cumcount()\n",
    "all_goals[\"second_tally\"] = all_goals.groupby([\"match_id\"])[\"second_tally_temp\"].fillna(method=\"ffill\")\n",
    "all_goals.loc[all_goals['second_tally_temp'].isnull() & ~all_goals['second_tally'].isnull(), 'second_tally'] = all_goals.loc[all_goals['second_tally_temp'].isnull() & ~all_goals['second_tally'].isnull(), 'second_tally'] + 1\n",
    "all_goals[\"second_tally\"].fillna(0, inplace=True)\n",
    "\n",
    "all_goals[[\"season_id\", \"match_id\", \"timestamp\", \"team\", \"is_first\", \"first_tally\", \"second_tally\"]].sort_values(by=[\"match_id\", \"timestamp\"])"
   ],
   "metadata": {
    "collapsed": false,
    "pycharm": {
     "name": "#%%\n"
    }
   }
  },
  {
   "cell_type": "code",
   "execution_count": null,
   "outputs": [],
   "source": [
    "data[\"first_tally\"] = all_goals[\"first_tally\"]\n",
    "data[\"second_tally\"] = all_goals[\"second_tally\"]\n",
    "data[[\"season_id\", \"match_id\", \"timestamp\", \"team\", \"is_goal\", \"shots_so_far\", \"xg_so_far\", \"first_tally\", \"second_tally\"]].sort_values(by=[\"match_id\", \"timestamp\"])"
   ],
   "metadata": {
    "collapsed": false,
    "pycharm": {
     "name": "#%%\n"
    }
   }
  },
  {
   "cell_type": "code",
   "execution_count": null,
   "outputs": [],
   "source": [
    "data[\"is_first\"] = data[['match_id', 'team']].apply(tuple, axis=1).isin(list(zip(first_scorers.index, first_scorers[\"team\"])))\n",
    "data[\"first_tally\"] = data[\"first_tally\"].fillna(method=\"bfill\")\n",
    "data[\"second_tally\"] = data[\"second_tally\"].fillna(method=\"bfill\")\n",
    "\n",
    "data[\"row_index\"] = data.index\n",
    "last_goals = data[data[\"is_goal\"] == True].groupby([\"match_id\"]).last()[\"row_index\"]\n",
    "last_shots = data.groupby([\"match_id\"]).last()[\"row_index\"]\n",
    "last_shots = last_shots[last_shots.index.isin(last_goals.index)]\n",
    "\n",
    "for i in range(len(last_goals)):\n",
    "    if last_goals.iloc[i] != last_shots.iloc[i]:\n",
    "        goal = data.iloc[last_goals.iloc[i]]\n",
    "        prop_values = (goal[\"first_tally\"]+1, goal[\"second_tally\"]) if goal[\"is_first\"] else (goal[\"first_tally\"], goal[\"second_tally\"]+1)\n",
    "        data.loc[last_goals.iloc[i]+1 : last_shots.iloc[i], \"first_tally\"] = prop_values[0]\n",
    "        data.loc[last_goals.iloc[i]+1 : last_shots.iloc[i], \"second_tally\"] = prop_values[1]\n",
    "\n",
    "data[[\"season_id\", \"match_id\", \"timestamp\", \"team\", \"is_goal\", \"shots_so_far\", \"xg_so_far\", \"first_tally\", \"second_tally\"]].sort_values(by=[\"match_id\", \"timestamp\"])"
   ],
   "metadata": {
    "collapsed": false,
    "pycharm": {
     "name": "#%%\n"
    }
   }
  },
  {
   "cell_type": "code",
   "execution_count": null,
   "outputs": [],
   "source": [
    "data[\"game_state\"] = data.apply(lambda x: (x[\"first_tally\"] - x[\"second_tally\"]) if x[\"is_first\"] else (x[\"second_tally\"] - x[\"first_tally\"]) ,axis=1)\n",
    "data[\"was_leading\"] = data[\"game_state\"].apply(lambda x: 1 if x > 0 else 0 if x == 0 else -1)\n",
    "\n",
    "data.drop([\"row_index\", \"is_first\", \"first_tally\", \"second_tally\"], axis=1, inplace=True)\n",
    "\n",
    "data[[\"season_id\", \"match_id\", \"timestamp\", \"team\", \"is_goal\", \"shots_so_far\", \"xg_so_far\", \"game_state\", \"was_leading\"]].sort_values(by=[\"match_id\", \"timestamp\"])"
   ],
   "metadata": {
    "collapsed": false,
    "pycharm": {
     "name": "#%%\n"
    }
   }
  },
  {
   "cell_type": "code",
   "execution_count": null,
   "outputs": [],
   "source": [
    "data"
   ],
   "metadata": {
    "collapsed": false,
    "pycharm": {
     "name": "#%%\n"
    }
   }
  },
  {
   "cell_type": "code",
   "execution_count": null,
   "outputs": [],
   "source": [
    "data.nunique()"
   ],
   "metadata": {
    "collapsed": false,
    "pycharm": {
     "name": "#%%\n"
    }
   }
  },
  {
   "cell_type": "code",
   "execution_count": null,
   "outputs": [],
   "source": [
    "data.to_csv(\"./data/augmented_data.csv\", index=False)"
   ],
   "metadata": {
    "collapsed": false,
    "pycharm": {
     "name": "#%%\n"
    }
   }
  },
  {
   "cell_type": "code",
   "execution_count": null,
   "outputs": [],
   "source": [],
   "metadata": {
    "collapsed": false,
    "pycharm": {
     "name": "#%%\n"
    }
   }
  }
 ],
 "metadata": {
  "kernelspec": {
   "display_name": "Python 3",
   "language": "python",
   "name": "python3"
  },
  "language_info": {
   "codemirror_mode": {
    "name": "ipython",
    "version": 2
   },
   "file_extension": ".py",
   "mimetype": "text/x-python",
   "name": "python",
   "nbconvert_exporter": "python",
   "pygments_lexer": "ipython2",
   "version": "2.7.6"
  }
 },
 "nbformat": 4,
 "nbformat_minor": 0
}