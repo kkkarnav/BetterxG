{
 "cells": [
  {
   "cell_type": "code",
   "execution_count": 1,
   "metadata": {
    "collapsed": true
   },
   "outputs": [],
   "source": [
    "import pandas as pd\n",
    "import numpy as np\n",
    "\n",
    "import math\n",
    "import ast\n",
    "from tqdm import tqdm\n",
    "import warnings\n",
    "\n",
    "warnings.filterwarnings(\"ignore\")"
   ]
  },
  {
   "cell_type": "code",
   "execution_count": 2,
   "outputs": [],
   "source": [
    "###########################\n",
    "# This notebook loads StatsBomb's open data and calculates the various more advanced features that we'll ues as heuristics to input into our models. It covers the four heads of features we're looking to add: location-based, goalkeeper, and defensive pressure statistics, as well as features based on our various hypotheses.\n",
    "###########################"
   ],
   "metadata": {
    "collapsed": false,
    "pycharm": {
     "name": "#%%\n"
    }
   }
  },
  {
   "cell_type": "code",
   "execution_count": 3,
   "outputs": [],
   "source": [
    "all_shots = pd.read_csv(\"./data/all_shots.csv\")\n",
    "all_shots = all_shots.dropna(axis=1, how=\"all\")"
   ],
   "metadata": {
    "collapsed": false,
    "pycharm": {
     "name": "#%%\n"
    }
   }
  },
  {
   "cell_type": "code",
   "execution_count": 4,
   "outputs": [
    {
     "data": {
      "text/plain": "(84065, 43)"
     },
     "execution_count": 4,
     "metadata": {},
     "output_type": "execute_result"
    }
   ],
   "source": [
    "all_shots.shape"
   ],
   "metadata": {
    "collapsed": false,
    "pycharm": {
     "name": "#%%\n"
    }
   }
  },
  {
   "cell_type": "code",
   "execution_count": 5,
   "outputs": [
    {
     "data": {
      "text/plain": "season_id                   42\nmatch_id                  3312\nduration                 77926\nid                       83929\nindex                     4465\nlocation                 56583\nminute                     139\noff_camera                   1\nout                          1\nperiod                       5\nplay_pattern                 9\nplayer                    5638\nplayer_id                 5637\nposition                    25\npossession                 290\npossession_team            288\npossession_team_id         291\nrelated_events           83929\nsecond                      60\nshot_aerial_won              1\nshot_body_part               4\nshot_end_location        51584\nshot_first_time              1\nshot_freeze_frame        82866\nshot_key_pass_id         59111\nshot_one_on_one              1\nshot_outcome                 8\nshot_statsbomb_xg        82417\nshot_technique               7\nshot_type                    5\nteam                       288\nteam_id                    291\ntimestamp                82726\ntype                         1\nunder_pressure               1\ncompetition_id              17\nshot_deflected               1\nshot_open_goal               1\nshot_redirect                1\nshot_saved_off_target        1\nshot_saved_to_post           1\nshot_follows_dribble         1\nshot_kick_off                1\ndtype: int64"
     },
     "execution_count": 5,
     "metadata": {},
     "output_type": "execute_result"
    }
   ],
   "source": [
    "all_shots = all_shots[~all_shots[\"competition_id\"].isin([\"FIFA U20 World Cup\", \"North American League\", \"Liga Profesional\", \"Indian Super League\"])].drop(columns=all_shots.columns[all_shots.nunique() == 0]).sort_values(by=[\"match_id\", \"period\", \"minute\", \"second\"])\n",
    "all_shots.nunique()"
   ],
   "metadata": {
    "collapsed": false,
    "pycharm": {
     "name": "#%%\n"
    }
   }
  },
  {
   "cell_type": "code",
   "execution_count": 6,
   "outputs": [
    {
     "data": {
      "text/plain": "       season_id   match_id                                    id   index  \\\n15349  2018/2019     7298.0  9b82eaa3-2048-4157-aa9a-eabeb4fa0ebe    42.0   \n15350  2018/2019     7298.0  25dace9c-6bf8-4ada-8a4f-bad0485141c9   237.0   \n15351  2018/2019     7298.0  5e58cab7-75c2-47f8-903c-2874de6ed5b0   243.0   \n15352  2018/2019     7298.0  624a8c1d-b775-4a4f-85e8-a516aed3f3a5   248.0   \n15353  2018/2019     7298.0  3f0fc8e9-a09f-480a-9396-132e1ca05ec5   256.0   \n...          ...        ...                                   ...     ...   \n7849        2023  3923881.0  cf6ded0e-b416-47ee-82da-ae6810e02ebf  2274.0   \n7850        2023  3923881.0  de5bcc33-6ea2-4797-8712-a3db7cfe31e0  2344.0   \n7851        2023  3923881.0  bded325e-4b96-41d1-992d-3942344b5902  2483.0   \n7852        2023  3923881.0  3e369ccb-5ae2-45cf-8eb8-f24aec5e9e9d  2623.0   \n7853        2023  3923881.0  a95de9f0-7147-409d-a2cc-23dbc847b137  2657.0   \n\n            location  period  minute  second                     player  \\\n15349  [115.0, 25.0]     1.0     0.0    47.0            Francesca Kirby   \n15350  [109.0, 51.0]     1.0     5.0    12.0            Francesca Kirby   \n15351   [99.0, 52.0]     1.0     5.0    41.0                  So-Yun Ji   \n15352  [107.0, 40.0]     1.0     5.0    43.0                Drew Spence   \n15353  [108.0, 32.0]     1.0     5.0    46.0              Millie Bright   \n...              ...     ...     ...     ...                        ...   \n7849   [109.9, 41.3]     2.0    73.0    55.0           Sébastien Haller   \n7850   [115.4, 36.5]     2.0    80.0    14.0           Sébastien Haller   \n7851   [102.9, 46.8]     2.0    89.0    12.0  Kelechi Promise Iheanacho   \n7852    [97.4, 55.3]     2.0    93.0    55.0    Wilfried Stephane Singo   \n7853    [91.0, 44.4]     2.0    95.0    12.0             Alhassan Yusuf   \n\n       player_id                  position  possession possession_team  \\\n15349     4641.0      Right Center Forward         4.0     Chelsea FCW   \n15350     4641.0      Right Center Forward        15.0     Chelsea FCW   \n15351     4647.0           Center Midfield        16.0     Chelsea FCW   \n15352     4638.0      Left Center Midfield        16.0     Chelsea FCW   \n15353     4642.0         Right Center Back        16.0     Chelsea FCW   \n...          ...                       ...         ...             ...   \n7849      8673.0            Center Forward       137.0   Côte d'Ivoire   \n7850      8673.0            Center Forward       140.0   Côte d'Ivoire   \n7851      3708.0                Right Wing       149.0         Nigeria   \n7852     36539.0                Right Back       159.0   Côte d'Ivoire   \n7853     27434.0  Right Defensive Midfield       161.0         Nigeria   \n\n       possession_team_id           team  team_id     timestamp  \\\n15349               971.0    Chelsea FCW    971.0  00:00:47.620   \n15350               971.0    Chelsea FCW    971.0  00:05:12.780   \n15351               971.0    Chelsea FCW    971.0  00:05:41.940   \n15352               971.0    Chelsea FCW    971.0  00:05:43.900   \n15353               971.0    Chelsea FCW    971.0  00:05:46.380   \n...                   ...            ...      ...           ...   \n7849               3374.0  Côte d'Ivoire   3374.0  00:28:55.274   \n7850               3374.0  Côte d'Ivoire   3374.0  00:35:14.269   \n7851                775.0        Nigeria    775.0  00:44:12.865   \n7852               3374.0  Côte d'Ivoire   3374.0  00:48:55.619   \n7853                775.0        Nigeria    775.0  00:50:12.092   \n\n                competition_id shot_outcome  \n15349  FA Women's Super League      Blocked  \n15350  FA Women's Super League      Blocked  \n15351  FA Women's Super League      Blocked  \n15352  FA Women's Super League      Blocked  \n15353  FA Women's Super League         Goal  \n...                        ...          ...  \n7849    African Cup of Nations        Off T  \n7850    African Cup of Nations         Goal  \n7851    African Cup of Nations      Blocked  \n7852    African Cup of Nations      Wayward  \n7853    African Cup of Nations      Wayward  \n\n[83929 rows x 19 columns]",
      "text/html": "<div>\n<style scoped>\n    .dataframe tbody tr th:only-of-type {\n        vertical-align: middle;\n    }\n\n    .dataframe tbody tr th {\n        vertical-align: top;\n    }\n\n    .dataframe thead th {\n        text-align: right;\n    }\n</style>\n<table border=\"1\" class=\"dataframe\">\n  <thead>\n    <tr style=\"text-align: right;\">\n      <th></th>\n      <th>season_id</th>\n      <th>match_id</th>\n      <th>id</th>\n      <th>index</th>\n      <th>location</th>\n      <th>period</th>\n      <th>minute</th>\n      <th>second</th>\n      <th>player</th>\n      <th>player_id</th>\n      <th>position</th>\n      <th>possession</th>\n      <th>possession_team</th>\n      <th>possession_team_id</th>\n      <th>team</th>\n      <th>team_id</th>\n      <th>timestamp</th>\n      <th>competition_id</th>\n      <th>shot_outcome</th>\n    </tr>\n  </thead>\n  <tbody>\n    <tr>\n      <th>15349</th>\n      <td>2018/2019</td>\n      <td>7298.0</td>\n      <td>9b82eaa3-2048-4157-aa9a-eabeb4fa0ebe</td>\n      <td>42.0</td>\n      <td>[115.0, 25.0]</td>\n      <td>1.0</td>\n      <td>0.0</td>\n      <td>47.0</td>\n      <td>Francesca Kirby</td>\n      <td>4641.0</td>\n      <td>Right Center Forward</td>\n      <td>4.0</td>\n      <td>Chelsea FCW</td>\n      <td>971.0</td>\n      <td>Chelsea FCW</td>\n      <td>971.0</td>\n      <td>00:00:47.620</td>\n      <td>FA Women's Super League</td>\n      <td>Blocked</td>\n    </tr>\n    <tr>\n      <th>15350</th>\n      <td>2018/2019</td>\n      <td>7298.0</td>\n      <td>25dace9c-6bf8-4ada-8a4f-bad0485141c9</td>\n      <td>237.0</td>\n      <td>[109.0, 51.0]</td>\n      <td>1.0</td>\n      <td>5.0</td>\n      <td>12.0</td>\n      <td>Francesca Kirby</td>\n      <td>4641.0</td>\n      <td>Right Center Forward</td>\n      <td>15.0</td>\n      <td>Chelsea FCW</td>\n      <td>971.0</td>\n      <td>Chelsea FCW</td>\n      <td>971.0</td>\n      <td>00:05:12.780</td>\n      <td>FA Women's Super League</td>\n      <td>Blocked</td>\n    </tr>\n    <tr>\n      <th>15351</th>\n      <td>2018/2019</td>\n      <td>7298.0</td>\n      <td>5e58cab7-75c2-47f8-903c-2874de6ed5b0</td>\n      <td>243.0</td>\n      <td>[99.0, 52.0]</td>\n      <td>1.0</td>\n      <td>5.0</td>\n      <td>41.0</td>\n      <td>So-Yun Ji</td>\n      <td>4647.0</td>\n      <td>Center Midfield</td>\n      <td>16.0</td>\n      <td>Chelsea FCW</td>\n      <td>971.0</td>\n      <td>Chelsea FCW</td>\n      <td>971.0</td>\n      <td>00:05:41.940</td>\n      <td>FA Women's Super League</td>\n      <td>Blocked</td>\n    </tr>\n    <tr>\n      <th>15352</th>\n      <td>2018/2019</td>\n      <td>7298.0</td>\n      <td>624a8c1d-b775-4a4f-85e8-a516aed3f3a5</td>\n      <td>248.0</td>\n      <td>[107.0, 40.0]</td>\n      <td>1.0</td>\n      <td>5.0</td>\n      <td>43.0</td>\n      <td>Drew Spence</td>\n      <td>4638.0</td>\n      <td>Left Center Midfield</td>\n      <td>16.0</td>\n      <td>Chelsea FCW</td>\n      <td>971.0</td>\n      <td>Chelsea FCW</td>\n      <td>971.0</td>\n      <td>00:05:43.900</td>\n      <td>FA Women's Super League</td>\n      <td>Blocked</td>\n    </tr>\n    <tr>\n      <th>15353</th>\n      <td>2018/2019</td>\n      <td>7298.0</td>\n      <td>3f0fc8e9-a09f-480a-9396-132e1ca05ec5</td>\n      <td>256.0</td>\n      <td>[108.0, 32.0]</td>\n      <td>1.0</td>\n      <td>5.0</td>\n      <td>46.0</td>\n      <td>Millie Bright</td>\n      <td>4642.0</td>\n      <td>Right Center Back</td>\n      <td>16.0</td>\n      <td>Chelsea FCW</td>\n      <td>971.0</td>\n      <td>Chelsea FCW</td>\n      <td>971.0</td>\n      <td>00:05:46.380</td>\n      <td>FA Women's Super League</td>\n      <td>Goal</td>\n    </tr>\n    <tr>\n      <th>...</th>\n      <td>...</td>\n      <td>...</td>\n      <td>...</td>\n      <td>...</td>\n      <td>...</td>\n      <td>...</td>\n      <td>...</td>\n      <td>...</td>\n      <td>...</td>\n      <td>...</td>\n      <td>...</td>\n      <td>...</td>\n      <td>...</td>\n      <td>...</td>\n      <td>...</td>\n      <td>...</td>\n      <td>...</td>\n      <td>...</td>\n      <td>...</td>\n    </tr>\n    <tr>\n      <th>7849</th>\n      <td>2023</td>\n      <td>3923881.0</td>\n      <td>cf6ded0e-b416-47ee-82da-ae6810e02ebf</td>\n      <td>2274.0</td>\n      <td>[109.9, 41.3]</td>\n      <td>2.0</td>\n      <td>73.0</td>\n      <td>55.0</td>\n      <td>Sébastien Haller</td>\n      <td>8673.0</td>\n      <td>Center Forward</td>\n      <td>137.0</td>\n      <td>Côte d'Ivoire</td>\n      <td>3374.0</td>\n      <td>Côte d'Ivoire</td>\n      <td>3374.0</td>\n      <td>00:28:55.274</td>\n      <td>African Cup of Nations</td>\n      <td>Off T</td>\n    </tr>\n    <tr>\n      <th>7850</th>\n      <td>2023</td>\n      <td>3923881.0</td>\n      <td>de5bcc33-6ea2-4797-8712-a3db7cfe31e0</td>\n      <td>2344.0</td>\n      <td>[115.4, 36.5]</td>\n      <td>2.0</td>\n      <td>80.0</td>\n      <td>14.0</td>\n      <td>Sébastien Haller</td>\n      <td>8673.0</td>\n      <td>Center Forward</td>\n      <td>140.0</td>\n      <td>Côte d'Ivoire</td>\n      <td>3374.0</td>\n      <td>Côte d'Ivoire</td>\n      <td>3374.0</td>\n      <td>00:35:14.269</td>\n      <td>African Cup of Nations</td>\n      <td>Goal</td>\n    </tr>\n    <tr>\n      <th>7851</th>\n      <td>2023</td>\n      <td>3923881.0</td>\n      <td>bded325e-4b96-41d1-992d-3942344b5902</td>\n      <td>2483.0</td>\n      <td>[102.9, 46.8]</td>\n      <td>2.0</td>\n      <td>89.0</td>\n      <td>12.0</td>\n      <td>Kelechi Promise Iheanacho</td>\n      <td>3708.0</td>\n      <td>Right Wing</td>\n      <td>149.0</td>\n      <td>Nigeria</td>\n      <td>775.0</td>\n      <td>Nigeria</td>\n      <td>775.0</td>\n      <td>00:44:12.865</td>\n      <td>African Cup of Nations</td>\n      <td>Blocked</td>\n    </tr>\n    <tr>\n      <th>7852</th>\n      <td>2023</td>\n      <td>3923881.0</td>\n      <td>3e369ccb-5ae2-45cf-8eb8-f24aec5e9e9d</td>\n      <td>2623.0</td>\n      <td>[97.4, 55.3]</td>\n      <td>2.0</td>\n      <td>93.0</td>\n      <td>55.0</td>\n      <td>Wilfried Stephane Singo</td>\n      <td>36539.0</td>\n      <td>Right Back</td>\n      <td>159.0</td>\n      <td>Côte d'Ivoire</td>\n      <td>3374.0</td>\n      <td>Côte d'Ivoire</td>\n      <td>3374.0</td>\n      <td>00:48:55.619</td>\n      <td>African Cup of Nations</td>\n      <td>Wayward</td>\n    </tr>\n    <tr>\n      <th>7853</th>\n      <td>2023</td>\n      <td>3923881.0</td>\n      <td>a95de9f0-7147-409d-a2cc-23dbc847b137</td>\n      <td>2657.0</td>\n      <td>[91.0, 44.4]</td>\n      <td>2.0</td>\n      <td>95.0</td>\n      <td>12.0</td>\n      <td>Alhassan Yusuf</td>\n      <td>27434.0</td>\n      <td>Right Defensive Midfield</td>\n      <td>161.0</td>\n      <td>Nigeria</td>\n      <td>775.0</td>\n      <td>Nigeria</td>\n      <td>775.0</td>\n      <td>00:50:12.092</td>\n      <td>African Cup of Nations</td>\n      <td>Wayward</td>\n    </tr>\n  </tbody>\n</table>\n<p>83929 rows × 19 columns</p>\n</div>"
     },
     "execution_count": 6,
     "metadata": {},
     "output_type": "execute_result"
    }
   ],
   "source": [
    "all_shots[[\"season_id\", \"match_id\", \"id\", \"index\", \"location\", \"period\", \"minute\", \"second\", \"player\", \"player_id\", \"position\", \"possession\", \"possession_team\", \"possession_team_id\", \"team\", \"team_id\", \"timestamp\", \"competition_id\", \"shot_outcome\"]].sort_values(by=[\"match_id\", \"period\", \"minute\", \"second\"])"
   ],
   "metadata": {
    "collapsed": false,
    "pycharm": {
     "name": "#%%\n"
    }
   }
  },
  {
   "cell_type": "code",
   "execution_count": 7,
   "outputs": [],
   "source": [
    "# First, we'll append statistics related to the pass that led to the shot to the shots dataframe.\n",
    "all_passes = pd.read_csv(\"./data/all_passes.csv\")\n",
    "all_passes = all_passes.dropna(axis=1, how=\"all\")"
   ],
   "metadata": {
    "collapsed": false,
    "pycharm": {
     "name": "#%%\n"
    }
   }
  },
  {
   "cell_type": "markdown",
   "source": [],
   "metadata": {
    "collapsed": false
   }
  },
  {
   "cell_type": "markdown",
   "source": [],
   "metadata": {
    "collapsed": false
   }
  },
  {
   "cell_type": "code",
   "execution_count": 8,
   "outputs": [],
   "source": [
    "key_passes = all_passes[all_passes[\"id\"].isin(all_shots['shot_key_pass_id'])]"
   ],
   "metadata": {
    "collapsed": false,
    "pycharm": {
     "name": "#%%\n"
    }
   }
  },
  {
   "cell_type": "code",
   "execution_count": 9,
   "outputs": [
    {
     "data": {
      "text/plain": "        duration  pass_angle  pass_type  pass_height  pass_length  \\\n46      1.707827   -1.850475     Corner    High Pass    39.848340   \n84      1.635672    1.716809     Corner    High Pass    37.802250   \n234     1.320689    1.778707     Corner    High Pass    37.303352   \n268     1.350540   -1.871810     Corner     Low Pass    35.077200   \n307     1.571437   -1.551568   Recovery    High Pass    10.401923   \n...          ...         ...        ...          ...          ...   \n686852  2.271377   -1.125219   Recovery  Ground Pass    22.274874   \n686919  1.689300    0.895606  Free Kick    High Pass    34.717430   \n686929  1.788300   -1.394087  Free Kick    High Pass    42.664387   \n686981  1.010200    1.630133     Corner    High Pass    30.353418   \n687090  1.260800    1.536767   Throw-in     Low Pass    23.513613   \n\n                       pass_assisted_shot_id  \n46      fd99f442-49ae-4724-87e8-2512e4a5d9c6  \n84      4aaf9747-c33d-4f76-bb0f-d25ad1ebe7c6  \n234     749a19ff-d599-4170-a095-79b9865e2b06  \n268     37cdb09d-6504-48cb-a6cc-217790d53b4b  \n307     cffe1d92-0692-47ad-a71b-208c8a52dcc0  \n...                                      ...  \n686852  2c92a25a-2014-4080-b8fd-b69d72092898  \n686919  828295e4-feac-43c4-8b4a-47617f6d2408  \n686929  58997323-8e35-474d-815c-7926e1e143ba  \n686981  4201f68c-764d-45bd-bcfb-96470a72c2e8  \n687090  5582290f-1739-43d7-8d2b-37bcca19b844  \n\n[12221 rows x 6 columns]",
      "text/html": "<div>\n<style scoped>\n    .dataframe tbody tr th:only-of-type {\n        vertical-align: middle;\n    }\n\n    .dataframe tbody tr th {\n        vertical-align: top;\n    }\n\n    .dataframe thead th {\n        text-align: right;\n    }\n</style>\n<table border=\"1\" class=\"dataframe\">\n  <thead>\n    <tr style=\"text-align: right;\">\n      <th></th>\n      <th>duration</th>\n      <th>pass_angle</th>\n      <th>pass_type</th>\n      <th>pass_height</th>\n      <th>pass_length</th>\n      <th>pass_assisted_shot_id</th>\n    </tr>\n  </thead>\n  <tbody>\n    <tr>\n      <th>46</th>\n      <td>1.707827</td>\n      <td>-1.850475</td>\n      <td>Corner</td>\n      <td>High Pass</td>\n      <td>39.848340</td>\n      <td>fd99f442-49ae-4724-87e8-2512e4a5d9c6</td>\n    </tr>\n    <tr>\n      <th>84</th>\n      <td>1.635672</td>\n      <td>1.716809</td>\n      <td>Corner</td>\n      <td>High Pass</td>\n      <td>37.802250</td>\n      <td>4aaf9747-c33d-4f76-bb0f-d25ad1ebe7c6</td>\n    </tr>\n    <tr>\n      <th>234</th>\n      <td>1.320689</td>\n      <td>1.778707</td>\n      <td>Corner</td>\n      <td>High Pass</td>\n      <td>37.303352</td>\n      <td>749a19ff-d599-4170-a095-79b9865e2b06</td>\n    </tr>\n    <tr>\n      <th>268</th>\n      <td>1.350540</td>\n      <td>-1.871810</td>\n      <td>Corner</td>\n      <td>Low Pass</td>\n      <td>35.077200</td>\n      <td>37cdb09d-6504-48cb-a6cc-217790d53b4b</td>\n    </tr>\n    <tr>\n      <th>307</th>\n      <td>1.571437</td>\n      <td>-1.551568</td>\n      <td>Recovery</td>\n      <td>High Pass</td>\n      <td>10.401923</td>\n      <td>cffe1d92-0692-47ad-a71b-208c8a52dcc0</td>\n    </tr>\n    <tr>\n      <th>...</th>\n      <td>...</td>\n      <td>...</td>\n      <td>...</td>\n      <td>...</td>\n      <td>...</td>\n      <td>...</td>\n    </tr>\n    <tr>\n      <th>686852</th>\n      <td>2.271377</td>\n      <td>-1.125219</td>\n      <td>Recovery</td>\n      <td>Ground Pass</td>\n      <td>22.274874</td>\n      <td>2c92a25a-2014-4080-b8fd-b69d72092898</td>\n    </tr>\n    <tr>\n      <th>686919</th>\n      <td>1.689300</td>\n      <td>0.895606</td>\n      <td>Free Kick</td>\n      <td>High Pass</td>\n      <td>34.717430</td>\n      <td>828295e4-feac-43c4-8b4a-47617f6d2408</td>\n    </tr>\n    <tr>\n      <th>686929</th>\n      <td>1.788300</td>\n      <td>-1.394087</td>\n      <td>Free Kick</td>\n      <td>High Pass</td>\n      <td>42.664387</td>\n      <td>58997323-8e35-474d-815c-7926e1e143ba</td>\n    </tr>\n    <tr>\n      <th>686981</th>\n      <td>1.010200</td>\n      <td>1.630133</td>\n      <td>Corner</td>\n      <td>High Pass</td>\n      <td>30.353418</td>\n      <td>4201f68c-764d-45bd-bcfb-96470a72c2e8</td>\n    </tr>\n    <tr>\n      <th>687090</th>\n      <td>1.260800</td>\n      <td>1.536767</td>\n      <td>Throw-in</td>\n      <td>Low Pass</td>\n      <td>23.513613</td>\n      <td>5582290f-1739-43d7-8d2b-37bcca19b844</td>\n    </tr>\n  </tbody>\n</table>\n<p>12221 rows × 6 columns</p>\n</div>"
     },
     "execution_count": 9,
     "metadata": {},
     "output_type": "execute_result"
    }
   ],
   "source": [
    "key_passes[[\"duration\", \"pass_angle\", \"pass_type\", \"pass_height\", \"pass_length\", \"pass_assisted_shot_id\"]]"
   ],
   "metadata": {
    "collapsed": false,
    "pycharm": {
     "name": "#%%\n"
    }
   }
  },
  {
   "cell_type": "code",
   "execution_count": 10,
   "outputs": [],
   "source": [
    "key_passes[\"pass_duration\"] = key_passes[\"duration\"]\n",
    "\n",
    "all_shots = pd.merge(all_shots, key_passes[[\"pass_duration\", \"pass_angle\", \"pass_type\", \"pass_height\", \"pass_length\", \"pass_assisted_shot_id\"]], how='left', left_on='id', right_on='pass_assisted_shot_id', suffixes=(\"\", \"\"))\n",
    "all_shots = all_shots.drop(\"pass_assisted_shot_id\", axis=1)"
   ],
   "metadata": {
    "collapsed": false,
    "pycharm": {
     "name": "#%%\n"
    }
   }
  },
  {
   "cell_type": "code",
   "execution_count": 11,
   "outputs": [],
   "source": [
    "possession_passes = all_passes.groupby([\"match_id\", \"possession\"]).agg({\n",
    "    'match_id': 'first',\n",
    "    'possession': 'first',\n",
    "    'duration': 'count'\n",
    "}).reset_index(drop=True)\n",
    "possession_passes[\"num_passes\"] = possession_passes[\"duration\"]\n",
    "possession_passes = possession_passes.drop(\"duration\", axis=1)\n",
    "\n",
    "all_shots = pd.merge(all_shots, possession_passes, how='left', on=[\"match_id\", \"possession\"])"
   ],
   "metadata": {
    "collapsed": false,
    "pycharm": {
     "name": "#%%\n"
    }
   }
  },
  {
   "cell_type": "code",
   "execution_count": 12,
   "outputs": [
    {
     "data": {
      "text/plain": "       season_id   match_id  duration                                    id  \\\n0      2018/2019     7298.0  0.560000  9b82eaa3-2048-4157-aa9a-eabeb4fa0ebe   \n1      2018/2019     7298.0  0.400000  25dace9c-6bf8-4ada-8a4f-bad0485141c9   \n2      2018/2019     7298.0  0.480000  5e58cab7-75c2-47f8-903c-2874de6ed5b0   \n3      2018/2019     7298.0  0.160000  624a8c1d-b775-4a4f-85e8-a516aed3f3a5   \n4      2018/2019     7298.0  1.480000  3f0fc8e9-a09f-480a-9396-132e1ca05ec5   \n...          ...        ...       ...                                   ...   \n83924       2023  3923881.0  0.921817  cf6ded0e-b416-47ee-82da-ae6810e02ebf   \n83925       2023  3923881.0  0.668012  de5bcc33-6ea2-4797-8712-a3db7cfe31e0   \n83926       2023  3923881.0  0.314267  bded325e-4b96-41d1-992d-3942344b5902   \n83927       2023  3923881.0  1.510618  3e369ccb-5ae2-45cf-8eb8-f24aec5e9e9d   \n83928       2023  3923881.0  1.079523  a95de9f0-7147-409d-a2cc-23dbc847b137   \n\n        index       location  minute off_camera   out  period  ...  \\\n0        42.0  [115.0, 25.0]     0.0        NaN   NaN     1.0  ...   \n1       237.0  [109.0, 51.0]     5.0        NaN   NaN     1.0  ...   \n2       243.0   [99.0, 52.0]     5.0        NaN   NaN     1.0  ...   \n3       248.0  [107.0, 40.0]     5.0        NaN   NaN     1.0  ...   \n4       256.0  [108.0, 32.0]     5.0        NaN   NaN     1.0  ...   \n...       ...            ...     ...        ...   ...     ...  ...   \n83924  2274.0  [109.9, 41.3]    73.0        NaN   NaN     2.0  ...   \n83925  2344.0  [115.4, 36.5]    80.0        NaN   NaN     2.0  ...   \n83926  2483.0  [102.9, 46.8]    89.0        NaN   NaN     2.0  ...   \n83927  2623.0   [97.4, 55.3]    93.0        NaN  True     2.0  ...   \n83928  2657.0   [91.0, 44.4]    95.0        NaN   NaN     2.0  ...   \n\n      shot_saved_off_target shot_saved_to_post  shot_follows_dribble  \\\n0                       NaN                NaN                   NaN   \n1                       NaN                NaN                   NaN   \n2                       NaN                NaN                   NaN   \n3                       NaN                NaN                   NaN   \n4                       NaN                NaN                   NaN   \n...                     ...                ...                   ...   \n83924                   NaN                NaN                   NaN   \n83925                   NaN                NaN                   NaN   \n83926                   NaN                NaN                   NaN   \n83927                   NaN                NaN                   NaN   \n83928                   NaN                NaN                   NaN   \n\n      shot_kick_off  pass_duration pass_angle  pass_type  pass_height  \\\n0               NaN            NaN        NaN        NaN          NaN   \n1               NaN            NaN        NaN        NaN          NaN   \n2               NaN            NaN        NaN        NaN          NaN   \n3               NaN            NaN        NaN        NaN          NaN   \n4               NaN           0.96  -0.950547   Recovery  Ground Pass   \n...             ...            ...        ...        ...          ...   \n83924           NaN            NaN        NaN        NaN          NaN   \n83925           NaN            NaN        NaN        NaN          NaN   \n83926           NaN            NaN        NaN        NaN          NaN   \n83927           NaN            NaN        NaN        NaN          NaN   \n83928           NaN            NaN        NaN        NaN          NaN   \n\n       pass_length num_passes  \n0              NaN        NaN  \n1              NaN        1.0  \n2              NaN        2.0  \n3              NaN        2.0  \n4         8.602325        2.0  \n...            ...        ...  \n83924          NaN        1.0  \n83925          NaN        NaN  \n83926          NaN        5.0  \n83927          NaN        1.0  \n83928          NaN        3.0  \n\n[83929 rows x 49 columns]",
      "text/html": "<div>\n<style scoped>\n    .dataframe tbody tr th:only-of-type {\n        vertical-align: middle;\n    }\n\n    .dataframe tbody tr th {\n        vertical-align: top;\n    }\n\n    .dataframe thead th {\n        text-align: right;\n    }\n</style>\n<table border=\"1\" class=\"dataframe\">\n  <thead>\n    <tr style=\"text-align: right;\">\n      <th></th>\n      <th>season_id</th>\n      <th>match_id</th>\n      <th>duration</th>\n      <th>id</th>\n      <th>index</th>\n      <th>location</th>\n      <th>minute</th>\n      <th>off_camera</th>\n      <th>out</th>\n      <th>period</th>\n      <th>...</th>\n      <th>shot_saved_off_target</th>\n      <th>shot_saved_to_post</th>\n      <th>shot_follows_dribble</th>\n      <th>shot_kick_off</th>\n      <th>pass_duration</th>\n      <th>pass_angle</th>\n      <th>pass_type</th>\n      <th>pass_height</th>\n      <th>pass_length</th>\n      <th>num_passes</th>\n    </tr>\n  </thead>\n  <tbody>\n    <tr>\n      <th>0</th>\n      <td>2018/2019</td>\n      <td>7298.0</td>\n      <td>0.560000</td>\n      <td>9b82eaa3-2048-4157-aa9a-eabeb4fa0ebe</td>\n      <td>42.0</td>\n      <td>[115.0, 25.0]</td>\n      <td>0.0</td>\n      <td>NaN</td>\n      <td>NaN</td>\n      <td>1.0</td>\n      <td>...</td>\n      <td>NaN</td>\n      <td>NaN</td>\n      <td>NaN</td>\n      <td>NaN</td>\n      <td>NaN</td>\n      <td>NaN</td>\n      <td>NaN</td>\n      <td>NaN</td>\n      <td>NaN</td>\n      <td>NaN</td>\n    </tr>\n    <tr>\n      <th>1</th>\n      <td>2018/2019</td>\n      <td>7298.0</td>\n      <td>0.400000</td>\n      <td>25dace9c-6bf8-4ada-8a4f-bad0485141c9</td>\n      <td>237.0</td>\n      <td>[109.0, 51.0]</td>\n      <td>5.0</td>\n      <td>NaN</td>\n      <td>NaN</td>\n      <td>1.0</td>\n      <td>...</td>\n      <td>NaN</td>\n      <td>NaN</td>\n      <td>NaN</td>\n      <td>NaN</td>\n      <td>NaN</td>\n      <td>NaN</td>\n      <td>NaN</td>\n      <td>NaN</td>\n      <td>NaN</td>\n      <td>1.0</td>\n    </tr>\n    <tr>\n      <th>2</th>\n      <td>2018/2019</td>\n      <td>7298.0</td>\n      <td>0.480000</td>\n      <td>5e58cab7-75c2-47f8-903c-2874de6ed5b0</td>\n      <td>243.0</td>\n      <td>[99.0, 52.0]</td>\n      <td>5.0</td>\n      <td>NaN</td>\n      <td>NaN</td>\n      <td>1.0</td>\n      <td>...</td>\n      <td>NaN</td>\n      <td>NaN</td>\n      <td>NaN</td>\n      <td>NaN</td>\n      <td>NaN</td>\n      <td>NaN</td>\n      <td>NaN</td>\n      <td>NaN</td>\n      <td>NaN</td>\n      <td>2.0</td>\n    </tr>\n    <tr>\n      <th>3</th>\n      <td>2018/2019</td>\n      <td>7298.0</td>\n      <td>0.160000</td>\n      <td>624a8c1d-b775-4a4f-85e8-a516aed3f3a5</td>\n      <td>248.0</td>\n      <td>[107.0, 40.0]</td>\n      <td>5.0</td>\n      <td>NaN</td>\n      <td>NaN</td>\n      <td>1.0</td>\n      <td>...</td>\n      <td>NaN</td>\n      <td>NaN</td>\n      <td>NaN</td>\n      <td>NaN</td>\n      <td>NaN</td>\n      <td>NaN</td>\n      <td>NaN</td>\n      <td>NaN</td>\n      <td>NaN</td>\n      <td>2.0</td>\n    </tr>\n    <tr>\n      <th>4</th>\n      <td>2018/2019</td>\n      <td>7298.0</td>\n      <td>1.480000</td>\n      <td>3f0fc8e9-a09f-480a-9396-132e1ca05ec5</td>\n      <td>256.0</td>\n      <td>[108.0, 32.0]</td>\n      <td>5.0</td>\n      <td>NaN</td>\n      <td>NaN</td>\n      <td>1.0</td>\n      <td>...</td>\n      <td>NaN</td>\n      <td>NaN</td>\n      <td>NaN</td>\n      <td>NaN</td>\n      <td>0.96</td>\n      <td>-0.950547</td>\n      <td>Recovery</td>\n      <td>Ground Pass</td>\n      <td>8.602325</td>\n      <td>2.0</td>\n    </tr>\n    <tr>\n      <th>...</th>\n      <td>...</td>\n      <td>...</td>\n      <td>...</td>\n      <td>...</td>\n      <td>...</td>\n      <td>...</td>\n      <td>...</td>\n      <td>...</td>\n      <td>...</td>\n      <td>...</td>\n      <td>...</td>\n      <td>...</td>\n      <td>...</td>\n      <td>...</td>\n      <td>...</td>\n      <td>...</td>\n      <td>...</td>\n      <td>...</td>\n      <td>...</td>\n      <td>...</td>\n      <td>...</td>\n    </tr>\n    <tr>\n      <th>83924</th>\n      <td>2023</td>\n      <td>3923881.0</td>\n      <td>0.921817</td>\n      <td>cf6ded0e-b416-47ee-82da-ae6810e02ebf</td>\n      <td>2274.0</td>\n      <td>[109.9, 41.3]</td>\n      <td>73.0</td>\n      <td>NaN</td>\n      <td>NaN</td>\n      <td>2.0</td>\n      <td>...</td>\n      <td>NaN</td>\n      <td>NaN</td>\n      <td>NaN</td>\n      <td>NaN</td>\n      <td>NaN</td>\n      <td>NaN</td>\n      <td>NaN</td>\n      <td>NaN</td>\n      <td>NaN</td>\n      <td>1.0</td>\n    </tr>\n    <tr>\n      <th>83925</th>\n      <td>2023</td>\n      <td>3923881.0</td>\n      <td>0.668012</td>\n      <td>de5bcc33-6ea2-4797-8712-a3db7cfe31e0</td>\n      <td>2344.0</td>\n      <td>[115.4, 36.5]</td>\n      <td>80.0</td>\n      <td>NaN</td>\n      <td>NaN</td>\n      <td>2.0</td>\n      <td>...</td>\n      <td>NaN</td>\n      <td>NaN</td>\n      <td>NaN</td>\n      <td>NaN</td>\n      <td>NaN</td>\n      <td>NaN</td>\n      <td>NaN</td>\n      <td>NaN</td>\n      <td>NaN</td>\n      <td>NaN</td>\n    </tr>\n    <tr>\n      <th>83926</th>\n      <td>2023</td>\n      <td>3923881.0</td>\n      <td>0.314267</td>\n      <td>bded325e-4b96-41d1-992d-3942344b5902</td>\n      <td>2483.0</td>\n      <td>[102.9, 46.8]</td>\n      <td>89.0</td>\n      <td>NaN</td>\n      <td>NaN</td>\n      <td>2.0</td>\n      <td>...</td>\n      <td>NaN</td>\n      <td>NaN</td>\n      <td>NaN</td>\n      <td>NaN</td>\n      <td>NaN</td>\n      <td>NaN</td>\n      <td>NaN</td>\n      <td>NaN</td>\n      <td>NaN</td>\n      <td>5.0</td>\n    </tr>\n    <tr>\n      <th>83927</th>\n      <td>2023</td>\n      <td>3923881.0</td>\n      <td>1.510618</td>\n      <td>3e369ccb-5ae2-45cf-8eb8-f24aec5e9e9d</td>\n      <td>2623.0</td>\n      <td>[97.4, 55.3]</td>\n      <td>93.0</td>\n      <td>NaN</td>\n      <td>True</td>\n      <td>2.0</td>\n      <td>...</td>\n      <td>NaN</td>\n      <td>NaN</td>\n      <td>NaN</td>\n      <td>NaN</td>\n      <td>NaN</td>\n      <td>NaN</td>\n      <td>NaN</td>\n      <td>NaN</td>\n      <td>NaN</td>\n      <td>1.0</td>\n    </tr>\n    <tr>\n      <th>83928</th>\n      <td>2023</td>\n      <td>3923881.0</td>\n      <td>1.079523</td>\n      <td>a95de9f0-7147-409d-a2cc-23dbc847b137</td>\n      <td>2657.0</td>\n      <td>[91.0, 44.4]</td>\n      <td>95.0</td>\n      <td>NaN</td>\n      <td>NaN</td>\n      <td>2.0</td>\n      <td>...</td>\n      <td>NaN</td>\n      <td>NaN</td>\n      <td>NaN</td>\n      <td>NaN</td>\n      <td>NaN</td>\n      <td>NaN</td>\n      <td>NaN</td>\n      <td>NaN</td>\n      <td>NaN</td>\n      <td>3.0</td>\n    </tr>\n  </tbody>\n</table>\n<p>83929 rows × 49 columns</p>\n</div>"
     },
     "execution_count": 12,
     "metadata": {},
     "output_type": "execute_result"
    }
   ],
   "source": [
    "all_shots"
   ],
   "metadata": {
    "collapsed": false,
    "pycharm": {
     "name": "#%%\n"
    }
   }
  },
  {
   "cell_type": "code",
   "execution_count": 13,
   "outputs": [],
   "source": [
    "# Now, we'll extract relevant attributes from the all_shots dataframe\n",
    "data = pd.DataFrame()\n",
    "\n",
    "# general and time attributes\n",
    "data[[\"period\", \"minute\", \"second\", \"possession\", \"duration\", \"competition_id\", \"season_id\", \"match_id\", \"timestamp\", \"team\", \"player\", \"freeze_frame\"]] = all_shots[[\"period\", \"minute\", \"second\", \"possession\", \"duration\", \"competition_id\", \"season_id\", \"match_id\", \"timestamp\", \"team\", \"player\", \"shot_freeze_frame\"]]\n",
    "data.sort_values(by=[\"match_id\", \"period\", \"minute\", \"second\"], inplace=True)"
   ],
   "metadata": {
    "collapsed": false,
    "pycharm": {
     "name": "#%%\n"
    }
   }
  },
  {
   "cell_type": "code",
   "execution_count": 14,
   "outputs": [],
   "source": [
    "# qualitative attributes\n",
    "data[[\"play_pattern\", \"position\"]] = all_shots[[\"play_pattern\", \"position\"]]\n",
    "data[\"player_type\"] = all_shots[\"position\"].apply(lambda x: 4 if (\"Forward\" in x or \"Striker\" in x) else 3 if \"Wing\" in x else 2 if \"Mid\" in x else 1 if (\"Back\" in x or \"Defen\" in x) else 0)"
   ],
   "metadata": {
    "collapsed": false,
    "pycharm": {
     "name": "#%%\n"
    }
   }
  },
  {
   "cell_type": "code",
   "execution_count": 15,
   "outputs": [],
   "source": [
    "# shot attributes\n",
    "data[\"location_x\"] = all_shots[\"location\"].apply(lambda x: ast.literal_eval(x)[0])\n",
    "data[\"location_x_distance\"] = 120 - data[\"location_x\"]\n",
    "data[\"location_y\"] = all_shots[\"location\"].apply(lambda x: ast.literal_eval(x)[1])\n",
    "data[\"location_y_distance\"] = abs(data[\"location_y\"] - 40)\n",
    "data[\"duration\"] = all_shots[\"duration\"].apply(lambda x: x if x < 100 else 0)\n",
    "data[\"technique\"] = all_shots[\"shot_technique\"]\n",
    "data[\"body_part\"] = all_shots[\"shot_body_part\"]\n",
    "data[\"type\"] = all_shots[\"shot_type\"]\n",
    "data[\"is_penalty\"] = all_shots[\"shot_type\"] == \"Penalty\"\n",
    "data[\"is_header\"] = all_shots[\"shot_body_part\"] == \"Head\""
   ],
   "metadata": {
    "collapsed": false,
    "pycharm": {
     "name": "#%%\n"
    }
   }
  },
  {
   "cell_type": "code",
   "execution_count": 16,
   "outputs": [],
   "source": [
    "# shot modifiers\n",
    "data[\"first_time\"] = all_shots[\"shot_first_time\"].fillna(False)\n",
    "data[\"open_goal\"] = all_shots[\"shot_open_goal\"].fillna(False)\n",
    "data[\"one_on_one\"] = all_shots[\"shot_one_on_one\"].fillna(False)\n",
    "data[\"aerial_won\"] = all_shots[\"shot_aerial_won\"].fillna(False)\n",
    "data[\"follows_dribble\"] = all_shots[\"shot_follows_dribble\"].fillna(False)\n",
    "data[\"under_pressure\"] = all_shots[\"under_pressure\"].fillna(False)"
   ],
   "metadata": {
    "collapsed": false,
    "pycharm": {
     "name": "#%%\n"
    }
   }
  },
  {
   "cell_type": "code",
   "execution_count": 17,
   "outputs": [],
   "source": [
    "# preceding pass attributes\n",
    "data[\"pass_duration\"] = all_shots[\"pass_duration\"].fillna(all_shots[\"pass_duration\"].mean())\n",
    "data[\"pass_angle\"] = all_shots[\"pass_angle\"].fillna(all_shots[\"pass_angle\"].mean())\n",
    "data[\"pass_type\"] = all_shots[\"pass_type\"].fillna(\"Missing\")\n",
    "data[\"pass_height\"] = all_shots[\"pass_height\"].fillna(\"Missing\")\n",
    "data[\"pass_length\"] = all_shots[\"pass_length\"].fillna(all_shots[\"pass_length\"].mean())\n",
    "data[\"num_passes\"] = all_shots[\"num_passes\"].fillna(0)"
   ],
   "metadata": {
    "collapsed": false,
    "pycharm": {
     "name": "#%%\n"
    }
   }
  },
  {
   "cell_type": "code",
   "execution_count": 18,
   "outputs": [
    {
     "data": {
      "text/plain": "                                               opponents           shot  \\\n0      [[[112.0, 28.0], Right Back], [[103.0, 50.0], ...  (115.0, 25.0)   \n1      [[[106.0, 42.0], Right Center Midfield], [[115...  (109.0, 51.0)   \n2      [[[111.0, 44.0], Left Center Back], [[109.0, 3...   (99.0, 52.0)   \n3      [[[101.0, 37.0], Right Center Midfield], [[119...  (107.0, 40.0)   \n4      [[[114.0, 46.0], Left Center Back], [[107.0, 3...  (108.0, 32.0)   \n...                                                  ...            ...   \n83924  [[[117.8, 51.0], Left Wing Back], [[108.3, 55....  (109.9, 41.3)   \n83925  [[[106.5, 47.9], Left Wing], [[106.3, 38.1], L...  (115.4, 36.5)   \n83926  [[[96.3, 37.3], Right Wing], [[106.0, 44.9], R...  (102.9, 46.8)   \n83927  [[[117.6, 41.3], Goalkeeper], [[95.6, 56.9], C...   (97.4, 55.3)   \n83928  [[[102.8, 43.1], Center Forward], [[109.7, 39....   (91.0, 44.4)   \n\n          goalkeeper  \n0      [120.0, 26.0]  \n1      [119.0, 40.0]  \n2      [119.0, 40.0]  \n3      [119.0, 38.0]  \n4      [119.0, 38.0]  \n...              ...  \n83924  [118.6, 40.1]  \n83925  [118.2, 36.5]  \n83926  [116.9, 41.4]  \n83927  [117.6, 41.3]  \n83928  [117.4, 39.9]  \n\n[83929 rows x 3 columns]",
      "text/html": "<div>\n<style scoped>\n    .dataframe tbody tr th:only-of-type {\n        vertical-align: middle;\n    }\n\n    .dataframe tbody tr th {\n        vertical-align: top;\n    }\n\n    .dataframe thead th {\n        text-align: right;\n    }\n</style>\n<table border=\"1\" class=\"dataframe\">\n  <thead>\n    <tr style=\"text-align: right;\">\n      <th></th>\n      <th>opponents</th>\n      <th>shot</th>\n      <th>goalkeeper</th>\n    </tr>\n  </thead>\n  <tbody>\n    <tr>\n      <th>0</th>\n      <td>[[[112.0, 28.0], Right Back], [[103.0, 50.0], ...</td>\n      <td>(115.0, 25.0)</td>\n      <td>[120.0, 26.0]</td>\n    </tr>\n    <tr>\n      <th>1</th>\n      <td>[[[106.0, 42.0], Right Center Midfield], [[115...</td>\n      <td>(109.0, 51.0)</td>\n      <td>[119.0, 40.0]</td>\n    </tr>\n    <tr>\n      <th>2</th>\n      <td>[[[111.0, 44.0], Left Center Back], [[109.0, 3...</td>\n      <td>(99.0, 52.0)</td>\n      <td>[119.0, 40.0]</td>\n    </tr>\n    <tr>\n      <th>3</th>\n      <td>[[[101.0, 37.0], Right Center Midfield], [[119...</td>\n      <td>(107.0, 40.0)</td>\n      <td>[119.0, 38.0]</td>\n    </tr>\n    <tr>\n      <th>4</th>\n      <td>[[[114.0, 46.0], Left Center Back], [[107.0, 3...</td>\n      <td>(108.0, 32.0)</td>\n      <td>[119.0, 38.0]</td>\n    </tr>\n    <tr>\n      <th>...</th>\n      <td>...</td>\n      <td>...</td>\n      <td>...</td>\n    </tr>\n    <tr>\n      <th>83924</th>\n      <td>[[[117.8, 51.0], Left Wing Back], [[108.3, 55....</td>\n      <td>(109.9, 41.3)</td>\n      <td>[118.6, 40.1]</td>\n    </tr>\n    <tr>\n      <th>83925</th>\n      <td>[[[106.5, 47.9], Left Wing], [[106.3, 38.1], L...</td>\n      <td>(115.4, 36.5)</td>\n      <td>[118.2, 36.5]</td>\n    </tr>\n    <tr>\n      <th>83926</th>\n      <td>[[[96.3, 37.3], Right Wing], [[106.0, 44.9], R...</td>\n      <td>(102.9, 46.8)</td>\n      <td>[116.9, 41.4]</td>\n    </tr>\n    <tr>\n      <th>83927</th>\n      <td>[[[117.6, 41.3], Goalkeeper], [[95.6, 56.9], C...</td>\n      <td>(97.4, 55.3)</td>\n      <td>[117.6, 41.3]</td>\n    </tr>\n    <tr>\n      <th>83928</th>\n      <td>[[[102.8, 43.1], Center Forward], [[109.7, 39....</td>\n      <td>(91.0, 44.4)</td>\n      <td>[117.4, 39.9]</td>\n    </tr>\n  </tbody>\n</table>\n<p>83929 rows × 3 columns</p>\n</div>"
     },
     "execution_count": 18,
     "metadata": {},
     "output_type": "execute_result"
    }
   ],
   "source": [
    "# locations for defensive/goalkeeper attributes\n",
    "locations = pd.DataFrame()\n",
    "locations[\"opponents\"] = all_shots[\"shot_freeze_frame\"].fillna('[{\"location\": [], \"position\": {\"name\": \"\"}, \"teammate\": False}]').apply(lambda frame: [[player[\"location\"], player[\"position\"][\"name\"]] for player in ast.literal_eval(frame) if not player[\"teammate\"]])\n",
    "locations[\"shot\"] = tuple(zip(data[\"location_x\"].apply(lambda x: 119.9 if x == 120.0 else x), data[\"location_y\"]))\n",
    "locations[\"goalkeeper\"] = locations[\"opponents\"].apply(lambda frame: [player[0] for player in frame if player[1] == \"Goalkeeper\"]).apply(lambda x: x[0] if len(x) != 0 else [-1, -1]).apply(lambda x: 119.9 if x == 120.0 else x)\n",
    "locations"
   ],
   "metadata": {
    "collapsed": false,
    "pycharm": {
     "name": "#%%\n"
    }
   }
  },
  {
   "cell_type": "code",
   "execution_count": 19,
   "outputs": [],
   "source": [
    "# Check if a point is inside a triangle\n",
    "def point_in_triangle(point, a, b, c):\n",
    "    as_x = point[0] - a[0]\n",
    "    as_y = point[1] - a[1]\n",
    "    s_ab = ((b[0] - a[0]) * as_y) - ((b[1] - a[1]) * as_x) > 0\n",
    "\n",
    "    if (((c[0] - a[0]) * as_y) - ((c[1] - a[1]) * as_x) > 0) == s_ab \\\n",
    "            or (((c[0] - b[0]) * (point[1] - b[1])) - ((c[1] - b[1]) * (point[0] - b[0])) > 0) != s_ab:\n",
    "        return False\n",
    "    else:\n",
    "        return True"
   ],
   "metadata": {
    "collapsed": false,
    "pycharm": {
     "name": "#%%\n"
    }
   }
  },
  {
   "cell_type": "code",
   "execution_count": 20,
   "outputs": [],
   "source": [
    "# Calculate the area of a triangle\n",
    "def area_of_triangle(a, b, c):\n",
    "    return abs(0.5 * (a[0]*(b[1] - c[1]) + b[0]*(c[1] - a[1]) + c[0]*(a[1] - b[1])))"
   ],
   "metadata": {
    "collapsed": false,
    "pycharm": {
     "name": "#%%\n"
    }
   }
  },
  {
   "cell_type": "code",
   "execution_count": 21,
   "outputs": [],
   "source": [
    "# Calculate the angle between two sides of the triangle\n",
    "def angle_between_sides(a, b, c):\n",
    "    cos_theta = (a**2 + b**2 - c**2) / (2 * a * b)\n",
    "    theta = math.degrees(math.acos(cos_theta))\n",
    "    return theta"
   ],
   "metadata": {
    "collapsed": false,
    "pycharm": {
     "name": "#%%\n"
    }
   }
  },
  {
   "cell_type": "code",
   "execution_count": 22,
   "outputs": [],
   "source": [
    "# What is the best (shortest) straight line path from shooter to goal?\n",
    "def best_distance(point) :\n",
    "\n",
    "    line = (0, 8)\n",
    "    left_line = (point[0] - 120, point[1] - 36)\n",
    "    right_line = (point[0] - 120, point[1] - 44)\n",
    "\n",
    "    line_dot_left = line[0] * left_line[0] + line[1] * left_line[1]\n",
    "    line_dot_right = line[0] * right_line[0] + line[1] * right_line[1]\n",
    "\n",
    "    if line_dot_right > 0:\n",
    "        x = 120 - point[0]\n",
    "        y = 44 - point[1]\n",
    "        return math.sqrt(x * x + y * y)\n",
    "    elif line_dot_left < 0:\n",
    "        x = 120 - point[0]\n",
    "        y = 36 - point[1]\n",
    "        return math.sqrt(x * x + y * y)\n",
    "    else:\n",
    "        return 120 - point[0]"
   ],
   "metadata": {
    "collapsed": false,
    "pycharm": {
     "name": "#%%\n"
    }
   }
  },
  {
   "cell_type": "code",
   "execution_count": 23,
   "outputs": [],
   "source": [
    "# Calculate the perpendicular line 1.5m on either side of a line between two points\n",
    "def calculate_perpendicular(a, b):\n",
    "\n",
    "    slope = (b[1] - a[1])/(b[0] - a[0])\n",
    "    slope = 0.00001 if slope == 0 else slope\n",
    "    perpendicular_slope = -1/slope\n",
    "\n",
    "    offset_x = 1.5 / np.sqrt(1 + perpendicular_slope**2)\n",
    "    offset_y = perpendicular_slope * offset_x\n",
    "    point1 = (a[0] + offset_x, a[1] + offset_y)\n",
    "    point2 = (a[0] - offset_x, a[1] - offset_y)\n",
    "\n",
    "    return point1, point2"
   ],
   "metadata": {
    "collapsed": false,
    "pycharm": {
     "name": "#%%\n"
    }
   }
  },
  {
   "cell_type": "code",
   "execution_count": 24,
   "outputs": [],
   "source": [
    "# A normal Gaussian\n",
    "def gaussian(x, y, a, b):\n",
    "    d2 = (x - a)**2 + (y - b)**2\n",
    "    return np.exp(-d2 / 2)"
   ],
   "metadata": {
    "collapsed": false,
    "pycharm": {
     "name": "#%%\n"
    }
   }
  },
  {
   "cell_type": "code",
   "execution_count": 25,
   "outputs": [],
   "source": [
    "# defensive pressure/goalkeeper attributes\n",
    "data[\"defenders_3m_radius\"] = locations.apply(lambda shot: (len([defender for defender in shot[\"opponents\"] if ((defender[0][0]-shot[\"shot\"][0])**2 + (defender[0][1]-shot[\"shot\"][1])**2) < 3**2])) if shot[\"opponents\"] != [[[], '']] else -1, axis=1)\n",
    "data[\"defenders_triangle\"] = locations.apply(lambda shot: (len([defender for defender in shot[\"opponents\"] if point_in_triangle(defender[0], shot[\"shot\"], [120, 32], [120, 48])])) if shot[\"opponents\"] != [[[], '']] else -1, axis=1)\n",
    "\n",
    "data[\"goalkeeper_x\"] = locations[\"goalkeeper\"].apply(lambda x: x[0])\n",
    "data[\"goalkeeper_y\"] = locations[\"goalkeeper\"].apply(lambda x: x[1])\n",
    "data[\"distance_to_goalie\"] = data.apply(lambda x: math.sqrt((x[\"goalkeeper_x\"] - x[\"location_x\"])**2 + (x[\"goalkeeper_y\"] - x[\"location_y\"])**2), axis=1)"
   ],
   "metadata": {
    "collapsed": false,
    "pycharm": {
     "name": "#%%\n"
    }
   }
  },
  {
   "cell_type": "code",
   "execution_count": 26,
   "outputs": [],
   "source": [
    "# angle/location-based attributes\n",
    "data[\"shooting_range\"] = locations[\"shot\"].apply(lambda point: angle_between_sides(math.dist(point, (120, 36)), math.dist((120, 44), point), 8))\n",
    "data[\"goal_distance\"] = locations[\"shot\"].apply(lambda point: math.dist(point, (120, 40)))\n",
    "data[\"best_distance\"] = locations[\"shot\"].apply(lambda point: best_distance(point))"
   ],
   "metadata": {
    "collapsed": false,
    "pycharm": {
     "name": "#%%\n"
    }
   }
  },
  {
   "cell_type": "code",
   "execution_count": 27,
   "outputs": [],
   "source": [
    "# target variables\n",
    "data[\"statsbomb_xg\"] = all_shots[\"shot_statsbomb_xg\"].apply(lambda x: float(x))\n",
    "data[\"end_location_x\"] = all_shots[\"shot_end_location\"].apply(lambda x: ast.literal_eval(x)[0])\n",
    "data[\"end_location_y\"] = all_shots[\"shot_end_location\"].apply(lambda x: ast.literal_eval(x)[1])\n",
    "data[\"is_goal\"] = all_shots[\"shot_outcome\"].apply(lambda x: True if x == \"Goal\" else False)"
   ],
   "metadata": {
    "collapsed": false,
    "pycharm": {
     "name": "#%%\n"
    }
   }
  },
  {
   "cell_type": "code",
   "execution_count": 28,
   "outputs": [],
   "source": [
    "# The angle at which the ball goes, and whether it was taken from the favoured side of the pitch or not\n",
    "data[\"shot_angle\"] =  data.apply(lambda x: math.atan2((x[\"end_location_y\"] - x[\"location_y\"]), (x[\"end_location_x\"] - x[\"location_x\"])), axis=1)\n",
    "data[\"good_foot\"] = data.apply(lambda shot: True if ((shot[\"body_part\"] == \"Right Foot\" and shot[\"location_y\"] < 42) or (shot[\"body_part\"] == \"Left Foot\" and shot[\"location_y\"] > 42)) else False, axis=1)"
   ],
   "metadata": {
    "collapsed": false,
    "pycharm": {
     "name": "#%%\n"
    }
   }
  },
  {
   "cell_type": "code",
   "execution_count": 29,
   "outputs": [],
   "source": [
    "# How many shots and xg there has been so far\n",
    "data[\"shots_so_far\"] = all_shots.groupby([\"match_id\", \"team\"])[\"timestamp\"].cumcount()\n",
    "data[\"xg_so_far\"] = all_shots.groupby([\"match_id\", \"team\"])[\"shot_statsbomb_xg\"].cumsum()\n",
    "data[\"xg_so_far\"] = data[\"xg_so_far\"] - data[\"statsbomb_xg\"]"
   ],
   "metadata": {
    "collapsed": false,
    "pycharm": {
     "name": "#%%\n"
    }
   }
  },
  {
   "cell_type": "code",
   "execution_count": 30,
   "outputs": [
    {
     "data": {
      "text/plain": "       season_id   match_id  period  minute  second                 team  \\\n4      2018/2019     7298.0     1.0     5.0    46.0          Chelsea FCW   \n7      2018/2019     7298.0     1.0    23.0    21.0          Chelsea FCW   \n18     2018/2019     7298.0     2.0    48.0    41.0  Manchester City WFC   \n29     2018/2019     7298.0     2.0    85.0    34.0  Manchester City WFC   \n34          2018     7430.0     1.0     2.0    42.0    Washington Spirit   \n...          ...        ...     ...     ...     ...                  ...   \n83903       2023  3923880.0     5.0   130.0    33.0             Congo DR   \n83904       2023  3923880.0     5.0   131.0    20.0         South Africa   \n83915       2023  3923881.0     1.0    37.0     1.0              Nigeria   \n83922       2023  3923881.0     2.0    61.0    40.0        Côte d'Ivoire   \n83925       2023  3923881.0     2.0    80.0    14.0        Côte d'Ivoire   \n\n       is_first  first_tally  second_tally  \n4          True          0.0           0.0  \n7          True          1.0           0.0  \n18        False          2.0           0.0  \n29        False          2.0           1.0  \n34         True          0.0           0.0  \n...         ...          ...           ...  \n83903      True          4.0           5.0  \n83904     False          5.0           5.0  \n83915      True          0.0           0.0  \n83922     False          1.0           0.0  \n83925     False          1.0           1.0  \n\n[9323 rows x 9 columns]",
      "text/html": "<div>\n<style scoped>\n    .dataframe tbody tr th:only-of-type {\n        vertical-align: middle;\n    }\n\n    .dataframe tbody tr th {\n        vertical-align: top;\n    }\n\n    .dataframe thead th {\n        text-align: right;\n    }\n</style>\n<table border=\"1\" class=\"dataframe\">\n  <thead>\n    <tr style=\"text-align: right;\">\n      <th></th>\n      <th>season_id</th>\n      <th>match_id</th>\n      <th>period</th>\n      <th>minute</th>\n      <th>second</th>\n      <th>team</th>\n      <th>is_first</th>\n      <th>first_tally</th>\n      <th>second_tally</th>\n    </tr>\n  </thead>\n  <tbody>\n    <tr>\n      <th>4</th>\n      <td>2018/2019</td>\n      <td>7298.0</td>\n      <td>1.0</td>\n      <td>5.0</td>\n      <td>46.0</td>\n      <td>Chelsea FCW</td>\n      <td>True</td>\n      <td>0.0</td>\n      <td>0.0</td>\n    </tr>\n    <tr>\n      <th>7</th>\n      <td>2018/2019</td>\n      <td>7298.0</td>\n      <td>1.0</td>\n      <td>23.0</td>\n      <td>21.0</td>\n      <td>Chelsea FCW</td>\n      <td>True</td>\n      <td>1.0</td>\n      <td>0.0</td>\n    </tr>\n    <tr>\n      <th>18</th>\n      <td>2018/2019</td>\n      <td>7298.0</td>\n      <td>2.0</td>\n      <td>48.0</td>\n      <td>41.0</td>\n      <td>Manchester City WFC</td>\n      <td>False</td>\n      <td>2.0</td>\n      <td>0.0</td>\n    </tr>\n    <tr>\n      <th>29</th>\n      <td>2018/2019</td>\n      <td>7298.0</td>\n      <td>2.0</td>\n      <td>85.0</td>\n      <td>34.0</td>\n      <td>Manchester City WFC</td>\n      <td>False</td>\n      <td>2.0</td>\n      <td>1.0</td>\n    </tr>\n    <tr>\n      <th>34</th>\n      <td>2018</td>\n      <td>7430.0</td>\n      <td>1.0</td>\n      <td>2.0</td>\n      <td>42.0</td>\n      <td>Washington Spirit</td>\n      <td>True</td>\n      <td>0.0</td>\n      <td>0.0</td>\n    </tr>\n    <tr>\n      <th>...</th>\n      <td>...</td>\n      <td>...</td>\n      <td>...</td>\n      <td>...</td>\n      <td>...</td>\n      <td>...</td>\n      <td>...</td>\n      <td>...</td>\n      <td>...</td>\n    </tr>\n    <tr>\n      <th>83903</th>\n      <td>2023</td>\n      <td>3923880.0</td>\n      <td>5.0</td>\n      <td>130.0</td>\n      <td>33.0</td>\n      <td>Congo DR</td>\n      <td>True</td>\n      <td>4.0</td>\n      <td>5.0</td>\n    </tr>\n    <tr>\n      <th>83904</th>\n      <td>2023</td>\n      <td>3923880.0</td>\n      <td>5.0</td>\n      <td>131.0</td>\n      <td>20.0</td>\n      <td>South Africa</td>\n      <td>False</td>\n      <td>5.0</td>\n      <td>5.0</td>\n    </tr>\n    <tr>\n      <th>83915</th>\n      <td>2023</td>\n      <td>3923881.0</td>\n      <td>1.0</td>\n      <td>37.0</td>\n      <td>1.0</td>\n      <td>Nigeria</td>\n      <td>True</td>\n      <td>0.0</td>\n      <td>0.0</td>\n    </tr>\n    <tr>\n      <th>83922</th>\n      <td>2023</td>\n      <td>3923881.0</td>\n      <td>2.0</td>\n      <td>61.0</td>\n      <td>40.0</td>\n      <td>Côte d'Ivoire</td>\n      <td>False</td>\n      <td>1.0</td>\n      <td>0.0</td>\n    </tr>\n    <tr>\n      <th>83925</th>\n      <td>2023</td>\n      <td>3923881.0</td>\n      <td>2.0</td>\n      <td>80.0</td>\n      <td>14.0</td>\n      <td>Côte d'Ivoire</td>\n      <td>False</td>\n      <td>1.0</td>\n      <td>1.0</td>\n    </tr>\n  </tbody>\n</table>\n<p>9323 rows × 9 columns</p>\n</div>"
     },
     "execution_count": 30,
     "metadata": {},
     "output_type": "execute_result"
    }
   ],
   "source": [
    "# We can now calculate the game state and which team was leading at the time of the shot\n",
    "all_goals = all_shots[all_shots[\"shot_outcome\"] == \"Goal\"]\n",
    "\n",
    "first_scorers = all_goals.groupby(['match_id']).first()[[\"team\"]]\n",
    "all_goals[\"is_first\"] = all_goals[['match_id', 'team']].apply(tuple, axis=1).isin(list(zip(first_scorers.index, first_scorers[\"team\"])))\n",
    "\n",
    "all_goals[\"first_tally_temp\"] = all_goals[all_goals[\"is_first\"] == True].groupby([\"match_id\", \"is_first\"]).cumcount()\n",
    "all_goals[\"first_tally\"] = all_goals.groupby([\"match_id\"])[\"first_tally_temp\"].fillna(method=\"ffill\")\n",
    "all_goals.loc[all_goals['first_tally_temp'].isnull() & ~all_goals['first_tally'].isnull(), 'first_tally'] = all_goals.loc[all_goals['first_tally_temp'].isnull() & ~all_goals['first_tally'].isnull(), 'first_tally'] + 1\n",
    "\n",
    "all_goals[\"second_tally_temp\"] = all_goals[all_goals[\"is_first\"] == False].groupby([\"match_id\", \"is_first\"]).cumcount()\n",
    "all_goals[\"second_tally\"] = all_goals.groupby([\"match_id\"])[\"second_tally_temp\"].fillna(method=\"ffill\")\n",
    "all_goals.loc[all_goals['second_tally_temp'].isnull() & ~all_goals['second_tally'].isnull(), 'second_tally'] = all_goals.loc[all_goals['second_tally_temp'].isnull() & ~all_goals['second_tally'].isnull(), 'second_tally'] + 1\n",
    "all_goals[\"second_tally\"].fillna(0, inplace=True)\n",
    "\n",
    "all_goals[[\"season_id\", \"match_id\", \"period\", \"minute\", \"second\", \"team\", \"is_first\", \"first_tally\", \"second_tally\"]]"
   ],
   "metadata": {
    "collapsed": false,
    "pycharm": {
     "name": "#%%\n"
    }
   }
  },
  {
   "cell_type": "code",
   "execution_count": 31,
   "outputs": [
    {
     "data": {
      "text/plain": "       season_id   match_id  period  minute  second           team  is_goal  \\\n0      2018/2019     7298.0     1.0     0.0    47.0    Chelsea FCW    False   \n1      2018/2019     7298.0     1.0     5.0    12.0    Chelsea FCW    False   \n2      2018/2019     7298.0     1.0     5.0    41.0    Chelsea FCW    False   \n3      2018/2019     7298.0     1.0     5.0    43.0    Chelsea FCW    False   \n4      2018/2019     7298.0     1.0     5.0    46.0    Chelsea FCW     True   \n...          ...        ...     ...     ...     ...            ...      ...   \n83924       2023  3923881.0     2.0    73.0    55.0  Côte d'Ivoire    False   \n83925       2023  3923881.0     2.0    80.0    14.0  Côte d'Ivoire     True   \n83926       2023  3923881.0     2.0    89.0    12.0        Nigeria    False   \n83927       2023  3923881.0     2.0    93.0    55.0  Côte d'Ivoire    False   \n83928       2023  3923881.0     2.0    95.0    12.0        Nigeria    False   \n\n       shots_so_far  xg_so_far  first_tally  second_tally  \n0                 0   0.000000          NaN           NaN  \n1                 1   0.018856          NaN           NaN  \n2                 2   0.060703          NaN           NaN  \n3                 3   0.087385          NaN           NaN  \n4                 4   0.193604          0.0           0.0  \n...             ...        ...          ...           ...  \n83924            15   1.082065          NaN           NaN  \n83925            16   1.157621          1.0           1.0  \n83926             3   0.190122          NaN           NaN  \n83927            17   1.390592          NaN           NaN  \n83928             4   0.242630          NaN           NaN  \n\n[83929 rows x 11 columns]",
      "text/html": "<div>\n<style scoped>\n    .dataframe tbody tr th:only-of-type {\n        vertical-align: middle;\n    }\n\n    .dataframe tbody tr th {\n        vertical-align: top;\n    }\n\n    .dataframe thead th {\n        text-align: right;\n    }\n</style>\n<table border=\"1\" class=\"dataframe\">\n  <thead>\n    <tr style=\"text-align: right;\">\n      <th></th>\n      <th>season_id</th>\n      <th>match_id</th>\n      <th>period</th>\n      <th>minute</th>\n      <th>second</th>\n      <th>team</th>\n      <th>is_goal</th>\n      <th>shots_so_far</th>\n      <th>xg_so_far</th>\n      <th>first_tally</th>\n      <th>second_tally</th>\n    </tr>\n  </thead>\n  <tbody>\n    <tr>\n      <th>0</th>\n      <td>2018/2019</td>\n      <td>7298.0</td>\n      <td>1.0</td>\n      <td>0.0</td>\n      <td>47.0</td>\n      <td>Chelsea FCW</td>\n      <td>False</td>\n      <td>0</td>\n      <td>0.000000</td>\n      <td>NaN</td>\n      <td>NaN</td>\n    </tr>\n    <tr>\n      <th>1</th>\n      <td>2018/2019</td>\n      <td>7298.0</td>\n      <td>1.0</td>\n      <td>5.0</td>\n      <td>12.0</td>\n      <td>Chelsea FCW</td>\n      <td>False</td>\n      <td>1</td>\n      <td>0.018856</td>\n      <td>NaN</td>\n      <td>NaN</td>\n    </tr>\n    <tr>\n      <th>2</th>\n      <td>2018/2019</td>\n      <td>7298.0</td>\n      <td>1.0</td>\n      <td>5.0</td>\n      <td>41.0</td>\n      <td>Chelsea FCW</td>\n      <td>False</td>\n      <td>2</td>\n      <td>0.060703</td>\n      <td>NaN</td>\n      <td>NaN</td>\n    </tr>\n    <tr>\n      <th>3</th>\n      <td>2018/2019</td>\n      <td>7298.0</td>\n      <td>1.0</td>\n      <td>5.0</td>\n      <td>43.0</td>\n      <td>Chelsea FCW</td>\n      <td>False</td>\n      <td>3</td>\n      <td>0.087385</td>\n      <td>NaN</td>\n      <td>NaN</td>\n    </tr>\n    <tr>\n      <th>4</th>\n      <td>2018/2019</td>\n      <td>7298.0</td>\n      <td>1.0</td>\n      <td>5.0</td>\n      <td>46.0</td>\n      <td>Chelsea FCW</td>\n      <td>True</td>\n      <td>4</td>\n      <td>0.193604</td>\n      <td>0.0</td>\n      <td>0.0</td>\n    </tr>\n    <tr>\n      <th>...</th>\n      <td>...</td>\n      <td>...</td>\n      <td>...</td>\n      <td>...</td>\n      <td>...</td>\n      <td>...</td>\n      <td>...</td>\n      <td>...</td>\n      <td>...</td>\n      <td>...</td>\n      <td>...</td>\n    </tr>\n    <tr>\n      <th>83924</th>\n      <td>2023</td>\n      <td>3923881.0</td>\n      <td>2.0</td>\n      <td>73.0</td>\n      <td>55.0</td>\n      <td>Côte d'Ivoire</td>\n      <td>False</td>\n      <td>15</td>\n      <td>1.082065</td>\n      <td>NaN</td>\n      <td>NaN</td>\n    </tr>\n    <tr>\n      <th>83925</th>\n      <td>2023</td>\n      <td>3923881.0</td>\n      <td>2.0</td>\n      <td>80.0</td>\n      <td>14.0</td>\n      <td>Côte d'Ivoire</td>\n      <td>True</td>\n      <td>16</td>\n      <td>1.157621</td>\n      <td>1.0</td>\n      <td>1.0</td>\n    </tr>\n    <tr>\n      <th>83926</th>\n      <td>2023</td>\n      <td>3923881.0</td>\n      <td>2.0</td>\n      <td>89.0</td>\n      <td>12.0</td>\n      <td>Nigeria</td>\n      <td>False</td>\n      <td>3</td>\n      <td>0.190122</td>\n      <td>NaN</td>\n      <td>NaN</td>\n    </tr>\n    <tr>\n      <th>83927</th>\n      <td>2023</td>\n      <td>3923881.0</td>\n      <td>2.0</td>\n      <td>93.0</td>\n      <td>55.0</td>\n      <td>Côte d'Ivoire</td>\n      <td>False</td>\n      <td>17</td>\n      <td>1.390592</td>\n      <td>NaN</td>\n      <td>NaN</td>\n    </tr>\n    <tr>\n      <th>83928</th>\n      <td>2023</td>\n      <td>3923881.0</td>\n      <td>2.0</td>\n      <td>95.0</td>\n      <td>12.0</td>\n      <td>Nigeria</td>\n      <td>False</td>\n      <td>4</td>\n      <td>0.242630</td>\n      <td>NaN</td>\n      <td>NaN</td>\n    </tr>\n  </tbody>\n</table>\n<p>83929 rows × 11 columns</p>\n</div>"
     },
     "execution_count": 31,
     "metadata": {},
     "output_type": "execute_result"
    }
   ],
   "source": [
    "data[\"first_tally\"] = all_goals[\"first_tally\"]\n",
    "data[\"second_tally\"] = all_goals[\"second_tally\"]\n",
    "data[[\"season_id\", \"match_id\", \"period\", \"minute\", \"second\", \"team\", \"is_goal\", \"shots_so_far\", \"xg_so_far\", \"first_tally\", \"second_tally\"]]"
   ],
   "metadata": {
    "collapsed": false,
    "pycharm": {
     "name": "#%%\n"
    }
   }
  },
  {
   "cell_type": "code",
   "execution_count": 32,
   "outputs": [
    {
     "data": {
      "text/plain": "       season_id   match_id  period  minute  second           team  is_goal  \\\n0      2018/2019     7298.0     1.0     0.0    47.0    Chelsea FCW    False   \n1      2018/2019     7298.0     1.0     5.0    12.0    Chelsea FCW    False   \n2      2018/2019     7298.0     1.0     5.0    41.0    Chelsea FCW    False   \n3      2018/2019     7298.0     1.0     5.0    43.0    Chelsea FCW    False   \n4      2018/2019     7298.0     1.0     5.0    46.0    Chelsea FCW     True   \n...          ...        ...     ...     ...     ...            ...      ...   \n83924       2023  3923881.0     2.0    73.0    55.0  Côte d'Ivoire    False   \n83925       2023  3923881.0     2.0    80.0    14.0  Côte d'Ivoire     True   \n83926       2023  3923881.0     2.0    89.0    12.0        Nigeria    False   \n83927       2023  3923881.0     2.0    93.0    55.0  Côte d'Ivoire    False   \n83928       2023  3923881.0     2.0    95.0    12.0        Nigeria    False   \n\n       shots_so_far  xg_so_far  first_tally  second_tally  \n0                 0   0.000000          0.0           0.0  \n1                 1   0.018856          0.0           0.0  \n2                 2   0.060703          0.0           0.0  \n3                 3   0.087385          0.0           0.0  \n4                 4   0.193604          0.0           0.0  \n...             ...        ...          ...           ...  \n83924            15   1.082065          1.0           1.0  \n83925            16   1.157621          1.0           1.0  \n83926             3   0.190122          1.0           2.0  \n83927            17   1.390592          1.0           2.0  \n83928             4   0.242630          1.0           2.0  \n\n[83929 rows x 11 columns]",
      "text/html": "<div>\n<style scoped>\n    .dataframe tbody tr th:only-of-type {\n        vertical-align: middle;\n    }\n\n    .dataframe tbody tr th {\n        vertical-align: top;\n    }\n\n    .dataframe thead th {\n        text-align: right;\n    }\n</style>\n<table border=\"1\" class=\"dataframe\">\n  <thead>\n    <tr style=\"text-align: right;\">\n      <th></th>\n      <th>season_id</th>\n      <th>match_id</th>\n      <th>period</th>\n      <th>minute</th>\n      <th>second</th>\n      <th>team</th>\n      <th>is_goal</th>\n      <th>shots_so_far</th>\n      <th>xg_so_far</th>\n      <th>first_tally</th>\n      <th>second_tally</th>\n    </tr>\n  </thead>\n  <tbody>\n    <tr>\n      <th>0</th>\n      <td>2018/2019</td>\n      <td>7298.0</td>\n      <td>1.0</td>\n      <td>0.0</td>\n      <td>47.0</td>\n      <td>Chelsea FCW</td>\n      <td>False</td>\n      <td>0</td>\n      <td>0.000000</td>\n      <td>0.0</td>\n      <td>0.0</td>\n    </tr>\n    <tr>\n      <th>1</th>\n      <td>2018/2019</td>\n      <td>7298.0</td>\n      <td>1.0</td>\n      <td>5.0</td>\n      <td>12.0</td>\n      <td>Chelsea FCW</td>\n      <td>False</td>\n      <td>1</td>\n      <td>0.018856</td>\n      <td>0.0</td>\n      <td>0.0</td>\n    </tr>\n    <tr>\n      <th>2</th>\n      <td>2018/2019</td>\n      <td>7298.0</td>\n      <td>1.0</td>\n      <td>5.0</td>\n      <td>41.0</td>\n      <td>Chelsea FCW</td>\n      <td>False</td>\n      <td>2</td>\n      <td>0.060703</td>\n      <td>0.0</td>\n      <td>0.0</td>\n    </tr>\n    <tr>\n      <th>3</th>\n      <td>2018/2019</td>\n      <td>7298.0</td>\n      <td>1.0</td>\n      <td>5.0</td>\n      <td>43.0</td>\n      <td>Chelsea FCW</td>\n      <td>False</td>\n      <td>3</td>\n      <td>0.087385</td>\n      <td>0.0</td>\n      <td>0.0</td>\n    </tr>\n    <tr>\n      <th>4</th>\n      <td>2018/2019</td>\n      <td>7298.0</td>\n      <td>1.0</td>\n      <td>5.0</td>\n      <td>46.0</td>\n      <td>Chelsea FCW</td>\n      <td>True</td>\n      <td>4</td>\n      <td>0.193604</td>\n      <td>0.0</td>\n      <td>0.0</td>\n    </tr>\n    <tr>\n      <th>...</th>\n      <td>...</td>\n      <td>...</td>\n      <td>...</td>\n      <td>...</td>\n      <td>...</td>\n      <td>...</td>\n      <td>...</td>\n      <td>...</td>\n      <td>...</td>\n      <td>...</td>\n      <td>...</td>\n    </tr>\n    <tr>\n      <th>83924</th>\n      <td>2023</td>\n      <td>3923881.0</td>\n      <td>2.0</td>\n      <td>73.0</td>\n      <td>55.0</td>\n      <td>Côte d'Ivoire</td>\n      <td>False</td>\n      <td>15</td>\n      <td>1.082065</td>\n      <td>1.0</td>\n      <td>1.0</td>\n    </tr>\n    <tr>\n      <th>83925</th>\n      <td>2023</td>\n      <td>3923881.0</td>\n      <td>2.0</td>\n      <td>80.0</td>\n      <td>14.0</td>\n      <td>Côte d'Ivoire</td>\n      <td>True</td>\n      <td>16</td>\n      <td>1.157621</td>\n      <td>1.0</td>\n      <td>1.0</td>\n    </tr>\n    <tr>\n      <th>83926</th>\n      <td>2023</td>\n      <td>3923881.0</td>\n      <td>2.0</td>\n      <td>89.0</td>\n      <td>12.0</td>\n      <td>Nigeria</td>\n      <td>False</td>\n      <td>3</td>\n      <td>0.190122</td>\n      <td>1.0</td>\n      <td>2.0</td>\n    </tr>\n    <tr>\n      <th>83927</th>\n      <td>2023</td>\n      <td>3923881.0</td>\n      <td>2.0</td>\n      <td>93.0</td>\n      <td>55.0</td>\n      <td>Côte d'Ivoire</td>\n      <td>False</td>\n      <td>17</td>\n      <td>1.390592</td>\n      <td>1.0</td>\n      <td>2.0</td>\n    </tr>\n    <tr>\n      <th>83928</th>\n      <td>2023</td>\n      <td>3923881.0</td>\n      <td>2.0</td>\n      <td>95.0</td>\n      <td>12.0</td>\n      <td>Nigeria</td>\n      <td>False</td>\n      <td>4</td>\n      <td>0.242630</td>\n      <td>1.0</td>\n      <td>2.0</td>\n    </tr>\n  </tbody>\n</table>\n<p>83929 rows × 11 columns</p>\n</div>"
     },
     "execution_count": 32,
     "metadata": {},
     "output_type": "execute_result"
    }
   ],
   "source": [
    "data[\"is_first\"] = data[['match_id', 'team']].apply(tuple, axis=1).isin(list(zip(first_scorers.index, first_scorers[\"team\"])))\n",
    "data[\"first_tally\"] = data[\"first_tally\"].fillna(method=\"bfill\")\n",
    "data[\"second_tally\"] = data[\"second_tally\"].fillna(method=\"bfill\")\n",
    "\n",
    "data[\"row_index\"] = data.index\n",
    "last_goals = data[data[\"is_goal\"] == True].groupby([\"match_id\"]).last()[\"row_index\"]\n",
    "last_shots = data.groupby([\"match_id\"]).last()[\"row_index\"]\n",
    "last_shots = last_shots[last_shots.index.isin(last_goals.index)]\n",
    "\n",
    "for i in range(len(last_goals)):\n",
    "    if last_goals.iloc[i] != last_shots.iloc[i]:\n",
    "        goal = data.iloc[last_goals.iloc[i]]\n",
    "        prop_values = (goal[\"first_tally\"]+1, goal[\"second_tally\"]) if goal[\"is_first\"] else (goal[\"first_tally\"], goal[\"second_tally\"]+1)\n",
    "        data.loc[last_goals.iloc[i]+1 : last_shots.iloc[i], \"first_tally\"] = prop_values[0]\n",
    "        data.loc[last_goals.iloc[i]+1 : last_shots.iloc[i], \"second_tally\"] = prop_values[1]\n",
    "\n",
    "data[[\"season_id\", \"match_id\", \"period\", \"minute\", \"second\", \"team\", \"is_goal\", \"shots_so_far\", \"xg_so_far\", \"first_tally\", \"second_tally\"]]"
   ],
   "metadata": {
    "collapsed": false,
    "pycharm": {
     "name": "#%%\n"
    }
   }
  },
  {
   "cell_type": "code",
   "execution_count": 33,
   "outputs": [
    {
     "data": {
      "text/plain": "       season_id   match_id  period  minute  second           team  is_goal  \\\n0      2018/2019     7298.0     1.0     0.0    47.0    Chelsea FCW    False   \n1      2018/2019     7298.0     1.0     5.0    12.0    Chelsea FCW    False   \n2      2018/2019     7298.0     1.0     5.0    41.0    Chelsea FCW    False   \n3      2018/2019     7298.0     1.0     5.0    43.0    Chelsea FCW    False   \n4      2018/2019     7298.0     1.0     5.0    46.0    Chelsea FCW     True   \n...          ...        ...     ...     ...     ...            ...      ...   \n83924       2023  3923881.0     2.0    73.0    55.0  Côte d'Ivoire    False   \n83925       2023  3923881.0     2.0    80.0    14.0  Côte d'Ivoire     True   \n83926       2023  3923881.0     2.0    89.0    12.0        Nigeria    False   \n83927       2023  3923881.0     2.0    93.0    55.0  Côte d'Ivoire    False   \n83928       2023  3923881.0     2.0    95.0    12.0        Nigeria    False   \n\n       shots_so_far  xg_so_far  game_state  was_leading  \n0                 0   0.000000         0.0            0  \n1                 1   0.018856         0.0            0  \n2                 2   0.060703         0.0            0  \n3                 3   0.087385         0.0            0  \n4                 4   0.193604         0.0            0  \n...             ...        ...         ...          ...  \n83924            15   1.082065         0.0            0  \n83925            16   1.157621         0.0            0  \n83926             3   0.190122        -1.0           -1  \n83927            17   1.390592         1.0            1  \n83928             4   0.242630        -1.0           -1  \n\n[83929 rows x 11 columns]",
      "text/html": "<div>\n<style scoped>\n    .dataframe tbody tr th:only-of-type {\n        vertical-align: middle;\n    }\n\n    .dataframe tbody tr th {\n        vertical-align: top;\n    }\n\n    .dataframe thead th {\n        text-align: right;\n    }\n</style>\n<table border=\"1\" class=\"dataframe\">\n  <thead>\n    <tr style=\"text-align: right;\">\n      <th></th>\n      <th>season_id</th>\n      <th>match_id</th>\n      <th>period</th>\n      <th>minute</th>\n      <th>second</th>\n      <th>team</th>\n      <th>is_goal</th>\n      <th>shots_so_far</th>\n      <th>xg_so_far</th>\n      <th>game_state</th>\n      <th>was_leading</th>\n    </tr>\n  </thead>\n  <tbody>\n    <tr>\n      <th>0</th>\n      <td>2018/2019</td>\n      <td>7298.0</td>\n      <td>1.0</td>\n      <td>0.0</td>\n      <td>47.0</td>\n      <td>Chelsea FCW</td>\n      <td>False</td>\n      <td>0</td>\n      <td>0.000000</td>\n      <td>0.0</td>\n      <td>0</td>\n    </tr>\n    <tr>\n      <th>1</th>\n      <td>2018/2019</td>\n      <td>7298.0</td>\n      <td>1.0</td>\n      <td>5.0</td>\n      <td>12.0</td>\n      <td>Chelsea FCW</td>\n      <td>False</td>\n      <td>1</td>\n      <td>0.018856</td>\n      <td>0.0</td>\n      <td>0</td>\n    </tr>\n    <tr>\n      <th>2</th>\n      <td>2018/2019</td>\n      <td>7298.0</td>\n      <td>1.0</td>\n      <td>5.0</td>\n      <td>41.0</td>\n      <td>Chelsea FCW</td>\n      <td>False</td>\n      <td>2</td>\n      <td>0.060703</td>\n      <td>0.0</td>\n      <td>0</td>\n    </tr>\n    <tr>\n      <th>3</th>\n      <td>2018/2019</td>\n      <td>7298.0</td>\n      <td>1.0</td>\n      <td>5.0</td>\n      <td>43.0</td>\n      <td>Chelsea FCW</td>\n      <td>False</td>\n      <td>3</td>\n      <td>0.087385</td>\n      <td>0.0</td>\n      <td>0</td>\n    </tr>\n    <tr>\n      <th>4</th>\n      <td>2018/2019</td>\n      <td>7298.0</td>\n      <td>1.0</td>\n      <td>5.0</td>\n      <td>46.0</td>\n      <td>Chelsea FCW</td>\n      <td>True</td>\n      <td>4</td>\n      <td>0.193604</td>\n      <td>0.0</td>\n      <td>0</td>\n    </tr>\n    <tr>\n      <th>...</th>\n      <td>...</td>\n      <td>...</td>\n      <td>...</td>\n      <td>...</td>\n      <td>...</td>\n      <td>...</td>\n      <td>...</td>\n      <td>...</td>\n      <td>...</td>\n      <td>...</td>\n      <td>...</td>\n    </tr>\n    <tr>\n      <th>83924</th>\n      <td>2023</td>\n      <td>3923881.0</td>\n      <td>2.0</td>\n      <td>73.0</td>\n      <td>55.0</td>\n      <td>Côte d'Ivoire</td>\n      <td>False</td>\n      <td>15</td>\n      <td>1.082065</td>\n      <td>0.0</td>\n      <td>0</td>\n    </tr>\n    <tr>\n      <th>83925</th>\n      <td>2023</td>\n      <td>3923881.0</td>\n      <td>2.0</td>\n      <td>80.0</td>\n      <td>14.0</td>\n      <td>Côte d'Ivoire</td>\n      <td>True</td>\n      <td>16</td>\n      <td>1.157621</td>\n      <td>0.0</td>\n      <td>0</td>\n    </tr>\n    <tr>\n      <th>83926</th>\n      <td>2023</td>\n      <td>3923881.0</td>\n      <td>2.0</td>\n      <td>89.0</td>\n      <td>12.0</td>\n      <td>Nigeria</td>\n      <td>False</td>\n      <td>3</td>\n      <td>0.190122</td>\n      <td>-1.0</td>\n      <td>-1</td>\n    </tr>\n    <tr>\n      <th>83927</th>\n      <td>2023</td>\n      <td>3923881.0</td>\n      <td>2.0</td>\n      <td>93.0</td>\n      <td>55.0</td>\n      <td>Côte d'Ivoire</td>\n      <td>False</td>\n      <td>17</td>\n      <td>1.390592</td>\n      <td>1.0</td>\n      <td>1</td>\n    </tr>\n    <tr>\n      <th>83928</th>\n      <td>2023</td>\n      <td>3923881.0</td>\n      <td>2.0</td>\n      <td>95.0</td>\n      <td>12.0</td>\n      <td>Nigeria</td>\n      <td>False</td>\n      <td>4</td>\n      <td>0.242630</td>\n      <td>-1.0</td>\n      <td>-1</td>\n    </tr>\n  </tbody>\n</table>\n<p>83929 rows × 11 columns</p>\n</div>"
     },
     "execution_count": 33,
     "metadata": {},
     "output_type": "execute_result"
    }
   ],
   "source": [
    "data[\"game_state\"] = data.apply(lambda x: (x[\"first_tally\"] - x[\"second_tally\"]) if x[\"is_first\"] else (x[\"second_tally\"] - x[\"first_tally\"]) ,axis=1)\n",
    "data[\"was_leading\"] = data[\"game_state\"].apply(lambda x: 1 if x > 0 else 0 if x == 0 else -1)\n",
    "\n",
    "data.drop([\"row_index\", \"is_first\", \"first_tally\", \"second_tally\"], axis=1, inplace=True)\n",
    "\n",
    "data[[\"season_id\", \"match_id\", \"period\", \"minute\", \"second\", \"team\", \"is_goal\", \"shots_so_far\", \"xg_so_far\", \"game_state\", \"was_leading\"]]"
   ],
   "metadata": {
    "collapsed": false,
    "pycharm": {
     "name": "#%%\n"
    }
   }
  },
  {
   "cell_type": "code",
   "execution_count": 34,
   "outputs": [
    {
     "data": {
      "text/plain": "       season_id   match_id  period  minute  second           team  is_goal  \\\n0      2018/2019     7298.0     1.0     0.0    47.0    Chelsea FCW    False   \n1      2018/2019     7298.0     1.0     5.0    12.0    Chelsea FCW    False   \n2      2018/2019     7298.0     1.0     5.0    41.0    Chelsea FCW    False   \n3      2018/2019     7298.0     1.0     5.0    43.0    Chelsea FCW    False   \n4      2018/2019     7298.0     1.0     5.0    46.0    Chelsea FCW     True   \n...          ...        ...     ...     ...     ...            ...      ...   \n83924       2023  3923881.0     2.0    73.0    55.0  Côte d'Ivoire    False   \n83925       2023  3923881.0     2.0    80.0    14.0  Côte d'Ivoire     True   \n83926       2023  3923881.0     2.0    89.0    12.0        Nigeria    False   \n83927       2023  3923881.0     2.0    93.0    55.0  Côte d'Ivoire    False   \n83928       2023  3923881.0     2.0    95.0    12.0        Nigeria    False   \n\n       past_minute  past_15  \n0              1.0      1.0  \n1              1.0      2.0  \n2              2.0      3.0  \n3              3.0      4.0  \n4              4.0      5.0  \n...            ...      ...  \n83924          1.0      5.0  \n83925          1.0      3.0  \n83926          1.0      2.0  \n83927          1.0      3.0  \n83928          1.0      4.0  \n\n[83929 rows x 9 columns]",
      "text/html": "<div>\n<style scoped>\n    .dataframe tbody tr th:only-of-type {\n        vertical-align: middle;\n    }\n\n    .dataframe tbody tr th {\n        vertical-align: top;\n    }\n\n    .dataframe thead th {\n        text-align: right;\n    }\n</style>\n<table border=\"1\" class=\"dataframe\">\n  <thead>\n    <tr style=\"text-align: right;\">\n      <th></th>\n      <th>season_id</th>\n      <th>match_id</th>\n      <th>period</th>\n      <th>minute</th>\n      <th>second</th>\n      <th>team</th>\n      <th>is_goal</th>\n      <th>past_minute</th>\n      <th>past_15</th>\n    </tr>\n  </thead>\n  <tbody>\n    <tr>\n      <th>0</th>\n      <td>2018/2019</td>\n      <td>7298.0</td>\n      <td>1.0</td>\n      <td>0.0</td>\n      <td>47.0</td>\n      <td>Chelsea FCW</td>\n      <td>False</td>\n      <td>1.0</td>\n      <td>1.0</td>\n    </tr>\n    <tr>\n      <th>1</th>\n      <td>2018/2019</td>\n      <td>7298.0</td>\n      <td>1.0</td>\n      <td>5.0</td>\n      <td>12.0</td>\n      <td>Chelsea FCW</td>\n      <td>False</td>\n      <td>1.0</td>\n      <td>2.0</td>\n    </tr>\n    <tr>\n      <th>2</th>\n      <td>2018/2019</td>\n      <td>7298.0</td>\n      <td>1.0</td>\n      <td>5.0</td>\n      <td>41.0</td>\n      <td>Chelsea FCW</td>\n      <td>False</td>\n      <td>2.0</td>\n      <td>3.0</td>\n    </tr>\n    <tr>\n      <th>3</th>\n      <td>2018/2019</td>\n      <td>7298.0</td>\n      <td>1.0</td>\n      <td>5.0</td>\n      <td>43.0</td>\n      <td>Chelsea FCW</td>\n      <td>False</td>\n      <td>3.0</td>\n      <td>4.0</td>\n    </tr>\n    <tr>\n      <th>4</th>\n      <td>2018/2019</td>\n      <td>7298.0</td>\n      <td>1.0</td>\n      <td>5.0</td>\n      <td>46.0</td>\n      <td>Chelsea FCW</td>\n      <td>True</td>\n      <td>4.0</td>\n      <td>5.0</td>\n    </tr>\n    <tr>\n      <th>...</th>\n      <td>...</td>\n      <td>...</td>\n      <td>...</td>\n      <td>...</td>\n      <td>...</td>\n      <td>...</td>\n      <td>...</td>\n      <td>...</td>\n      <td>...</td>\n    </tr>\n    <tr>\n      <th>83924</th>\n      <td>2023</td>\n      <td>3923881.0</td>\n      <td>2.0</td>\n      <td>73.0</td>\n      <td>55.0</td>\n      <td>Côte d'Ivoire</td>\n      <td>False</td>\n      <td>1.0</td>\n      <td>5.0</td>\n    </tr>\n    <tr>\n      <th>83925</th>\n      <td>2023</td>\n      <td>3923881.0</td>\n      <td>2.0</td>\n      <td>80.0</td>\n      <td>14.0</td>\n      <td>Côte d'Ivoire</td>\n      <td>True</td>\n      <td>1.0</td>\n      <td>3.0</td>\n    </tr>\n    <tr>\n      <th>83926</th>\n      <td>2023</td>\n      <td>3923881.0</td>\n      <td>2.0</td>\n      <td>89.0</td>\n      <td>12.0</td>\n      <td>Nigeria</td>\n      <td>False</td>\n      <td>1.0</td>\n      <td>2.0</td>\n    </tr>\n    <tr>\n      <th>83927</th>\n      <td>2023</td>\n      <td>3923881.0</td>\n      <td>2.0</td>\n      <td>93.0</td>\n      <td>55.0</td>\n      <td>Côte d'Ivoire</td>\n      <td>False</td>\n      <td>1.0</td>\n      <td>3.0</td>\n    </tr>\n    <tr>\n      <th>83928</th>\n      <td>2023</td>\n      <td>3923881.0</td>\n      <td>2.0</td>\n      <td>95.0</td>\n      <td>12.0</td>\n      <td>Nigeria</td>\n      <td>False</td>\n      <td>1.0</td>\n      <td>4.0</td>\n    </tr>\n  </tbody>\n</table>\n<p>83929 rows × 9 columns</p>\n</div>"
     },
     "execution_count": 34,
     "metadata": {},
     "output_type": "execute_result"
    }
   ],
   "source": [
    "# To capture phases of play, we'll count the number of shots, and the number of shots by the same team, over the last minute and 15 minutes\n",
    "data[\"time\"] = data.apply(lambda x: x[\"timestamp\"].replace(\"00:\", \"01:\", 1) if x[\"period\"] == 2.0 else x[\"timestamp\"], axis=1)\n",
    "data[\"time\"] = pd.to_datetime(data[\"time\"])\n",
    "\n",
    "data.sort_values(by=[\"match_id\", \"time\"], inplace=True)\n",
    "data[\"past_minute\"] = data.groupby([\"match_id\"]).apply(lambda match: match\n",
    "                                           .set_index('time').sort_index()\n",
    "                                           .rolling('60s')\n",
    "                                           .agg({'team': 'count'}).reset_index(drop=True)).reset_index(drop=True)\n",
    "data[\"past_15\"] = data.groupby([\"match_id\"]).apply(lambda match: match\n",
    "                                           .set_index('time').sort_index()\n",
    "                                           .rolling('900s')\n",
    "                                           .agg({'team': 'count'}).reset_index(drop=True)).reset_index(drop=True)\n",
    "data[[\"season_id\", \"match_id\", \"period\", \"minute\", \"second\", \"team\", \"is_goal\", \"past_minute\", \"past_15\"]].sort_values(by=[\"match_id\", \"period\", \"minute\", \"second\"])"
   ],
   "metadata": {
    "collapsed": false,
    "pycharm": {
     "name": "#%%\n"
    }
   }
  },
  {
   "cell_type": "code",
   "execution_count": 35,
   "outputs": [
    {
     "data": {
      "text/plain": "       season_id   match_id  period  minute  second           team  is_goal  \\\n0      2018/2019     7298.0     1.0     0.0    47.0    Chelsea FCW    False   \n1      2018/2019     7298.0     1.0     5.0    12.0    Chelsea FCW    False   \n2      2018/2019     7298.0     1.0     5.0    41.0    Chelsea FCW    False   \n3      2018/2019     7298.0     1.0     5.0    43.0    Chelsea FCW    False   \n4      2018/2019     7298.0     1.0     5.0    46.0    Chelsea FCW     True   \n...          ...        ...     ...     ...     ...            ...      ...   \n83924       2023  3923881.0     2.0    73.0    55.0  Côte d'Ivoire    False   \n83925       2023  3923881.0     2.0    80.0    14.0  Côte d'Ivoire     True   \n83926       2023  3923881.0     2.0    89.0    12.0        Nigeria    False   \n83927       2023  3923881.0     2.0    93.0    55.0  Côte d'Ivoire    False   \n83928       2023  3923881.0     2.0    95.0    12.0        Nigeria    False   \n\n       own_past_minute  own_past_15  \n0                  1.0          1.0  \n1                  1.0          2.0  \n2                  2.0          3.0  \n3                  3.0          4.0  \n4                  4.0          5.0  \n...                ...          ...  \n83924              1.0          1.0  \n83925              2.0          2.0  \n83926              1.0          1.0  \n83927              1.0          1.0  \n83928              1.0          2.0  \n\n[83929 rows x 9 columns]",
      "text/html": "<div>\n<style scoped>\n    .dataframe tbody tr th:only-of-type {\n        vertical-align: middle;\n    }\n\n    .dataframe tbody tr th {\n        vertical-align: top;\n    }\n\n    .dataframe thead th {\n        text-align: right;\n    }\n</style>\n<table border=\"1\" class=\"dataframe\">\n  <thead>\n    <tr style=\"text-align: right;\">\n      <th></th>\n      <th>season_id</th>\n      <th>match_id</th>\n      <th>period</th>\n      <th>minute</th>\n      <th>second</th>\n      <th>team</th>\n      <th>is_goal</th>\n      <th>own_past_minute</th>\n      <th>own_past_15</th>\n    </tr>\n  </thead>\n  <tbody>\n    <tr>\n      <th>0</th>\n      <td>2018/2019</td>\n      <td>7298.0</td>\n      <td>1.0</td>\n      <td>0.0</td>\n      <td>47.0</td>\n      <td>Chelsea FCW</td>\n      <td>False</td>\n      <td>1.0</td>\n      <td>1.0</td>\n    </tr>\n    <tr>\n      <th>1</th>\n      <td>2018/2019</td>\n      <td>7298.0</td>\n      <td>1.0</td>\n      <td>5.0</td>\n      <td>12.0</td>\n      <td>Chelsea FCW</td>\n      <td>False</td>\n      <td>1.0</td>\n      <td>2.0</td>\n    </tr>\n    <tr>\n      <th>2</th>\n      <td>2018/2019</td>\n      <td>7298.0</td>\n      <td>1.0</td>\n      <td>5.0</td>\n      <td>41.0</td>\n      <td>Chelsea FCW</td>\n      <td>False</td>\n      <td>2.0</td>\n      <td>3.0</td>\n    </tr>\n    <tr>\n      <th>3</th>\n      <td>2018/2019</td>\n      <td>7298.0</td>\n      <td>1.0</td>\n      <td>5.0</td>\n      <td>43.0</td>\n      <td>Chelsea FCW</td>\n      <td>False</td>\n      <td>3.0</td>\n      <td>4.0</td>\n    </tr>\n    <tr>\n      <th>4</th>\n      <td>2018/2019</td>\n      <td>7298.0</td>\n      <td>1.0</td>\n      <td>5.0</td>\n      <td>46.0</td>\n      <td>Chelsea FCW</td>\n      <td>True</td>\n      <td>4.0</td>\n      <td>5.0</td>\n    </tr>\n    <tr>\n      <th>...</th>\n      <td>...</td>\n      <td>...</td>\n      <td>...</td>\n      <td>...</td>\n      <td>...</td>\n      <td>...</td>\n      <td>...</td>\n      <td>...</td>\n      <td>...</td>\n    </tr>\n    <tr>\n      <th>83924</th>\n      <td>2023</td>\n      <td>3923881.0</td>\n      <td>2.0</td>\n      <td>73.0</td>\n      <td>55.0</td>\n      <td>Côte d'Ivoire</td>\n      <td>False</td>\n      <td>1.0</td>\n      <td>1.0</td>\n    </tr>\n    <tr>\n      <th>83925</th>\n      <td>2023</td>\n      <td>3923881.0</td>\n      <td>2.0</td>\n      <td>80.0</td>\n      <td>14.0</td>\n      <td>Côte d'Ivoire</td>\n      <td>True</td>\n      <td>2.0</td>\n      <td>2.0</td>\n    </tr>\n    <tr>\n      <th>83926</th>\n      <td>2023</td>\n      <td>3923881.0</td>\n      <td>2.0</td>\n      <td>89.0</td>\n      <td>12.0</td>\n      <td>Nigeria</td>\n      <td>False</td>\n      <td>1.0</td>\n      <td>1.0</td>\n    </tr>\n    <tr>\n      <th>83927</th>\n      <td>2023</td>\n      <td>3923881.0</td>\n      <td>2.0</td>\n      <td>93.0</td>\n      <td>55.0</td>\n      <td>Côte d'Ivoire</td>\n      <td>False</td>\n      <td>1.0</td>\n      <td>1.0</td>\n    </tr>\n    <tr>\n      <th>83928</th>\n      <td>2023</td>\n      <td>3923881.0</td>\n      <td>2.0</td>\n      <td>95.0</td>\n      <td>12.0</td>\n      <td>Nigeria</td>\n      <td>False</td>\n      <td>1.0</td>\n      <td>2.0</td>\n    </tr>\n  </tbody>\n</table>\n<p>83929 rows × 9 columns</p>\n</div>"
     },
     "execution_count": 35,
     "metadata": {},
     "output_type": "execute_result"
    }
   ],
   "source": [
    "data.sort_values(by=[\"match_id\", \"team\", \"time\"], inplace=True)\n",
    "data[\"own_past_minute\"] = data.groupby([\"match_id\", \"team\"]).apply(lambda match: match\n",
    "                                           .set_index('time').sort_index()\n",
    "                                           .rolling('60s')\n",
    "                                           .agg({'team': 'count'}).reset_index(drop=True)).reset_index(drop=True)\n",
    "data[\"own_past_15\"] = data.groupby([\"match_id\", \"team\"]).apply(lambda match: match\n",
    "                                           .set_index('time').sort_index()\n",
    "                                           .rolling('900s')\n",
    "                                           .agg({'team': 'count'}).reset_index(drop=True)).reset_index(drop=True)\n",
    "\n",
    "data.drop([\"time\"], axis=1, inplace=True)\n",
    "data.sort_values(by=[\"match_id\", \"period\", \"minute\", \"second\"], inplace=True)\n",
    "data[[\"season_id\", \"match_id\", \"period\", \"minute\", \"second\", \"team\", \"is_goal\", \"own_past_minute\", \"own_past_15\"]]"
   ],
   "metadata": {
    "collapsed": false,
    "pycharm": {
     "name": "#%%\n"
    }
   }
  },
  {
   "cell_type": "code",
   "execution_count": 36,
   "outputs": [],
   "source": [
    "data[\"is_extra_time\"] = data[\"minute\"] >= 90"
   ],
   "metadata": {
    "collapsed": false,
    "pycharm": {
     "name": "#%%\n"
    }
   }
  },
  {
   "cell_type": "code",
   "execution_count": 37,
   "outputs": [
    {
     "data": {
      "text/plain": "       period  minute  second  possession  duration           competition_id  \\\n0         1.0     0.0    47.0         4.0  0.560000  FA Women's Super League   \n1         1.0     5.0    12.0        15.0  0.400000  FA Women's Super League   \n2         1.0     5.0    41.0        16.0  0.480000  FA Women's Super League   \n3         1.0     5.0    43.0        16.0  0.160000  FA Women's Super League   \n4         1.0     5.0    46.0        16.0  1.480000  FA Women's Super League   \n...       ...     ...     ...         ...       ...                      ...   \n83924     2.0    73.0    55.0       137.0  0.921817   African Cup of Nations   \n83925     2.0    80.0    14.0       140.0  0.668012   African Cup of Nations   \n83926     2.0    89.0    12.0       149.0  0.314267   African Cup of Nations   \n83927     2.0    93.0    55.0       159.0  1.510618   African Cup of Nations   \n83928     2.0    95.0    12.0       161.0  1.079523   African Cup of Nations   \n\n       season_id   match_id     timestamp           team  ... good_foot  \\\n0      2018/2019     7298.0  00:00:47.620    Chelsea FCW  ...      True   \n1      2018/2019     7298.0  00:05:12.780    Chelsea FCW  ...      True   \n2      2018/2019     7298.0  00:05:41.940    Chelsea FCW  ...     False   \n3      2018/2019     7298.0  00:05:43.900    Chelsea FCW  ...      True   \n4      2018/2019     7298.0  00:05:46.380    Chelsea FCW  ...     False   \n...          ...        ...           ...            ...  ...       ...   \n83924       2023  3923881.0  00:28:55.274  Côte d'Ivoire  ...      True   \n83925       2023  3923881.0  00:35:14.269  Côte d'Ivoire  ...      True   \n83926       2023  3923881.0  00:44:12.865        Nigeria  ...      True   \n83927       2023  3923881.0  00:48:55.619  Côte d'Ivoire  ...      True   \n83928       2023  3923881.0  00:50:12.092        Nigeria  ...     False   \n\n      shots_so_far xg_so_far game_state  was_leading  past_minute  past_15  \\\n0                0  0.000000        0.0            0          1.0      1.0   \n1                1  0.018856        0.0            0          1.0      2.0   \n2                2  0.060703        0.0            0          2.0      3.0   \n3                3  0.087385        0.0            0          3.0      4.0   \n4                4  0.193604        0.0            0          4.0      5.0   \n...            ...       ...        ...          ...          ...      ...   \n83924           15  1.082065        0.0            0          1.0      5.0   \n83925           16  1.157621        0.0            0          1.0      3.0   \n83926            3  0.190122       -1.0           -1          1.0      2.0   \n83927           17  1.390592        1.0            1          1.0      3.0   \n83928            4  0.242630       -1.0           -1          1.0      4.0   \n\n       own_past_minute  own_past_15 is_extra_time  \n0                  1.0          1.0         False  \n1                  1.0          2.0         False  \n2                  2.0          3.0         False  \n3                  3.0          4.0         False  \n4                  4.0          5.0         False  \n...                ...          ...           ...  \n83924              1.0          1.0         False  \n83925              2.0          2.0         False  \n83926              1.0          1.0         False  \n83927              1.0          1.0          True  \n83928              1.0          2.0          True  \n\n[83929 rows x 59 columns]",
      "text/html": "<div>\n<style scoped>\n    .dataframe tbody tr th:only-of-type {\n        vertical-align: middle;\n    }\n\n    .dataframe tbody tr th {\n        vertical-align: top;\n    }\n\n    .dataframe thead th {\n        text-align: right;\n    }\n</style>\n<table border=\"1\" class=\"dataframe\">\n  <thead>\n    <tr style=\"text-align: right;\">\n      <th></th>\n      <th>period</th>\n      <th>minute</th>\n      <th>second</th>\n      <th>possession</th>\n      <th>duration</th>\n      <th>competition_id</th>\n      <th>season_id</th>\n      <th>match_id</th>\n      <th>timestamp</th>\n      <th>team</th>\n      <th>...</th>\n      <th>good_foot</th>\n      <th>shots_so_far</th>\n      <th>xg_so_far</th>\n      <th>game_state</th>\n      <th>was_leading</th>\n      <th>past_minute</th>\n      <th>past_15</th>\n      <th>own_past_minute</th>\n      <th>own_past_15</th>\n      <th>is_extra_time</th>\n    </tr>\n  </thead>\n  <tbody>\n    <tr>\n      <th>0</th>\n      <td>1.0</td>\n      <td>0.0</td>\n      <td>47.0</td>\n      <td>4.0</td>\n      <td>0.560000</td>\n      <td>FA Women's Super League</td>\n      <td>2018/2019</td>\n      <td>7298.0</td>\n      <td>00:00:47.620</td>\n      <td>Chelsea FCW</td>\n      <td>...</td>\n      <td>True</td>\n      <td>0</td>\n      <td>0.000000</td>\n      <td>0.0</td>\n      <td>0</td>\n      <td>1.0</td>\n      <td>1.0</td>\n      <td>1.0</td>\n      <td>1.0</td>\n      <td>False</td>\n    </tr>\n    <tr>\n      <th>1</th>\n      <td>1.0</td>\n      <td>5.0</td>\n      <td>12.0</td>\n      <td>15.0</td>\n      <td>0.400000</td>\n      <td>FA Women's Super League</td>\n      <td>2018/2019</td>\n      <td>7298.0</td>\n      <td>00:05:12.780</td>\n      <td>Chelsea FCW</td>\n      <td>...</td>\n      <td>True</td>\n      <td>1</td>\n      <td>0.018856</td>\n      <td>0.0</td>\n      <td>0</td>\n      <td>1.0</td>\n      <td>2.0</td>\n      <td>1.0</td>\n      <td>2.0</td>\n      <td>False</td>\n    </tr>\n    <tr>\n      <th>2</th>\n      <td>1.0</td>\n      <td>5.0</td>\n      <td>41.0</td>\n      <td>16.0</td>\n      <td>0.480000</td>\n      <td>FA Women's Super League</td>\n      <td>2018/2019</td>\n      <td>7298.0</td>\n      <td>00:05:41.940</td>\n      <td>Chelsea FCW</td>\n      <td>...</td>\n      <td>False</td>\n      <td>2</td>\n      <td>0.060703</td>\n      <td>0.0</td>\n      <td>0</td>\n      <td>2.0</td>\n      <td>3.0</td>\n      <td>2.0</td>\n      <td>3.0</td>\n      <td>False</td>\n    </tr>\n    <tr>\n      <th>3</th>\n      <td>1.0</td>\n      <td>5.0</td>\n      <td>43.0</td>\n      <td>16.0</td>\n      <td>0.160000</td>\n      <td>FA Women's Super League</td>\n      <td>2018/2019</td>\n      <td>7298.0</td>\n      <td>00:05:43.900</td>\n      <td>Chelsea FCW</td>\n      <td>...</td>\n      <td>True</td>\n      <td>3</td>\n      <td>0.087385</td>\n      <td>0.0</td>\n      <td>0</td>\n      <td>3.0</td>\n      <td>4.0</td>\n      <td>3.0</td>\n      <td>4.0</td>\n      <td>False</td>\n    </tr>\n    <tr>\n      <th>4</th>\n      <td>1.0</td>\n      <td>5.0</td>\n      <td>46.0</td>\n      <td>16.0</td>\n      <td>1.480000</td>\n      <td>FA Women's Super League</td>\n      <td>2018/2019</td>\n      <td>7298.0</td>\n      <td>00:05:46.380</td>\n      <td>Chelsea FCW</td>\n      <td>...</td>\n      <td>False</td>\n      <td>4</td>\n      <td>0.193604</td>\n      <td>0.0</td>\n      <td>0</td>\n      <td>4.0</td>\n      <td>5.0</td>\n      <td>4.0</td>\n      <td>5.0</td>\n      <td>False</td>\n    </tr>\n    <tr>\n      <th>...</th>\n      <td>...</td>\n      <td>...</td>\n      <td>...</td>\n      <td>...</td>\n      <td>...</td>\n      <td>...</td>\n      <td>...</td>\n      <td>...</td>\n      <td>...</td>\n      <td>...</td>\n      <td>...</td>\n      <td>...</td>\n      <td>...</td>\n      <td>...</td>\n      <td>...</td>\n      <td>...</td>\n      <td>...</td>\n      <td>...</td>\n      <td>...</td>\n      <td>...</td>\n      <td>...</td>\n    </tr>\n    <tr>\n      <th>83924</th>\n      <td>2.0</td>\n      <td>73.0</td>\n      <td>55.0</td>\n      <td>137.0</td>\n      <td>0.921817</td>\n      <td>African Cup of Nations</td>\n      <td>2023</td>\n      <td>3923881.0</td>\n      <td>00:28:55.274</td>\n      <td>Côte d'Ivoire</td>\n      <td>...</td>\n      <td>True</td>\n      <td>15</td>\n      <td>1.082065</td>\n      <td>0.0</td>\n      <td>0</td>\n      <td>1.0</td>\n      <td>5.0</td>\n      <td>1.0</td>\n      <td>1.0</td>\n      <td>False</td>\n    </tr>\n    <tr>\n      <th>83925</th>\n      <td>2.0</td>\n      <td>80.0</td>\n      <td>14.0</td>\n      <td>140.0</td>\n      <td>0.668012</td>\n      <td>African Cup of Nations</td>\n      <td>2023</td>\n      <td>3923881.0</td>\n      <td>00:35:14.269</td>\n      <td>Côte d'Ivoire</td>\n      <td>...</td>\n      <td>True</td>\n      <td>16</td>\n      <td>1.157621</td>\n      <td>0.0</td>\n      <td>0</td>\n      <td>1.0</td>\n      <td>3.0</td>\n      <td>2.0</td>\n      <td>2.0</td>\n      <td>False</td>\n    </tr>\n    <tr>\n      <th>83926</th>\n      <td>2.0</td>\n      <td>89.0</td>\n      <td>12.0</td>\n      <td>149.0</td>\n      <td>0.314267</td>\n      <td>African Cup of Nations</td>\n      <td>2023</td>\n      <td>3923881.0</td>\n      <td>00:44:12.865</td>\n      <td>Nigeria</td>\n      <td>...</td>\n      <td>True</td>\n      <td>3</td>\n      <td>0.190122</td>\n      <td>-1.0</td>\n      <td>-1</td>\n      <td>1.0</td>\n      <td>2.0</td>\n      <td>1.0</td>\n      <td>1.0</td>\n      <td>False</td>\n    </tr>\n    <tr>\n      <th>83927</th>\n      <td>2.0</td>\n      <td>93.0</td>\n      <td>55.0</td>\n      <td>159.0</td>\n      <td>1.510618</td>\n      <td>African Cup of Nations</td>\n      <td>2023</td>\n      <td>3923881.0</td>\n      <td>00:48:55.619</td>\n      <td>Côte d'Ivoire</td>\n      <td>...</td>\n      <td>True</td>\n      <td>17</td>\n      <td>1.390592</td>\n      <td>1.0</td>\n      <td>1</td>\n      <td>1.0</td>\n      <td>3.0</td>\n      <td>1.0</td>\n      <td>1.0</td>\n      <td>True</td>\n    </tr>\n    <tr>\n      <th>83928</th>\n      <td>2.0</td>\n      <td>95.0</td>\n      <td>12.0</td>\n      <td>161.0</td>\n      <td>1.079523</td>\n      <td>African Cup of Nations</td>\n      <td>2023</td>\n      <td>3923881.0</td>\n      <td>00:50:12.092</td>\n      <td>Nigeria</td>\n      <td>...</td>\n      <td>False</td>\n      <td>4</td>\n      <td>0.242630</td>\n      <td>-1.0</td>\n      <td>-1</td>\n      <td>1.0</td>\n      <td>4.0</td>\n      <td>1.0</td>\n      <td>2.0</td>\n      <td>True</td>\n    </tr>\n  </tbody>\n</table>\n<p>83929 rows × 59 columns</p>\n</div>"
     },
     "execution_count": 37,
     "metadata": {},
     "output_type": "execute_result"
    }
   ],
   "source": [
    "data"
   ],
   "metadata": {
    "collapsed": false,
    "pycharm": {
     "name": "#%%\n"
    }
   }
  },
  {
   "cell_type": "code",
   "execution_count": 38,
   "outputs": [
    {
     "data": {
      "text/plain": "period                     5\nminute                   139\nsecond                    60\npossession               290\nduration               77925\ncompetition_id            17\nseason_id                 42\nmatch_id                3312\ntimestamp              82726\nteam                     288\nplayer                  5638\nfreeze_frame           82866\nplay_pattern               9\nposition                  25\nplayer_type                5\nlocation_x               635\nlocation_x_distance      635\nlocation_y               701\nlocation_y_distance      498\ntechnique                  7\nbody_part                  4\ntype                       5\nis_penalty                 2\nis_header                  2\nfirst_time                 2\nopen_goal                  2\none_on_one                 2\naerial_won                 2\nfollows_dribble            2\nunder_pressure             2\npass_duration          11897\npass_angle             10504\npass_type                  8\npass_height                4\npass_length             9918\nnum_passes                13\ndefenders_3m_radius       10\ndefenders_triangle        13\ngoalkeeper_x             258\ngoalkeeper_y             355\ndistance_to_goalie     47090\nshooting_range         43804\ngoal_distance          38113\nbest_distance          31005\nstatsbomb_xg           82417\nend_location_x           375\nend_location_y           704\nis_goal                    2\nshot_angle             54430\ngood_foot                  2\nshots_so_far              46\nxg_so_far              77258\ngame_state                24\nwas_leading                3\npast_minute                6\npast_15                   28\nown_past_minute            6\nown_past_15               24\nis_extra_time              2\ndtype: int64"
     },
     "execution_count": 38,
     "metadata": {},
     "output_type": "execute_result"
    }
   ],
   "source": [
    "data.nunique()"
   ],
   "metadata": {
    "collapsed": false,
    "pycharm": {
     "name": "#%%\n"
    }
   }
  },
  {
   "cell_type": "code",
   "execution_count": 39,
   "outputs": [],
   "source": [
    "data.to_csv(\"./data/augmented_data.csv\", index=False)"
   ],
   "metadata": {
    "collapsed": false,
    "pycharm": {
     "name": "#%%\n"
    }
   }
  },
  {
   "cell_type": "code",
   "execution_count": 39,
   "outputs": [],
   "source": [],
   "metadata": {
    "collapsed": false,
    "pycharm": {
     "name": "#%%\n"
    }
   }
  }
 ],
 "metadata": {
  "kernelspec": {
   "display_name": "Python 3",
   "language": "python",
   "name": "python3"
  },
  "language_info": {
   "codemirror_mode": {
    "name": "ipython",
    "version": 2
   },
   "file_extension": ".py",
   "mimetype": "text/x-python",
   "name": "python",
   "nbconvert_exporter": "python",
   "pygments_lexer": "ipython2",
   "version": "2.7.6"
  }
 },
 "nbformat": 4,
 "nbformat_minor": 0
}