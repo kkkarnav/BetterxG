{
 "cells": [
  {
   "cell_type": "code",
   "execution_count": 1,
   "metadata": {
    "collapsed": true
   },
   "outputs": [],
   "source": [
    "import pandas as pd\n",
    "import numpy as np\n",
    "\n",
    "import math\n",
    "import ast\n",
    "from tqdm import tqdm\n",
    "import warnings\n",
    "\n",
    "warnings.filterwarnings(\"ignore\")"
   ]
  },
  {
   "cell_type": "code",
   "execution_count": 2,
   "outputs": [],
   "source": [
    "###########################\n",
    "# This notebook loads StatsBomb's open data and calculates the various more advanced features that we'll ues as heuristics to input into our models. It covers the four heads of features we're looking to add: location-based, goalkeeper, and defensive pressure statistics, as well as features based on our various hypotheses.\n",
    "###########################"
   ],
   "metadata": {
    "collapsed": false,
    "pycharm": {
     "name": "#%%\n"
    }
   }
  },
  {
   "cell_type": "code",
   "execution_count": 3,
   "outputs": [
    {
     "ename": "FileNotFoundError",
     "evalue": "[Errno 2] No such file or directory: './data/all_shots.csv'",
     "output_type": "error",
     "traceback": [
      "\u001B[1;31m---------------------------------------------------------------------------\u001B[0m",
      "\u001B[1;31mFileNotFoundError\u001B[0m                         Traceback (most recent call last)",
      "Cell \u001B[1;32mIn[3], line 1\u001B[0m\n\u001B[1;32m----> 1\u001B[0m all_shots \u001B[38;5;241m=\u001B[39m \u001B[43mpd\u001B[49m\u001B[38;5;241;43m.\u001B[39;49m\u001B[43mread_csv\u001B[49m\u001B[43m(\u001B[49m\u001B[38;5;124;43m\"\u001B[39;49m\u001B[38;5;124;43m./data/all_shots.csv\u001B[39;49m\u001B[38;5;124;43m\"\u001B[39;49m\u001B[43m)\u001B[49m\n\u001B[0;32m      2\u001B[0m all_shots \u001B[38;5;241m=\u001B[39m all_shots\u001B[38;5;241m.\u001B[39mdropna(axis\u001B[38;5;241m=\u001B[39m\u001B[38;5;241m1\u001B[39m, how\u001B[38;5;241m=\u001B[39m\u001B[38;5;124m\"\u001B[39m\u001B[38;5;124mall\u001B[39m\u001B[38;5;124m\"\u001B[39m)\n",
      "File \u001B[1;32mC:\\Program Files\\Python310\\lib\\site-packages\\pandas\\util\\_decorators.py:311\u001B[0m, in \u001B[0;36mdeprecate_nonkeyword_arguments.<locals>.decorate.<locals>.wrapper\u001B[1;34m(*args, **kwargs)\u001B[0m\n\u001B[0;32m    305\u001B[0m \u001B[38;5;28;01mif\u001B[39;00m \u001B[38;5;28mlen\u001B[39m(args) \u001B[38;5;241m>\u001B[39m num_allow_args:\n\u001B[0;32m    306\u001B[0m     warnings\u001B[38;5;241m.\u001B[39mwarn(\n\u001B[0;32m    307\u001B[0m         msg\u001B[38;5;241m.\u001B[39mformat(arguments\u001B[38;5;241m=\u001B[39marguments),\n\u001B[0;32m    308\u001B[0m         \u001B[38;5;167;01mFutureWarning\u001B[39;00m,\n\u001B[0;32m    309\u001B[0m         stacklevel\u001B[38;5;241m=\u001B[39mstacklevel,\n\u001B[0;32m    310\u001B[0m     )\n\u001B[1;32m--> 311\u001B[0m \u001B[38;5;28;01mreturn\u001B[39;00m func(\u001B[38;5;241m*\u001B[39margs, \u001B[38;5;241m*\u001B[39m\u001B[38;5;241m*\u001B[39mkwargs)\n",
      "File \u001B[1;32mC:\\Program Files\\Python310\\lib\\site-packages\\pandas\\io\\parsers\\readers.py:678\u001B[0m, in \u001B[0;36mread_csv\u001B[1;34m(filepath_or_buffer, sep, delimiter, header, names, index_col, usecols, squeeze, prefix, mangle_dupe_cols, dtype, engine, converters, true_values, false_values, skipinitialspace, skiprows, skipfooter, nrows, na_values, keep_default_na, na_filter, verbose, skip_blank_lines, parse_dates, infer_datetime_format, keep_date_col, date_parser, dayfirst, cache_dates, iterator, chunksize, compression, thousands, decimal, lineterminator, quotechar, quoting, doublequote, escapechar, comment, encoding, encoding_errors, dialect, error_bad_lines, warn_bad_lines, on_bad_lines, delim_whitespace, low_memory, memory_map, float_precision, storage_options)\u001B[0m\n\u001B[0;32m    663\u001B[0m kwds_defaults \u001B[38;5;241m=\u001B[39m _refine_defaults_read(\n\u001B[0;32m    664\u001B[0m     dialect,\n\u001B[0;32m    665\u001B[0m     delimiter,\n\u001B[1;32m   (...)\u001B[0m\n\u001B[0;32m    674\u001B[0m     defaults\u001B[38;5;241m=\u001B[39m{\u001B[38;5;124m\"\u001B[39m\u001B[38;5;124mdelimiter\u001B[39m\u001B[38;5;124m\"\u001B[39m: \u001B[38;5;124m\"\u001B[39m\u001B[38;5;124m,\u001B[39m\u001B[38;5;124m\"\u001B[39m},\n\u001B[0;32m    675\u001B[0m )\n\u001B[0;32m    676\u001B[0m kwds\u001B[38;5;241m.\u001B[39mupdate(kwds_defaults)\n\u001B[1;32m--> 678\u001B[0m \u001B[38;5;28;01mreturn\u001B[39;00m \u001B[43m_read\u001B[49m\u001B[43m(\u001B[49m\u001B[43mfilepath_or_buffer\u001B[49m\u001B[43m,\u001B[49m\u001B[43m \u001B[49m\u001B[43mkwds\u001B[49m\u001B[43m)\u001B[49m\n",
      "File \u001B[1;32mC:\\Program Files\\Python310\\lib\\site-packages\\pandas\\io\\parsers\\readers.py:575\u001B[0m, in \u001B[0;36m_read\u001B[1;34m(filepath_or_buffer, kwds)\u001B[0m\n\u001B[0;32m    572\u001B[0m _validate_names(kwds\u001B[38;5;241m.\u001B[39mget(\u001B[38;5;124m\"\u001B[39m\u001B[38;5;124mnames\u001B[39m\u001B[38;5;124m\"\u001B[39m, \u001B[38;5;28;01mNone\u001B[39;00m))\n\u001B[0;32m    574\u001B[0m \u001B[38;5;66;03m# Create the parser.\u001B[39;00m\n\u001B[1;32m--> 575\u001B[0m parser \u001B[38;5;241m=\u001B[39m TextFileReader(filepath_or_buffer, \u001B[38;5;241m*\u001B[39m\u001B[38;5;241m*\u001B[39mkwds)\n\u001B[0;32m    577\u001B[0m \u001B[38;5;28;01mif\u001B[39;00m chunksize \u001B[38;5;129;01mor\u001B[39;00m iterator:\n\u001B[0;32m    578\u001B[0m     \u001B[38;5;28;01mreturn\u001B[39;00m parser\n",
      "File \u001B[1;32mC:\\Program Files\\Python310\\lib\\site-packages\\pandas\\io\\parsers\\readers.py:932\u001B[0m, in \u001B[0;36mTextFileReader.__init__\u001B[1;34m(self, f, engine, **kwds)\u001B[0m\n\u001B[0;32m    929\u001B[0m     \u001B[38;5;28mself\u001B[39m\u001B[38;5;241m.\u001B[39moptions[\u001B[38;5;124m\"\u001B[39m\u001B[38;5;124mhas_index_names\u001B[39m\u001B[38;5;124m\"\u001B[39m] \u001B[38;5;241m=\u001B[39m kwds[\u001B[38;5;124m\"\u001B[39m\u001B[38;5;124mhas_index_names\u001B[39m\u001B[38;5;124m\"\u001B[39m]\n\u001B[0;32m    931\u001B[0m \u001B[38;5;28mself\u001B[39m\u001B[38;5;241m.\u001B[39mhandles: IOHandles \u001B[38;5;241m|\u001B[39m \u001B[38;5;28;01mNone\u001B[39;00m \u001B[38;5;241m=\u001B[39m \u001B[38;5;28;01mNone\u001B[39;00m\n\u001B[1;32m--> 932\u001B[0m \u001B[38;5;28mself\u001B[39m\u001B[38;5;241m.\u001B[39m_engine \u001B[38;5;241m=\u001B[39m \u001B[38;5;28;43mself\u001B[39;49m\u001B[38;5;241;43m.\u001B[39;49m\u001B[43m_make_engine\u001B[49m\u001B[43m(\u001B[49m\u001B[43mf\u001B[49m\u001B[43m,\u001B[49m\u001B[43m \u001B[49m\u001B[38;5;28;43mself\u001B[39;49m\u001B[38;5;241;43m.\u001B[39;49m\u001B[43mengine\u001B[49m\u001B[43m)\u001B[49m\n",
      "File \u001B[1;32mC:\\Program Files\\Python310\\lib\\site-packages\\pandas\\io\\parsers\\readers.py:1216\u001B[0m, in \u001B[0;36mTextFileReader._make_engine\u001B[1;34m(self, f, engine)\u001B[0m\n\u001B[0;32m   1212\u001B[0m     mode \u001B[38;5;241m=\u001B[39m \u001B[38;5;124m\"\u001B[39m\u001B[38;5;124mrb\u001B[39m\u001B[38;5;124m\"\u001B[39m\n\u001B[0;32m   1213\u001B[0m \u001B[38;5;66;03m# error: No overload variant of \"get_handle\" matches argument types\u001B[39;00m\n\u001B[0;32m   1214\u001B[0m \u001B[38;5;66;03m# \"Union[str, PathLike[str], ReadCsvBuffer[bytes], ReadCsvBuffer[str]]\"\u001B[39;00m\n\u001B[0;32m   1215\u001B[0m \u001B[38;5;66;03m# , \"str\", \"bool\", \"Any\", \"Any\", \"Any\", \"Any\", \"Any\"\u001B[39;00m\n\u001B[1;32m-> 1216\u001B[0m \u001B[38;5;28mself\u001B[39m\u001B[38;5;241m.\u001B[39mhandles \u001B[38;5;241m=\u001B[39m \u001B[43mget_handle\u001B[49m\u001B[43m(\u001B[49m\u001B[43m  \u001B[49m\u001B[38;5;66;43;03m# type: ignore[call-overload]\u001B[39;49;00m\n\u001B[0;32m   1217\u001B[0m \u001B[43m    \u001B[49m\u001B[43mf\u001B[49m\u001B[43m,\u001B[49m\n\u001B[0;32m   1218\u001B[0m \u001B[43m    \u001B[49m\u001B[43mmode\u001B[49m\u001B[43m,\u001B[49m\n\u001B[0;32m   1219\u001B[0m \u001B[43m    \u001B[49m\u001B[43mencoding\u001B[49m\u001B[38;5;241;43m=\u001B[39;49m\u001B[38;5;28;43mself\u001B[39;49m\u001B[38;5;241;43m.\u001B[39;49m\u001B[43moptions\u001B[49m\u001B[38;5;241;43m.\u001B[39;49m\u001B[43mget\u001B[49m\u001B[43m(\u001B[49m\u001B[38;5;124;43m\"\u001B[39;49m\u001B[38;5;124;43mencoding\u001B[39;49m\u001B[38;5;124;43m\"\u001B[39;49m\u001B[43m,\u001B[49m\u001B[43m \u001B[49m\u001B[38;5;28;43;01mNone\u001B[39;49;00m\u001B[43m)\u001B[49m\u001B[43m,\u001B[49m\n\u001B[0;32m   1220\u001B[0m \u001B[43m    \u001B[49m\u001B[43mcompression\u001B[49m\u001B[38;5;241;43m=\u001B[39;49m\u001B[38;5;28;43mself\u001B[39;49m\u001B[38;5;241;43m.\u001B[39;49m\u001B[43moptions\u001B[49m\u001B[38;5;241;43m.\u001B[39;49m\u001B[43mget\u001B[49m\u001B[43m(\u001B[49m\u001B[38;5;124;43m\"\u001B[39;49m\u001B[38;5;124;43mcompression\u001B[39;49m\u001B[38;5;124;43m\"\u001B[39;49m\u001B[43m,\u001B[49m\u001B[43m \u001B[49m\u001B[38;5;28;43;01mNone\u001B[39;49;00m\u001B[43m)\u001B[49m\u001B[43m,\u001B[49m\n\u001B[0;32m   1221\u001B[0m \u001B[43m    \u001B[49m\u001B[43mmemory_map\u001B[49m\u001B[38;5;241;43m=\u001B[39;49m\u001B[38;5;28;43mself\u001B[39;49m\u001B[38;5;241;43m.\u001B[39;49m\u001B[43moptions\u001B[49m\u001B[38;5;241;43m.\u001B[39;49m\u001B[43mget\u001B[49m\u001B[43m(\u001B[49m\u001B[38;5;124;43m\"\u001B[39;49m\u001B[38;5;124;43mmemory_map\u001B[39;49m\u001B[38;5;124;43m\"\u001B[39;49m\u001B[43m,\u001B[49m\u001B[43m \u001B[49m\u001B[38;5;28;43;01mFalse\u001B[39;49;00m\u001B[43m)\u001B[49m\u001B[43m,\u001B[49m\n\u001B[0;32m   1222\u001B[0m \u001B[43m    \u001B[49m\u001B[43mis_text\u001B[49m\u001B[38;5;241;43m=\u001B[39;49m\u001B[43mis_text\u001B[49m\u001B[43m,\u001B[49m\n\u001B[0;32m   1223\u001B[0m \u001B[43m    \u001B[49m\u001B[43merrors\u001B[49m\u001B[38;5;241;43m=\u001B[39;49m\u001B[38;5;28;43mself\u001B[39;49m\u001B[38;5;241;43m.\u001B[39;49m\u001B[43moptions\u001B[49m\u001B[38;5;241;43m.\u001B[39;49m\u001B[43mget\u001B[49m\u001B[43m(\u001B[49m\u001B[38;5;124;43m\"\u001B[39;49m\u001B[38;5;124;43mencoding_errors\u001B[39;49m\u001B[38;5;124;43m\"\u001B[39;49m\u001B[43m,\u001B[49m\u001B[43m \u001B[49m\u001B[38;5;124;43m\"\u001B[39;49m\u001B[38;5;124;43mstrict\u001B[39;49m\u001B[38;5;124;43m\"\u001B[39;49m\u001B[43m)\u001B[49m\u001B[43m,\u001B[49m\n\u001B[0;32m   1224\u001B[0m \u001B[43m    \u001B[49m\u001B[43mstorage_options\u001B[49m\u001B[38;5;241;43m=\u001B[39;49m\u001B[38;5;28;43mself\u001B[39;49m\u001B[38;5;241;43m.\u001B[39;49m\u001B[43moptions\u001B[49m\u001B[38;5;241;43m.\u001B[39;49m\u001B[43mget\u001B[49m\u001B[43m(\u001B[49m\u001B[38;5;124;43m\"\u001B[39;49m\u001B[38;5;124;43mstorage_options\u001B[39;49m\u001B[38;5;124;43m\"\u001B[39;49m\u001B[43m,\u001B[49m\u001B[43m \u001B[49m\u001B[38;5;28;43;01mNone\u001B[39;49;00m\u001B[43m)\u001B[49m\u001B[43m,\u001B[49m\n\u001B[0;32m   1225\u001B[0m \u001B[43m\u001B[49m\u001B[43m)\u001B[49m\n\u001B[0;32m   1226\u001B[0m \u001B[38;5;28;01massert\u001B[39;00m \u001B[38;5;28mself\u001B[39m\u001B[38;5;241m.\u001B[39mhandles \u001B[38;5;129;01mis\u001B[39;00m \u001B[38;5;129;01mnot\u001B[39;00m \u001B[38;5;28;01mNone\u001B[39;00m\n\u001B[0;32m   1227\u001B[0m f \u001B[38;5;241m=\u001B[39m \u001B[38;5;28mself\u001B[39m\u001B[38;5;241m.\u001B[39mhandles\u001B[38;5;241m.\u001B[39mhandle\n",
      "File \u001B[1;32mC:\\Program Files\\Python310\\lib\\site-packages\\pandas\\io\\common.py:786\u001B[0m, in \u001B[0;36mget_handle\u001B[1;34m(path_or_buf, mode, encoding, compression, memory_map, is_text, errors, storage_options)\u001B[0m\n\u001B[0;32m    781\u001B[0m \u001B[38;5;28;01melif\u001B[39;00m \u001B[38;5;28misinstance\u001B[39m(handle, \u001B[38;5;28mstr\u001B[39m):\n\u001B[0;32m    782\u001B[0m     \u001B[38;5;66;03m# Check whether the filename is to be opened in binary mode.\u001B[39;00m\n\u001B[0;32m    783\u001B[0m     \u001B[38;5;66;03m# Binary mode does not support 'encoding' and 'newline'.\u001B[39;00m\n\u001B[0;32m    784\u001B[0m     \u001B[38;5;28;01mif\u001B[39;00m ioargs\u001B[38;5;241m.\u001B[39mencoding \u001B[38;5;129;01mand\u001B[39;00m \u001B[38;5;124m\"\u001B[39m\u001B[38;5;124mb\u001B[39m\u001B[38;5;124m\"\u001B[39m \u001B[38;5;129;01mnot\u001B[39;00m \u001B[38;5;129;01min\u001B[39;00m ioargs\u001B[38;5;241m.\u001B[39mmode:\n\u001B[0;32m    785\u001B[0m         \u001B[38;5;66;03m# Encoding\u001B[39;00m\n\u001B[1;32m--> 786\u001B[0m         handle \u001B[38;5;241m=\u001B[39m \u001B[38;5;28;43mopen\u001B[39;49m\u001B[43m(\u001B[49m\n\u001B[0;32m    787\u001B[0m \u001B[43m            \u001B[49m\u001B[43mhandle\u001B[49m\u001B[43m,\u001B[49m\n\u001B[0;32m    788\u001B[0m \u001B[43m            \u001B[49m\u001B[43mioargs\u001B[49m\u001B[38;5;241;43m.\u001B[39;49m\u001B[43mmode\u001B[49m\u001B[43m,\u001B[49m\n\u001B[0;32m    789\u001B[0m \u001B[43m            \u001B[49m\u001B[43mencoding\u001B[49m\u001B[38;5;241;43m=\u001B[39;49m\u001B[43mioargs\u001B[49m\u001B[38;5;241;43m.\u001B[39;49m\u001B[43mencoding\u001B[49m\u001B[43m,\u001B[49m\n\u001B[0;32m    790\u001B[0m \u001B[43m            \u001B[49m\u001B[43merrors\u001B[49m\u001B[38;5;241;43m=\u001B[39;49m\u001B[43merrors\u001B[49m\u001B[43m,\u001B[49m\n\u001B[0;32m    791\u001B[0m \u001B[43m            \u001B[49m\u001B[43mnewline\u001B[49m\u001B[38;5;241;43m=\u001B[39;49m\u001B[38;5;124;43m\"\u001B[39;49m\u001B[38;5;124;43m\"\u001B[39;49m\u001B[43m,\u001B[49m\n\u001B[0;32m    792\u001B[0m \u001B[43m        \u001B[49m\u001B[43m)\u001B[49m\n\u001B[0;32m    793\u001B[0m     \u001B[38;5;28;01melse\u001B[39;00m:\n\u001B[0;32m    794\u001B[0m         \u001B[38;5;66;03m# Binary mode\u001B[39;00m\n\u001B[0;32m    795\u001B[0m         handle \u001B[38;5;241m=\u001B[39m \u001B[38;5;28mopen\u001B[39m(handle, ioargs\u001B[38;5;241m.\u001B[39mmode)\n",
      "\u001B[1;31mFileNotFoundError\u001B[0m: [Errno 2] No such file or directory: './data/all_shots.csv'"
     ]
    }
   ],
   "source": [
    "all_shots = pd.read_csv(\"./data/all_shots.csv\")\n",
    "all_shots = all_shots.dropna(axis=1, how=\"all\")"
   ],
   "metadata": {
    "collapsed": false,
    "pycharm": {
     "name": "#%%\n"
    }
   }
  },
  {
   "cell_type": "code",
   "execution_count": null,
   "outputs": [],
   "source": [
    "all_shots.shape"
   ],
   "metadata": {
    "collapsed": false,
    "pycharm": {
     "name": "#%%\n"
    }
   }
  },
  {
   "cell_type": "code",
   "execution_count": null,
   "outputs": [],
   "source": [
    "all_shots = all_shots[~all_shots[\"competition_id\"].isin([\"FIFA U20 World Cup\", \"North American League\", \"Liga Profesional\", \"Indian Super League\"])].drop(columns=all_shots.columns[all_shots.nunique() == 0]).sort_values(by=[\"match_id\", \"period\", \"minute\", \"second\"])\n",
    "all_shots.nunique()"
   ],
   "metadata": {
    "collapsed": false,
    "pycharm": {
     "name": "#%%\n"
    }
   }
  },
  {
   "cell_type": "code",
   "execution_count": null,
   "outputs": [],
   "source": [
    "all_shots[[\"season_id\", \"match_id\", \"id\", \"index\", \"location\", \"period\", \"minute\", \"second\", \"player\", \"player_id\", \"position\", \"possession\", \"possession_team\", \"possession_team_id\", \"team\", \"team_id\", \"timestamp\", \"competition_id\", \"shot_outcome\"]].sort_values(by=[\"match_id\", \"period\", \"minute\", \"second\"])"
   ],
   "metadata": {
    "collapsed": false,
    "pycharm": {
     "name": "#%%\n"
    }
   }
  },
  {
   "cell_type": "code",
   "execution_count": null,
   "outputs": [],
   "source": [
    "# First, we'll append statistics related to the pass that led to the shot to the shots dataframe.\n",
    "all_passes = pd.read_csv(\"./data/all_passes.csv\")\n",
    "all_passes = all_passes.dropna(axis=1, how=\"all\")"
   ],
   "metadata": {
    "collapsed": false,
    "pycharm": {
     "name": "#%%\n"
    }
   }
  },
  {
   "cell_type": "markdown",
   "source": [],
   "metadata": {
    "collapsed": false
   }
  },
  {
   "cell_type": "markdown",
   "source": [],
   "metadata": {
    "collapsed": false
   }
  },
  {
   "cell_type": "code",
   "execution_count": null,
   "outputs": [],
   "source": [
    "key_passes = all_passes[all_passes[\"id\"].isin(all_shots['shot_key_pass_id'])]"
   ],
   "metadata": {
    "collapsed": false,
    "pycharm": {
     "name": "#%%\n"
    }
   }
  },
  {
   "cell_type": "code",
   "execution_count": null,
   "outputs": [],
   "source": [
    "key_passes[[\"duration\", \"pass_angle\", \"pass_type\", \"pass_height\", \"pass_length\", \"pass_assisted_shot_id\"]]"
   ],
   "metadata": {
    "collapsed": false,
    "pycharm": {
     "name": "#%%\n"
    }
   }
  },
  {
   "cell_type": "code",
   "execution_count": null,
   "outputs": [],
   "source": [
    "key_passes[\"pass_duration\"] = key_passes[\"duration\"]\n",
    "\n",
    "all_shots = pd.merge(all_shots, key_passes[[\"pass_duration\", \"pass_angle\", \"pass_type\", \"pass_height\", \"pass_length\", \"pass_assisted_shot_id\"]], how='left', left_on='id', right_on='pass_assisted_shot_id', suffixes=(\"\", \"\"))\n",
    "all_shots = all_shots.drop(\"pass_assisted_shot_id\", axis=1)"
   ],
   "metadata": {
    "collapsed": false,
    "pycharm": {
     "name": "#%%\n"
    }
   }
  },
  {
   "cell_type": "code",
   "execution_count": null,
   "outputs": [],
   "source": [
    "possession_passes = all_passes.groupby([\"match_id\", \"possession\"]).agg({\n",
    "    'match_id': 'first',\n",
    "    'possession': 'first',\n",
    "    'duration': 'count'\n",
    "}).reset_index(drop=True)\n",
    "possession_passes[\"num_passes\"] = possession_passes[\"duration\"]\n",
    "possession_passes = possession_passes.drop(\"duration\", axis=1)\n",
    "\n",
    "all_shots = pd.merge(all_shots, possession_passes, how='left', on=[\"match_id\", \"possession\"])"
   ],
   "metadata": {
    "collapsed": false,
    "pycharm": {
     "name": "#%%\n"
    }
   }
  },
  {
   "cell_type": "code",
   "execution_count": null,
   "outputs": [],
   "source": [
    "all_shots"
   ],
   "metadata": {
    "collapsed": false,
    "pycharm": {
     "name": "#%%\n"
    }
   }
  },
  {
   "cell_type": "code",
   "execution_count": null,
   "outputs": [],
   "source": [
    "# Now, we'll extract relevant attributes from the all_shots dataframe\n",
    "data = pd.DataFrame()\n",
    "\n",
    "# general and time attributes\n",
    "data[[\"period\", \"minute\", \"second\", \"possession\", \"duration\", \"competition_id\", \"season_id\", \"match_id\", \"timestamp\", \"team\", \"player\", \"freeze_frame\"]] = all_shots[[\"period\", \"minute\", \"second\", \"possession\", \"duration\", \"competition_id\", \"season_id\", \"match_id\", \"timestamp\", \"team\", \"player\", \"shot_freeze_frame\"]]\n",
    "data.sort_values(by=[\"match_id\", \"period\", \"minute\", \"second\"], inplace=True)"
   ],
   "metadata": {
    "collapsed": false,
    "pycharm": {
     "name": "#%%\n"
    }
   }
  },
  {
   "cell_type": "code",
   "execution_count": null,
   "outputs": [],
   "source": [
    "# qualitative attributes\n",
    "data[[\"play_pattern\", \"position\"]] = all_shots[[\"play_pattern\", \"position\"]]\n",
    "data[\"player_type\"] = all_shots[\"position\"].apply(lambda x: 4 if (\"Forward\" in x or \"Striker\" in x) else 3 if \"Wing\" in x else 2 if \"Mid\" in x else 1 if (\"Back\" in x or \"Defen\" in x) else 0)"
   ],
   "metadata": {
    "collapsed": false,
    "pycharm": {
     "name": "#%%\n"
    }
   }
  },
  {
   "cell_type": "code",
   "execution_count": null,
   "outputs": [],
   "source": [
    "# shot attributes\n",
    "data[\"location_x\"] = all_shots[\"location\"].apply(lambda x: ast.literal_eval(x)[0])\n",
    "data[\"location_x_distance\"] = 120 - data[\"location_x\"]\n",
    "data[\"location_y\"] = all_shots[\"location\"].apply(lambda x: ast.literal_eval(x)[1])\n",
    "data[\"location_y_distance\"] = abs(data[\"location_y\"] - 40)\n",
    "data[\"duration\"] = all_shots[\"duration\"].apply(lambda x: x if x < 100 else 0)\n",
    "data[\"technique\"] = all_shots[\"shot_technique\"]\n",
    "data[\"body_part\"] = all_shots[\"shot_body_part\"]\n",
    "data[\"type\"] = all_shots[\"shot_type\"]\n",
    "data[\"is_penalty\"] = all_shots[\"shot_type\"] == \"Penalty\"\n",
    "data[\"is_header\"] = all_shots[\"shot_body_part\"] == \"Head\""
   ],
   "metadata": {
    "collapsed": false,
    "pycharm": {
     "name": "#%%\n"
    }
   }
  },
  {
   "cell_type": "code",
   "execution_count": null,
   "outputs": [],
   "source": [
    "# shot modifiers\n",
    "data[\"first_time\"] = all_shots[\"shot_first_time\"].fillna(False)\n",
    "data[\"open_goal\"] = all_shots[\"shot_open_goal\"].fillna(False)\n",
    "data[\"one_on_one\"] = all_shots[\"shot_one_on_one\"].fillna(False)\n",
    "data[\"aerial_won\"] = all_shots[\"shot_aerial_won\"].fillna(False)\n",
    "data[\"follows_dribble\"] = all_shots[\"shot_follows_dribble\"].fillna(False)\n",
    "data[\"under_pressure\"] = all_shots[\"under_pressure\"].fillna(False)"
   ],
   "metadata": {
    "collapsed": false,
    "pycharm": {
     "name": "#%%\n"
    }
   }
  },
  {
   "cell_type": "code",
   "execution_count": null,
   "outputs": [],
   "source": [
    "# preceding pass attributes\n",
    "data[\"pass_duration\"] = all_shots[\"pass_duration\"].fillna(all_shots[\"pass_duration\"].mean())\n",
    "data[\"pass_angle\"] = all_shots[\"pass_angle\"].fillna(all_shots[\"pass_angle\"].mean())\n",
    "data[\"pass_type\"] = all_shots[\"pass_type\"].fillna(\"Missing\")\n",
    "data[\"pass_height\"] = all_shots[\"pass_height\"].fillna(\"Missing\")\n",
    "data[\"pass_length\"] = all_shots[\"pass_length\"].fillna(all_shots[\"pass_length\"].mean())\n",
    "data[\"num_passes\"] = all_shots[\"num_passes\"].fillna(0)"
   ],
   "metadata": {
    "collapsed": false,
    "pycharm": {
     "name": "#%%\n"
    }
   }
  },
  {
   "cell_type": "code",
   "execution_count": null,
   "outputs": [],
   "source": [
    "# locations for defensive/goalkeeper attributes\n",
    "locations = pd.DataFrame()\n",
    "locations[\"opponents\"] = all_shots[\"shot_freeze_frame\"].fillna('[{\"location\": [], \"position\": {\"name\": \"\"}, \"teammate\": False}]').apply(lambda frame: [[player[\"location\"], player[\"position\"][\"name\"]] for player in ast.literal_eval(frame) if not player[\"teammate\"]])\n",
    "locations[\"shot\"] = tuple(zip(data[\"location_x\"].apply(lambda x: 119.9 if x == 120.0 else x), data[\"location_y\"]))\n",
    "locations[\"goalkeeper\"] = locations[\"opponents\"].apply(lambda frame: [player[0] for player in frame if player[1] == \"Goalkeeper\"]).apply(lambda x: x[0] if len(x) != 0 else [-1, -1]).apply(lambda x: 119.9 if x == 120.0 else x)\n",
    "locations"
   ],
   "metadata": {
    "collapsed": false,
    "pycharm": {
     "name": "#%%\n"
    }
   }
  },
  {
   "cell_type": "code",
   "execution_count": null,
   "outputs": [],
   "source": [
    "# Check if a point is inside a triangle\n",
    "def point_in_triangle(point, a, b, c):\n",
    "    as_x = point[0] - a[0]\n",
    "    as_y = point[1] - a[1]\n",
    "    s_ab = ((b[0] - a[0]) * as_y) - ((b[1] - a[1]) * as_x) > 0\n",
    "\n",
    "    if (((c[0] - a[0]) * as_y) - ((c[1] - a[1]) * as_x) > 0) == s_ab \\\n",
    "            or (((c[0] - b[0]) * (point[1] - b[1])) - ((c[1] - b[1]) * (point[0] - b[0])) > 0) != s_ab:\n",
    "        return False\n",
    "    else:\n",
    "        return True"
   ],
   "metadata": {
    "collapsed": false,
    "pycharm": {
     "name": "#%%\n"
    }
   }
  },
  {
   "cell_type": "code",
   "execution_count": null,
   "outputs": [],
   "source": [
    "# Calculate the area of a triangle\n",
    "def area_of_triangle(a, b, c):\n",
    "    return abs(0.5 * (a[0]*(b[1] - c[1]) + b[0]*(c[1] - a[1]) + c[0]*(a[1] - b[1])))"
   ],
   "metadata": {
    "collapsed": false,
    "pycharm": {
     "name": "#%%\n"
    }
   }
  },
  {
   "cell_type": "code",
   "execution_count": null,
   "outputs": [],
   "source": [
    "# Calculate the angle between two sides of the triangle\n",
    "def angle_between_sides(a, b, c):\n",
    "    cos_theta = (a**2 + b**2 - c**2) / (2 * a * b)\n",
    "    theta = math.degrees(math.acos(cos_theta))\n",
    "    return theta"
   ],
   "metadata": {
    "collapsed": false,
    "pycharm": {
     "name": "#%%\n"
    }
   }
  },
  {
   "cell_type": "code",
   "execution_count": null,
   "outputs": [],
   "source": [
    "# What is the best (shortest) straight line path from shooter to goal?\n",
    "def best_distance(point) :\n",
    "\n",
    "    line = (0, 8)\n",
    "    left_line = (point[0] - 120, point[1] - 36)\n",
    "    right_line = (point[0] - 120, point[1] - 44)\n",
    "\n",
    "    line_dot_left = line[0] * left_line[0] + line[1] * left_line[1]\n",
    "    line_dot_right = line[0] * right_line[0] + line[1] * right_line[1]\n",
    "\n",
    "    if line_dot_right > 0:\n",
    "        x = 120 - point[0]\n",
    "        y = 44 - point[1]\n",
    "        return math.sqrt(x * x + y * y)\n",
    "    elif line_dot_left < 0:\n",
    "        x = 120 - point[0]\n",
    "        y = 36 - point[1]\n",
    "        return math.sqrt(x * x + y * y)\n",
    "    else:\n",
    "        return 120 - point[0]"
   ],
   "metadata": {
    "collapsed": false,
    "pycharm": {
     "name": "#%%\n"
    }
   }
  },
  {
   "cell_type": "code",
   "execution_count": null,
   "outputs": [],
   "source": [
    "# Calculate the perpendicular line 1.5m on either side of a line between two points\n",
    "def calculate_perpendicular(a, b):\n",
    "\n",
    "    slope = (b[1] - a[1])/(b[0] - a[0])\n",
    "    slope = 0.00001 if slope == 0 else slope\n",
    "    perpendicular_slope = -1/slope\n",
    "\n",
    "    offset_x = 1.5 / np.sqrt(1 + perpendicular_slope**2)\n",
    "    offset_y = perpendicular_slope * offset_x\n",
    "    point1 = (a[0] + offset_x, a[1] + offset_y)\n",
    "    point2 = (a[0] - offset_x, a[1] - offset_y)\n",
    "\n",
    "    return point1, point2"
   ],
   "metadata": {
    "collapsed": false,
    "pycharm": {
     "name": "#%%\n"
    }
   }
  },
  {
   "cell_type": "code",
   "execution_count": null,
   "outputs": [],
   "source": [
    "# A normal Gaussian\n",
    "def gaussian(x, y, a, b):\n",
    "    d2 = (x - a)**2 + (y - b)**2\n",
    "    return np.exp(-d2 / 2)"
   ],
   "metadata": {
    "collapsed": false,
    "pycharm": {
     "name": "#%%\n"
    }
   }
  },
  {
   "cell_type": "code",
   "execution_count": null,
   "outputs": [],
   "source": [
    "# defensive pressure/goalkeeper attributes\n",
    "data[\"defenders_3m_radius\"] = locations.apply(lambda shot: (len([defender for defender in shot[\"opponents\"] if ((defender[0][0]-shot[\"shot\"][0])**2 + (defender[0][1]-shot[\"shot\"][1])**2) < 3**2])) if shot[\"opponents\"] != [[[], '']] else -1, axis=1)\n",
    "data[\"defenders_triangle\"] = locations.apply(lambda shot: (len([defender for defender in shot[\"opponents\"] if point_in_triangle(defender[0], shot[\"shot\"], [120, 32], [120, 48])])) if shot[\"opponents\"] != [[[], '']] else -1, axis=1)\n",
    "\n",
    "data[\"goalkeeper_x\"] = locations[\"goalkeeper\"].apply(lambda x: x[0])\n",
    "data[\"goalkeeper_y\"] = locations[\"goalkeeper\"].apply(lambda x: x[1])\n",
    "data[\"distance_to_goalie\"] = data.apply(lambda x: math.sqrt((x[\"goalkeeper_x\"] - x[\"location_x\"])**2 + (x[\"goalkeeper_y\"] - x[\"location_y\"])**2), axis=1)"
   ],
   "metadata": {
    "collapsed": false,
    "pycharm": {
     "name": "#%%\n"
    }
   }
  },
  {
   "cell_type": "code",
   "execution_count": null,
   "outputs": [],
   "source": [
    "# angle/location-based attributes\n",
    "data[\"shooting_range\"] = locations[\"shot\"].apply(lambda point: angle_between_sides(math.dist(point, (120, 36)), math.dist((120, 44), point), 8))\n",
    "data[\"goal_distance\"] = locations[\"shot\"].apply(lambda point: math.dist(point, (120, 40)))\n",
    "data[\"best_distance\"] = locations[\"shot\"].apply(lambda point: best_distance(point))"
   ],
   "metadata": {
    "collapsed": false,
    "pycharm": {
     "name": "#%%\n"
    }
   }
  },
  {
   "cell_type": "code",
   "execution_count": null,
   "outputs": [],
   "source": [
    "# target variables\n",
    "data[\"statsbomb_xg\"] = all_shots[\"shot_statsbomb_xg\"].apply(lambda x: float(x))\n",
    "data[\"end_location_x\"] = all_shots[\"shot_end_location\"].apply(lambda x: ast.literal_eval(x)[0])\n",
    "data[\"end_location_y\"] = all_shots[\"shot_end_location\"].apply(lambda x: ast.literal_eval(x)[1])\n",
    "data[\"is_goal\"] = all_shots[\"shot_outcome\"].apply(lambda x: True if x == \"Goal\" else False)"
   ],
   "metadata": {
    "collapsed": false,
    "pycharm": {
     "name": "#%%\n"
    }
   }
  },
  {
   "cell_type": "code",
   "execution_count": null,
   "outputs": [],
   "source": [
    "# The angle at which the ball goes, and whether it was taken from the favoured side of the pitch or not\n",
    "data[\"shot_angle\"] =  data.apply(lambda x: math.atan2((x[\"end_location_y\"] - x[\"location_y\"]), (x[\"end_location_x\"] - x[\"location_x\"])), axis=1)\n",
    "data[\"good_foot\"] = data.apply(lambda shot: True if ((shot[\"body_part\"] == \"Right Foot\" and shot[\"location_y\"] < 42) or (shot[\"body_part\"] == \"Left Foot\" and shot[\"location_y\"] > 42)) else False, axis=1)"
   ],
   "metadata": {
    "collapsed": false,
    "pycharm": {
     "name": "#%%\n"
    }
   }
  },
  {
   "cell_type": "code",
   "execution_count": null,
   "outputs": [],
   "source": [
    "# How many shots and xg there has been so far\n",
    "data[\"shots_so_far\"] = all_shots.groupby([\"match_id\", \"team\"])[\"timestamp\"].cumcount()\n",
    "data[\"xg_so_far\"] = all_shots.groupby([\"match_id\", \"team\"])[\"shot_statsbomb_xg\"].cumsum()\n",
    "data[\"xg_so_far\"] = data[\"xg_so_far\"] - data[\"statsbomb_xg\"]"
   ],
   "metadata": {
    "collapsed": false,
    "pycharm": {
     "name": "#%%\n"
    }
   }
  },
  {
   "cell_type": "code",
   "execution_count": null,
   "outputs": [],
   "source": [
    "# We can now calculate the game state and which team was leading at the time of the shot\n",
    "all_goals = all_shots[all_shots[\"shot_outcome\"] == \"Goal\"]\n",
    "\n",
    "first_scorers = all_goals.groupby(['match_id']).first()[[\"team\"]]\n",
    "all_goals[\"is_first\"] = all_goals[['match_id', 'team']].apply(tuple, axis=1).isin(list(zip(first_scorers.index, first_scorers[\"team\"])))\n",
    "\n",
    "all_goals[\"first_tally_temp\"] = all_goals[all_goals[\"is_first\"] == True].groupby([\"match_id\", \"is_first\"]).cumcount()\n",
    "all_goals[\"first_tally\"] = all_goals.groupby([\"match_id\"])[\"first_tally_temp\"].fillna(method=\"ffill\")\n",
    "all_goals.loc[all_goals['first_tally_temp'].isnull() & ~all_goals['first_tally'].isnull(), 'first_tally'] = all_goals.loc[all_goals['first_tally_temp'].isnull() & ~all_goals['first_tally'].isnull(), 'first_tally'] + 1\n",
    "\n",
    "all_goals[\"second_tally_temp\"] = all_goals[all_goals[\"is_first\"] == False].groupby([\"match_id\", \"is_first\"]).cumcount()\n",
    "all_goals[\"second_tally\"] = all_goals.groupby([\"match_id\"])[\"second_tally_temp\"].fillna(method=\"ffill\")\n",
    "all_goals.loc[all_goals['second_tally_temp'].isnull() & ~all_goals['second_tally'].isnull(), 'second_tally'] = all_goals.loc[all_goals['second_tally_temp'].isnull() & ~all_goals['second_tally'].isnull(), 'second_tally'] + 1\n",
    "all_goals[\"second_tally\"].fillna(0, inplace=True)\n",
    "\n",
    "all_goals[[\"season_id\", \"match_id\", \"period\", \"minute\", \"second\", \"team\", \"is_first\", \"first_tally\", \"second_tally\"]]"
   ],
   "metadata": {
    "collapsed": false,
    "pycharm": {
     "name": "#%%\n"
    }
   }
  },
  {
   "cell_type": "code",
   "execution_count": null,
   "outputs": [],
   "source": [
    "data[\"first_tally\"] = all_goals[\"first_tally\"]\n",
    "data[\"second_tally\"] = all_goals[\"second_tally\"]\n",
    "data[[\"season_id\", \"match_id\", \"period\", \"minute\", \"second\", \"team\", \"is_goal\", \"shots_so_far\", \"xg_so_far\", \"first_tally\", \"second_tally\"]]"
   ],
   "metadata": {
    "collapsed": false,
    "pycharm": {
     "name": "#%%\n"
    }
   }
  },
  {
   "cell_type": "code",
   "execution_count": null,
   "outputs": [],
   "source": [
    "data[\"is_first\"] = data[['match_id', 'team']].apply(tuple, axis=1).isin(list(zip(first_scorers.index, first_scorers[\"team\"])))\n",
    "data[\"first_tally\"] = data[\"first_tally\"].fillna(method=\"bfill\")\n",
    "data[\"second_tally\"] = data[\"second_tally\"].fillna(method=\"bfill\")\n",
    "\n",
    "data[\"row_index\"] = data.index\n",
    "last_goals = data[data[\"is_goal\"] == True].groupby([\"match_id\"]).last()[\"row_index\"]\n",
    "last_shots = data.groupby([\"match_id\"]).last()[\"row_index\"]\n",
    "last_shots = last_shots[last_shots.index.isin(last_goals.index)]\n",
    "\n",
    "for i in range(len(last_goals)):\n",
    "    if last_goals.iloc[i] != last_shots.iloc[i]:\n",
    "        goal = data.iloc[last_goals.iloc[i]]\n",
    "        prop_values = (goal[\"first_tally\"]+1, goal[\"second_tally\"]) if goal[\"is_first\"] else (goal[\"first_tally\"], goal[\"second_tally\"]+1)\n",
    "        data.loc[last_goals.iloc[i]+1 : last_shots.iloc[i], \"first_tally\"] = prop_values[0]\n",
    "        data.loc[last_goals.iloc[i]+1 : last_shots.iloc[i], \"second_tally\"] = prop_values[1]\n",
    "\n",
    "data[[\"season_id\", \"match_id\", \"period\", \"minute\", \"second\", \"team\", \"is_goal\", \"shots_so_far\", \"xg_so_far\", \"first_tally\", \"second_tally\"]]"
   ],
   "metadata": {
    "collapsed": false,
    "pycharm": {
     "name": "#%%\n"
    }
   }
  },
  {
   "cell_type": "code",
   "execution_count": null,
   "outputs": [],
   "source": [
    "data[\"game_state\"] = data.apply(lambda x: (x[\"first_tally\"] - x[\"second_tally\"]) if x[\"is_first\"] else (x[\"second_tally\"] - x[\"first_tally\"]) ,axis=1)\n",
    "data[\"was_leading\"] = data[\"game_state\"].apply(lambda x: 1 if x > 0 else 0 if x == 0 else -1)\n",
    "\n",
    "data.drop([\"row_index\", \"is_first\", \"first_tally\", \"second_tally\"], axis=1, inplace=True)\n",
    "\n",
    "data[[\"season_id\", \"match_id\", \"period\", \"minute\", \"second\", \"team\", \"is_goal\", \"shots_so_far\", \"xg_so_far\", \"game_state\", \"was_leading\"]]"
   ],
   "metadata": {
    "collapsed": false,
    "pycharm": {
     "name": "#%%\n"
    }
   }
  },
  {
   "cell_type": "code",
   "execution_count": null,
   "outputs": [],
   "source": [
    "# To capture phases of play, we'll count the number of shots, and the number of shots by the same team, over the last minute and 15 minutes\n",
    "data[\"time\"] = data.apply(lambda x: x[\"timestamp\"].replace(\"00:\", \"01:\", 1) if x[\"period\"] == 2.0 else x[\"timestamp\"], axis=1)\n",
    "data[\"time\"] = pd.to_datetime(data[\"time\"])\n",
    "\n",
    "data.sort_values(by=[\"match_id\", \"time\"], inplace=True)\n",
    "data[\"past_minute\"] = data.groupby([\"match_id\"]).apply(lambda match: match\n",
    "                                           .set_index('time').sort_index()\n",
    "                                           .rolling('60s')\n",
    "                                           .agg({'team': 'count'}).reset_index(drop=True)).reset_index(drop=True)\n",
    "data[\"past_15\"] = data.groupby([\"match_id\"]).apply(lambda match: match\n",
    "                                           .set_index('time').sort_index()\n",
    "                                           .rolling('900s')\n",
    "                                           .agg({'team': 'count'}).reset_index(drop=True)).reset_index(drop=True)\n",
    "data[[\"season_id\", \"match_id\", \"period\", \"minute\", \"second\", \"team\", \"is_goal\", \"past_minute\", \"past_15\"]].sort_values(by=[\"match_id\", \"period\", \"minute\", \"second\"])"
   ],
   "metadata": {
    "collapsed": false,
    "pycharm": {
     "name": "#%%\n"
    }
   }
  },
  {
   "cell_type": "code",
   "execution_count": null,
   "outputs": [],
   "source": [
    "data.sort_values(by=[\"match_id\", \"team\", \"time\"], inplace=True)\n",
    "data[\"own_past_minute\"] = data.groupby([\"match_id\", \"team\"]).apply(lambda match: match\n",
    "                                           .set_index('time').sort_index()\n",
    "                                           .rolling('60s')\n",
    "                                           .agg({'team': 'count'}).reset_index(drop=True)).reset_index(drop=True)\n",
    "data[\"own_past_15\"] = data.groupby([\"match_id\", \"team\"]).apply(lambda match: match\n",
    "                                           .set_index('time').sort_index()\n",
    "                                           .rolling('900s')\n",
    "                                           .agg({'team': 'count'}).reset_index(drop=True)).reset_index(drop=True)\n",
    "\n",
    "data.drop([\"time\"], axis=1, inplace=True)\n",
    "data.sort_values(by=[\"match_id\", \"period\", \"minute\", \"second\"], inplace=True)\n",
    "data[[\"season_id\", \"match_id\", \"period\", \"minute\", \"second\", \"team\", \"is_goal\", \"own_past_minute\", \"own_past_15\"]]"
   ],
   "metadata": {
    "collapsed": false,
    "pycharm": {
     "name": "#%%\n"
    }
   }
  },
  {
   "cell_type": "code",
   "execution_count": null,
   "outputs": [],
   "source": [
    "data[\"is_extra_time\"] = data[\"minute\"] >= 90"
   ],
   "metadata": {
    "collapsed": false,
    "pycharm": {
     "name": "#%%\n"
    }
   }
  },
  {
   "cell_type": "code",
   "execution_count": null,
   "outputs": [],
   "source": [
    "press = []\n",
    "for i in range(len(all_shots)):\n",
    "    press.append(0)\n",
    "\n",
    "sff = all_shots.shot_freeze_frame\n",
    "\n",
    "#to get the list of all the shot freeze frames\n",
    "list_of_dicts = []\n",
    "for i in range(len(sff)):\n",
    "  if not pd.isna(sff[i]):\n",
    "        list_of_dicts.append(ast.literal_eval(sff[i]))\n",
    "  else:\n",
    "        list_of_dicts.append(0)"
   ],
   "metadata": {
    "collapsed": false,
    "pycharm": {
     "name": "#%%\n"
    }
   }
  },
  {
   "cell_type": "code",
   "execution_count": null,
   "outputs": [],
   "source": [
    " #to get the freeze frames of only the opponents\n",
    "opponents_list = []\n",
    "for i in range(len(list_of_dicts)):\n",
    "  if list_of_dicts[i] != 0:\n",
    "    opponents_dicts = [d for d in list_of_dicts[i] if d['teammate'] == False]\n",
    "    opponents_list.append(opponents_dicts)\n",
    "  else:\n",
    "    opponents_list.append(0)"
   ],
   "metadata": {
    "collapsed": false,
    "pycharm": {
     "name": "#%%\n"
    }
   }
  },
  {
   "cell_type": "code",
   "execution_count": null,
   "outputs": [],
   "source": [
    "# to get the locations of all the opponents from the freeze frames\n",
    "list_of_locations = []\n",
    "for i in range(len(opponents_list)):\n",
    "  if opponents_list[i] != 0:\n",
    "    location = [d['location'] for d in opponents_list[i]]\n",
    "    list_of_locations.append(location)\n",
    "  else:\n",
    "    list_of_locations.append(0)"
   ],
   "metadata": {
    "collapsed": false,
    "pycharm": {
     "name": "#%%\n"
    }
   }
  },
  {
   "cell_type": "code",
   "execution_count": null,
   "outputs": [],
   "source": [
    "# calculating the influence on the pitch for each shot as a sum total of the\n",
    "# influence of all the defenders\n",
    "influence = []\n",
    "for loc in list_of_locations:\n",
    "    if loc !=0:\n",
    "        x = np.linspace(0, 120, 121)\n",
    "        y = np.linspace(0, 80, 81)\n",
    "        X, Y = np.meshgrid(x, y)\n",
    "\n",
    "        # Initialize Z to zero\n",
    "        Z = np.zeros_like(X)\n",
    "        for pos in loc:\n",
    "            Z += gaussian(X, Y, pos[0], pos[1])\n",
    "        influence.append(Z)\n",
    "    else:\n",
    "        influence.append([-1])"
   ],
   "metadata": {
    "collapsed": false,
    "pycharm": {
     "name": "#%%\n"
    }
   }
  },
  {
   "cell_type": "code",
   "execution_count": null,
   "outputs": [],
   "source": [
    "# location of all the shots\n",
    "import ast\n",
    "locs = []\n",
    "for i in range(len(all_shots.location)):\n",
    "    locs.append(ast.literal_eval(all_shots.location[i]))\n",
    "\n",
    "# press values as a gaussian function\n",
    "for i in range(len(press)):\n",
    "    if list_of_locations[i] != 0:\n",
    "        for j in range(len(list_of_locations[i])):\n",
    "            dist = math.sqrt((locs[i][0]-list_of_locations[i][j][0])**2 + (locs[i][1]-list_of_locations[i][j][1])**2)\n",
    "            press[i] = press[i] + math.exp(-dist ** 2 / (2))\n",
    "    else:\n",
    "        press[i] = -1"
   ],
   "metadata": {
    "collapsed": false,
    "pycharm": {
     "name": "#%%\n"
    }
   }
  },
  {
   "cell_type": "code",
   "execution_count": null,
   "outputs": [],
   "source": [
    "# influence in triangle will have the sum of the influence values of all the points\n",
    "# in the triangle\n",
    "influence_in_triangle=[]\n",
    "for k in range(0,len(influence)):\n",
    "    total_influence = 0\n",
    "    for i in range(int(min(locs[k][1],36)),int(max(locs[k][1],44) + 1)):\n",
    "        for j in range(int(locs[k][0]),121):\n",
    "            if point_in_triangle(np.array([j, i]), [120,36], [120,44], locs[k]):\n",
    "                total_influence += influence[0][i][j]\n",
    "    influence_in_triangle.append(total_influence)"
   ],
   "metadata": {
    "collapsed": false,
    "pycharm": {
     "name": "#%%\n"
    }
   }
  },
  {
   "cell_type": "code",
   "execution_count": null,
   "outputs": [],
   "source": [
    "data[\"press\"] = press\n",
    "data[\"influence_in_triangle\"] = influence_in_triangle"
   ],
   "metadata": {
    "collapsed": false,
    "pycharm": {
     "name": "#%%\n"
    }
   }
  },
  {
   "cell_type": "code",
   "execution_count": null,
   "outputs": [],
   "source": [
    "data"
   ],
   "metadata": {
    "collapsed": false,
    "pycharm": {
     "name": "#%%\n"
    }
   }
  },
  {
   "cell_type": "code",
   "execution_count": null,
   "outputs": [],
   "source": [
    "data.nunique()"
   ],
   "metadata": {
    "collapsed": false,
    "pycharm": {
     "name": "#%%\n"
    }
   }
  },
  {
   "cell_type": "code",
   "execution_count": null,
   "outputs": [],
   "source": [
    "data.to_csv(\"./data/augmented_data.csv\", index=False)"
   ],
   "metadata": {
    "collapsed": false,
    "pycharm": {
     "name": "#%%\n"
    }
   }
  },
  {
   "cell_type": "code",
   "execution_count": null,
   "outputs": [],
   "source": [],
   "metadata": {
    "collapsed": false,
    "pycharm": {
     "name": "#%%\n"
    }
   }
  }
 ],
 "metadata": {
  "kernelspec": {
   "display_name": "Python 3",
   "language": "python",
   "name": "python3"
  },
  "language_info": {
   "codemirror_mode": {
    "name": "ipython",
    "version": 2
   },
   "file_extension": ".py",
   "mimetype": "text/x-python",
   "name": "python",
   "nbconvert_exporter": "python",
   "pygments_lexer": "ipython2",
   "version": "2.7.6"
  }
 },
 "nbformat": 4,
 "nbformat_minor": 0
}