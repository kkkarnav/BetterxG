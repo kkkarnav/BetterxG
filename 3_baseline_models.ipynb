{
 "cells": [
  {
   "cell_type": "code",
   "execution_count": 101,
   "metadata": {
    "collapsed": true
   },
   "outputs": [],
   "source": [
    "import pandas as pd\n",
    "import numpy as np\n",
    "import matplotlib.pyplot as plt\n",
    "\n",
    "from sklearn.model_selection import train_test_split\n",
    "from sklearn.preprocessing import StandardScaler\n",
    "from imblearn.over_sampling import SMOTE\n",
    "\n",
    "from sklearn.linear_model import LogisticRegression\n",
    "from sklearn.linear_model import LinearRegression\n",
    "from sklearn.tree import DecisionTreeClassifier\n",
    "\n",
    "from sklearn.metrics import accuracy_score, precision_score, recall_score, f1_score\n",
    "from sklearn.metrics import mean_absolute_error, root_mean_squared_error, r2_score\n",
    "from sklearn.metrics import confusion_matrix, ConfusionMatrixDisplay\n",
    "from sklearn.metrics import roc_curve, auc\n",
    "\n",
    "from tqdm import tqdm\n",
    "import warnings\n",
    "\n",
    "from statsbombpy import sb"
   ]
  },
  {
   "cell_type": "code",
   "execution_count": 102,
   "outputs": [],
   "source": [
    "data = pd.read_csv(\"./data.csv\")"
   ],
   "metadata": {
    "collapsed": false,
    "pycharm": {
     "name": "#%%\n"
    }
   }
  },
  {
   "cell_type": "code",
   "execution_count": 103,
   "outputs": [
    {
     "data": {
      "text/plain": "(9691, 61)"
     },
     "execution_count": 103,
     "metadata": {},
     "output_type": "execute_result"
    }
   ],
   "source": [
    "data.shape"
   ],
   "metadata": {
    "collapsed": false,
    "pycharm": {
     "name": "#%%\n"
    }
   }
  },
  {
   "cell_type": "code",
   "execution_count": 104,
   "outputs": [],
   "source": [
    "y1 = data[\"statsbomb_xg\"]\n",
    "y2 = data[\"is_goal\"]\n",
    "X = data.drop([\"statsbomb_xg\", \"is_goal\", \"end_location_x\", \"end_location_y\"], axis=1)"
   ],
   "metadata": {
    "collapsed": false,
    "pycharm": {
     "name": "#%%\n"
    }
   }
  },
  {
   "cell_type": "code",
   "execution_count": 105,
   "outputs": [
    {
     "name": "stdout",
     "output_type": "stream",
     "text": [
      "<class 'pandas.core.frame.DataFrame'>\n",
      "RangeIndex: 9691 entries, 0 to 9690\n",
      "Data columns (total 57 columns):\n",
      " #   Column                              Non-Null Count  Dtype  \n",
      "---  ------                              --------------  -----  \n",
      " 0   period                              9691 non-null   int64  \n",
      " 1   minute                              9691 non-null   int64  \n",
      " 2   possession                          9691 non-null   int64  \n",
      " 3   location_x                          9691 non-null   float64\n",
      " 4   location_y                          9691 non-null   float64\n",
      " 5   duration                            9691 non-null   float64\n",
      " 6   first_time                          9691 non-null   bool   \n",
      " 7   open_goal                           9691 non-null   bool   \n",
      " 8   one_on_one                          9691 non-null   bool   \n",
      " 9   play_pattern_From Corner            9691 non-null   bool   \n",
      " 10  play_pattern_From Counter           9691 non-null   bool   \n",
      " 11  play_pattern_From Free Kick         9691 non-null   bool   \n",
      " 12  play_pattern_From Goal Kick         9691 non-null   bool   \n",
      " 13  play_pattern_From Keeper            9691 non-null   bool   \n",
      " 14  play_pattern_From Kick Off          9691 non-null   bool   \n",
      " 15  play_pattern_From Throw In          9691 non-null   bool   \n",
      " 16  play_pattern_Other                  9691 non-null   bool   \n",
      " 17  play_pattern_Regular Play           9691 non-null   bool   \n",
      " 18  position_Center Attacking Midfield  9691 non-null   bool   \n",
      " 19  position_Center Back                9691 non-null   bool   \n",
      " 20  position_Center Defensive Midfield  9691 non-null   bool   \n",
      " 21  position_Center Forward             9691 non-null   bool   \n",
      " 22  position_Goalkeeper                 9691 non-null   bool   \n",
      " 23  position_Left Attacking Midfield    9691 non-null   bool   \n",
      " 24  position_Left Back                  9691 non-null   bool   \n",
      " 25  position_Left Center Back           9691 non-null   bool   \n",
      " 26  position_Left Center Forward        9691 non-null   bool   \n",
      " 27  position_Left Center Midfield       9691 non-null   bool   \n",
      " 28  position_Left Defensive Midfield    9691 non-null   bool   \n",
      " 29  position_Left Midfield              9691 non-null   bool   \n",
      " 30  position_Left Wing                  9691 non-null   bool   \n",
      " 31  position_Left Wing Back             9691 non-null   bool   \n",
      " 32  position_Right Attacking Midfield   9691 non-null   bool   \n",
      " 33  position_Right Back                 9691 non-null   bool   \n",
      " 34  position_Right Center Back          9691 non-null   bool   \n",
      " 35  position_Right Center Forward       9691 non-null   bool   \n",
      " 36  position_Right Center Midfield      9691 non-null   bool   \n",
      " 37  position_Right Defensive Midfield   9691 non-null   bool   \n",
      " 38  position_Right Midfield             9691 non-null   bool   \n",
      " 39  position_Right Wing                 9691 non-null   bool   \n",
      " 40  position_Right Wing Back            9691 non-null   bool   \n",
      " 41  position_Secondary Striker          9691 non-null   bool   \n",
      " 42  technique_Backheel                  9691 non-null   bool   \n",
      " 43  technique_Diving Header             9691 non-null   bool   \n",
      " 44  technique_Half Volley               9691 non-null   bool   \n",
      " 45  technique_Lob                       9691 non-null   bool   \n",
      " 46  technique_Normal                    9691 non-null   bool   \n",
      " 47  technique_Overhead Kick             9691 non-null   bool   \n",
      " 48  technique_Volley                    9691 non-null   bool   \n",
      " 49  body_part_Head                      9691 non-null   bool   \n",
      " 50  body_part_Left Foot                 9691 non-null   bool   \n",
      " 51  body_part_Other                     9691 non-null   bool   \n",
      " 52  body_part_Right Foot                9691 non-null   bool   \n",
      " 53  type_Corner                         9691 non-null   bool   \n",
      " 54  type_Free Kick                      9691 non-null   bool   \n",
      " 55  type_Open Play                      9691 non-null   bool   \n",
      " 56  type_Penalty                        9691 non-null   bool   \n",
      "dtypes: bool(51), float64(3), int64(3)\n",
      "memory usage: 937.0 KB\n"
     ]
    }
   ],
   "source": [
    "X.info()"
   ],
   "metadata": {
    "collapsed": false,
    "pycharm": {
     "name": "#%%\n"
    }
   }
  },
  {
   "cell_type": "code",
   "execution_count": 106,
   "outputs": [],
   "source": [
    "def preprocess_continuous(X, y):\n",
    "    scaler = StandardScaler().fit(X)\n",
    "    X = scaler.transform(X)\n",
    "\n",
    "    X_train, X_test, y_train, y_test = train_test_split(X, y, test_size=0.3, random_state=20)\n",
    "\n",
    "    return X_train, X_test, y_train, y_test"
   ],
   "metadata": {
    "collapsed": false,
    "pycharm": {
     "name": "#%%\n"
    }
   }
  },
  {
   "cell_type": "code",
   "execution_count": 107,
   "outputs": [],
   "source": [
    "def preprocess_classifier(X, y):\n",
    "    scaler = StandardScaler().fit(X)\n",
    "    X = scaler.transform(X)\n",
    "\n",
    "    X_train, X_test, y_train, y_test = train_test_split(X, y, test_size=0.3, random_state=20)\n",
    "\n",
    "    X_train, y_train = SMOTE().fit_resample(X_train, y_train)\n",
    "\n",
    "    return X_train, X_test, y_train, y_test"
   ],
   "metadata": {
    "collapsed": false,
    "pycharm": {
     "name": "#%%\n"
    }
   }
  },
  {
   "cell_type": "code",
   "execution_count": 108,
   "outputs": [],
   "source": [
    "def calculate_errors(results_test, results_pred, name):\n",
    "    mae = mean_absolute_error(results_test, results_pred)\n",
    "    rmse = root_mean_squared_error(results_test, results_pred)\n",
    "    r2 = r2_score(results_test, results_pred)\n",
    "    print(f\"\\n{name}\")\n",
    "    print(\"Mean Absolute Error:\", mae)\n",
    "    print(\"Root Mean Squared Error:\", rmse)\n",
    "    print(\"R-squared (R2 Score):\", r2)"
   ],
   "metadata": {
    "collapsed": false,
    "pycharm": {
     "name": "#%%\n"
    }
   }
  },
  {
   "cell_type": "code",
   "execution_count": 109,
   "outputs": [],
   "source": [
    "def calculate_stats(results_test, results_pred, name):\n",
    "    cm = confusion_matrix(results_test, results_pred)\n",
    "    disp = ConfusionMatrixDisplay(confusion_matrix=cm, display_labels=[\"Not a goal\", \"Goal\"])\n",
    "    disp.plot(cmap=plt.cm.Blues)\n",
    "    plt.title(f'Confusion Matrix ({name})')\n",
    "    plt.show()\n",
    "\n",
    "    print(f\"\\n{name}\")\n",
    "    accuracy = accuracy_score(results_test, results_pred)\n",
    "    precision = precision_score(results_test, results_pred)\n",
    "    recall = recall_score(results_test, results_pred)\n",
    "    f1 = f1_score(results_test, results_pred)\n",
    "    print(\"Accuracy:\", accuracy)\n",
    "    print(\"Precision:\", precision)\n",
    "    print(\"Recall:\", recall)\n",
    "    print(\"F1:\", f1)"
   ],
   "metadata": {
    "collapsed": false,
    "pycharm": {
     "name": "#%%\n"
    }
   }
  },
  {
   "cell_type": "code",
   "execution_count": 110,
   "outputs": [],
   "source": [
    "def linear_regression():\n",
    "    linear_r = LinearRegression()\n",
    "    linear_r.fit(X_train, y_train)\n",
    "    y_pred = linear_r.predict(X_test)\n",
    "\n",
    "    calculate_errors(y_test, y_pred, \"Linear Regression\")"
   ],
   "metadata": {
    "collapsed": false,
    "pycharm": {
     "name": "#%%\n"
    }
   }
  },
  {
   "cell_type": "code",
   "execution_count": 111,
   "outputs": [],
   "source": [
    "def logistic_regression():\n",
    "    logistic_r = LogisticRegression()\n",
    "    logistic_r.fit(X_train, y_train)\n",
    "    y_pred = logistic_r.predict(X_test)\n",
    "\n",
    "    calculate_stats(y_test, y_pred, \"Logistic Regression\")"
   ],
   "metadata": {
    "collapsed": false,
    "pycharm": {
     "name": "#%%\n"
    }
   }
  },
  {
   "cell_type": "code",
   "execution_count": 112,
   "outputs": [],
   "source": [
    "def decision_tree():\n",
    "    clf = DecisionTreeClassifier()\n",
    "    clf.fit(X_train, y_train)\n",
    "    y_pred = clf.predict(X_test)\n",
    "\n",
    "    calculate_stats(y_test, y_pred, \"Decision Tree\")"
   ],
   "metadata": {
    "collapsed": false,
    "pycharm": {
     "name": "#%%\n"
    }
   }
  },
  {
   "cell_type": "code",
   "execution_count": 113,
   "outputs": [
    {
     "name": "stdout",
     "output_type": "stream",
     "text": [
      "\n",
      "Linear Regression\n",
      "Mean Absolute Error: 0.05785746795973605\n",
      "Root Mean Squared Error: 0.09371285913785182\n",
      "R-squared (R2 Score): 0.6648150270045108\n"
     ]
    }
   ],
   "source": [
    "X_train, X_test, y_train, y_test = preprocess_continuous(X, y1)\n",
    "linear_regression()"
   ],
   "metadata": {
    "collapsed": false,
    "pycharm": {
     "name": "#%%\n"
    }
   }
  },
  {
   "cell_type": "code",
   "execution_count": 114,
   "outputs": [
    {
     "data": {
      "text/plain": "<Figure size 640x480 with 2 Axes>",
      "image/png": "[encoded data removed]"
     },
     "metadata": {},
     "output_type": "display_data"
    },
    {
     "name": "stdout",
     "output_type": "stream",
     "text": [
      "\n",
      "Logistic Regression\n",
      "Accuracy: 0.7283356258596974\n",
      "Precision: 0.24172185430463577\n",
      "Recall: 0.6801242236024845\n",
      "F1: 0.3566775244299674\n"
     ]
    },
    {
     "data": {
      "text/plain": "<Figure size 640x480 with 2 Axes>",
      "image/png": "[encoded data removed]"
     },
     "metadata": {},
     "output_type": "display_data"
    },
    {
     "name": "stdout",
     "output_type": "stream",
     "text": [
      "\n",
      "Decision Tree\n",
      "Accuracy: 0.8311554332874828\n",
      "Precision: 0.3205944798301486\n",
      "Recall: 0.468944099378882\n",
      "F1: 0.38083228247162676\n"
     ]
    }
   ],
   "source": [
    "X_train, X_test, y_train, y_test = preprocess_classifier(X, y2)\n",
    "logistic_regression()\n",
    "decision_tree()"
   ],
   "metadata": {
    "collapsed": false,
    "pycharm": {
     "name": "#%%\n"
    }
   }
  }
 ],
 "metadata": {
  "kernelspec": {
   "display_name": "Python 3",
   "language": "python",
   "name": "python3"
  },
  "language_info": {
   "codemirror_mode": {
    "name": "ipython",
    "version": 2
   },
   "file_extension": ".py",
   "mimetype": "text/x-python",
   "name": "python",
   "nbconvert_exporter": "python",
   "pygments_lexer": "ipython2",
   "version": "2.7.6"
  }
 },
 "nbformat": 4,
 "nbformat_minor": 0
}