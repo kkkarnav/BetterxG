{
 "cells": [
  {
   "cell_type": "code",
   "execution_count": 182,
   "metadata": {
    "collapsed": true
   },
   "outputs": [],
   "source": [
    "import pandas as pd\n",
    "import numpy as np\n",
    "import matplotlib.pyplot as plt\n",
    "import math\n",
    "\n",
    "from sklearn.model_selection import train_test_split, GridSearchCV\n",
    "from sklearn.feature_selection import mutual_info_classif\n",
    "from sklearn.preprocessing import StandardScaler\n",
    "from imblearn.over_sampling import SMOTE\n",
    "\n",
    "from sklearn.linear_model import LogisticRegression\n",
    "from sklearn.linear_model import LinearRegression\n",
    "from sklearn.tree import DecisionTreeClassifier\n",
    "from sklearn.ensemble import GradientBoostingClassifier\n",
    "\n",
    "from sklearn.metrics import accuracy_score, precision_score, recall_score, f1_score\n",
    "from sklearn.metrics import mean_absolute_error, root_mean_squared_error, r2_score\n",
    "from sklearn.metrics import confusion_matrix, ConfusionMatrixDisplay\n",
    "from sklearn.metrics import roc_curve, auc\n",
    "import dtreeviz\n",
    "\n",
    "from tqdm import tqdm\n",
    "import warnings\n",
    "from pprint import pprint\n",
    "\n",
    "warnings.filterwarnings(\"ignore\")"
   ]
  },
  {
   "cell_type": "code",
   "execution_count": 183,
   "outputs": [],
   "source": [
    "data = pd.read_csv(\"./data/augmented_data.csv\")"
   ],
   "metadata": {
    "collapsed": false,
    "pycharm": {
     "name": "#%%\n"
    }
   }
  },
  {
   "cell_type": "code",
   "execution_count": 184,
   "outputs": [
    {
     "data": {
      "text/plain": "period                     5\nminute                   139\nsecond                    60\npossession               290\nduration               77925\nseason_id                 41\nmatch_id                3312\ntimestamp              82726\nteam                     288\nplay_pattern               9\nposition                  25\nplayer_type                5\nlocation_x               635\nlocation_x_distance      635\nlocation_y               701\nlocation_y_distance      471\ntechnique                  7\nbody_part                  4\ntype                       5\nis_penalty                 2\nis_header                  2\nfirst_time                 2\nopen_goal                  2\none_on_one                 2\naerial_won                 2\nfollows_dribble            2\nunder_pressure             2\npass_duration          11897\npass_angle             10504\npass_type                  8\npass_height                4\npass_length             9918\nnum_passes                13\ndefenders_3m_radius       10\ndefenders_triangle        13\ngoalkeeper_x             258\ngoalkeeper_y             355\ndistance_to_goalie     45505\nshooting_range         43794\ngoal_distance          36862\nbest_distance          30176\nstatsbomb_xg           82417\nend_location_x           375\nend_location_y           704\nis_goal                    2\nshot_angle             52863\ngood_foot                  2\nshots_so_far              46\nxg_so_far              77258\ngame_state                24\nwas_leading                3\npast_minute                6\npast_15                   28\nown_past_minute            6\nown_past_15               24\nis_extra_time              2\ndtype: int64"
     },
     "execution_count": 184,
     "metadata": {},
     "output_type": "execute_result"
    }
   ],
   "source": [
    "data.nunique()"
   ],
   "metadata": {
    "collapsed": false,
    "pycharm": {
     "name": "#%%\n"
    }
   }
  },
  {
   "cell_type": "code",
   "execution_count": null,
   "outputs": [],
   "source": [
    "# Use mutual_info classification to check which features yield the most information about the target variable\n",
    "data_copy = data.copy()\n",
    "X = data_copy.drop([\"statsbomb_xg\", \"is_goal\", \"end_location_x\", \"end_location_y\", \"shot_angle\", \"duration\", \"season_id\", \"match_id\", \"timestamp\", \"team\", \"xg_so_far\", \"location_x\", \"location_y\", \"game_state\", \"body_part\", \"defenders_3m_radius\", \"under_pressure\", \"play_pattern\", \"technique\", \"position\", \"body_part\", \"type\", \"pass_type\", \"pass_height\"], axis=1)\n",
    "mutual_info = mutual_info_classif(X, data[\"is_goal\"])\n",
    "mutual_info = pd.Series(mutual_info)\n",
    "mutual_info.index = X.columns\n",
    "mutual_info.sort_values(ascending=False)"
   ],
   "metadata": {
    "collapsed": false,
    "pycharm": {
     "name": "#%%\n",
     "is_executing": true
    }
   }
  },
  {
   "cell_type": "code",
   "execution_count": null,
   "outputs": [],
   "source": [
    "# drop redundant features\n",
    "data.drop([\"location_x\", \"location_y\", \"game_state\", \"body_part\", \"defenders_3m_radius\", \"under_pressure\", \"position\"], axis=1, inplace=True)\n",
    "# drop features that leak target information\n",
    "data.drop([\"end_location_x\", \"end_location_y\", \"shot_angle\", \"duration\", \"season_id\", \"match_id\", \"timestamp\", \"team\", \"xg_so_far\"], axis=1, inplace=True)\n",
    "# drop low information features\n",
    "data.drop([\"period\", \"minute\", \"second\", \"possession\", \"aerial_won\", \"follows_dribble\", \"num_passes\", \"pass_length\", \"pass_duration\", \"pass_height\", \"pass_type\", \"pass_angle\", \"type\", \"shots_so_far\", \"past_minute\", \"past_15\", \"own_past_minute\", \"own_past_15\"], axis=1, inplace=True)\n",
    "# drop penalties\n",
    "data = data[data[\"is_penalty\"] == False]"
   ],
   "metadata": {
    "collapsed": false,
    "pycharm": {
     "name": "#%%\n",
     "is_executing": true
    }
   }
  },
  {
   "cell_type": "code",
   "execution_count": null,
   "outputs": [],
   "source": [
    "data.nunique()"
   ],
   "metadata": {
    "collapsed": false,
    "pycharm": {
     "name": "#%%\n",
     "is_executing": true
    }
   }
  },
  {
   "cell_type": "code",
   "execution_count": null,
   "outputs": [],
   "source": [
    "# one-hot encode the categorical data\n",
    "encoded_data = data\n",
    "for column_name in [\"play_pattern\", \"technique\"]:\n",
    "    one_hot_encoded = pd.get_dummies(encoded_data[column_name], prefix=column_name)\n",
    "    encoded_data = encoded_data.drop(column_name, axis=1)\n",
    "    encoded_data = pd.concat([encoded_data, one_hot_encoded], axis=1)\n",
    "data = encoded_data"
   ],
   "metadata": {
    "collapsed": false,
    "pycharm": {
     "name": "#%%\n",
     "is_executing": true
    }
   }
  },
  {
   "cell_type": "code",
   "execution_count": null,
   "outputs": [],
   "source": [
    "data = data.dropna()\n",
    "data.replace([np.inf, -np.inf], 0, inplace=True)"
   ],
   "metadata": {
    "collapsed": false,
    "pycharm": {
     "name": "#%%\n",
     "is_executing": true
    }
   }
  },
  {
   "cell_type": "code",
   "execution_count": null,
   "outputs": [],
   "source": [
    "y1 = data[\"statsbomb_xg\"]\n",
    "y2 = data[\"is_goal\"]\n",
    "X = data.drop([\"statsbomb_xg\", \"is_goal\"], axis=1)"
   ],
   "metadata": {
    "collapsed": false,
    "pycharm": {
     "name": "#%%\n",
     "is_executing": true
    }
   }
  },
  {
   "cell_type": "code",
   "execution_count": null,
   "outputs": [],
   "source": [
    "def preprocess_continuous(X, y):\n",
    "\n",
    "    scaler = StandardScaler().fit(X)\n",
    "    X = scaler.transform(X)\n",
    "\n",
    "    X_train, X_test, y_train, y_test = train_test_split(X, y, test_size=0.3, random_state=20)\n",
    "\n",
    "    return X_train, X_test, y_train, y_test"
   ],
   "metadata": {
    "collapsed": false,
    "pycharm": {
     "name": "#%%\n",
     "is_executing": true
    }
   }
  },
  {
   "cell_type": "code",
   "execution_count": null,
   "outputs": [],
   "source": [
    "def preprocess_classifier(X, y):\n",
    "\n",
    "    scaler = StandardScaler().fit(X)\n",
    "    X = scaler.transform(X)\n",
    "\n",
    "    X_train, X_test, y_train, y_test = train_test_split(X, y, test_size=0.3, random_state=20)\n",
    "\n",
    "    X_train, y_train = SMOTE(sampling_strategy=0.2).fit_resample(X_train, y_train)\n",
    "\n",
    "    return X_train, X_test, y_train, y_test"
   ],
   "metadata": {
    "collapsed": false,
    "pycharm": {
     "name": "#%%\n",
     "is_executing": true
    }
   }
  },
  {
   "cell_type": "code",
   "execution_count": null,
   "outputs": [],
   "source": [
    "def calculate_errors(results_test, results_pred, name):\n",
    "    mae = mean_absolute_error(results_test, results_pred)\n",
    "    rmse = root_mean_squared_error(results_test, results_pred)\n",
    "    r2 = r2_score(results_test, results_pred)\n",
    "    print(f\"\\n{name}\")\n",
    "    print(\"Mean Absolute Error:\", mae)\n",
    "    print(\"Root Mean Squared Error:\", rmse)\n",
    "    print(\"R-squared (R2 Score):\", r2)"
   ],
   "metadata": {
    "collapsed": false,
    "pycharm": {
     "name": "#%%\n",
     "is_executing": true
    }
   }
  },
  {
   "cell_type": "code",
   "execution_count": null,
   "outputs": [],
   "source": [
    "def calculate_stats(results_test, results_pred, name):\n",
    "    cm = confusion_matrix(results_test, results_pred)\n",
    "    disp = ConfusionMatrixDisplay(confusion_matrix=cm, display_labels=[\"Not a goal\", \"Goal\"])\n",
    "    disp.plot(cmap=plt.cm.Blues)\n",
    "    plt.title(f'Confusion Matrix ({name})')\n",
    "    plt.show()\n",
    "\n",
    "    print(f\"\\n{name}\")\n",
    "    accuracy = accuracy_score(results_test, results_pred)\n",
    "    precision = precision_score(results_test, results_pred)\n",
    "    recall = recall_score(results_test, results_pred)\n",
    "    f1 = f1_score(results_test, results_pred)\n",
    "    print(\"Accuracy:\", accuracy)\n",
    "    print(\"Precision:\", precision)\n",
    "    print(\"Recall:\", recall)\n",
    "    print(\"F1:\", f1)"
   ],
   "metadata": {
    "collapsed": false,
    "pycharm": {
     "name": "#%%\n",
     "is_executing": true
    }
   }
  },
  {
   "cell_type": "code",
   "execution_count": null,
   "outputs": [],
   "source": [
    "def linear_regression():\n",
    "    linear_r = LinearRegression()\n",
    "    linear_r.fit(X_train, y_train)\n",
    "    y_pred = linear_r.predict(X_test)\n",
    "\n",
    "    calculate_errors(y_test, y_pred, \"Linear Regression\")\n",
    "\n",
    "    return y_pred"
   ],
   "metadata": {
    "collapsed": false,
    "pycharm": {
     "name": "#%%\n",
     "is_executing": true
    }
   }
  },
  {
   "cell_type": "code",
   "execution_count": null,
   "outputs": [],
   "source": [
    "def logistic_regression():\n",
    "    logistic_r = LogisticRegression()\n",
    "    logistic_r.fit(X_train, y_train)\n",
    "    y_pred = logistic_r.predict(X_test)\n",
    "\n",
    "    calculate_stats(y_test, y_pred, \"Logistic Regression\")\n",
    "\n",
    "    return logistic_r.predict_proba(X_test)"
   ],
   "metadata": {
    "collapsed": false,
    "pycharm": {
     "name": "#%%\n",
     "is_executing": true
    }
   }
  },
  {
   "cell_type": "code",
   "execution_count": null,
   "outputs": [],
   "source": [
    "def decision_tree():\n",
    "    dt = DecisionTreeClassifier(criterion=\"gini\", max_depth=12, max_leaf_nodes=100, min_samples_split=100)\n",
    "    dt.fit(X_train, y_train)\n",
    "    y_pred = dt.predict(X_test)\n",
    "\n",
    "    calculate_stats(y_test, y_pred, \"Decision Tree\")\n",
    "\n",
    "    viz_model = dtreeviz.model(dt,\n",
    "                           X_train=X_train, y_train=y_train,\n",
    "                           feature_names=X.columns, target_name=\"is_goal\", class_names=[\"Not a goal\", \"Goal\"])\n",
    "\n",
    "    return dt.predict_proba(X_test), viz_model"
   ],
   "metadata": {
    "collapsed": false,
    "pycharm": {
     "name": "#%%\n",
     "is_executing": true
    }
   }
  },
  {
   "cell_type": "code",
   "execution_count": null,
   "outputs": [],
   "source": [
    "def gradient_boosted_tree():\n",
    "    gbt = GradientBoostingClassifier(learning_rate=0.09, max_depth=8, min_samples_split=100, n_estimators=250, max_features=None)\n",
    "    gbt.fit(X_train, y_train)\n",
    "    y_pred = gbt.predict(X_test)\n",
    "\n",
    "    calculate_stats(y_test, y_pred, \"Gradient Boosted Tree\")\n",
    "\n",
    "    return gbt.predict_proba(X_test)"
   ],
   "metadata": {
    "collapsed": false,
    "pycharm": {
     "name": "#%%\n",
     "is_executing": true
    }
   }
  },
  {
   "cell_type": "code",
   "execution_count": null,
   "outputs": [],
   "source": [
    "X_train, X_test, y_train, y_test = preprocess_continuous(X, y1)\n",
    "lr_xg = linear_regression()"
   ],
   "metadata": {
    "collapsed": false,
    "pycharm": {
     "name": "#%%\n",
     "is_executing": true
    }
   }
  },
  {
   "cell_type": "code",
   "execution_count": null,
   "outputs": [],
   "source": [
    "X_train, X_test, y_train, y_test = preprocess_classifier(X, y2)\n",
    "lor_xg = logistic_regression()"
   ],
   "metadata": {
    "collapsed": false,
    "pycharm": {
     "name": "#%%\n",
     "is_executing": true
    }
   }
  },
  {
   "cell_type": "code",
   "execution_count": null,
   "outputs": [],
   "source": [
    "dt_xg, viz = decision_tree()"
   ],
   "metadata": {
    "collapsed": false,
    "pycharm": {
     "name": "#%%\n",
     "is_executing": true
    }
   }
  },
  {
   "cell_type": "code",
   "execution_count": null,
   "outputs": [],
   "source": [
    "viz.view(fancy=False)"
   ],
   "metadata": {
    "collapsed": false,
    "pycharm": {
     "name": "#%%\n",
     "is_executing": true
    }
   }
  },
  {
   "cell_type": "code",
   "execution_count": null,
   "outputs": [],
   "source": [
    "gbt_xg = gradient_boosted_tree()"
   ],
   "metadata": {
    "collapsed": false,
    "pycharm": {
     "name": "#%%\n",
     "is_executing": true
    }
   }
  },
  {
   "cell_type": "code",
   "execution_count": null,
   "outputs": [],
   "source": [
    "# empirically, the statsbomb predictions maximise f1 score at threshold=0.15, precision at threshold=1, recall at threshold=0, and accuracy at threshold=20\n",
    "_, X_temp, _, sb_xg = preprocess_continuous(X, y1)\n",
    "sb_pred = sb_xg.apply(lambda x: math.ceil(x-0.20))\n",
    "calculate_stats(y_test, sb_pred, \"StatsBomb\")"
   ],
   "metadata": {
    "collapsed": false,
    "pycharm": {
     "name": "#%%\n",
     "is_executing": true
    }
   }
  },
  {
   "cell_type": "code",
   "execution_count": null,
   "outputs": [],
   "source": [
    "# empirically, the statsbomb predictions maximise f1 score at threshold=0.15, precision at threshold=1, recall at threshold=0, and accuracy at threshold=20\n",
    "gbt_pred = [math.ceil(x[1]-0.24) for x in gbt_xg]\n",
    "calculate_stats(y_test, gbt_pred, \"Gradient Boosted & Thresholded\")"
   ],
   "metadata": {
    "collapsed": false,
    "pycharm": {
     "name": "#%%\n",
     "is_executing": true
    }
   }
  },
  {
   "cell_type": "code",
   "execution_count": null,
   "outputs": [],
   "source": [
    "df = pd.DataFrame({\"lr_xg\": lr_xg, \"lor_xg\": [x[1] for x in lor_xg], \"dt_xg\": [x[1] for x in dt_xg], \"gbt_xg\": [x[1] for x in gbt_xg], \"sxg\": sb_xg})\n",
    "pprint(pd.DataFrame(np.corrcoef(np.asarray(df[\"lr_xg\"]), np.asarray(df[\"sxg\"]))))\n",
    "pprint(pd.DataFrame(np.corrcoef(np.asarray(df[\"lor_xg\"]), np.asarray(df[\"sxg\"]))))\n",
    "pprint(pd.DataFrame(np.corrcoef(np.asarray(df[\"dt_xg\"]), np.asarray(df[\"sxg\"]))))\n",
    "pprint(pd.DataFrame(np.corrcoef(np.asarray(df[\"gbt_xg\"]), np.asarray(df[\"sxg\"]))))"
   ],
   "metadata": {
    "collapsed": false,
    "pycharm": {
     "name": "#%%\n",
     "is_executing": true
    }
   }
  },
  {
   "cell_type": "code",
   "execution_count": null,
   "outputs": [],
   "source": [
    "diff = gbt_pred - y_test\n",
    "data_copy.iloc[diff[diff == -1].index].sort_values(by=[\"statsbomb_xg\"])"
   ],
   "metadata": {
    "collapsed": false,
    "pycharm": {
     "name": "#%%\n",
     "is_executing": true
    }
   }
  },
  {
   "cell_type": "code",
   "execution_count": null,
   "outputs": [],
   "source": [
    "diff_sb = sb_pred - y_test\n",
    "data_copy.iloc[diff_sb[diff_sb == -1].index].sort_values(by=[\"statsbomb_xg\"])"
   ],
   "metadata": {
    "collapsed": false,
    "pycharm": {
     "name": "#%%\n",
     "is_executing": true
    }
   }
  },
  {
   "cell_type": "code",
   "execution_count": null,
   "outputs": [],
   "source": [
    "_, data_copy_test, _, gbt_xg_test = train_test_split(data_copy[data_copy[\"is_penalty\"] == False], y2, test_size=0.3, random_state=20)\n",
    "diff_xg = [x[1] for x in gbt_xg] - sb_xg\n",
    "data_copy_test[\"diff\"] = diff_xg\n",
    "data_copy_test[\"gbt_xg\"] = [x[1] for x in gbt_xg]\n",
    "data_copy_test[\"sb_xg\"] = sb_xg\n",
    "data_copy_test.sort_values(by=[\"diff\"])"
   ],
   "metadata": {
    "collapsed": false,
    "pycharm": {
     "name": "#%%\n",
     "is_executing": true
    }
   }
  },
  {
   "cell_type": "code",
   "execution_count": null,
   "outputs": [],
   "source": [
    "my_f1_scores = []\n",
    "sb_f1_scores = []\n",
    "for threshold in range(0, 100):\n",
    "    gbt_pred = [math.ceil(x[1]-(threshold/100)) for x in gbt_xg]\n",
    "    sb_pred = [math.ceil(x-(threshold/100)) for x in sb_xg]\n",
    "    my_f1 = f1_score(y_test, gbt_pred)\n",
    "    sb_f1 = f1_score(y_test, sb_pred)\n",
    "    my_f1_scores.append(my_f1)\n",
    "    sb_f1_scores.append(sb_f1)\n",
    "\n",
    "barWidth = 0.5\n",
    "r1 = np.arange(len(my_f1_scores))\n",
    "r2 = [x + barWidth for x in r1]\n",
    "\n",
    "plt.rcParams[\"font.size\"] = 10\n",
    "plt.rcParams[\"font.stretch\"] = \"semi-condensed\"\n",
    "plt.rcParams['grid.color'] = 'grey'\n",
    "\n",
    "plt.figure(figsize=(16,4))\n",
    "plt.bar(r1, pd.Series(my_f1_scores), color=\"firebrick\", width=barWidth, edgecolor='grey', label='Our Prediction')\n",
    "plt.bar(r2, pd.Series(sb_f1_scores), color=\"steelblue\", width=barWidth, edgecolor='grey', label='SB Prediction')\n",
    "\n",
    "plt.xticks(r1, [x for x in range(0, 100)], rotation=45)\n",
    "plt.show()"
   ],
   "metadata": {
    "collapsed": false,
    "pycharm": {
     "name": "#%%\n",
     "is_executing": true
    }
   }
  },
  {
   "cell_type": "code",
   "execution_count": null,
   "outputs": [],
   "source": [],
   "metadata": {
    "collapsed": false,
    "pycharm": {
     "name": "#%%\n",
     "is_executing": true
    }
   }
  }
 ],
 "metadata": {
  "kernelspec": {
   "display_name": "Python 3",
   "language": "python",
   "name": "python3"
  },
  "language_info": {
   "codemirror_mode": {
    "name": "ipython",
    "version": 2
   },
   "file_extension": ".py",
   "mimetype": "text/x-python",
   "name": "python",
   "nbconvert_exporter": "python",
   "pygments_lexer": "ipython2",
   "version": "2.7.6"
  }
 },
 "nbformat": 4,
 "nbformat_minor": 0
}