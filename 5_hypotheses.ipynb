{
 "cells": [
  {
   "cell_type": "code",
   "execution_count": 1,
   "metadata": {
    "collapsed": true
   },
   "outputs": [],
   "source": [
    "import pandas as pd\n",
    "import numpy as np\n",
    "import matplotlib.pyplot as plt\n",
    "import math\n",
    "\n",
    "from sklearn.feature_selection import mutual_info_classif\n",
    "from sklearn.linear_model import LinearRegression, LogisticRegression\n",
    "from imblearn.over_sampling import SMOTE\n",
    "\n",
    "from scipy.stats import chi2_contingency\n",
    "import statsmodels.formula.api as smf\n",
    "from stargazer.stargazer import Stargazer\n",
    "\n",
    "from tqdm import tqdm\n",
    "import warnings\n",
    "from pprint import pprint"
   ]
  },
  {
   "cell_type": "code",
   "execution_count": 2,
   "outputs": [],
   "source": [
    "data = pd.read_csv(\"./data/augmented_data.csv\")"
   ],
   "metadata": {
    "collapsed": false,
    "pycharm": {
     "name": "#%%\n"
    }
   }
  },
  {
   "cell_type": "code",
   "execution_count": 3,
   "outputs": [],
   "source": [
    "data = data.dropna()\n",
    "data = data[data[\"is_penalty\"] == False]\n",
    "data.replace([np.inf, -np.inf], 0, inplace=True)"
   ],
   "metadata": {
    "collapsed": false,
    "pycharm": {
     "name": "#%%\n"
    }
   }
  },
  {
   "cell_type": "code",
   "execution_count": 4,
   "outputs": [
    {
     "data": {
      "text/plain": "period                     4\nminute                   125\npossession               275\nduration               76906\nseason_id                 41\nmatch_id                3312\ntimestamp              81547\nteam                     288\nplay_pattern               9\nposition                  25\nlocation_x               635\nlocation_x_distance      635\nlocation_y               701\nlocation_y_distance      471\ntechnique                  7\nbody_part                  4\ntype                       4\nis_penalty                 1\nis_header                  2\nfirst_time                 2\nopen_goal                  2\none_on_one                 2\naerial_won                 2\nfollows_dribble            2\nunder_pressure             2\npass_duration          11897\npass_angle             10504\npass_type                  8\npass_height                4\npass_length             9918\nnum_passes                13\ndefenders_3m_radius        9\ndefenders_triangle        12\ngoalkeeper_x             258\ngoalkeeper_y             355\ndistance_to_goalie     45441\nshooting_range         43788\nbest_distance          30176\nstatsbomb_xg           82416\nend_location_x           375\nend_location_y           704\nis_goal                    2\nshot_angle             52663\ngood_foot                  2\nshots_so_far              46\nxg_so_far              76100\ngame_state                23\nwas_leading                3\ndtype: int64"
     },
     "execution_count": 4,
     "metadata": {},
     "output_type": "execute_result"
    }
   ],
   "source": [
    "data.nunique()"
   ],
   "metadata": {
    "collapsed": false,
    "pycharm": {
     "name": "#%%\n"
    }
   }
  },
  {
   "cell_type": "code",
   "execution_count": 5,
   "outputs": [
    {
     "data": {
      "text/plain": "distance_to_goalie     0.041037\nbest_distance          0.037305\nshooting_range         0.037180\nlocation_x_distance    0.025270\ndefenders_triangle     0.022807\nduration               0.017862\npass_length            0.014150\nlocation_y_distance    0.012878\nopen_goal              0.012871\ngoalkeeper_x           0.011450\npass_duration          0.010726\ngood_foot              0.008695\nfirst_time             0.005594\none_on_one             0.005205\nperiod                 0.004937\ndefenders_3m_radius    0.004711\nshot_angle             0.004574\ngoalkeeper_y           0.004489\nunder_pressure         0.004103\ngame_state             0.003476\nnum_passes             0.003251\nwas_leading            0.003044\nshots_so_far           0.002148\npass_angle             0.001611\nis_penalty             0.001165\nxg_so_far              0.001124\nis_header              0.000595\nminute                 0.000225\naerial_won             0.000035\nfollows_dribble        0.000000\npossession             0.000000\ndtype: float64"
     },
     "execution_count": 5,
     "metadata": {},
     "output_type": "execute_result"
    }
   ],
   "source": [
    "# Use mutual_info classification to check which features yield the most information about the target variable\n",
    "data_copy = data.copy()\n",
    "X_copy = data_copy.drop([\"statsbomb_xg\", \"is_goal\", \"end_location_x\", \"end_location_y\", \"location_x\", \"location_y\", \"play_pattern\", \"technique\", \"position\", \"body_part\", \"type\", \"pass_type\", \"pass_height\", \"season_id\", \"match_id\", \"timestamp\", \"team\"], axis=1)\n",
    "mutual_info = mutual_info_classif(X_copy, data[\"is_goal\"])\n",
    "mutual_info = pd.Series(mutual_info)\n",
    "mutual_info.index = X_copy.columns\n",
    "mutual_info.sort_values(ascending=False)"
   ],
   "metadata": {
    "collapsed": false,
    "pycharm": {
     "name": "#%%\n"
    }
   }
  },
  {
   "cell_type": "code",
   "execution_count": 6,
   "outputs": [
    {
     "data": {
      "text/plain": "period                     4\nminute                   125\npossession               275\nduration               76906\nseason_id                 41\nmatch_id                3312\ntimestamp              81547\nteam                     288\nplay_pattern               9\nposition                  25\nlocation_x               635\nlocation_x_distance      635\nlocation_y               701\nlocation_y_distance      471\ntechnique                  7\nbody_part                  4\ntype                       4\nis_penalty                 1\nis_header                  2\nfirst_time                 2\nopen_goal                  2\none_on_one                 2\naerial_won                 2\nfollows_dribble            2\nunder_pressure             2\npass_duration          11897\npass_angle             10504\npass_type                  8\npass_height                4\npass_length             9918\nnum_passes                13\ndefenders_3m_radius        9\ndefenders_triangle        12\ngoalkeeper_x             258\ngoalkeeper_y             355\ndistance_to_goalie     45441\nshooting_range         43788\nbest_distance          30176\nstatsbomb_xg           82416\nend_location_x           375\nend_location_y           704\nis_goal                    2\nshot_angle             52663\ngood_foot                  2\nshots_so_far              46\nxg_so_far              76100\ngame_state                23\nwas_leading                3\ndtype: int64"
     },
     "execution_count": 6,
     "metadata": {},
     "output_type": "execute_result"
    }
   ],
   "source": [
    "data.nunique()"
   ],
   "metadata": {
    "collapsed": false,
    "pycharm": {
     "name": "#%%\n"
    }
   }
  },
  {
   "cell_type": "code",
   "execution_count": 7,
   "outputs": [],
   "source": [
    "X = data.drop([\"statsbomb_xg\", \"is_goal\", \"end_location_x\", \"end_location_y\", \"location_x\", \"location_y\", \"play_pattern\", \"technique\", \"position\", \"body_part\", \"type\", \"pass_type\", \"pass_height\", \"season_id\", \"match_id\", \"timestamp\", \"team\"], axis=1)\n",
    "y1 = data[\"statsbomb_xg\"]\n",
    "y2 = data[\"is_goal\"]"
   ],
   "metadata": {
    "collapsed": false,
    "pycharm": {
     "name": "#%%\n"
    }
   }
  },
  {
   "cell_type": "code",
   "execution_count": 8,
   "outputs": [],
   "source": [
    "X, y2 = SMOTE(sampling_strategy=0.36).fit_resample(X, y2)"
   ],
   "metadata": {
    "collapsed": false,
    "pycharm": {
     "name": "#%%\n"
    }
   }
  },
  {
   "cell_type": "code",
   "execution_count": 9,
   "outputs": [],
   "source": [
    "chi = []\n",
    "for column in [\"is_penalty\", \"first_time\", \"open_goal\", \"one_on_one\", \"good_foot\", \"under_pressure\", \"defenders_3m_radius\", \"defenders_triangle\"]:\n",
    "    contingency_table = pd.crosstab(X[column], y2)\n",
    "    chi2, p, dof, _ = chi2_contingency(contingency_table)\n",
    "    chi.append((column, chi2, p, dof))"
   ],
   "metadata": {
    "collapsed": false,
    "pycharm": {
     "name": "#%%\n"
    }
   }
  },
  {
   "cell_type": "code",
   "execution_count": 10,
   "outputs": [
    {
     "data": {
      "text/plain": "<Figure size 640x480 with 1 Axes>",
      "image/png": "[encoded data removed]"
     },
     "metadata": {},
     "output_type": "display_data"
    }
   ],
   "source": [
    "ax = pd.Series([x[1] for x in chi]).plot(xticks=pd.Series([x[0] for x in chi]).index, rot=80)\n",
    "_ = ax.set_xticklabels(pd.Series([x[0] for x in chi]))"
   ],
   "metadata": {
    "collapsed": false,
    "pycharm": {
     "name": "#%%\n"
    }
   }
  },
  {
   "cell_type": "code",
   "execution_count": 11,
   "outputs": [
    {
     "name": "stdout",
     "output_type": "stream",
     "text": [
      "Chi-squared statistic: 12394.391907033289\n",
      "P-value: 0.0\n",
      "Degrees of freedom: 11\n"
     ]
    }
   ],
   "source": [
    "# Is the number of defenders in the triangle between the shooter and the goal significant to the likelihood of scoring?\n",
    "contingency_table = pd.crosstab(X['defenders_triangle'], y2)\n",
    "chi2, p, dof, _ = chi2_contingency(contingency_table)\n",
    "\n",
    "# Output results\n",
    "print(\"Chi-squared statistic:\", chi2)\n",
    "print(\"P-value:\", p)\n",
    "print(\"Degrees of freedom:\", dof)"
   ],
   "metadata": {
    "collapsed": false,
    "pycharm": {
     "name": "#%%\n"
    }
   }
  },
  {
   "cell_type": "code",
   "execution_count": 12,
   "outputs": [
    {
     "name": "stdout",
     "output_type": "stream",
     "text": [
      "Chi-squared statistic: 1316.0918248651974\n",
      "P-value: 3.5996393756108e-288\n",
      "Degrees of freedom: 1\n"
     ]
    }
   ],
   "source": [
    "# Is the shooter being on their favoured side significant to the likelihood of scoring?\n",
    "contingency_table = pd.crosstab(X['good_foot'], y2)\n",
    "chi2, p, dof, _ = chi2_contingency(contingency_table)\n",
    "\n",
    "# Output results\n",
    "print(\"Chi-squared statistic:\", chi2)\n",
    "print(\"P-value:\", p)\n",
    "print(\"Degrees of freedom:\", dof)"
   ],
   "metadata": {
    "collapsed": false,
    "pycharm": {
     "name": "#%%\n"
    }
   }
  },
  {
   "cell_type": "code",
   "execution_count": 13,
   "outputs": [
    {
     "name": "stdout",
     "output_type": "stream",
     "text": [
      "Chi-squared statistic: 3879.8220679052065\n",
      "P-value: 0.0\n",
      "Degrees of freedom: 2\n"
     ]
    }
   ],
   "source": [
    "# Is the shooter being on their favoured side significant to the likelihood of scoring?\n",
    "contingency_table = pd.crosstab(X['was_leading'], y2)\n",
    "chi2, p, dof, _ = chi2_contingency(contingency_table)\n",
    "\n",
    "# Output results\n",
    "print(\"Chi-squared statistic:\", chi2)\n",
    "print(\"P-value:\", p)\n",
    "print(\"Degrees of freedom:\", dof)"
   ],
   "metadata": {
    "collapsed": false,
    "pycharm": {
     "name": "#%%\n"
    }
   }
  },
  {
   "cell_type": "code",
   "execution_count": 14,
   "outputs": [
    {
     "name": "stdout",
     "output_type": "stream",
     "text": [
      "Intercept: 0.20885919360308616\n",
      "Coefficients: [-0.00687305]\n"
     ]
    }
   ],
   "source": [
    "model = LinearRegression()\n",
    "model.fit(pd.DataFrame(X_copy['distance_to_goalie']), y1)\n",
    "\n",
    "# Print coefficients\n",
    "print(\"Intercept:\", model.intercept_)\n",
    "print(\"Coefficients:\", model.coef_)"
   ],
   "metadata": {
    "collapsed": false,
    "pycharm": {
     "name": "#%%\n"
    }
   }
  },
  {
   "cell_type": "code",
   "execution_count": 15,
   "outputs": [
    {
     "ename": "ValueError",
     "evalue": "endog has evaluated to an array with multiple columns that has shape (82713, 2). This occurs when the variable converted to endog is non-numeric (e.g., bool or str).",
     "output_type": "error",
     "traceback": [
      "\u001B[1;31m---------------------------------------------------------------------------\u001B[0m",
      "\u001B[1;31mValueError\u001B[0m                                Traceback (most recent call last)",
      "Cell \u001B[1;32mIn[15], line 1\u001B[0m\n\u001B[1;32m----> 1\u001B[0m results1 \u001B[38;5;241m=\u001B[39m \u001B[43msmf\u001B[49m\u001B[38;5;241;43m.\u001B[39;49m\u001B[43mols\u001B[49m\u001B[43m(\u001B[49m\u001B[38;5;124;43m'\u001B[39;49m\u001B[38;5;124;43mis_goal ~ location_x + location_y + goalkeeper_x + goalkeeper_y\u001B[39;49m\u001B[38;5;124;43m'\u001B[39;49m\u001B[43m,\u001B[49m\u001B[43m \u001B[49m\u001B[43mdata\u001B[49m\u001B[38;5;241;43m=\u001B[39;49m\u001B[43mdata\u001B[49m\u001B[43m)\u001B[49m\u001B[38;5;241m.\u001B[39mfit()\n\u001B[0;32m      2\u001B[0m results2 \u001B[38;5;241m=\u001B[39m smf\u001B[38;5;241m.\u001B[39mols(\u001B[38;5;124m'\u001B[39m\u001B[38;5;124mis_goal ~ distance_to_goalie + best_distance + location_x_distance\u001B[39m\u001B[38;5;124m'\u001B[39m, data\u001B[38;5;241m=\u001B[39mdata)\u001B[38;5;241m.\u001B[39mfit()\n\u001B[0;32m      3\u001B[0m results3 \u001B[38;5;241m=\u001B[39m smf\u001B[38;5;241m.\u001B[39mols(\u001B[38;5;124m'\u001B[39m\u001B[38;5;124mis_goal ~ defenders_triangle + defenders_3m_radius\u001B[39m\u001B[38;5;124m'\u001B[39m, data\u001B[38;5;241m=\u001B[39mdata)\u001B[38;5;241m.\u001B[39mfit()\n",
      "File \u001B[1;32m~\\AppData\\Roaming\\Python\\Python310\\site-packages\\statsmodels\\base\\model.py:209\u001B[0m, in \u001B[0;36mModel.from_formula\u001B[1;34m(cls, formula, data, subset, drop_cols, *args, **kwargs)\u001B[0m\n\u001B[0;32m    206\u001B[0m max_endog \u001B[38;5;241m=\u001B[39m \u001B[38;5;28mcls\u001B[39m\u001B[38;5;241m.\u001B[39m_formula_max_endog\n\u001B[0;32m    207\u001B[0m \u001B[38;5;28;01mif\u001B[39;00m (max_endog \u001B[38;5;129;01mis\u001B[39;00m \u001B[38;5;129;01mnot\u001B[39;00m \u001B[38;5;28;01mNone\u001B[39;00m \u001B[38;5;129;01mand\u001B[39;00m\n\u001B[0;32m    208\u001B[0m         endog\u001B[38;5;241m.\u001B[39mndim \u001B[38;5;241m>\u001B[39m \u001B[38;5;241m1\u001B[39m \u001B[38;5;129;01mand\u001B[39;00m endog\u001B[38;5;241m.\u001B[39mshape[\u001B[38;5;241m1\u001B[39m] \u001B[38;5;241m>\u001B[39m max_endog):\n\u001B[1;32m--> 209\u001B[0m     \u001B[38;5;28;01mraise\u001B[39;00m \u001B[38;5;167;01mValueError\u001B[39;00m(\u001B[38;5;124m'\u001B[39m\u001B[38;5;124mendog has evaluated to an array with multiple \u001B[39m\u001B[38;5;124m'\u001B[39m\n\u001B[0;32m    210\u001B[0m                      \u001B[38;5;124m'\u001B[39m\u001B[38;5;124mcolumns that has shape \u001B[39m\u001B[38;5;132;01m{0}\u001B[39;00m\u001B[38;5;124m. This occurs when \u001B[39m\u001B[38;5;124m'\u001B[39m\n\u001B[0;32m    211\u001B[0m                      \u001B[38;5;124m'\u001B[39m\u001B[38;5;124mthe variable converted to endog is non-numeric\u001B[39m\u001B[38;5;124m'\u001B[39m\n\u001B[0;32m    212\u001B[0m                      \u001B[38;5;124m'\u001B[39m\u001B[38;5;124m (e.g., bool or str).\u001B[39m\u001B[38;5;124m'\u001B[39m\u001B[38;5;241m.\u001B[39mformat(endog\u001B[38;5;241m.\u001B[39mshape))\n\u001B[0;32m    213\u001B[0m \u001B[38;5;28;01mif\u001B[39;00m drop_cols \u001B[38;5;129;01mis\u001B[39;00m \u001B[38;5;129;01mnot\u001B[39;00m \u001B[38;5;28;01mNone\u001B[39;00m \u001B[38;5;129;01mand\u001B[39;00m \u001B[38;5;28mlen\u001B[39m(drop_cols) \u001B[38;5;241m>\u001B[39m \u001B[38;5;241m0\u001B[39m:\n\u001B[0;32m    214\u001B[0m     cols \u001B[38;5;241m=\u001B[39m [x \u001B[38;5;28;01mfor\u001B[39;00m x \u001B[38;5;129;01min\u001B[39;00m exog\u001B[38;5;241m.\u001B[39mcolumns \u001B[38;5;28;01mif\u001B[39;00m x \u001B[38;5;129;01mnot\u001B[39;00m \u001B[38;5;129;01min\u001B[39;00m drop_cols]\n",
      "\u001B[1;31mValueError\u001B[0m: endog has evaluated to an array with multiple columns that has shape (82713, 2). This occurs when the variable converted to endog is non-numeric (e.g., bool or str)."
     ]
    }
   ],
   "source": [
    "results1 = smf.ols('is_goal ~ location_x + location_y + goalkeeper_x + goalkeeper_y', data=data).fit()\n",
    "results2 = smf.ols('is_goal ~ distance_to_goalie + best_distance + location_x_distance', data=data).fit()\n",
    "results3 = smf.ols('is_goal ~ defenders_triangle + defenders_3m_radius', data=data).fit()\n",
    "results4 = smf.ols('is_goal ~ shooting_range + best_distance', data=data).fit()\n",
    "results5 = smf.ols('is_goal ~ location_y_distance + good_foot', data=data).fit()\n",
    "results6 = smf.ols('is_goal ~ distance_to_goalie + best_distance + defenders_triangle + shooting_range + is_header + under_pressure + play_pattern + technique', data=data).fit()"
   ],
   "metadata": {
    "collapsed": false,
    "pycharm": {
     "name": "#%%\n"
    }
   }
  },
  {
   "cell_type": "code",
   "execution_count": null,
   "outputs": [],
   "source": [
    "stargazer_tab = Stargazer([results1, results2, results3, results4, results5, results6])\n",
    "stargazer_tab"
   ],
   "metadata": {
    "collapsed": false,
    "pycharm": {
     "name": "#%%\n"
    }
   }
  },
  {
   "cell_type": "code",
   "execution_count": null,
   "outputs": [],
   "source": [
    "results1 = smf.ols('location_x_distance ~ was_leading', data=data).fit()\n",
    "results2 = smf.ols('best_distance ~ was_leading', data=data).fit()\n",
    "results3 = smf.ols('location_x_distance ~ minute', data=data).fit()\n",
    "results4 = smf.ols('best_distance ~ minute', data=data).fit()"
   ],
   "metadata": {
    "collapsed": false,
    "pycharm": {
     "name": "#%%\n"
    }
   }
  },
  {
   "cell_type": "code",
   "execution_count": null,
   "outputs": [],
   "source": [
    "stargazer_tab = Stargazer([results1, results2, results3, results4])\n",
    "stargazer_tab"
   ],
   "metadata": {
    "collapsed": false,
    "pycharm": {
     "name": "#%%\n"
    }
   }
  },
  {
   "cell_type": "code",
   "execution_count": null,
   "outputs": [],
   "source": [
    "results1 = smf.ols('location_y_distance ~ was_leading', data=data).fit()\n",
    "results2 = smf.ols('location_y_distance ~ minute', data=data).fit()"
   ],
   "metadata": {
    "collapsed": false,
    "pycharm": {
     "name": "#%%\n"
    }
   }
  },
  {
   "cell_type": "code",
   "execution_count": null,
   "outputs": [],
   "source": [
    "stargazer_tab = Stargazer([results1, results2])\n",
    "stargazer_tab"
   ],
   "metadata": {
    "collapsed": false,
    "pycharm": {
     "name": "#%%\n"
    }
   }
  },
  {
   "cell_type": "code",
   "execution_count": null,
   "outputs": [],
   "source": [],
   "metadata": {
    "collapsed": false,
    "pycharm": {
     "name": "#%%\n"
    }
   }
  }
 ],
 "metadata": {
  "kernelspec": {
   "display_name": "Python 3",
   "language": "python",
   "name": "python3"
  },
  "language_info": {
   "codemirror_mode": {
    "name": "ipython",
    "version": 2
   },
   "file_extension": ".py",
   "mimetype": "text/x-python",
   "name": "python",
   "nbconvert_exporter": "python",
   "pygments_lexer": "ipython2",
   "version": "2.7.6"
  }
 },
 "nbformat": 4,
 "nbformat_minor": 0
}