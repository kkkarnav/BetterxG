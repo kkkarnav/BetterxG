{
 "cells": [
  {
   "cell_type": "code",
   "execution_count": 102,
   "metadata": {
    "collapsed": true
   },
   "outputs": [],
   "source": [
    "import pandas as pd\n",
    "import numpy as np\n",
    "import matplotlib.pyplot as plt\n",
    "import math\n",
    "\n",
    "from sklearn.feature_selection import mutual_info_classif\n",
    "from sklearn.linear_model import LinearRegression, LogisticRegression\n",
    "from imblearn.over_sampling import SMOTE\n",
    "\n",
    "from scipy.stats import chi2_contingency\n",
    "import statsmodels.formula.api as smf\n",
    "from stargazer.stargazer import Stargazer\n",
    "\n",
    "from tqdm import tqdm\n",
    "import warnings\n",
    "from pprint import pprint"
   ]
  },
  {
   "cell_type": "code",
   "execution_count": 103,
   "outputs": [],
   "source": [
    "data = pd.read_csv(\"./data/augmented_data.csv\")"
   ],
   "metadata": {
    "collapsed": false,
    "pycharm": {
     "name": "#%%\n"
    }
   }
  },
  {
   "cell_type": "code",
   "execution_count": 104,
   "outputs": [
    {
     "data": {
      "text/plain": "period                     5\nminute                   139\npossession               290\nduration               77925\nseason_id                 41\nmatch_id                3312\ntimestamp              82726\nteam                     288\nplay_pattern               9\nposition                  25\nlocation_x               635\nlocation_x_distance      635\nlocation_y               701\nlocation_y_distance      471\ntechnique                  7\nbody_part                  4\ntype                       5\nis_penalty                 2\nfirst_time                 2\nopen_goal                  2\none_on_one                 2\naerial_won                 2\nfollows_dribble            2\nunder_pressure             2\npass_duration          11897\npass_angle             10504\npass_type                  8\npass_height                4\npass_length             9918\nnum_passes                13\ndefenders_3m_radius       10\ndefenders_triangle        13\nshooting_range         43794\nbest_distance          30176\ngoalkeeper_x             258\ngoalkeeper_y             355\ndistance_to_goalie     45505\nstatsbomb_xg           82417\nend_location_x           375\nend_location_y           704\nis_goal                    2\nshot_angle             52863\ngood_foot                  2\nshots_so_far              46\nxg_so_far              77168\ngame_state                23\nwas_leading                3\ndtype: int64"
     },
     "execution_count": 104,
     "metadata": {},
     "output_type": "execute_result"
    }
   ],
   "source": [
    "data.nunique()"
   ],
   "metadata": {
    "collapsed": false,
    "pycharm": {
     "name": "#%%\n"
    }
   }
  },
  {
   "cell_type": "code",
   "execution_count": 105,
   "outputs": [
    {
     "data": {
      "text/plain": "distance_to_goalie     0.059008\nshooting_range         0.052146\nbest_distance          0.050183\ndefenders_triangle     0.038475\nlocation_x_distance    0.035254\ngoalkeeper_x           0.027204\ndefenders_3m_radius    0.023645\nduration               0.021763\nlocation_y_distance    0.021484\ngoalkeeper_y           0.020907\nis_penalty             0.016054\nshot_angle             0.013746\nopen_goal              0.011004\npass_length            0.009711\npass_duration          0.009310\nperiod                 0.008618\nnum_passes             0.007360\ngood_foot              0.005918\nfirst_time             0.005091\nminute                 0.004762\none_on_one             0.004472\npass_angle             0.003400\nunder_pressure         0.003361\nwas_leading            0.003215\naerial_won             0.001856\ngame_state             0.001588\npossession             0.001563\nxg_so_far              0.001536\nfollows_dribble        0.000000\nshots_so_far           0.000000\ndtype: float64"
     },
     "execution_count": 105,
     "metadata": {},
     "output_type": "execute_result"
    }
   ],
   "source": [
    "# Use mutual_info classification to check which features yield the most information about the target variable\n",
    "data_copy = data.copy()\n",
    "X_copy = data_copy.drop([\"statsbomb_xg\", \"is_goal\", \"end_location_x\", \"end_location_y\", \"location_x\", \"location_y\", \"play_pattern\", \"technique\", \"position\", \"body_part\", \"type\", \"pass_type\", \"pass_height\", \"season_id\", \"match_id\", \"timestamp\", \"team\"], axis=1)\n",
    "mutual_info = mutual_info_classif(X_copy, data[\"is_goal\"])\n",
    "mutual_info = pd.Series(mutual_info)\n",
    "mutual_info.index = X_copy.columns\n",
    "mutual_info.sort_values(ascending=False)"
   ],
   "metadata": {
    "collapsed": false,
    "pycharm": {
     "name": "#%%\n"
    }
   }
  },
  {
   "cell_type": "code",
   "execution_count": 106,
   "outputs": [],
   "source": [
    "data = data.dropna()\n",
    "data.replace([np.inf, -np.inf], 0, inplace=True)"
   ],
   "metadata": {
    "collapsed": false,
    "pycharm": {
     "name": "#%%\n"
    }
   }
  },
  {
   "cell_type": "code",
   "execution_count": 107,
   "outputs": [
    {
     "data": {
      "text/plain": "period                     5\nminute                   139\npossession               290\nduration               77925\nseason_id                 41\nmatch_id                3312\ntimestamp              82726\nteam                     288\nplay_pattern               9\nposition                  25\nlocation_x               635\nlocation_x_distance      635\nlocation_y               701\nlocation_y_distance      471\ntechnique                  7\nbody_part                  4\ntype                       5\nis_penalty                 2\nfirst_time                 2\nopen_goal                  2\none_on_one                 2\naerial_won                 2\nfollows_dribble            2\nunder_pressure             2\npass_duration          11897\npass_angle             10504\npass_type                  8\npass_height                4\npass_length             9918\nnum_passes                13\ndefenders_3m_radius       10\ndefenders_triangle        13\nshooting_range         43794\nbest_distance          30176\ngoalkeeper_x             258\ngoalkeeper_y             355\ndistance_to_goalie     45505\nstatsbomb_xg           82417\nend_location_x           375\nend_location_y           704\nis_goal                    2\nshot_angle             52863\ngood_foot                  2\nshots_so_far              46\nxg_so_far              77168\ngame_state                23\nwas_leading                3\ndtype: int64"
     },
     "execution_count": 107,
     "metadata": {},
     "output_type": "execute_result"
    }
   ],
   "source": [
    "data.nunique()"
   ],
   "metadata": {
    "collapsed": false,
    "pycharm": {
     "name": "#%%\n"
    }
   }
  },
  {
   "cell_type": "code",
   "execution_count": 108,
   "outputs": [],
   "source": [
    "X = data.drop([\"statsbomb_xg\", \"is_goal\", \"end_location_x\", \"end_location_y\", \"location_x\", \"location_y\", \"play_pattern\", \"technique\", \"position\", \"body_part\", \"type\", \"pass_type\", \"pass_height\", \"season_id\", \"match_id\", \"timestamp\", \"team\"], axis=1)\n",
    "y1 = data[\"statsbomb_xg\"]\n",
    "y2 = data[\"is_goal\"]"
   ],
   "metadata": {
    "collapsed": false,
    "pycharm": {
     "name": "#%%\n"
    }
   }
  },
  {
   "cell_type": "code",
   "execution_count": 109,
   "outputs": [],
   "source": [
    "X, y2 = SMOTE(sampling_strategy=0.36).fit_resample(X, y2)"
   ],
   "metadata": {
    "collapsed": false,
    "pycharm": {
     "name": "#%%\n"
    }
   }
  },
  {
   "cell_type": "code",
   "execution_count": 110,
   "outputs": [],
   "source": [
    "chi = []\n",
    "for column in [\"is_penalty\", \"first_time\", \"open_goal\", \"one_on_one\", \"under_pressure\", \"defenders_3m_radius\", \"defenders_triangle\", \"good_foot\"]:\n",
    "    contingency_table = pd.crosstab(X[column], y2)\n",
    "    chi2, p, dof, _ = chi2_contingency(contingency_table)\n",
    "    chi.append((column, chi2, p, dof))"
   ],
   "metadata": {
    "collapsed": false,
    "pycharm": {
     "name": "#%%\n"
    }
   }
  },
  {
   "cell_type": "code",
   "execution_count": 111,
   "outputs": [
    {
     "data": {
      "text/plain": "<Figure size 640x480 with 1 Axes>",
      "image/png": "[encoded data removed]"
     },
     "metadata": {},
     "output_type": "display_data"
    }
   ],
   "source": [
    "ax = pd.Series([x[1] for x in chi]).plot(xticks=pd.Series([x[0] for x in chi]).index, rot=80)\n",
    "_ = ax.set_xticklabels(pd.Series([x[0] for x in chi]))"
   ],
   "metadata": {
    "collapsed": false,
    "pycharm": {
     "name": "#%%\n"
    }
   }
  },
  {
   "cell_type": "code",
   "execution_count": 112,
   "outputs": [
    {
     "name": "stdout",
     "output_type": "stream",
     "text": [
      "Chi-squared statistic: 17649.92127704103\n",
      "P-value: 0.0\n",
      "Degrees of freedom: 12\n"
     ]
    }
   ],
   "source": [
    "# Is the number of defenders in the triangle between the shooter and the goal significant to the likelihood of scoring?\n",
    "contingency_table = pd.crosstab(X['defenders_triangle'], y2)\n",
    "chi2, p, dof, _ = chi2_contingency(contingency_table)\n",
    "\n",
    "# Output results\n",
    "print(\"Chi-squared statistic:\", chi2)\n",
    "print(\"P-value:\", p)\n",
    "print(\"Degrees of freedom:\", dof)"
   ],
   "metadata": {
    "collapsed": false,
    "pycharm": {
     "name": "#%%\n"
    }
   }
  },
  {
   "cell_type": "code",
   "execution_count": 113,
   "outputs": [
    {
     "name": "stdout",
     "output_type": "stream",
     "text": [
      "Chi-squared statistic: 1874.4491425939414\n",
      "P-value: 0.0\n",
      "Degrees of freedom: 1\n"
     ]
    }
   ],
   "source": [
    "# Is the shooter being on their favoured side significant to the likelihood of scoring?\n",
    "contingency_table = pd.crosstab(X['good_foot'], y2)\n",
    "chi2, p, dof, _ = chi2_contingency(contingency_table)\n",
    "\n",
    "# Output results\n",
    "print(\"Chi-squared statistic:\", chi2)\n",
    "print(\"P-value:\", p)\n",
    "print(\"Degrees of freedom:\", dof)"
   ],
   "metadata": {
    "collapsed": false,
    "pycharm": {
     "name": "#%%\n"
    }
   }
  },
  {
   "cell_type": "code",
   "execution_count": 114,
   "outputs": [
    {
     "name": "stdout",
     "output_type": "stream",
     "text": [
      "Chi-squared statistic: 3377.091787585823\n",
      "P-value: 0.0\n",
      "Degrees of freedom: 2\n"
     ]
    }
   ],
   "source": [
    "# Is the shooter being on their favoured side significant to the likelihood of scoring?\n",
    "contingency_table = pd.crosstab(X['was_leading'], y2)\n",
    "chi2, p, dof, _ = chi2_contingency(contingency_table)\n",
    "\n",
    "# Output results\n",
    "print(\"Chi-squared statistic:\", chi2)\n",
    "print(\"P-value:\", p)\n",
    "print(\"Degrees of freedom:\", dof)"
   ],
   "metadata": {
    "collapsed": false,
    "pycharm": {
     "name": "#%%\n"
    }
   }
  },
  {
   "cell_type": "code",
   "execution_count": 115,
   "outputs": [
    {
     "name": "stdout",
     "output_type": "stream",
     "text": [
      "Intercept: 0.08661084496116633\n",
      "Coefficients: [0.00110205]\n"
     ]
    }
   ],
   "source": [
    "model = LinearRegression()\n",
    "model.fit(pd.DataFrame(X_copy['distance_to_goalie']), y1)\n",
    "\n",
    "# Print coefficients\n",
    "print(\"Intercept:\", model.intercept_)\n",
    "print(\"Coefficients:\", model.coef_)"
   ],
   "metadata": {
    "collapsed": false,
    "pycharm": {
     "name": "#%%\n"
    }
   }
  },
  {
   "cell_type": "code",
   "execution_count": 147,
   "outputs": [],
   "source": [
    "results1 = smf.ols('statsbomb_xg ~ distance_to_goalie + best_distance + location_x_distance', data=data).fit()\n",
    "results2 = smf.ols('statsbomb_xg ~ shooting_range + best_distance', data=data).fit()\n",
    "results3 = smf.ols('statsbomb_xg ~ defenders_triangle + defenders_3m_radius', data=data).fit()\n",
    "results4 = smf.ols('statsbomb_xg ~ location_y_distance + good_foot', data=data).fit()\n",
    "results5 = smf.ols('statsbomb_xg ~ location_x + location_y + goalkeeper_x + goalkeeper_y', data=data).fit()\n",
    "results6 = smf.ols('statsbomb_xg ~ distance_to_goalie + best_distance + defenders_triangle + under_pressure + shooting_range', data=data).fit()"
   ],
   "metadata": {
    "collapsed": false,
    "pycharm": {
     "name": "#%%\n"
    }
   }
  },
  {
   "cell_type": "code",
   "execution_count": 148,
   "outputs": [
    {
     "data": {
      "text/plain": "<stargazer.stargazer.Stargazer at 0x22b81031c00>",
      "text/html": "<table style=\"text-align:center\"><tr><td colspan=\"7\" style=\"border-bottom: 1px solid black\"></td></tr>\n<tr><td style=\"text-align:left\"></td><td colspan=\"6\"><em>Dependent variable: statsbomb_xg</em></td></tr><tr><td style=\"text-align:left\"></td><tr><td style=\"text-align:left\"></td><td>(1)</td><td>(2)</td><td>(3)</td><td>(4)</td><td>(5)</td><td>(6)</td></tr>\n<tr><td colspan=\"7\" style=\"border-bottom: 1px solid black\"></td></tr>\n\n<tr><td style=\"text-align:left\">Intercept</td><td>0.252<sup>***</sup></td><td>0.010<sup>***</sup></td><td>0.212<sup>***</sup></td><td>0.182<sup>***</sup></td><td>0.044<sup>***</sup></td><td>0.058<sup>***</sup></td></tr>\n<tr><td style=\"text-align:left\"></td><td>(0.001)</td><td>(0.002)</td><td>(0.001)</td><td>(0.001)</td><td>(0.006)</td><td>(0.002)</td></tr>\n<tr><td style=\"text-align:left\">best_distance</td><td>-0.025<sup>***</sup></td><td>-0.002<sup>***</sup></td><td></td><td></td><td></td><td>-0.005<sup>***</sup></td></tr>\n<tr><td style=\"text-align:left\"></td><td>(0.000)</td><td>(0.000)</td><td></td><td></td><td></td><td>(0.000)</td></tr>\n<tr><td style=\"text-align:left\">defenders_3m_radius</td><td></td><td></td><td>-0.012<sup>***</sup></td><td></td><td></td><td></td></tr>\n<tr><td style=\"text-align:left\"></td><td></td><td></td><td>(0.001)</td><td></td><td></td><td></td></tr>\n<tr><td style=\"text-align:left\">defenders_triangle</td><td></td><td></td><td>-0.056<sup>***</sup></td><td></td><td></td><td>-0.031<sup>***</sup></td></tr>\n<tr><td style=\"text-align:left\"></td><td></td><td></td><td>(0.000)</td><td></td><td></td><td>(0.000)</td></tr>\n<tr><td style=\"text-align:left\">distance_to_goalie</td><td>0.005<sup>***</sup></td><td></td><td></td><td></td><td></td><td>0.004<sup>***</sup></td></tr>\n<tr><td style=\"text-align:left\"></td><td>(0.000)</td><td></td><td></td><td></td><td></td><td>(0.000)</td></tr>\n<tr><td style=\"text-align:left\">goalkeeper_x</td><td></td><td></td><td></td><td></td><td>-0.007<sup>***</sup></td><td></td></tr>\n<tr><td style=\"text-align:left\"></td><td></td><td></td><td></td><td></td><td>(0.000)</td><td></td></tr>\n<tr><td style=\"text-align:left\">goalkeeper_y</td><td></td><td></td><td></td><td></td><td>0.005<sup>***</sup></td><td></td></tr>\n<tr><td style=\"text-align:left\"></td><td></td><td></td><td></td><td></td><td>(0.000)</td><td></td></tr>\n<tr><td style=\"text-align:left\">good_foot[T.True]</td><td></td><td></td><td></td><td>0.009<sup>***</sup></td><td></td><td></td></tr>\n<tr><td style=\"text-align:left\"></td><td></td><td></td><td></td><td>(0.001)</td><td></td><td></td></tr>\n<tr><td style=\"text-align:left\">location_x</td><td></td><td></td><td></td><td></td><td>0.007<sup>***</sup></td><td></td></tr>\n<tr><td style=\"text-align:left\"></td><td></td><td></td><td></td><td></td><td>(0.000)</td><td></td></tr>\n<tr><td style=\"text-align:left\">location_x_distance</td><td>0.012<sup>***</sup></td><td></td><td></td><td></td><td></td><td></td></tr>\n<tr><td style=\"text-align:left\"></td><td>(0.000)</td><td></td><td></td><td></td><td></td><td></td></tr>\n<tr><td style=\"text-align:left\">location_y</td><td></td><td></td><td></td><td></td><td>-0.001<sup>***</sup></td><td></td></tr>\n<tr><td style=\"text-align:left\"></td><td></td><td></td><td></td><td></td><td>(0.000)</td><td></td></tr>\n<tr><td style=\"text-align:left\">location_y_distance</td><td></td><td></td><td></td><td>-0.010<sup>***</sup></td><td></td><td></td></tr>\n<tr><td style=\"text-align:left\"></td><td></td><td></td><td></td><td>(0.000)</td><td></td><td></td></tr>\n<tr><td style=\"text-align:left\">shooting_range</td><td></td><td>0.005<sup>***</sup></td><td></td><td></td><td></td><td>0.005<sup>***</sup></td></tr>\n<tr><td style=\"text-align:left\"></td><td></td><td>(0.000)</td><td></td><td></td><td></td><td>(0.000)</td></tr>\n<tr><td style=\"text-align:left\">under_pressure[T.True]</td><td></td><td></td><td></td><td></td><td></td><td>-0.050<sup>***</sup></td></tr>\n<tr><td style=\"text-align:left\"></td><td></td><td></td><td></td><td></td><td></td><td>(0.001)</td></tr>\n\n<td colspan=\"7\" style=\"border-bottom: 1px solid black\"></td></tr>\n<tr><td style=\"text-align: left\">Observations</td><td>83929</td><td>83929</td><td>83929</td><td>83929</td><td>83929</td><td>83929</td></tr><tr><td style=\"text-align: left\">R<sup>2</sup></td><td>0.458</td><td>0.393</td><td>0.168</td><td>0.149</td><td>0.449</td><td>0.627</td></tr><tr><td style=\"text-align: left\">Adjusted R<sup>2</sup></td><td>0.458</td><td>0.393</td><td>0.168</td><td>0.149</td><td>0.449</td><td>0.627</td></tr><tr><td style=\"text-align: left\">Residual Std. Error</td><td>0.110 (df=83925)</td><td>0.116 (df=83926)</td><td>0.136 (df=83926)</td><td>0.137 (df=83926)</td><td>0.110 (df=83924)</td><td>0.091 (df=83923)</td></tr><tr><td style=\"text-align: left\">F Statistic</td><td>23683.454<sup>***</sup> (df=3; 83925)</td><td>27115.501<sup>***</sup> (df=2; 83926)</td><td>8478.004<sup>***</sup> (df=2; 83926)</td><td>7321.216<sup>***</sup> (df=2; 83926)</td><td>17114.343<sup>***</sup> (df=4; 83924)</td><td>28168.719<sup>***</sup> (df=5; 83923)</td></tr>\n<tr><td colspan=\"7\" style=\"border-bottom: 1px solid black\"></td></tr><tr><td style=\"text-align: left\">Note:</td><td colspan=\"6\" style=\"text-align: right\"><sup>*</sup>p&lt;0.1; <sup>**</sup>p&lt;0.05; <sup>***</sup>p&lt;0.01</td></tr></table>"
     },
     "execution_count": 148,
     "metadata": {},
     "output_type": "execute_result"
    }
   ],
   "source": [
    "stargazer_tab = Stargazer([results1, results2, results3, results4, results5, results6])\n",
    "stargazer_tab"
   ],
   "metadata": {
    "collapsed": false,
    "pycharm": {
     "name": "#%%\n"
    }
   }
  },
  {
   "cell_type": "code",
   "execution_count": 142,
   "outputs": [],
   "source": [
    "results1 = smf.ols('location_x_distance ~ was_leading', data=data).fit()\n",
    "results2 = smf.ols('best_distance ~ was_leading', data=data).fit()"
   ],
   "metadata": {
    "collapsed": false,
    "pycharm": {
     "name": "#%%\n"
    }
   }
  },
  {
   "cell_type": "code",
   "execution_count": 143,
   "outputs": [
    {
     "data": {
      "text/plain": "<stargazer.stargazer.Stargazer at 0x22b81002230>",
      "text/html": "<table style=\"text-align:center\"><tr><td colspan=\"3\" style=\"border-bottom: 1px solid black\"></td></tr>\n<tr><td style=\"text-align:left\"></td><tr><td style=\"text-align:left\"></td><td>(1)</td><td>(2)</td></tr>\n<tr><td colspan=\"3\" style=\"border-bottom: 1px solid black\"></td></tr>\n\n<tr><td style=\"text-align:left\">Intercept</td><td>16.446<sup>***</sup></td><td>17.829<sup>***</sup></td></tr>\n<tr><td style=\"text-align:left\"></td><td>(0.030)</td><td>(0.030)</td></tr>\n<tr><td style=\"text-align:left\">was_leading</td><td>-0.379<sup>***</sup></td><td>-0.375<sup>***</sup></td></tr>\n<tr><td style=\"text-align:left\"></td><td>(0.041)</td><td>(0.041)</td></tr>\n\n<td colspan=\"3\" style=\"border-bottom: 1px solid black\"></td></tr>\n<tr><td style=\"text-align: left\">Observations</td><td>83929</td><td>83929</td></tr><tr><td style=\"text-align: left\">R<sup>2</sup></td><td>0.001</td><td>0.001</td></tr><tr><td style=\"text-align: left\">Adjusted R<sup>2</sup></td><td>0.001</td><td>0.001</td></tr><tr><td style=\"text-align: left\">Residual Std. Error</td><td>8.791 (df=83927)</td><td>8.828 (df=83927)</td></tr><tr><td style=\"text-align: left\">F Statistic</td><td>85.448<sup>***</sup> (df=1; 83927)</td><td>82.766<sup>***</sup> (df=1; 83927)</td></tr>\n<tr><td colspan=\"3\" style=\"border-bottom: 1px solid black\"></td></tr><tr><td style=\"text-align: left\">Note:</td><td colspan=\"2\" style=\"text-align: right\"><sup>*</sup>p&lt;0.1; <sup>**</sup>p&lt;0.05; <sup>***</sup>p&lt;0.01</td></tr></table>"
     },
     "execution_count": 143,
     "metadata": {},
     "output_type": "execute_result"
    }
   ],
   "source": [
    "stargazer_tab = Stargazer([results1, results2])\n",
    "stargazer_tab"
   ],
   "metadata": {
    "collapsed": false,
    "pycharm": {
     "name": "#%%\n"
    }
   }
  },
  {
   "cell_type": "code",
   "execution_count": null,
   "outputs": [],
   "source": [],
   "metadata": {
    "collapsed": false,
    "pycharm": {
     "name": "#%%\n"
    }
   }
  }
 ],
 "metadata": {
  "kernelspec": {
   "display_name": "Python 3",
   "language": "python",
   "name": "python3"
  },
  "language_info": {
   "codemirror_mode": {
    "name": "ipython",
    "version": 2
   },
   "file_extension": ".py",
   "mimetype": "text/x-python",
   "name": "python",
   "nbconvert_exporter": "python",
   "pygments_lexer": "ipython2",
   "version": "2.7.6"
  }
 },
 "nbformat": 4,
 "nbformat_minor": 0
}