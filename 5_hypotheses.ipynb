{
 "cells": [
  {
   "cell_type": "code",
   "execution_count": 33,
   "metadata": {
    "collapsed": true
   },
   "outputs": [],
   "source": [
    "import pandas as pd\n",
    "import numpy as np\n",
    "import matplotlib.pyplot as plt\n",
    "import math\n",
    "\n",
    "from sklearn.model_selection import train_test_split, GridSearchCV\n",
    "from sklearn.feature_selection import mutual_info_classif\n",
    "from sklearn.preprocessing import StandardScaler\n",
    "from imblearn.over_sampling import SMOTE\n",
    "\n",
    "from scipy.stats import chi2_contingency\n",
    "\n",
    "from tqdm import tqdm\n",
    "import warnings\n",
    "from pprint import pprint"
   ]
  },
  {
   "cell_type": "code",
   "execution_count": 34,
   "outputs": [],
   "source": [
    "data = pd.read_csv(\"./data/augmented_data.csv\")"
   ],
   "metadata": {
    "collapsed": false,
    "pycharm": {
     "name": "#%%\n"
    }
   }
  },
  {
   "cell_type": "code",
   "execution_count": 35,
   "outputs": [
    {
     "data": {
      "text/plain": "period                     5\nminute                   139\npossession               290\nduration               78058\nplay_pattern               9\nposition                  25\nlocation_x               635\nlocation_x_distance      635\nlocation_y               702\nlocation_y_distance      472\ntechnique                  7\nbody_part                  4\ntype                       5\nis_penalty                 2\nfirst_time                 2\nopen_goal                  2\none_on_one                 2\naerial_won                 2\nfollows_dribble            2\nunder_pressure             2\npass_duration          11912\npass_angle             10519\npass_type                  8\npass_height                4\npass_length             9930\nnum_passes                13\ndefenders_3m_radius       10\ndefenders_triangle        13\ngoalkeeper_x             258\ngoalkeeper_y             355\ndistance_to_goalie     45564\nstatsbomb_xg           82551\nend_location_x           376\nend_location_y           705\nis_goal                    2\nshot_angle             52936\ngood_foot                  2\ndtype: int64"
     },
     "execution_count": 35,
     "metadata": {},
     "output_type": "execute_result"
    }
   ],
   "source": [
    "data.nunique()"
   ],
   "metadata": {
    "collapsed": false,
    "pycharm": {
     "name": "#%%\n"
    }
   }
  },
  {
   "cell_type": "code",
   "execution_count": 36,
   "outputs": [],
   "source": [
    "# drop redundant features\n",
    "data.drop([\"location_x\", \"location_y\"], axis=1, inplace=True)\n",
    "# drop features that leak target information\n",
    "data.drop([\"shot_angle\", \"duration\"], axis=1, inplace=True)\n",
    "# drop low information features\n",
    "data.drop([\"aerial_won\", \"follows_dribble\", \"possession\", \"minute\", \"period\", \"num_passes\", \"pass_duration\", \"pass_height\", \"pass_type\", \"type\"], axis=1, inplace=True)\n",
    "# \"position\", \"body_part\", \"type\", \"pass_height\", \"pass_type\""
   ],
   "metadata": {
    "collapsed": false,
    "pycharm": {
     "name": "#%%\n"
    }
   }
  },
  {
   "cell_type": "code",
   "execution_count": 37,
   "outputs": [],
   "source": [
    "# one-hot encode the categorical data\n",
    "encoded_data = data\n",
    "for column_name in [\"play_pattern\", \"technique\", \"position\", \"body_part\"]:\n",
    "    one_hot_encoded = pd.get_dummies(encoded_data[column_name], prefix=column_name)\n",
    "    encoded_data = encoded_data.drop(column_name, axis=1)\n",
    "    encoded_data = pd.concat([encoded_data, one_hot_encoded], axis=1)\n",
    "data = encoded_data"
   ],
   "metadata": {
    "collapsed": false,
    "pycharm": {
     "name": "#%%\n"
    }
   }
  },
  {
   "cell_type": "code",
   "execution_count": 38,
   "outputs": [
    {
     "data": {
      "text/plain": "location_x_distance           635\nlocation_y_distance           472\nis_penalty                      2\nfirst_time                      2\nopen_goal                       2\n                             ... \nposition_Secondary Striker      2\nbody_part_Head                  2\nbody_part_Left Foot             2\nbody_part_Other                 2\nbody_part_Right Foot            2\nLength: 64, dtype: int64"
     },
     "execution_count": 38,
     "metadata": {},
     "output_type": "execute_result"
    }
   ],
   "source": [
    "data.nunique()"
   ],
   "metadata": {
    "collapsed": false,
    "pycharm": {
     "name": "#%%\n"
    }
   }
  },
  {
   "cell_type": "code",
   "execution_count": 39,
   "outputs": [],
   "source": [
    "data = data.dropna()\n",
    "data.replace([np.inf, -np.inf], 0, inplace=True)"
   ],
   "metadata": {
    "collapsed": false,
    "pycharm": {
     "name": "#%%\n"
    }
   }
  },
  {
   "cell_type": "code",
   "execution_count": 40,
   "outputs": [],
   "source": [
    "y1 = data[\"statsbomb_xg\"]\n",
    "y2 = data[\"is_goal\"]\n",
    "X = data.drop([\"statsbomb_xg\", \"is_goal\", \"end_location_x\", \"end_location_y\"], axis=1)"
   ],
   "metadata": {
    "collapsed": false,
    "pycharm": {
     "name": "#%%\n"
    }
   }
  },
  {
   "cell_type": "code",
   "execution_count": 41,
   "outputs": [
    {
     "name": "stdout",
     "output_type": "stream",
     "text": [
      "<class 'pandas.core.frame.DataFrame'>\n",
      "RangeIndex: 84065 entries, 0 to 84064\n",
      "Data columns (total 60 columns):\n",
      " #   Column                              Non-Null Count  Dtype  \n",
      "---  ------                              --------------  -----  \n",
      " 0   location_x_distance                 84065 non-null  float64\n",
      " 1   location_y_distance                 84065 non-null  float64\n",
      " 2   is_penalty                          84065 non-null  bool   \n",
      " 3   first_time                          84065 non-null  bool   \n",
      " 4   open_goal                           84065 non-null  bool   \n",
      " 5   one_on_one                          84065 non-null  bool   \n",
      " 6   under_pressure                      84065 non-null  bool   \n",
      " 7   pass_angle                          84065 non-null  float64\n",
      " 8   pass_length                         84065 non-null  float64\n",
      " 9   defenders_3m_radius                 84065 non-null  int64  \n",
      " 10  defenders_triangle                  84065 non-null  int64  \n",
      " 11  goalkeeper_x                        84065 non-null  float64\n",
      " 12  goalkeeper_y                        84065 non-null  float64\n",
      " 13  distance_to_goalie                  84065 non-null  float64\n",
      " 14  good_foot                           84065 non-null  bool   \n",
      " 15  play_pattern_From Corner            84065 non-null  uint8  \n",
      " 16  play_pattern_From Counter           84065 non-null  uint8  \n",
      " 17  play_pattern_From Free Kick         84065 non-null  uint8  \n",
      " 18  play_pattern_From Goal Kick         84065 non-null  uint8  \n",
      " 19  play_pattern_From Keeper            84065 non-null  uint8  \n",
      " 20  play_pattern_From Kick Off          84065 non-null  uint8  \n",
      " 21  play_pattern_From Throw In          84065 non-null  uint8  \n",
      " 22  play_pattern_Other                  84065 non-null  uint8  \n",
      " 23  play_pattern_Regular Play           84065 non-null  uint8  \n",
      " 24  technique_Backheel                  84065 non-null  uint8  \n",
      " 25  technique_Diving Header             84065 non-null  uint8  \n",
      " 26  technique_Half Volley               84065 non-null  uint8  \n",
      " 27  technique_Lob                       84065 non-null  uint8  \n",
      " 28  technique_Normal                    84065 non-null  uint8  \n",
      " 29  technique_Overhead Kick             84065 non-null  uint8  \n",
      " 30  technique_Volley                    84065 non-null  uint8  \n",
      " 31  position_Center Attacking Midfield  84065 non-null  uint8  \n",
      " 32  position_Center Back                84065 non-null  uint8  \n",
      " 33  position_Center Defensive Midfield  84065 non-null  uint8  \n",
      " 34  position_Center Forward             84065 non-null  uint8  \n",
      " 35  position_Center Midfield            84065 non-null  uint8  \n",
      " 36  position_Goalkeeper                 84065 non-null  uint8  \n",
      " 37  position_Left Attacking Midfield    84065 non-null  uint8  \n",
      " 38  position_Left Back                  84065 non-null  uint8  \n",
      " 39  position_Left Center Back           84065 non-null  uint8  \n",
      " 40  position_Left Center Forward        84065 non-null  uint8  \n",
      " 41  position_Left Center Midfield       84065 non-null  uint8  \n",
      " 42  position_Left Defensive Midfield    84065 non-null  uint8  \n",
      " 43  position_Left Midfield              84065 non-null  uint8  \n",
      " 44  position_Left Wing                  84065 non-null  uint8  \n",
      " 45  position_Left Wing Back             84065 non-null  uint8  \n",
      " 46  position_Right Attacking Midfield   84065 non-null  uint8  \n",
      " 47  position_Right Back                 84065 non-null  uint8  \n",
      " 48  position_Right Center Back          84065 non-null  uint8  \n",
      " 49  position_Right Center Forward       84065 non-null  uint8  \n",
      " 50  position_Right Center Midfield      84065 non-null  uint8  \n",
      " 51  position_Right Defensive Midfield   84065 non-null  uint8  \n",
      " 52  position_Right Midfield             84065 non-null  uint8  \n",
      " 53  position_Right Wing                 84065 non-null  uint8  \n",
      " 54  position_Right Wing Back            84065 non-null  uint8  \n",
      " 55  position_Secondary Striker          84065 non-null  uint8  \n",
      " 56  body_part_Head                      84065 non-null  uint8  \n",
      " 57  body_part_Left Foot                 84065 non-null  uint8  \n",
      " 58  body_part_Other                     84065 non-null  uint8  \n",
      " 59  body_part_Right Foot                84065 non-null  uint8  \n",
      "dtypes: bool(6), float64(7), int64(2), uint8(45)\n",
      "memory usage: 9.9 MB\n"
     ]
    }
   ],
   "source": [
    "X.info()"
   ],
   "metadata": {
    "collapsed": false,
    "pycharm": {
     "name": "#%%\n"
    }
   }
  },
  {
   "cell_type": "code",
   "execution_count": 57,
   "outputs": [
    {
     "name": "stdout",
     "output_type": "stream",
     "text": [
      "Chi-squared statistic: 3.7915104186016064\n",
      "P-value: 0.05151314423328219\n",
      "Degrees of freedom: 1\n",
      "Expected frequencies table:\n",
      "[[44628.49837626  5575.50162374]\n",
      " [30100.50162374  3760.49837626]]\n"
     ]
    }
   ],
   "source": [
    "contingency_table = pd.crosstab(X['good_foot'], y2)\n",
    "chi2, p, dof, expected = chi2_contingency(contingency_table)\n",
    "\n",
    "# Output results\n",
    "print(\"Chi-squared statistic:\", chi2)\n",
    "print(\"P-value:\", p)\n",
    "print(\"Degrees of freedom:\", dof)\n",
    "print(\"Expected frequencies table:\")\n",
    "print(expected)"
   ],
   "metadata": {
    "collapsed": false,
    "pycharm": {
     "name": "#%%\n"
    }
   }
  },
  {
   "cell_type": "code",
   "execution_count": null,
   "outputs": [],
   "source": [],
   "metadata": {
    "collapsed": false,
    "pycharm": {
     "name": "#%%\n"
    }
   }
  }
 ],
 "metadata": {
  "kernelspec": {
   "display_name": "Python 3",
   "language": "python",
   "name": "python3"
  },
  "language_info": {
   "codemirror_mode": {
    "name": "ipython",
    "version": 2
   },
   "file_extension": ".py",
   "mimetype": "text/x-python",
   "name": "python",
   "nbconvert_exporter": "python",
   "pygments_lexer": "ipython2",
   "version": "2.7.6"
  }
 },
 "nbformat": 4,
 "nbformat_minor": 0
}