{
 "cells": [
  {
   "cell_type": "code",
   "execution_count": 1,
   "metadata": {
    "collapsed": true
   },
   "outputs": [],
   "source": [
    "import pandas as pd\n",
    "import numpy as np\n",
    "import matplotlib.pyplot as plt\n",
    "import math\n",
    "\n",
    "from sklearn.feature_selection import mutual_info_classif\n",
    "from sklearn.linear_model import LinearRegression, LogisticRegression\n",
    "from imblearn.over_sampling import SMOTE\n",
    "\n",
    "from scipy.stats import chi2_contingency\n",
    "import statsmodels.formula.api as smf\n",
    "from stargazer.stargazer import Stargazer\n",
    "\n",
    "from tqdm import tqdm\n",
    "import warnings\n",
    "from pprint import pprint"
   ]
  },
  {
   "cell_type": "code",
   "execution_count": 2,
   "outputs": [],
   "source": [
    "###########################\n",
    "# In this notebook, we put to the test some naive hypotheses we have based on footballing intuition.\n",
    "###########################"
   ],
   "metadata": {
    "collapsed": false,
    "pycharm": {
     "name": "#%%\n"
    }
   }
  },
  {
   "cell_type": "code",
   "execution_count": 3,
   "outputs": [],
   "source": [
    "data = pd.read_csv(\"./data/augmented_data.csv\")"
   ],
   "metadata": {
    "collapsed": false,
    "pycharm": {
     "name": "#%%\n"
    }
   }
  },
  {
   "cell_type": "code",
   "execution_count": 4,
   "outputs": [],
   "source": [
    "data = data.dropna()\n",
    "data.replace([np.inf, -np.inf], 0, inplace=True)"
   ],
   "metadata": {
    "collapsed": false,
    "pycharm": {
     "name": "#%%\n"
    }
   }
  },
  {
   "cell_type": "code",
   "execution_count": 5,
   "outputs": [
    {
     "data": {
      "text/plain": "period                     5\nminute                   131\nsecond                    60\npossession               282\nduration               77045\ncompetition_id            17\nseason_id                 41\nmatch_id                3312\ntimestamp              81697\nteam                     288\nplayer                  5621\nfreeze_frame           82866\nplay_pattern               9\nposition                  25\nplayer_type                5\nlocation_x               635\nlocation_x_distance      635\nlocation_y               701\nlocation_y_distance      471\ntechnique                  7\nbody_part                  4\ntype                       5\nis_penalty                 2\nis_header                  2\nfirst_time                 2\nopen_goal                  2\none_on_one                 2\naerial_won                 2\nfollows_dribble            2\nunder_pressure             2\npass_duration          11897\npass_angle             10504\npass_type                  8\npass_height                4\npass_length             9918\nnum_passes                13\ndefenders_3m_radius        9\ndefenders_triangle        12\ngoalkeeper_x             258\ngoalkeeper_y             355\ndistance_to_goalie     45455\nshooting_range         43791\ngoal_distance          36859\nbest_distance          30176\nstatsbomb_xg           82417\nend_location_x           375\nend_location_y           704\nis_goal                    2\nshot_angle             52715\ngood_foot                  2\nshots_so_far              46\nxg_so_far              76246\ngame_state                24\nwas_leading                3\npast_minute                6\npast_15                   28\nown_past_minute            6\nown_past_15               24\nis_extra_time              2\ndtype: int64"
     },
     "execution_count": 5,
     "metadata": {},
     "output_type": "execute_result"
    }
   ],
   "source": [
    "data.nunique()"
   ],
   "metadata": {
    "collapsed": false,
    "pycharm": {
     "name": "#%%\n"
    }
   }
  },
  {
   "cell_type": "code",
   "execution_count": 6,
   "outputs": [
    {
     "data": {
      "text/plain": "distance_to_goalie     0.041751\nbest_distance          0.037841\nshooting_range         0.037333\nlocation_x_distance    0.026007\ndefenders_triangle     0.023802\nown_past_minute        0.012600\nlocation_y_distance    0.012266\ngoalkeeper_x           0.011051\nopen_goal              0.010990\npass_length            0.010549\npass_duration          0.009492\nplayer_type            0.008600\npast_minute            0.006770\nfirst_time             0.006668\ngoalkeeper_y           0.005736\ngood_foot              0.005411\ngame_state             0.005272\nperiod                 0.005216\nwas_leading            0.005056\none_on_one             0.004793\npass_angle             0.003515\npast_15                0.003088\nown_past_15            0.002883\nnum_passes             0.002821\nis_header              0.000707\npossession             0.000647\nis_penalty             0.000349\naerial_won             0.000071\nminute                 0.000000\nfollows_dribble        0.000000\nshots_so_far           0.000000\nsecond                 0.000000\nis_extra_time          0.000000\ndtype: float64"
     },
     "execution_count": 6,
     "metadata": {},
     "output_type": "execute_result"
    }
   ],
   "source": [
    "# Use mutual_info classification to check which features yield the most information about the target variable\n",
    "data_copy = data.copy()\n",
    "X_copy = data_copy.drop([\"statsbomb_xg\", \"is_goal\", \"end_location_x\", \"end_location_y\", \"shot_angle\", \"duration\", \"competition_id\", \"season_id\", \"match_id\", \"player\", \"freeze_frame\", \"timestamp\", \"team\", \"xg_so_far\", \"location_x\", \"location_y\", \"body_part\", \"defenders_3m_radius\", \"under_pressure\", \"goal_distance\", \"play_pattern\", \"technique\", \"position\", \"body_part\", \"type\", \"pass_type\", \"pass_height\"], axis=1)\n",
    "mutual_info = mutual_info_classif(X_copy, data[\"is_goal\"])\n",
    "mutual_info = pd.Series(mutual_info)\n",
    "mutual_info.index = X_copy.columns\n",
    "mutual_info.sort_values(ascending=False)"
   ],
   "metadata": {
    "collapsed": false,
    "pycharm": {
     "name": "#%%\n"
    }
   }
  },
  {
   "cell_type": "code",
   "execution_count": 7,
   "outputs": [
    {
     "data": {
      "text/plain": "period                     5\nminute                   131\nsecond                    60\npossession               282\nduration               77045\ncompetition_id            17\nseason_id                 41\nmatch_id                3312\ntimestamp              81697\nteam                     288\nplayer                  5621\nfreeze_frame           82866\nplay_pattern               9\nposition                  25\nplayer_type                5\nlocation_x               635\nlocation_x_distance      635\nlocation_y               701\nlocation_y_distance      471\ntechnique                  7\nbody_part                  4\ntype                       5\nis_penalty                 2\nis_header                  2\nfirst_time                 2\nopen_goal                  2\none_on_one                 2\naerial_won                 2\nfollows_dribble            2\nunder_pressure             2\npass_duration          11897\npass_angle             10504\npass_type                  8\npass_height                4\npass_length             9918\nnum_passes                13\ndefenders_3m_radius        9\ndefenders_triangle        12\ngoalkeeper_x             258\ngoalkeeper_y             355\ndistance_to_goalie     45455\nshooting_range         43791\ngoal_distance          36859\nbest_distance          30176\nstatsbomb_xg           82417\nend_location_x           375\nend_location_y           704\nis_goal                    2\nshot_angle             52715\ngood_foot                  2\nshots_so_far              46\nxg_so_far              76246\ngame_state                24\nwas_leading                3\npast_minute                6\npast_15                   28\nown_past_minute            6\nown_past_15               24\nis_extra_time              2\ndtype: int64"
     },
     "execution_count": 7,
     "metadata": {},
     "output_type": "execute_result"
    }
   ],
   "source": [
    "data.nunique()"
   ],
   "metadata": {
    "collapsed": false,
    "pycharm": {
     "name": "#%%\n"
    }
   }
  },
  {
   "cell_type": "code",
   "execution_count": 8,
   "outputs": [],
   "source": [
    "X = data.drop([\"statsbomb_xg\", \"is_goal\", \"end_location_x\", \"end_location_y\", \"shot_angle\", \"duration\", \"competition_id\", \"season_id\", \"match_id\", \"player\", \"freeze_frame\", \"timestamp\", \"team\", \"xg_so_far\", \"location_x\", \"location_y\", \"body_part\", \"goal_distance\", \"play_pattern\", \"technique\", \"position\", \"body_part\", \"type\", \"pass_type\", \"pass_height\"], axis=1)\n",
    "y1 = data[\"statsbomb_xg\"]\n",
    "y2 = data[\"is_goal\"]"
   ],
   "metadata": {
    "collapsed": false,
    "pycharm": {
     "name": "#%%\n"
    }
   }
  },
  {
   "cell_type": "code",
   "execution_count": 9,
   "outputs": [],
   "source": [
    "X, y2 = SMOTE(sampling_strategy=0.36).fit_resample(X, y2)"
   ],
   "metadata": {
    "collapsed": false,
    "pycharm": {
     "name": "#%%\n"
    }
   }
  },
  {
   "cell_type": "code",
   "execution_count": 10,
   "outputs": [],
   "source": [
    "# We'll run chi-squared tests on some of our key features\n",
    "chi = []\n",
    "for column in [\"is_penalty\", \"first_time\", \"open_goal\", \"one_on_one\", \"good_foot\", \"under_pressure\", \"defenders_3m_radius\", \"defenders_triangle\"]:\n",
    "    contingency_table = pd.crosstab(X[column], y2)\n",
    "    chi2, p, dof, _ = chi2_contingency(contingency_table)\n",
    "    chi.append((column, chi2, p, dof))"
   ],
   "metadata": {
    "collapsed": false,
    "pycharm": {
     "name": "#%%\n"
    }
   }
  },
  {
   "cell_type": "code",
   "execution_count": 11,
   "outputs": [
    {
     "data": {
      "text/plain": "<Figure size 640x480 with 1 Axes>",
      "image/png": "[encoded data removed]"
     },
     "metadata": {},
     "output_type": "display_data"
    }
   ],
   "source": [
    "ax = pd.Series([x[1] for x in chi]).plot(xticks=pd.Series([x[0] for x in chi]).index, rot=80)\n",
    "ax.set_title('Results of chi-squared testing', weight='bold')\n",
    "ax.set_xlabel('Feature')\n",
    "ax.set_ylabel('Value')\n",
    "_ = ax.set_xticklabels(pd.Series([x[0] for x in chi]))"
   ],
   "metadata": {
    "collapsed": false,
    "pycharm": {
     "name": "#%%\n"
    }
   }
  },
  {
   "cell_type": "code",
   "execution_count": 12,
   "outputs": [
    {
     "name": "stdout",
     "output_type": "stream",
     "text": [
      "Chi-squared statistic: 12964.342765088299\n",
      "P-value: 0.0\n",
      "Degrees of freedom: 11\n"
     ]
    }
   ],
   "source": [
    "# Is the number of defenders in the triangle between the shooter and the goal significant to the likelihood of scoring?\n",
    "contingency_table = pd.crosstab(X['defenders_triangle'], y2)\n",
    "chi2, p, dof, _ = chi2_contingency(contingency_table)\n",
    "\n",
    "# Output results\n",
    "print(\"Chi-squared statistic:\", chi2)\n",
    "print(\"P-value:\", p)\n",
    "print(\"Degrees of freedom:\", dof)"
   ],
   "metadata": {
    "collapsed": false,
    "pycharm": {
     "name": "#%%\n"
    }
   }
  },
  {
   "cell_type": "code",
   "execution_count": 13,
   "outputs": [
    {
     "name": "stdout",
     "output_type": "stream",
     "text": [
      "Chi-squared statistic: 1292.0337511068115\n",
      "P-value: 6.0870010742934255e-283\n",
      "Degrees of freedom: 1\n"
     ]
    }
   ],
   "source": [
    "# Is the shooter being on their favoured side significant to the likelihood of scoring?\n",
    "contingency_table = pd.crosstab(X['good_foot'], y2)\n",
    "chi2, p, dof, _ = chi2_contingency(contingency_table)\n",
    "\n",
    "# Output results\n",
    "print(\"Chi-squared statistic:\", chi2)\n",
    "print(\"P-value:\", p)\n",
    "print(\"Degrees of freedom:\", dof)"
   ],
   "metadata": {
    "collapsed": false,
    "pycharm": {
     "name": "#%%\n"
    }
   }
  },
  {
   "cell_type": "code",
   "execution_count": 14,
   "outputs": [
    {
     "name": "stdout",
     "output_type": "stream",
     "text": [
      "Chi-squared statistic: 3699.912530238936\n",
      "P-value: 0.0\n",
      "Degrees of freedom: 2\n"
     ]
    }
   ],
   "source": [
    "# Is the shooter being on their favoured side significant to the likelihood of scoring?\n",
    "contingency_table = pd.crosstab(X['was_leading'], y2)\n",
    "chi2, p, dof, _ = chi2_contingency(contingency_table)\n",
    "\n",
    "# Output results\n",
    "print(\"Chi-squared statistic:\", chi2)\n",
    "print(\"P-value:\", p)\n",
    "print(\"Degrees of freedom:\", dof)"
   ],
   "metadata": {
    "collapsed": false,
    "pycharm": {
     "name": "#%%\n"
    }
   }
  },
  {
   "cell_type": "code",
   "execution_count": 15,
   "outputs": [
    {
     "name": "stdout",
     "output_type": "stream",
     "text": [
      "Intercept: 0.21087795326839645\n",
      "Coefficients: [-0.00692168]\n"
     ]
    }
   ],
   "source": [
    "# We'll use simple linear regression models to investigate how much of the variation in xg can we explain with different sets of features\n",
    "model = LinearRegression()\n",
    "model.fit(pd.DataFrame(X_copy['distance_to_goalie']), y1)\n",
    "\n",
    "# Print coefficients\n",
    "print(\"Intercept:\", model.intercept_)\n",
    "print(\"Coefficients:\", model.coef_)"
   ],
   "metadata": {
    "collapsed": false,
    "pycharm": {
     "name": "#%%\n"
    }
   }
  },
  {
   "cell_type": "code",
   "execution_count": 16,
   "outputs": [],
   "source": [
    "results1 = smf.ols('statsbomb_xg ~ location_x + location_y + goalkeeper_x + goalkeeper_y', data=data).fit()\n",
    "results2 = smf.ols('statsbomb_xg ~ distance_to_goalie + best_distance + location_x_distance', data=data).fit()\n",
    "results3 = smf.ols('statsbomb_xg ~ defenders_triangle + defenders_3m_radius', data=data).fit()\n",
    "results4 = smf.ols('statsbomb_xg ~ shooting_range + best_distance', data=data).fit()\n",
    "results5 = smf.ols('statsbomb_xg ~ location_y_distance + good_foot', data=data).fit()\n",
    "results6 = smf.ols('statsbomb_xg ~ distance_to_goalie + best_distance + defenders_triangle + shooting_range + is_header + under_pressure', data=data).fit()"
   ],
   "metadata": {
    "collapsed": false,
    "pycharm": {
     "name": "#%%\n"
    }
   }
  },
  {
   "cell_type": "code",
   "execution_count": 17,
   "outputs": [
    {
     "data": {
      "text/plain": "<stargazer.stargazer.Stargazer at 0x1b7883c1a20>",
      "text/html": "<table style=\"text-align:center\"><tr><td colspan=\"7\" style=\"border-bottom: 1px solid black\"></td></tr>\n<tr><td style=\"text-align:left\"></td><td colspan=\"6\"><em>Dependent variable: statsbomb_xg</em></td></tr><tr><td style=\"text-align:left\"></td><tr><td style=\"text-align:left\"></td><td>(1)</td><td>(2)</td><td>(3)</td><td>(4)</td><td>(5)</td><td>(6)</td></tr>\n<tr><td colspan=\"7\" style=\"border-bottom: 1px solid black\"></td></tr>\n\n<tr><td style=\"text-align:left\">Intercept</td><td>-0.084<sup>***</sup></td><td>0.241<sup>***</sup></td><td>0.155<sup>***</sup></td><td>0.004<sup>**</sup></td><td>0.164<sup>***</sup></td><td>0.041<sup>***</sup></td></tr>\n<tr><td style=\"text-align:left\"></td><td>(0.011)</td><td>(0.001)</td><td>(0.001)</td><td>(0.002)</td><td>(0.001)</td><td>(0.001)</td></tr>\n<tr><td style=\"text-align:left\">best_distance</td><td></td><td>-0.016<sup>***</sup></td><td></td><td>-0.002<sup>***</sup></td><td></td><td>-0.000<sup>***</sup></td></tr>\n<tr><td style=\"text-align:left\"></td><td></td><td>(0.000)</td><td></td><td>(0.000)</td><td></td><td>(0.000)</td></tr>\n<tr><td style=\"text-align:left\">defenders_3m_radius</td><td></td><td></td><td>0.005<sup>***</sup></td><td></td><td></td><td></td></tr>\n<tr><td style=\"text-align:left\"></td><td></td><td></td><td>(0.000)</td><td></td><td></td><td></td></tr>\n<tr><td style=\"text-align:left\">defenders_triangle</td><td></td><td></td><td>-0.027<sup>***</sup></td><td></td><td></td><td>-0.017<sup>***</sup></td></tr>\n<tr><td style=\"text-align:left\"></td><td></td><td></td><td>(0.000)</td><td></td><td></td><td>(0.000)</td></tr>\n<tr><td style=\"text-align:left\">distance_to_goalie</td><td></td><td>-0.002<sup>***</sup></td><td></td><td></td><td></td><td>-0.001<sup>***</sup></td></tr>\n<tr><td style=\"text-align:left\"></td><td></td><td>(0.000)</td><td></td><td></td><td></td><td>(0.000)</td></tr>\n<tr><td style=\"text-align:left\">goalkeeper_x</td><td>-0.006<sup>***</sup></td><td></td><td></td><td></td><td></td><td></td></tr>\n<tr><td style=\"text-align:left\"></td><td>(0.000)</td><td></td><td></td><td></td><td></td><td></td></tr>\n<tr><td style=\"text-align:left\">goalkeeper_y</td><td>0.006<sup>***</sup></td><td></td><td></td><td></td><td></td><td></td></tr>\n<tr><td style=\"text-align:left\"></td><td>(0.000)</td><td></td><td></td><td></td><td></td><td></td></tr>\n<tr><td style=\"text-align:left\">good_foot[T.True]</td><td></td><td></td><td></td><td></td><td>-0.004<sup>***</sup></td><td></td></tr>\n<tr><td style=\"text-align:left\"></td><td></td><td></td><td></td><td></td><td>(0.001)</td><td></td></tr>\n<tr><td style=\"text-align:left\">is_header[T.True]</td><td></td><td></td><td></td><td></td><td></td><td>-0.126<sup>***</sup></td></tr>\n<tr><td style=\"text-align:left\"></td><td></td><td></td><td></td><td></td><td></td><td>(0.001)</td></tr>\n<tr><td style=\"text-align:left\">location_x</td><td>0.007<sup>***</sup></td><td></td><td></td><td></td><td></td><td></td></tr>\n<tr><td style=\"text-align:left\"></td><td>(0.000)</td><td></td><td></td><td></td><td></td><td></td></tr>\n<tr><td style=\"text-align:left\">location_x_distance</td><td></td><td>0.011<sup>***</sup></td><td></td><td></td><td></td><td></td></tr>\n<tr><td style=\"text-align:left\"></td><td></td><td>(0.000)</td><td></td><td></td><td></td><td></td></tr>\n<tr><td style=\"text-align:left\">location_y</td><td>-0.001<sup>***</sup></td><td></td><td></td><td></td><td></td><td></td></tr>\n<tr><td style=\"text-align:left\"></td><td>(0.000)</td><td></td><td></td><td></td><td></td><td></td></tr>\n<tr><td style=\"text-align:left\">location_y_distance</td><td></td><td></td><td></td><td></td><td>-0.008<sup>***</sup></td><td></td></tr>\n<tr><td style=\"text-align:left\"></td><td></td><td></td><td></td><td></td><td>(0.000)</td><td></td></tr>\n<tr><td style=\"text-align:left\">shooting_range</td><td></td><td></td><td></td><td>0.005<sup>***</sup></td><td></td><td>0.006<sup>***</sup></td></tr>\n<tr><td style=\"text-align:left\"></td><td></td><td></td><td></td><td>(0.000)</td><td></td><td>(0.000)</td></tr>\n<tr><td style=\"text-align:left\">under_pressure[T.True]</td><td></td><td></td><td></td><td></td><td></td><td>-0.026<sup>***</sup></td></tr>\n<tr><td style=\"text-align:left\"></td><td></td><td></td><td></td><td></td><td></td><td>(0.001)</td></tr>\n\n<td colspan=\"7\" style=\"border-bottom: 1px solid black\"></td></tr>\n<tr><td style=\"text-align: left\">Observations</td><td>82867</td><td>82867</td><td>82867</td><td>82867</td><td>82867</td><td>82867</td></tr><tr><td style=\"text-align: left\">R<sup>2</sup></td><td>0.252</td><td>0.319</td><td>0.105</td><td>0.465</td><td>0.129</td><td>0.627</td></tr><tr><td style=\"text-align: left\">Adjusted R<sup>2</sup></td><td>0.252</td><td>0.319</td><td>0.105</td><td>0.465</td><td>0.129</td><td>0.627</td></tr><tr><td style=\"text-align: left\">Residual Std. Error</td><td>0.111 (df=82862)</td><td>0.106 (df=82863)</td><td>0.122 (df=82864)</td><td>0.094 (df=82864)</td><td>0.120 (df=82864)</td><td>0.078 (df=82860)</td></tr><tr><td style=\"text-align: left\">F Statistic</td><td>6988.027<sup>***</sup> (df=4; 82862)</td><td>12967.993<sup>***</sup> (df=3; 82863)</td><td>4860.756<sup>***</sup> (df=2; 82864)</td><td>35941.108<sup>***</sup> (df=2; 82864)</td><td>6155.659<sup>***</sup> (df=2; 82864)</td><td>23177.869<sup>***</sup> (df=6; 82860)</td></tr>\n<tr><td colspan=\"7\" style=\"border-bottom: 1px solid black\"></td></tr><tr><td style=\"text-align: left\">Note:</td><td colspan=\"6\" style=\"text-align: right\"><sup>*</sup>p&lt;0.1; <sup>**</sup>p&lt;0.05; <sup>***</sup>p&lt;0.01</td></tr></table>"
     },
     "execution_count": 17,
     "metadata": {},
     "output_type": "execute_result"
    }
   ],
   "source": [
    "# We can see here that even the simplest, first model accounts for a large amount of variation, while the last model using many of our calculated features, is the best\n",
    "stargazer_tab = Stargazer([results1, results2, results3, results4, results5, results6])\n",
    "stargazer_tab"
   ],
   "metadata": {
    "collapsed": false,
    "pycharm": {
     "name": "#%%\n"
    }
   }
  },
  {
   "cell_type": "code",
   "execution_count": 18,
   "outputs": [],
   "source": [
    "# We can verify our conflusions of our two time-based hypotheses with these two sets of tests\n",
    "results1 = smf.ols('location_x_distance ~ was_leading', data=data).fit()\n",
    "results2 = smf.ols('best_distance ~ was_leading', data=data).fit()\n",
    "results3 = smf.ols('location_x_distance ~ minute', data=data).fit()\n",
    "results4 = smf.ols('best_distance ~ minute', data=data).fit()"
   ],
   "metadata": {
    "collapsed": false,
    "pycharm": {
     "name": "#%%\n"
    }
   }
  },
  {
   "cell_type": "code",
   "execution_count": 19,
   "outputs": [
    {
     "data": {
      "text/plain": "<stargazer.stargazer.Stargazer at 0x1b78aa8f070>",
      "text/html": "<table style=\"text-align:center\"><tr><td colspan=\"5\" style=\"border-bottom: 1px solid black\"></td></tr>\n<tr><td style=\"text-align:left\"></td><tr><td style=\"text-align:left\"></td><td>(1)</td><td>(2)</td><td>(3)</td><td>(4)</td></tr>\n<tr><td colspan=\"5\" style=\"border-bottom: 1px solid black\"></td></tr>\n\n<tr><td style=\"text-align:left\">Intercept</td><td>16.494<sup>***</sup></td><td>17.895<sup>***</sup></td><td>16.776<sup>***</sup></td><td>18.231<sup>***</sup></td></tr>\n<tr><td style=\"text-align:left\"></td><td>(0.031)</td><td>(0.031)</td><td>(0.064)</td><td>(0.064)</td></tr>\n<tr><td style=\"text-align:left\">minute</td><td></td><td></td><td>-0.006<sup>***</sup></td><td>-0.007<sup>***</sup></td></tr>\n<tr><td style=\"text-align:left\"></td><td></td><td></td><td>(0.001)</td><td>(0.001)</td></tr>\n<tr><td style=\"text-align:left\">was_leading</td><td>-0.489<sup>***</sup></td><td>-0.468<sup>***</sup></td><td></td><td></td></tr>\n<tr><td style=\"text-align:left\"></td><td>(0.042)</td><td>(0.042)</td><td></td><td></td></tr>\n\n<td colspan=\"5\" style=\"border-bottom: 1px solid black\"></td></tr>\n<tr><td style=\"text-align: left\">Observations</td><td>82867</td><td>82867</td><td>82867</td><td>82867</td></tr><tr><td style=\"text-align: left\">R<sup>2</sup></td><td>0.002</td><td>0.001</td><td>0.000</td><td>0.000</td></tr><tr><td style=\"text-align: left\">Adjusted R<sup>2</sup></td><td>0.002</td><td>0.001</td><td>0.000</td><td>0.000</td></tr><tr><td style=\"text-align: left\">Residual Std. Error</td><td>8.829 (df=82865)</td><td>8.856 (df=82865)</td><td>8.835 (df=82865)</td><td>8.861 (df=82865)</td></tr><tr><td style=\"text-align: left\">F Statistic</td><td>135.587<sup>***</sup> (df=1; 82865)</td><td>123.272<sup>***</sup> (df=1; 82865)</td><td>25.715<sup>***</sup> (df=1; 82865)</td><td>36.337<sup>***</sup> (df=1; 82865)</td></tr>\n<tr><td colspan=\"5\" style=\"border-bottom: 1px solid black\"></td></tr><tr><td style=\"text-align: left\">Note:</td><td colspan=\"4\" style=\"text-align: right\"><sup>*</sup>p&lt;0.1; <sup>**</sup>p&lt;0.05; <sup>***</sup>p&lt;0.01</td></tr></table>"
     },
     "execution_count": 19,
     "metadata": {},
     "output_type": "execute_result"
    }
   ],
   "source": [
    "stargazer_tab = Stargazer([results1, results2, results3, results4])\n",
    "stargazer_tab"
   ],
   "metadata": {
    "collapsed": false,
    "pycharm": {
     "name": "#%%\n"
    }
   }
  },
  {
   "cell_type": "code",
   "execution_count": 19,
   "outputs": [],
   "source": [],
   "metadata": {
    "collapsed": false,
    "pycharm": {
     "name": "#%%\n"
    }
   }
  }
 ],
 "metadata": {
  "kernelspec": {
   "display_name": "Python 3",
   "language": "python",
   "name": "python3"
  },
  "language_info": {
   "codemirror_mode": {
    "name": "ipython",
    "version": 2
   },
   "file_extension": ".py",
   "mimetype": "text/x-python",
   "name": "python",
   "nbconvert_exporter": "python",
   "pygments_lexer": "ipython2",
   "version": "2.7.6"
  }
 },
 "nbformat": 4,
 "nbformat_minor": 0
}