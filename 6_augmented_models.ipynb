{
 "cells": [
  {
   "cell_type": "code",
   "execution_count": 1,
   "metadata": {
    "collapsed": true
   },
   "outputs": [],
   "source": [
    "import pandas as pd\n",
    "import numpy as np\n",
    "import matplotlib.pyplot as plt\n",
    "import math\n",
    "\n",
    "from sklearn.model_selection import train_test_split, GridSearchCV\n",
    "from sklearn.feature_selection import mutual_info_classif\n",
    "from sklearn.preprocessing import StandardScaler\n",
    "from imblearn.over_sampling import SMOTE\n",
    "\n",
    "from sklearn.linear_model import LogisticRegression\n",
    "from sklearn.linear_model import LinearRegression\n",
    "from sklearn.tree import DecisionTreeClassifier\n",
    "from sklearn.ensemble import RandomForestClassifier\n",
    "from sklearn.ensemble import GradientBoostingClassifier\n",
    "\n",
    "from sklearn.metrics import accuracy_score, precision_score, recall_score, f1_score, brier_score_loss\n",
    "from sklearn.metrics import mean_absolute_error, root_mean_squared_error, r2_score\n",
    "from sklearn.metrics import confusion_matrix, ConfusionMatrixDisplay\n",
    "from sklearn.metrics import roc_curve, roc_auc_score\n",
    "from sklearn.inspection import PartialDependenceDisplay\n",
    "from sklearn.inspection import partial_dependence\n",
    "import dtreeviz\n",
    "\n",
    "from tqdm import tqdm\n",
    "import warnings\n",
    "from pprint import pprint\n",
    "\n",
    "warnings.filterwarnings(\"ignore\")"
   ]
  },
  {
   "cell_type": "code",
   "execution_count": 2,
   "outputs": [],
   "source": [
    "##########################\n",
    "# This notebook contains the final results after our feature engineering and finetuning..\n",
    "###########################"
   ],
   "metadata": {
    "collapsed": false,
    "pycharm": {
     "name": "#%%\n"
    }
   }
  },
  {
   "cell_type": "code",
   "execution_count": 3,
   "outputs": [],
   "source": [
    "data = pd.read_csv(\"./data/augmented_data.csv\")"
   ],
   "metadata": {
    "collapsed": false,
    "pycharm": {
     "name": "#%%\n"
    }
   }
  },
  {
   "cell_type": "code",
   "execution_count": 4,
   "outputs": [
    {
     "data": {
      "text/plain": "period                     5\nminute                   139\npossession               290\nduration               78059\nplay_pattern               9\nposition                  25\nlocation_x               635\nlocation_y               702\ntechnique                  7\nbody_part                  4\ntype                       5\nfirst_time                 2\nopen_goal                  2\none_on_one                 2\naerial_won                 2\nfollows_dribble            2\nunder_pressure             2\npass_duration          11912\npass_angle             10519\npass_type                  8\npass_height                4\npass_length             9930\nnum_passes                13\nstatsbomb_xg           82551\nend_location_x           376\nend_location_y           705\nis_goal                    2\nlocation_y_distance      472\nshot_angle             52936\ndtype: int64"
     },
     "execution_count": 4,
     "metadata": {},
     "output_type": "execute_result"
    }
   ],
   "source": [
    "data.nunique()"
   ],
   "metadata": {
    "collapsed": false,
    "pycharm": {
     "name": "#%%\n"
    }
   }
  },
  {
   "cell_type": "code",
   "execution_count": 5,
   "outputs": [
    {
     "ename": "KeyError",
     "evalue": "\"['competition_id', 'season_id', 'match_id', 'player', 'freeze_frame', 'timestamp', 'team', 'xg_so_far', 'defenders_3m_radius', 'goal_distance'] not found in axis\"",
     "output_type": "error",
     "traceback": [
      "\u001B[1;31m---------------------------------------------------------------------------\u001B[0m",
      "\u001B[1;31mKeyError\u001B[0m                                  Traceback (most recent call last)",
      "Cell \u001B[1;32mIn[5], line 3\u001B[0m\n\u001B[0;32m      1\u001B[0m \u001B[38;5;66;03m# Use mutual_info classification to check which features yield the most information about the target variable\u001B[39;00m\n\u001B[0;32m      2\u001B[0m data_copy \u001B[38;5;241m=\u001B[39m data\u001B[38;5;241m.\u001B[39mcopy()\n\u001B[1;32m----> 3\u001B[0m X \u001B[38;5;241m=\u001B[39m \u001B[43mdata_copy\u001B[49m\u001B[38;5;241;43m.\u001B[39;49m\u001B[43mdrop\u001B[49m\u001B[43m(\u001B[49m\u001B[43m[\u001B[49m\u001B[38;5;124;43m\"\u001B[39;49m\u001B[38;5;124;43mstatsbomb_xg\u001B[39;49m\u001B[38;5;124;43m\"\u001B[39;49m\u001B[43m,\u001B[49m\u001B[43m \u001B[49m\u001B[38;5;124;43m\"\u001B[39;49m\u001B[38;5;124;43mis_goal\u001B[39;49m\u001B[38;5;124;43m\"\u001B[39;49m\u001B[43m,\u001B[49m\u001B[43m \u001B[49m\u001B[38;5;124;43m\"\u001B[39;49m\u001B[38;5;124;43mend_location_x\u001B[39;49m\u001B[38;5;124;43m\"\u001B[39;49m\u001B[43m,\u001B[49m\u001B[43m \u001B[49m\u001B[38;5;124;43m\"\u001B[39;49m\u001B[38;5;124;43mend_location_y\u001B[39;49m\u001B[38;5;124;43m\"\u001B[39;49m\u001B[43m,\u001B[49m\u001B[43m \u001B[49m\u001B[38;5;124;43m\"\u001B[39;49m\u001B[38;5;124;43mshot_angle\u001B[39;49m\u001B[38;5;124;43m\"\u001B[39;49m\u001B[43m,\u001B[49m\u001B[43m \u001B[49m\u001B[38;5;124;43m\"\u001B[39;49m\u001B[38;5;124;43mduration\u001B[39;49m\u001B[38;5;124;43m\"\u001B[39;49m\u001B[43m,\u001B[49m\u001B[43m \u001B[49m\u001B[38;5;124;43m\"\u001B[39;49m\u001B[38;5;124;43mcompetition_id\u001B[39;49m\u001B[38;5;124;43m\"\u001B[39;49m\u001B[43m,\u001B[49m\u001B[43m \u001B[49m\u001B[38;5;124;43m\"\u001B[39;49m\u001B[38;5;124;43mseason_id\u001B[39;49m\u001B[38;5;124;43m\"\u001B[39;49m\u001B[43m,\u001B[49m\u001B[43m \u001B[49m\u001B[38;5;124;43m\"\u001B[39;49m\u001B[38;5;124;43mmatch_id\u001B[39;49m\u001B[38;5;124;43m\"\u001B[39;49m\u001B[43m,\u001B[49m\u001B[43m \u001B[49m\u001B[38;5;124;43m\"\u001B[39;49m\u001B[38;5;124;43mplayer\u001B[39;49m\u001B[38;5;124;43m\"\u001B[39;49m\u001B[43m,\u001B[49m\u001B[43m \u001B[49m\u001B[38;5;124;43m\"\u001B[39;49m\u001B[38;5;124;43mfreeze_frame\u001B[39;49m\u001B[38;5;124;43m\"\u001B[39;49m\u001B[43m,\u001B[49m\u001B[43m \u001B[49m\u001B[38;5;124;43m\"\u001B[39;49m\u001B[38;5;124;43mtimestamp\u001B[39;49m\u001B[38;5;124;43m\"\u001B[39;49m\u001B[43m,\u001B[49m\u001B[43m \u001B[49m\u001B[38;5;124;43m\"\u001B[39;49m\u001B[38;5;124;43mteam\u001B[39;49m\u001B[38;5;124;43m\"\u001B[39;49m\u001B[43m,\u001B[49m\u001B[43m \u001B[49m\u001B[38;5;124;43m\"\u001B[39;49m\u001B[38;5;124;43mxg_so_far\u001B[39;49m\u001B[38;5;124;43m\"\u001B[39;49m\u001B[43m,\u001B[49m\u001B[43m \u001B[49m\u001B[38;5;124;43m\"\u001B[39;49m\u001B[38;5;124;43mlocation_x\u001B[39;49m\u001B[38;5;124;43m\"\u001B[39;49m\u001B[43m,\u001B[49m\u001B[43m \u001B[49m\u001B[38;5;124;43m\"\u001B[39;49m\u001B[38;5;124;43mlocation_y\u001B[39;49m\u001B[38;5;124;43m\"\u001B[39;49m\u001B[43m,\u001B[49m\u001B[43m \u001B[49m\u001B[38;5;124;43m\"\u001B[39;49m\u001B[38;5;124;43mbody_part\u001B[39;49m\u001B[38;5;124;43m\"\u001B[39;49m\u001B[43m,\u001B[49m\u001B[43m \u001B[49m\u001B[38;5;124;43m\"\u001B[39;49m\u001B[38;5;124;43mdefenders_3m_radius\u001B[39;49m\u001B[38;5;124;43m\"\u001B[39;49m\u001B[43m,\u001B[49m\u001B[43m \u001B[49m\u001B[38;5;124;43m\"\u001B[39;49m\u001B[38;5;124;43munder_pressure\u001B[39;49m\u001B[38;5;124;43m\"\u001B[39;49m\u001B[43m,\u001B[49m\u001B[43m \u001B[49m\u001B[38;5;124;43m\"\u001B[39;49m\u001B[38;5;124;43mgoal_distance\u001B[39;49m\u001B[38;5;124;43m\"\u001B[39;49m\u001B[43m,\u001B[49m\u001B[43m \u001B[49m\u001B[38;5;124;43m\"\u001B[39;49m\u001B[38;5;124;43mplay_pattern\u001B[39;49m\u001B[38;5;124;43m\"\u001B[39;49m\u001B[43m,\u001B[49m\u001B[43m \u001B[49m\u001B[38;5;124;43m\"\u001B[39;49m\u001B[38;5;124;43mtechnique\u001B[39;49m\u001B[38;5;124;43m\"\u001B[39;49m\u001B[43m,\u001B[49m\u001B[43m \u001B[49m\u001B[38;5;124;43m\"\u001B[39;49m\u001B[38;5;124;43mposition\u001B[39;49m\u001B[38;5;124;43m\"\u001B[39;49m\u001B[43m,\u001B[49m\u001B[43m \u001B[49m\u001B[38;5;124;43m\"\u001B[39;49m\u001B[38;5;124;43mbody_part\u001B[39;49m\u001B[38;5;124;43m\"\u001B[39;49m\u001B[43m,\u001B[49m\u001B[43m \u001B[49m\u001B[38;5;124;43m\"\u001B[39;49m\u001B[38;5;124;43mtype\u001B[39;49m\u001B[38;5;124;43m\"\u001B[39;49m\u001B[43m,\u001B[49m\u001B[43m \u001B[49m\u001B[38;5;124;43m\"\u001B[39;49m\u001B[38;5;124;43mpass_type\u001B[39;49m\u001B[38;5;124;43m\"\u001B[39;49m\u001B[43m,\u001B[49m\u001B[43m \u001B[49m\u001B[38;5;124;43m\"\u001B[39;49m\u001B[38;5;124;43mpass_height\u001B[39;49m\u001B[38;5;124;43m\"\u001B[39;49m\u001B[43m]\u001B[49m\u001B[43m,\u001B[49m\u001B[43m \u001B[49m\u001B[43maxis\u001B[49m\u001B[38;5;241;43m=\u001B[39;49m\u001B[38;5;241;43m1\u001B[39;49m\u001B[43m)\u001B[49m\n\u001B[0;32m      4\u001B[0m mutual_info \u001B[38;5;241m=\u001B[39m mutual_info_classif(X, data[\u001B[38;5;124m\"\u001B[39m\u001B[38;5;124mis_goal\u001B[39m\u001B[38;5;124m\"\u001B[39m])\n\u001B[0;32m      5\u001B[0m mutual_info \u001B[38;5;241m=\u001B[39m pd\u001B[38;5;241m.\u001B[39mSeries(mutual_info)\n",
      "File \u001B[1;32mC:\\Program Files\\Python310\\lib\\site-packages\\pandas\\util\\_decorators.py:311\u001B[0m, in \u001B[0;36mdeprecate_nonkeyword_arguments.<locals>.decorate.<locals>.wrapper\u001B[1;34m(*args, **kwargs)\u001B[0m\n\u001B[0;32m    305\u001B[0m \u001B[38;5;28;01mif\u001B[39;00m \u001B[38;5;28mlen\u001B[39m(args) \u001B[38;5;241m>\u001B[39m num_allow_args:\n\u001B[0;32m    306\u001B[0m     warnings\u001B[38;5;241m.\u001B[39mwarn(\n\u001B[0;32m    307\u001B[0m         msg\u001B[38;5;241m.\u001B[39mformat(arguments\u001B[38;5;241m=\u001B[39marguments),\n\u001B[0;32m    308\u001B[0m         \u001B[38;5;167;01mFutureWarning\u001B[39;00m,\n\u001B[0;32m    309\u001B[0m         stacklevel\u001B[38;5;241m=\u001B[39mstacklevel,\n\u001B[0;32m    310\u001B[0m     )\n\u001B[1;32m--> 311\u001B[0m \u001B[38;5;28;01mreturn\u001B[39;00m func(\u001B[38;5;241m*\u001B[39margs, \u001B[38;5;241m*\u001B[39m\u001B[38;5;241m*\u001B[39mkwargs)\n",
      "File \u001B[1;32mC:\\Program Files\\Python310\\lib\\site-packages\\pandas\\core\\frame.py:4957\u001B[0m, in \u001B[0;36mDataFrame.drop\u001B[1;34m(self, labels, axis, index, columns, level, inplace, errors)\u001B[0m\n\u001B[0;32m   4809\u001B[0m \u001B[38;5;129m@deprecate_nonkeyword_arguments\u001B[39m(version\u001B[38;5;241m=\u001B[39m\u001B[38;5;28;01mNone\u001B[39;00m, allowed_args\u001B[38;5;241m=\u001B[39m[\u001B[38;5;124m\"\u001B[39m\u001B[38;5;124mself\u001B[39m\u001B[38;5;124m\"\u001B[39m, \u001B[38;5;124m\"\u001B[39m\u001B[38;5;124mlabels\u001B[39m\u001B[38;5;124m\"\u001B[39m])\n\u001B[0;32m   4810\u001B[0m \u001B[38;5;28;01mdef\u001B[39;00m \u001B[38;5;21mdrop\u001B[39m(\n\u001B[0;32m   4811\u001B[0m     \u001B[38;5;28mself\u001B[39m,\n\u001B[1;32m   (...)\u001B[0m\n\u001B[0;32m   4818\u001B[0m     errors: \u001B[38;5;28mstr\u001B[39m \u001B[38;5;241m=\u001B[39m \u001B[38;5;124m\"\u001B[39m\u001B[38;5;124mraise\u001B[39m\u001B[38;5;124m\"\u001B[39m,\n\u001B[0;32m   4819\u001B[0m ):\n\u001B[0;32m   4820\u001B[0m \u001B[38;5;250m    \u001B[39m\u001B[38;5;124;03m\"\"\"\u001B[39;00m\n\u001B[0;32m   4821\u001B[0m \u001B[38;5;124;03m    Drop specified labels from rows or columns.\u001B[39;00m\n\u001B[0;32m   4822\u001B[0m \n\u001B[1;32m   (...)\u001B[0m\n\u001B[0;32m   4955\u001B[0m \u001B[38;5;124;03m            weight  1.0     0.8\u001B[39;00m\n\u001B[0;32m   4956\u001B[0m \u001B[38;5;124;03m    \"\"\"\u001B[39;00m\n\u001B[1;32m-> 4957\u001B[0m     \u001B[38;5;28;01mreturn\u001B[39;00m \u001B[38;5;28;43msuper\u001B[39;49m\u001B[43m(\u001B[49m\u001B[43m)\u001B[49m\u001B[38;5;241;43m.\u001B[39;49m\u001B[43mdrop\u001B[49m\u001B[43m(\u001B[49m\n\u001B[0;32m   4958\u001B[0m \u001B[43m        \u001B[49m\u001B[43mlabels\u001B[49m\u001B[38;5;241;43m=\u001B[39;49m\u001B[43mlabels\u001B[49m\u001B[43m,\u001B[49m\n\u001B[0;32m   4959\u001B[0m \u001B[43m        \u001B[49m\u001B[43maxis\u001B[49m\u001B[38;5;241;43m=\u001B[39;49m\u001B[43maxis\u001B[49m\u001B[43m,\u001B[49m\n\u001B[0;32m   4960\u001B[0m \u001B[43m        \u001B[49m\u001B[43mindex\u001B[49m\u001B[38;5;241;43m=\u001B[39;49m\u001B[43mindex\u001B[49m\u001B[43m,\u001B[49m\n\u001B[0;32m   4961\u001B[0m \u001B[43m        \u001B[49m\u001B[43mcolumns\u001B[49m\u001B[38;5;241;43m=\u001B[39;49m\u001B[43mcolumns\u001B[49m\u001B[43m,\u001B[49m\n\u001B[0;32m   4962\u001B[0m \u001B[43m        \u001B[49m\u001B[43mlevel\u001B[49m\u001B[38;5;241;43m=\u001B[39;49m\u001B[43mlevel\u001B[49m\u001B[43m,\u001B[49m\n\u001B[0;32m   4963\u001B[0m \u001B[43m        \u001B[49m\u001B[43minplace\u001B[49m\u001B[38;5;241;43m=\u001B[39;49m\u001B[43minplace\u001B[49m\u001B[43m,\u001B[49m\n\u001B[0;32m   4964\u001B[0m \u001B[43m        \u001B[49m\u001B[43merrors\u001B[49m\u001B[38;5;241;43m=\u001B[39;49m\u001B[43merrors\u001B[49m\u001B[43m,\u001B[49m\n\u001B[0;32m   4965\u001B[0m \u001B[43m    \u001B[49m\u001B[43m)\u001B[49m\n",
      "File \u001B[1;32mC:\\Program Files\\Python310\\lib\\site-packages\\pandas\\core\\generic.py:4267\u001B[0m, in \u001B[0;36mNDFrame.drop\u001B[1;34m(self, labels, axis, index, columns, level, inplace, errors)\u001B[0m\n\u001B[0;32m   4265\u001B[0m \u001B[38;5;28;01mfor\u001B[39;00m axis, labels \u001B[38;5;129;01min\u001B[39;00m axes\u001B[38;5;241m.\u001B[39mitems():\n\u001B[0;32m   4266\u001B[0m     \u001B[38;5;28;01mif\u001B[39;00m labels \u001B[38;5;129;01mis\u001B[39;00m \u001B[38;5;129;01mnot\u001B[39;00m \u001B[38;5;28;01mNone\u001B[39;00m:\n\u001B[1;32m-> 4267\u001B[0m         obj \u001B[38;5;241m=\u001B[39m \u001B[43mobj\u001B[49m\u001B[38;5;241;43m.\u001B[39;49m\u001B[43m_drop_axis\u001B[49m\u001B[43m(\u001B[49m\u001B[43mlabels\u001B[49m\u001B[43m,\u001B[49m\u001B[43m \u001B[49m\u001B[43maxis\u001B[49m\u001B[43m,\u001B[49m\u001B[43m \u001B[49m\u001B[43mlevel\u001B[49m\u001B[38;5;241;43m=\u001B[39;49m\u001B[43mlevel\u001B[49m\u001B[43m,\u001B[49m\u001B[43m \u001B[49m\u001B[43merrors\u001B[49m\u001B[38;5;241;43m=\u001B[39;49m\u001B[43merrors\u001B[49m\u001B[43m)\u001B[49m\n\u001B[0;32m   4269\u001B[0m \u001B[38;5;28;01mif\u001B[39;00m inplace:\n\u001B[0;32m   4270\u001B[0m     \u001B[38;5;28mself\u001B[39m\u001B[38;5;241m.\u001B[39m_update_inplace(obj)\n",
      "File \u001B[1;32mC:\\Program Files\\Python310\\lib\\site-packages\\pandas\\core\\generic.py:4311\u001B[0m, in \u001B[0;36mNDFrame._drop_axis\u001B[1;34m(self, labels, axis, level, errors, consolidate, only_slice)\u001B[0m\n\u001B[0;32m   4309\u001B[0m         new_axis \u001B[38;5;241m=\u001B[39m axis\u001B[38;5;241m.\u001B[39mdrop(labels, level\u001B[38;5;241m=\u001B[39mlevel, errors\u001B[38;5;241m=\u001B[39merrors)\n\u001B[0;32m   4310\u001B[0m     \u001B[38;5;28;01melse\u001B[39;00m:\n\u001B[1;32m-> 4311\u001B[0m         new_axis \u001B[38;5;241m=\u001B[39m \u001B[43maxis\u001B[49m\u001B[38;5;241;43m.\u001B[39;49m\u001B[43mdrop\u001B[49m\u001B[43m(\u001B[49m\u001B[43mlabels\u001B[49m\u001B[43m,\u001B[49m\u001B[43m \u001B[49m\u001B[43merrors\u001B[49m\u001B[38;5;241;43m=\u001B[39;49m\u001B[43merrors\u001B[49m\u001B[43m)\u001B[49m\n\u001B[0;32m   4312\u001B[0m     indexer \u001B[38;5;241m=\u001B[39m axis\u001B[38;5;241m.\u001B[39mget_indexer(new_axis)\n\u001B[0;32m   4314\u001B[0m \u001B[38;5;66;03m# Case for non-unique axis\u001B[39;00m\n\u001B[0;32m   4315\u001B[0m \u001B[38;5;28;01melse\u001B[39;00m:\n",
      "File \u001B[1;32mC:\\Program Files\\Python310\\lib\\site-packages\\pandas\\core\\indexes\\base.py:6661\u001B[0m, in \u001B[0;36mIndex.drop\u001B[1;34m(self, labels, errors)\u001B[0m\n\u001B[0;32m   6659\u001B[0m \u001B[38;5;28;01mif\u001B[39;00m mask\u001B[38;5;241m.\u001B[39many():\n\u001B[0;32m   6660\u001B[0m     \u001B[38;5;28;01mif\u001B[39;00m errors \u001B[38;5;241m!=\u001B[39m \u001B[38;5;124m\"\u001B[39m\u001B[38;5;124mignore\u001B[39m\u001B[38;5;124m\"\u001B[39m:\n\u001B[1;32m-> 6661\u001B[0m         \u001B[38;5;28;01mraise\u001B[39;00m \u001B[38;5;167;01mKeyError\u001B[39;00m(\u001B[38;5;124mf\u001B[39m\u001B[38;5;124m\"\u001B[39m\u001B[38;5;132;01m{\u001B[39;00m\u001B[38;5;28mlist\u001B[39m(labels[mask])\u001B[38;5;132;01m}\u001B[39;00m\u001B[38;5;124m not found in axis\u001B[39m\u001B[38;5;124m\"\u001B[39m)\n\u001B[0;32m   6662\u001B[0m     indexer \u001B[38;5;241m=\u001B[39m indexer[\u001B[38;5;241m~\u001B[39mmask]\n\u001B[0;32m   6663\u001B[0m \u001B[38;5;28;01mreturn\u001B[39;00m \u001B[38;5;28mself\u001B[39m\u001B[38;5;241m.\u001B[39mdelete(indexer)\n",
      "\u001B[1;31mKeyError\u001B[0m: \"['competition_id', 'season_id', 'match_id', 'player', 'freeze_frame', 'timestamp', 'team', 'xg_so_far', 'defenders_3m_radius', 'goal_distance'] not found in axis\""
     ]
    }
   ],
   "source": [
    "# Use mutual_info classification to check which features yield the most information about the target variable\n",
    "data_copy = data.copy()\n",
    "X = data_copy.drop([\"statsbomb_xg\", \"is_goal\", \"end_location_x\", \"end_location_y\", \"shot_angle\", \"duration\", \"competition_id\", \"season_id\", \"match_id\", \"player\", \"freeze_frame\", \"timestamp\", \"team\", \"xg_so_far\", \"location_x\", \"location_y\", \"body_part\", \"defenders_3m_radius\", \"under_pressure\", \"goal_distance\", \"play_pattern\", \"technique\", \"position\", \"body_part\", \"type\", \"pass_type\", \"pass_height\"], axis=1)\n",
    "mutual_info = mutual_info_classif(X, data[\"is_goal\"])\n",
    "mutual_info = pd.Series(mutual_info)\n",
    "mutual_info.index = X.columns\n",
    "mutual_info.sort_values(ascending=False)"
   ],
   "metadata": {
    "collapsed": false,
    "pycharm": {
     "name": "#%%\n"
    }
   }
  },
  {
   "cell_type": "code",
   "execution_count": null,
   "outputs": [],
   "source": [
    "# drop redundant features\n",
    "data.drop([\"location_x\", \"location_y_distance\", \"body_part\", \"defenders_3m_radius\", \"under_pressure\", \"player_type\", \"goal_distance\"], axis=1, inplace=True)\n",
    "# drop features that leak target information\n",
    "data.drop([\"end_location_x\", \"end_location_y\", \"shot_angle\", \"duration\", \"competition_id\", \"season_id\", \"match_id\", \"timestamp\", \"team\", \"player\", \"freeze_frame\", \"xg_so_far\"], axis=1, inplace=True)\n",
    "# drop low information features\n",
    "data.drop([\"period\", \"minute\", \"second\", \"possession\", \"aerial_won\", \"follows_dribble\", \"num_passes\", \"pass_length\", \"pass_duration\", \"pass_height\", \"pass_type\", \"pass_angle\", \"shots_so_far\"], axis=1, inplace=True)\n",
    "# drop penalties\n",
    "data = data[data[\"is_penalty\"] == False]"
   ],
   "metadata": {
    "collapsed": false,
    "pycharm": {
     "name": "#%%\n"
    }
   }
  },
  {
   "cell_type": "code",
   "execution_count": null,
   "outputs": [],
   "source": [
    "data.nunique()"
   ],
   "metadata": {
    "collapsed": false,
    "pycharm": {
     "name": "#%%\n"
    }
   }
  },
  {
   "cell_type": "code",
   "execution_count": null,
   "outputs": [],
   "source": [
    "# one-hot encode the categorical data\n",
    "encoded_data = data\n",
    "for column_name in [\"play_pattern\", \"technique\", \"type\", \"position\"]:\n",
    "    one_hot_encoded = pd.get_dummies(encoded_data[column_name], prefix=column_name)\n",
    "    encoded_data = encoded_data.drop(column_name, axis=1)\n",
    "    encoded_data = pd.concat([encoded_data, one_hot_encoded], axis=1)\n",
    "data = encoded_data"
   ],
   "metadata": {
    "collapsed": false,
    "pycharm": {
     "name": "#%%\n"
    }
   }
  },
  {
   "cell_type": "code",
   "execution_count": null,
   "outputs": [],
   "source": [
    "data = data.dropna()\n",
    "data.replace([np.inf, -np.inf], 0, inplace=True)"
   ],
   "metadata": {
    "collapsed": false,
    "pycharm": {
     "name": "#%%\n"
    }
   }
  },
  {
   "cell_type": "code",
   "execution_count": null,
   "outputs": [],
   "source": [
    "y1 = data[\"statsbomb_xg\"]\n",
    "y2 = data[\"is_goal\"]\n",
    "X = data.drop([\"statsbomb_xg\", \"is_goal\"], axis=1)"
   ],
   "metadata": {
    "collapsed": false,
    "pycharm": {
     "name": "#%%\n"
    }
   }
  },
  {
   "cell_type": "code",
   "execution_count": null,
   "outputs": [],
   "source": [
    "# Prepare data for regression\n",
    "def preprocess_continuous(X, y):\n",
    "\n",
    "    scaler = StandardScaler().fit(X)\n",
    "    X = scaler.transform(X)\n",
    "    X = pd.DataFrame(X, columns=data.drop([\"statsbomb_xg\", \"is_goal\"], axis=1).columns)\n",
    "\n",
    "    X_train, X_test, y_train, y_test = train_test_split(X, y, test_size=0.3, random_state=20)\n",
    "\n",
    "    return X_train, X_test, y_train, y_test"
   ],
   "metadata": {
    "collapsed": false,
    "pycharm": {
     "name": "#%%\n"
    }
   }
  },
  {
   "cell_type": "code",
   "execution_count": null,
   "outputs": [],
   "source": [
    "# Prepare data for classification\n",
    "def preprocess_classifier(X, y):\n",
    "\n",
    "    scaler = StandardScaler().fit(X)\n",
    "    X = scaler.transform(X)\n",
    "    X = pd.DataFrame(X, columns=data.drop([\"statsbomb_xg\", \"is_goal\"], axis=1).columns)\n",
    "\n",
    "    X_train, X_test, y_train, y_test = train_test_split(X, y, test_size=0.3, random_state=20)\n",
    "\n",
    "    X_train, y_train = SMOTE(sampling_strategy=0.2).fit_resample(X_train, y_train)\n",
    "\n",
    "    return X_train, X_test, y_train, y_test"
   ],
   "metadata": {
    "collapsed": false,
    "pycharm": {
     "name": "#%%\n"
    }
   }
  },
  {
   "cell_type": "code",
   "execution_count": null,
   "outputs": [],
   "source": [
    "def calculate_errors(results_test, results_pred, name):\n",
    "    mae = mean_absolute_error(results_test, results_pred)\n",
    "    rmse = root_mean_squared_error(results_test, results_pred)\n",
    "    r2 = r2_score(results_test, results_pred)\n",
    "    print(f\"\\n{name}\")\n",
    "    print(\"Mean Absolute Error:\", mae)\n",
    "    print(\"Root Mean Squared Error:\", rmse)\n",
    "    print(\"R-squared (R2 Score):\", r2)"
   ],
   "metadata": {
    "collapsed": false,
    "pycharm": {
     "name": "#%%\n"
    }
   }
  },
  {
   "cell_type": "code",
   "execution_count": null,
   "outputs": [],
   "source": [
    "def calculate_stats(results_test, results_pred, name):\n",
    "    cm = confusion_matrix(results_test, results_pred)\n",
    "    disp = ConfusionMatrixDisplay(confusion_matrix=cm, display_labels=[\"Not a goal\", \"Goal\"])\n",
    "    disp.plot(cmap=plt.cm.Blues)\n",
    "    plt.title(f'Confusion Matrix ({name})')\n",
    "    plt.show()\n",
    "\n",
    "    print(f\"\\n{name}\")\n",
    "    accuracy = accuracy_score(results_test, results_pred)\n",
    "    precision = precision_score(results_test, results_pred)\n",
    "    recall = recall_score(results_test, results_pred)\n",
    "    f1 = f1_score(results_test, results_pred)\n",
    "    print(\"Accuracy:\", accuracy)\n",
    "    print(\"Precision:\", precision)\n",
    "    print(\"Recall:\", recall)\n",
    "    print(\"F1:\", f1)"
   ],
   "metadata": {
    "collapsed": false,
    "pycharm": {
     "name": "#%%\n"
    }
   }
  },
  {
   "cell_type": "code",
   "execution_count": null,
   "outputs": [],
   "source": [
    "def linear_regression():\n",
    "    linear_r = LinearRegression()\n",
    "    linear_r.fit(X_train, y_train)\n",
    "    y_pred = linear_r.predict(X_test)\n",
    "\n",
    "    calculate_errors(y_test, y_pred, \"Linear Regression\")\n",
    "\n",
    "    return y_pred"
   ],
   "metadata": {
    "collapsed": false,
    "pycharm": {
     "name": "#%%\n"
    }
   }
  },
  {
   "cell_type": "code",
   "execution_count": null,
   "outputs": [],
   "source": [
    "def logistic_regression():\n",
    "    logistic_r = LogisticRegression()\n",
    "    logistic_r.fit(X_train, y_train)\n",
    "    y_pred = logistic_r.predict(X_test)\n",
    "\n",
    "    calculate_stats(y_test, y_pred, \"Logistic Regression\")\n",
    "\n",
    "    return logistic_r.predict_proba(X_test)"
   ],
   "metadata": {
    "collapsed": false,
    "pycharm": {
     "name": "#%%\n"
    }
   }
  },
  {
   "cell_type": "code",
   "execution_count": null,
   "outputs": [],
   "source": [
    "def decision_tree():\n",
    "    dt = DecisionTreeClassifier(criterion=\"gini\", max_depth=12, max_leaf_nodes=100, min_samples_split=100)\n",
    "    dt.fit(X_train, y_train)\n",
    "    y_pred = dt.predict(X_test)\n",
    "\n",
    "    calculate_stats(y_test, y_pred, \"Decision Tree\")\n",
    "\n",
    "    viz_model = dtreeviz.model(dt,\n",
    "                           X_train=X_train, y_train=y_train,\n",
    "                           feature_names=X.columns, target_name=\"is_goal\", class_names=[\"Not a goal\", \"Goal\"])\n",
    "\n",
    "    return dt.predict_proba(X_test), viz_model"
   ],
   "metadata": {
    "collapsed": false,
    "pycharm": {
     "name": "#%%\n"
    }
   }
  },
  {
   "cell_type": "code",
   "execution_count": null,
   "outputs": [],
   "source": [
    "def random_forest():\n",
    "    rf = RandomForestClassifier(max_depth=8, min_samples_split=100, n_estimators=100, max_features=None)\n",
    "    rf.fit(X_train, y_train)\n",
    "    y_pred = rf.predict(X_test)\n",
    "\n",
    "    calculate_stats(y_test, y_pred, \"Random Forest\")\n",
    "\n",
    "    return rf.predict_proba(X_test)"
   ],
   "metadata": {
    "collapsed": false,
    "pycharm": {
     "name": "#%%\n"
    }
   }
  },
  {
   "cell_type": "code",
   "execution_count": null,
   "outputs": [],
   "source": [
    "def gradient_boosted_tree():\n",
    "    gbt = GradientBoostingClassifier(learning_rate=0.09, max_depth=8, min_samples_split=100, n_estimators=250, max_features=None)\n",
    "    gbt.fit(X_train, y_train)\n",
    "    y_pred = gbt.predict(X_test)\n",
    "\n",
    "    calculate_stats(y_test, y_pred, \"Gradient Boosted Tree\")\n",
    "\n",
    "    return gbt.predict_proba(X_test)"
   ],
   "metadata": {
    "collapsed": false,
    "pycharm": {
     "name": "#%%\n"
    }
   }
  },
  {
   "cell_type": "code",
   "execution_count": null,
   "outputs": [],
   "source": [
    "X_train, X_test, y_train, y_test = preprocess_continuous(X, y1)\n",
    "lr_xg = linear_regression()"
   ],
   "metadata": {
    "collapsed": false,
    "pycharm": {
     "name": "#%%\n"
    }
   }
  },
  {
   "cell_type": "code",
   "execution_count": null,
   "outputs": [],
   "source": [
    "X_train, X_test, y_train, y_test = preprocess_classifier(X, y2)\n",
    "lor_xg = logistic_regression()"
   ],
   "metadata": {
    "collapsed": false,
    "pycharm": {
     "name": "#%%\n"
    }
   }
  },
  {
   "cell_type": "code",
   "execution_count": null,
   "outputs": [],
   "source": [
    "dt_xg, viz = decision_tree()"
   ],
   "metadata": {
    "collapsed": false,
    "pycharm": {
     "name": "#%%\n"
    }
   }
  },
  {
   "cell_type": "code",
   "execution_count": null,
   "outputs": [],
   "source": [
    "# To enable the decision tree visualization, install GraphViz with your Python executable\n",
    "# viz.view(fancy=False)"
   ],
   "metadata": {
    "collapsed": false,
    "pycharm": {
     "name": "#%%\n"
    }
   }
  },
  {
   "cell_type": "code",
   "execution_count": null,
   "outputs": [],
   "source": [
    "rf_xg = random_forest()"
   ],
   "metadata": {
    "collapsed": false,
    "pycharm": {
     "name": "#%%\n"
    }
   }
  },
  {
   "cell_type": "code",
   "execution_count": null,
   "outputs": [],
   "source": [
    "gbt_xg = gradient_boosted_tree()"
   ],
   "metadata": {
    "collapsed": false,
    "pycharm": {
     "name": "#%%\n"
    }
   }
  },
  {
   "cell_type": "code",
   "execution_count": null,
   "outputs": [],
   "source": [
    "# empirically, the statsbomb predictions maximise f1 score at threshold=0.15, precision at threshold=1, recall at threshold=0, and accuracy at threshold=20\n",
    "_, X_temp, _, sb_xg = preprocess_continuous(X, y1)\n",
    "sb_pred = sb_xg.apply(lambda x: math.ceil(x-0.25))\n",
    "calculate_stats(y_test, sb_pred, \"StatsBomb\")"
   ],
   "metadata": {
    "collapsed": false,
    "pycharm": {
     "name": "#%%\n"
    }
   }
  },
  {
   "cell_type": "code",
   "execution_count": null,
   "outputs": [],
   "source": [
    "# empirically, the statsbomb predictions maximise f1 score at threshold=0.15, precision at threshold=1, recall at threshold=0, and accuracy at threshold=20\n",
    "rf_pred = [math.ceil(x[1]-0.25) for x in rf_xg]\n",
    "calculate_stats(y_test, rf_pred, \"Random Forest & Thresholded\")"
   ],
   "metadata": {
    "collapsed": false,
    "pycharm": {
     "name": "#%%\n"
    }
   }
  },
  {
   "cell_type": "code",
   "execution_count": null,
   "outputs": [],
   "source": [
    "# empirically, the statsbomb predictions maximise f1 score at threshold=0.15, precision at threshold=1, recall at threshold=0, and accuracy at threshold=20\n",
    "gbt_pred = [math.ceil(x[1]-0.25) for x in gbt_xg]\n",
    "calculate_stats(y_test, gbt_pred, \"Gradient Boosted & Thresholded\")"
   ],
   "metadata": {
    "collapsed": false,
    "pycharm": {
     "name": "#%%\n"
    }
   }
  },
  {
   "cell_type": "code",
   "execution_count": null,
   "outputs": [],
   "source": [
    "# This reveals the correlation between our predictions and StatsBomb xG (higher is better, for the most part)\n",
    "df = pd.DataFrame({\"lr_xg\": lr_xg, \"lor_xg\": [x[1] for x in lor_xg], \"dt_xg\": [x[1] for x in dt_xg], \"rf_xg\": [x[1] for x in rf_xg], \"gbt_xg\": [x[1] for x in gbt_xg], \"sxg\": sb_xg})\n",
    "lrcoef = (pd.DataFrame(np.corrcoef(np.asarray(df[\"lr_xg\"]), np.asarray(df[\"sxg\"]))))\n",
    "lorcoef = (pd.DataFrame(np.corrcoef(np.asarray(df[\"lor_xg\"]), np.asarray(df[\"sxg\"]))))\n",
    "dtcoef = (pd.DataFrame(np.corrcoef(np.asarray(df[\"dt_xg\"]), np.asarray(df[\"sxg\"]))))\n",
    "rfcoef = (pd.DataFrame(np.corrcoef(np.asarray(df[\"rf_xg\"]), np.asarray(df[\"sxg\"]))))\n",
    "gbtcoef = (pd.DataFrame(np.corrcoef(np.asarray(df[\"gbt_xg\"]), np.asarray(df[\"sxg\"]))))"
   ],
   "metadata": {
    "collapsed": false,
    "pycharm": {
     "name": "#%%\n"
    }
   }
  },
  {
   "cell_type": "code",
   "execution_count": null,
   "outputs": [],
   "source": [
    "print(f\"Linear Regression: {lrcoef.iloc[0, 1]}\")\n",
    "print(f\"Logistic Regression: {lorcoef.iloc[0, 1]}\")\n",
    "print(f\"Decision Tree: {dtcoef.iloc[0, 1]}\")\n",
    "print(f\"Random Forest: {rfcoef.iloc[0, 1]}\")\n",
    "print(f\"xGBoost: {gbtcoef.iloc[0, 1]}\")"
   ],
   "metadata": {
    "collapsed": false,
    "pycharm": {
     "name": "#%%\n"
    }
   }
  },
  {
   "cell_type": "code",
   "execution_count": null,
   "outputs": [],
   "source": [
    "# This gives us a copy of the data to compare against\n",
    "_, data_copy_test, _, gbt_xg_test = train_test_split(data_copy[data_copy[\"is_penalty\"] == False], y2, test_size=0.3, random_state=20)\n",
    "diff_xg = [x[1] for x in gbt_xg] - sb_xg\n",
    "data_copy_test[\"diff\"] = diff_xg\n",
    "data_copy_test[\"gbt_xg\"] = [x[1] for x in gbt_xg]\n",
    "data_copy_test[\"sb_xg\"] = sb_xg"
   ],
   "metadata": {
    "collapsed": false,
    "pycharm": {
     "name": "#%%\n"
    }
   }
  },
  {
   "cell_type": "code",
   "execution_count": null,
   "outputs": [],
   "source": [
    "my_f1_scores = []\n",
    "sb_f1_scores = []\n",
    "for threshold in range(0, 100):\n",
    "    gbt_pred = [math.ceil(x[1]-(threshold/100)) for x in gbt_xg]\n",
    "    sb_pred = [math.ceil(x-(threshold/100)) for x in sb_xg]\n",
    "    my_f1 = f1_score(y_test, gbt_pred)\n",
    "    sb_f1 = f1_score(y_test, sb_pred)\n",
    "    my_f1_scores.append(my_f1)\n",
    "    sb_f1_scores.append(sb_f1)\n",
    "\n",
    "barWidth = 0.5\n",
    "r1 = np.arange(len(my_f1_scores))\n",
    "r2 = [x + barWidth for x in r1]\n",
    "\n",
    "plt.rcParams[\"font.size\"] = 10\n",
    "plt.rcParams[\"font.stretch\"] = \"semi-condensed\"\n",
    "plt.rcParams['grid.color'] = 'grey'\n",
    "\n",
    "plt.figure(figsize=(16,4))\n",
    "plt.bar(r1, pd.Series(my_f1_scores), color=\"firebrick\", width=barWidth, edgecolor='grey', label='Our Prediction')\n",
    "plt.bar(r2, pd.Series(sb_f1_scores), color=\"steelblue\", width=barWidth, edgecolor='grey', label='SB Prediction')\n",
    "\n",
    "plt.title(\"Our predictions vs StatsBomb xG\")\n",
    "plt.xlabel(\"Threshold\")\n",
    "plt.ylabel(\"F1 Score\")\n",
    "\n",
    "plt.xticks(r1, [x for x in range(0, 100)], rotation=45)\n",
    "plt.show()"
   ],
   "metadata": {
    "collapsed": false,
    "pycharm": {
     "name": "#%%\n"
    }
   }
  },
  {
   "cell_type": "code",
   "execution_count": null,
   "outputs": [],
   "source": [
    "my_brier_scores = []\n",
    "sb_brier_scores = []\n",
    "for threshold in range(0, 100):\n",
    "    gbt_pred = [math.ceil(x[1]-(threshold/100)) for x in gbt_xg]\n",
    "    sb_pred = [math.ceil(x-(threshold/100)) for x in sb_xg]\n",
    "    my_brier = brier_score_loss(y_test, gbt_pred)\n",
    "    sb_brier = brier_score_loss(y_test, sb_pred)\n",
    "    my_brier_scores.append(my_brier)\n",
    "    sb_brier_scores.append(sb_brier)\n",
    "\n",
    "barWidth = 0.5\n",
    "r1 = np.arange(len(my_brier_scores))\n",
    "r2 = [x + barWidth for x in r1]\n",
    "\n",
    "plt.rcParams[\"font.size\"] = 10\n",
    "plt.rcParams[\"font.stretch\"] = \"semi-condensed\"\n",
    "plt.rcParams['grid.color'] = 'grey'\n",
    "\n",
    "plt.figure(figsize=(16,4))\n",
    "plt.bar(r1, pd.Series(my_brier_scores), color=\"firebrick\", width=barWidth, edgecolor='grey', label='Our Prediction')\n",
    "plt.bar(r2, pd.Series(sb_brier_scores), color=\"steelblue\", width=barWidth, edgecolor='grey', label='SB Prediction')\n",
    "\n",
    "plt.title(\"Our predictions vs StatsBomb xG\")\n",
    "plt.xlabel(\"Threshold\")\n",
    "plt.ylabel(\"Brier Score\")\n",
    "\n",
    "plt.xticks(r1, [x for x in range(0, 100)], rotation=45)\n",
    "plt.show()\n",
    "print(my_brier_scores[-1])"
   ],
   "metadata": {
    "collapsed": false,
    "pycharm": {
     "name": "#%%\n"
    }
   }
  },
  {
   "cell_type": "code",
   "execution_count": null,
   "outputs": [],
   "source": [
    "fpr1, tpr1, thresholds1 = roc_curve(y_test, [x[1] for x in gbt_xg])\n",
    "roc_auc1 = roc_auc_score(y_test, [x[1] for x in gbt_xg])\n",
    "fpr2, tpr2, thresholds2 = roc_curve(y_test, sb_xg)\n",
    "roc_auc2 = roc_auc_score(y_test, sb_xg)\n",
    "\n",
    "plt.figure(figsize=(8, 6))\n",
    "plt.plot(fpr2, tpr2, color='steelblue', lw=2, label='SB ROC curve (area = {:.2f})'.format(roc_auc2))\n",
    "plt.plot(fpr1, tpr1, color='firebrick', lw=2, label='Our ROC curve (area = {:.2f})'.format(roc_auc1))\n",
    "plt.plot([0, 1], [0, 1], color='gray', linestyle='--')  # Plot the random classifier\n",
    "plt.xlabel('False Positive Rate')\n",
    "plt.ylabel('True Positive Rate')\n",
    "plt.title('Receiver Operating Characteristic (ROC) Curve')\n",
    "plt.legend(loc='lower right')\n",
    "plt.show()"
   ],
   "metadata": {
    "collapsed": false,
    "pycharm": {
     "name": "#%%\n"
    }
   }
  },
  {
   "cell_type": "code",
   "execution_count": null,
   "outputs": [],
   "source": [
    "ax = data_copy_test[(data_copy_test[\"is_goal\"] == True)][\"sb_xg\"].apply(lambda x: round(x, 2)).hist(bins=100, xlabelsize=10, ylabelsize=6, alpha=0.8, color=\"steelblue\")\n",
    "ax2 = data_copy_test[(data_copy_test[\"is_goal\"] == True)][\"gbt_xg\"].apply(lambda x: round(x, 2)).hist(bins=100, xlabelsize=10, ylabelsize=6, alpha=0.8, color=\"firebrick\")\n",
    "ax.set_title('Distribution of goals by likelihood', weight='bold')\n",
    "ax.set_xlabel('GB xG')\n",
    "ax.set_ylabel('Frequency')\n",
    "plt.show()"
   ],
   "metadata": {
    "collapsed": false,
    "pycharm": {
     "name": "#%%\n"
    }
   }
  },
  {
   "cell_type": "code",
   "execution_count": null,
   "outputs": [],
   "source": [
    "# We can now plot some PDPs to measure how changes in some of our key features affect our likelihood\n",
    "dt = DecisionTreeClassifier(criterion=\"gini\", max_depth=12, max_leaf_nodes=100, min_samples_split=100)\n",
    "dt.fit(X_train, y_train)\n",
    "y_pred = dt.predict(X_test)\n",
    "importance = dt.feature_importances_"
   ],
   "metadata": {
    "collapsed": false,
    "pycharm": {
     "name": "#%%\n"
    }
   }
  },
  {
   "cell_type": "code",
   "execution_count": null,
   "outputs": [],
   "source": [
    "PartialDependenceDisplay.from_estimator(dt, X_train, [\"distance_to_goalie\", \"defenders_triangle\"])"
   ],
   "metadata": {
    "collapsed": false,
    "pycharm": {
     "name": "#%%\n"
    }
   }
  },
  {
   "cell_type": "code",
   "execution_count": null,
   "outputs": [],
   "source": [
    "PartialDependenceDisplay.from_estimator(dt, X_train, [\"game_state\", \"was_leading\"])"
   ],
   "metadata": {
    "collapsed": false,
    "pycharm": {
     "name": "#%%\n"
    }
   }
  },
  {
   "cell_type": "code",
   "execution_count": null,
   "outputs": [],
   "source": [
    "PartialDependenceDisplay.from_estimator(dt, X_train, [\"good_foot\"])"
   ],
   "metadata": {
    "collapsed": false,
    "pycharm": {
     "name": "#%%\n"
    }
   }
  },
  {
   "cell_type": "code",
   "execution_count": null,
   "outputs": [],
   "source": [
    "PartialDependenceDisplay.from_estimator(dt, X_train, [\"own_past_minute\", \"own_past_15\"])"
   ],
   "metadata": {
    "collapsed": false,
    "pycharm": {
     "name": "#%%\n"
    }
   }
  },
  {
   "cell_type": "code",
   "execution_count": null,
   "outputs": [],
   "source": [
    "PartialDependenceDisplay.from_estimator(dt, X_train, [\"is_extra_time\"])"
   ],
   "metadata": {
    "collapsed": false,
    "pycharm": {
     "name": "#%%\n"
    }
   }
  },
  {
   "cell_type": "code",
   "execution_count": null,
   "outputs": [],
   "source": [],
   "metadata": {
    "collapsed": false,
    "pycharm": {
     "name": "#%%\n"
    }
   }
  }
 ],
 "metadata": {
  "kernelspec": {
   "display_name": "Python 3",
   "language": "python",
   "name": "python3"
  },
  "language_info": {
   "codemirror_mode": {
    "name": "ipython",
    "version": 2
   },
   "file_extension": ".py",
   "mimetype": "text/x-python",
   "name": "python",
   "nbconvert_exporter": "python",
   "pygments_lexer": "ipython2",
   "version": "2.7.6"
  }
 },
 "nbformat": 4,
 "nbformat_minor": 0
}