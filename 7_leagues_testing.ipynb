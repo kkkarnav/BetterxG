{
 "cells": [
  {
   "cell_type": "code",
   "execution_count": 1,
   "metadata": {},
   "outputs": [],
   "source": [
    "import pandas as pd\n",
    "import numpy as np\n",
    "import matplotlib.pyplot as plt\n",
    "import math\n",
    "\n",
    "from sklearn.model_selection import train_test_split, GridSearchCV\n",
    "from sklearn.feature_selection import mutual_info_classif\n",
    "from sklearn.preprocessing import StandardScaler\n",
    "from imblearn.over_sampling import SMOTE\n",
    "\n",
    "from sklearn.linear_model import LogisticRegression\n",
    "from sklearn.linear_model import LinearRegression\n",
    "from sklearn.tree import DecisionTreeClassifier\n",
    "from sklearn.ensemble import GradientBoostingClassifier\n",
    "\n",
    "from sklearn.metrics import accuracy_score, precision_score, recall_score, f1_score\n",
    "from sklearn.metrics import mean_absolute_error, root_mean_squared_error, r2_score\n",
    "from sklearn.metrics import confusion_matrix, ConfusionMatrixDisplay\n",
    "from sklearn.metrics import roc_curve, auc\n",
    "import dtreeviz\n",
    "\n",
    "from tqdm import tqdm\n",
    "import warnings\n",
    "from pprint import pprint\n",
    "\n",
    "warnings.filterwarnings(\"ignore\")"
   ]
  },
  {
   "cell_type": "code",
   "execution_count": 12,
   "metadata": {},
   "outputs": [],
   "source": [
    "all_shots = pd.read_csv(\"./data/all_shots.csv\")\n",
    "laliga_shots = pd.read_csv(\"./data/laliga_shots.csv\")\n",
    "bundesliga_shots = pd.read_csv(\"./data/bundesliga_shots.csv\")\n",
    "pl_shots = pd.read_csv(\"./data/PL_shots.csv\")"
   ]
  },
  {
   "cell_type": "code",
   "execution_count": 13,
   "metadata": {},
   "outputs": [],
   "source": [
    "all_leagues = [all_shots, laliga_shots, bundesliga_shots, pl_shots]\n",
    "\n",
    "for league in all_leagues:\n",
    "    league.drop(['period', 'minute', 'possession', 'duration', 'season_id', 'match_id', 'timestamp', 'team'], axis=1, inplace=True)\n",
    "    # drop redundant features\n",
    "    if(\"location_x\" in league.columns):\n",
    "        league.drop([\"location_x\", \"location_y\"], axis=1, inplace=True)\n",
    "    # drop features that leak target information\n",
    "    if(\"shot_angle\" in league.columns):\n",
    "        league.drop([\"shot_angle\"], axis=1, inplace=True)\n",
    "    # drop low information features\n",
    "    league.drop([\"aerial_won\", \"follows_dribble\", \"num_passes\", \"pass_duration\", \"pass_height\", \"pass_type\", \"type\"], axis=1, inplace=True)\n",
    "    # \"position\", \"body_part\", \"type\", \"pass_height\", \"pass_type\""
   ]
  },
  {
   "cell_type": "code",
   "execution_count": 14,
   "metadata": {},
   "outputs": [],
   "source": [
    "encoded_data = all_shots\n",
    "for column_name in [\"technique\", \"body_part\", \"play_pattern\", \"position\"]:\n",
    "    one_hot_encoded = pd.get_dummies(encoded_data[column_name], prefix=column_name)\n",
    "    encoded_data = encoded_data.drop(column_name, axis=1)\n",
    "    encoded_data = pd.concat([encoded_data, one_hot_encoded], axis=1)\n",
    "all_shots = encoded_data\n",
    "\n",
    "all_shots = all_shots.dropna()\n",
    "all_shots.replace([np.inf, -np.inf], 0, inplace=True)\n",
    "\n",
    "encoded_data = laliga_shots\n",
    "for column_name in [\"technique\", \"body_part\", \"play_pattern\", \"position\"]:\n",
    "    one_hot_encoded = pd.get_dummies(encoded_data[column_name], prefix=column_name)\n",
    "    encoded_data = encoded_data.drop(column_name, axis=1)\n",
    "    encoded_data = pd.concat([encoded_data, one_hot_encoded], axis=1)\n",
    "laliga_shots = encoded_data\n",
    "\n",
    "laliga_shots = laliga_shots.dropna()\n",
    "laliga_shots.replace([np.inf, -np.inf], 0, inplace=True)\n",
    "\n",
    "encoded_data = bundesliga_shots\n",
    "for column_name in [\"technique\", \"body_part\", \"play_pattern\", \"position\"]:\n",
    "    one_hot_encoded = pd.get_dummies(encoded_data[column_name], prefix=column_name)\n",
    "    encoded_data = encoded_data.drop(column_name, axis=1)\n",
    "    encoded_data = pd.concat([encoded_data, one_hot_encoded], axis=1)\n",
    "bundesliga_shots = encoded_data\n",
    "\n",
    "bundesliga_shots = bundesliga_shots.dropna()\n",
    "bundesliga_shots.replace([np.inf, -np.inf], 0, inplace=True)\n",
    "\n",
    "encoded_data = pl_shots\n",
    "for column_name in [\"technique\", \"body_part\", \"play_pattern\", \"position\"]:\n",
    "    one_hot_encoded = pd.get_dummies(encoded_data[column_name], prefix=column_name)\n",
    "    encoded_data = encoded_data.drop(column_name, axis=1)\n",
    "    encoded_data = pd.concat([encoded_data, one_hot_encoded], axis=1)\n",
    "pl_shots = encoded_data\n",
    "\n",
    "pl_shots = pl_shots.dropna()\n",
    "pl_shots.replace([np.inf, -np.inf], 0, inplace=True)\n"
   ]
  },
  {
   "cell_type": "code",
   "execution_count": 15,
   "metadata": {},
   "outputs": [],
   "source": [
    "# all_shots_y1 = all_shots[\"statsbomb_xg\"]\n",
    "# all_shots_y2 = all_shots[\"is_goal\"]\n",
    "# all_shots_X = all_shots.drop([\"statsbomb_xg\", \"is_goal\", \"end_location_x\", \"end_location_y\"], axis=1)\n",
    "\n",
    "# laliga_y1 =laliga_shots[\"statsbomb_xg\"]\n",
    "# laliga_y2 =laliga_shots[\"is_goal\"]\n",
    "# laliga_X = laliga_shots.drop([\"statsbomb_xg\", \"is_goal\", \"end_location_x\", \"end_location_y\"], axis=1)\n",
    "\n",
    "# bundesliga_y1 = bundesliga_shots[\"statsbomb_xg\"]\n",
    "# bundesliga_y2 = bundesliga_shots[\"is_goal\"]\n",
    "# bundesliga_X =  bundesliga_shots.drop([\"statsbomb_xg\", \"is_goal\", \"end_location_x\", \"end_location_y\"], axis=1)\n",
    "\n",
    "# pl_y1 = pl_shots[\"statsbomb_xg\"]\n",
    "# pl_y2 = pl_shots[\"is_goal\"]\n",
    "# pl_X =  pl_shots.drop([\"statsbomb_xg\", \"is_goal\", \"end_location_x\", \"end_location_y\"], axis=1)"
   ]
  },
  {
   "cell_type": "code",
   "execution_count": 16,
   "metadata": {},
   "outputs": [],
   "source": [
    "def calculate_stats(results_test, results_pred, name):\n",
    "    # cm = confusion_matrix(results_test, results_pred)\n",
    "    # disp = ConfusionMatrixDisplay(confusion_matrix=cm, display_labels=[\"Not a goal\", \"Goal\"])\n",
    "    # disp.plot(cmap=plt.cm.Blues)\n",
    "    # plt.title(f'Confusion Matrix ({name})')\n",
    "    # plt.show()\n",
    "\n",
    "    # print(f\"\\n{name}\")\n",
    "    # accuracy = accuracy_score(results_test, results_pred)\n",
    "    # precision = precision_score(results_test, results_pred)\n",
    "    # recall = recall_score(results_test, results_pred)\n",
    "    f1 = f1_score(results_test, results_pred)\n",
    "    # print(\"Accuracy:\", accuracy)\n",
    "    # print(\"Precision:\", precision)\n",
    "    # print(\"Recall:\", recall)\n",
    "    # print(\"F1:\", f1)\n",
    "    \n",
    "    return f1"
   ]
  },
  {
   "cell_type": "code",
   "execution_count": 17,
   "metadata": {},
   "outputs": [],
   "source": [
    "def decision_tree(X_train, y_train, X_test, y_test):\n",
    "    dt = DecisionTreeClassifier(criterion=\"gini\", max_depth=12, max_leaf_nodes=50, min_samples_split=100)\n",
    "    dt.fit(X_train, y_train)\n",
    "    y_pred = dt.predict(X_test)\n",
    "\n",
    "    f1 = calculate_stats(y_test, y_pred, \"Decision Tree\")\n",
    "\n",
    "    # viz_model = dtreeviz.model(dt,\n",
    "    #                        X_train=X_train, y_train=y_train,\n",
    "    #                        feature_names=X.columns, target_name=\"is_goal\", class_names=[\"Not a goal\", \"Goal\"])\n",
    "\n",
    "    return dt.predict_proba(X_test), f1"
   ]
  },
  {
   "cell_type": "code",
   "execution_count": 46,
   "metadata": {},
   "outputs": [],
   "source": [
    "def preprocess_classifier(X, y):\n",
    "\n",
    "    scaler = StandardScaler().fit(X)\n",
    "    X = scaler.transform(X)\n",
    "\n",
    "    X_train, X_test, y_train, y_test = train_test_split(X, y, test_size=0.3, random_state=20)\n",
    "\n",
    "   # X_train, y_train = SMOTE(sampling_strategy=0.30).fit_resample(X_train, y_train)\n",
    "\n",
    "    return X_train, X_test, y_train, y_test"
   ]
  },
  {
   "cell_type": "code",
   "execution_count": 19,
   "metadata": {},
   "outputs": [],
   "source": [
    "def preprocess_classifier_2(X, y):\n",
    "\n",
    "    scaler = StandardScaler().fit(X)\n",
    "    X = scaler.transform(X)\n",
    "\n",
    "    #X, y = SMOTE(sampling_strategy=0.3).fit_resample(X, y)\n",
    "\n",
    "    return X, y"
   ]
  },
  {
   "cell_type": "code",
   "execution_count": 20,
   "metadata": {},
   "outputs": [],
   "source": [
    "# remove columns that are not present in all datasets\n",
    "\n",
    "all_columns = all_shots.columns\n",
    "laliga_columns = laliga_shots.columns\n",
    "bundesliga_columns = bundesliga_shots.columns\n",
    "pl_columns = pl_shots.columns\n",
    "\n",
    "common_columns = list(set(all_columns) & set(laliga_columns) & set(bundesliga_columns) & set(pl_columns))\n",
    "\n",
    "all_shots = all_shots[common_columns]\n",
    "laliga_shots = laliga_shots[common_columns]\n",
    "bundesliga_shots= bundesliga_shots[common_columns]\n",
    "pl_shots = pl_shots[common_columns]"
   ]
  },
  {
   "cell_type": "code",
   "execution_count": 27,
   "metadata": {},
   "outputs": [],
   "source": [
    "# function which takes in two league datasets, trains on first and tests on second, repeats 100 times, returns all f1 scores. if size of training set is > than test, randomly sample the train set to have 7831 points every time. if the train and test leagues are the same, just use preprocess_classifier instead of preprocess_classifier_2. \n",
    "\n",
    "def train_test_leagues(league1, league2, all = False):\n",
    "    f1_scores = []\n",
    "    X_test, y_test = preprocess_classifier_2(league2.drop([\"statsbomb_xg\", \"is_goal\", \"end_location_x\", \"end_location_y\"], axis=1), league2[\"is_goal\"])\n",
    "    for i in tqdm(range(100)):\n",
    "        if all == False:\n",
    "            league1_reduced = league1.sample(n=7831)\n",
    "        else:\n",
    "            league1_reduced = league1\n",
    "        league1_X = league1_reduced.drop([\"statsbomb_xg\", \"is_goal\", \"end_location_x\", \"end_location_y\"], axis=1)\n",
    "        league1_y2 = league1_reduced[\"is_goal\"]\n",
    "        \n",
    "        X_train, y_train = preprocess_classifier_2(league1_X, league1_y2)\n",
    "        \n",
    "        _, f1 = decision_tree(X_train, y_train, X_test, y_test)\n",
    "        f1_scores.append(f1)\n",
    "\n",
    "    return f1_scores"
   ]
  },
  {
   "cell_type": "code",
   "execution_count": 55,
   "metadata": {},
   "outputs": [
    {
     "name": "stderr",
     "output_type": "stream",
     "text": [
      "100%|██████████| 100/100 [00:11<00:00,  8.65it/s]\n",
      "100%|██████████| 100/100 [00:11<00:00,  8.40it/s]\n",
      "100%|██████████| 100/100 [01:38<00:00,  1.02it/s]\n",
      "100%|██████████| 100/100 [01:41<00:00,  1.02s/it]\n"
     ]
    }
   ],
   "source": [
    "#use the train_test_leagues function to train on bundesliga and test on laliga\n",
    "\n",
    "f1_scores_bundesliga_laliga = train_test_leagues(bundesliga_shots, laliga_shots)\n",
    "f1_scores_laliga_bundesliga = train_test_leagues(laliga_shots, bundesliga_shots)\n",
    "f1_scores_all_laliga = train_test_leagues(all_shots, laliga_shots, all = True)\n",
    "f1_scores_all_bundesliga = train_test_leagues(all_shots, bundesliga_shots, all = True)"
   ]
  },
  {
   "cell_type": "code",
   "execution_count": 56,
   "metadata": {},
   "outputs": [
    {
     "name": "stdout",
     "output_type": "stream",
     "text": [
      "t: -9.165824200023996\n",
      "p: 6.373189289484359e-17\n"
     ]
    }
   ],
   "source": [
    "# t test on the f1 scores of the two leagues\n",
    "\n",
    "from scipy.stats import ttest_ind\n",
    "\n",
    "t, p = ttest_ind(f1_scores_bundesliga_laliga, f1_scores_laliga_bundesliga)\n",
    "\n",
    "print(\"t:\", t)\n",
    "print(\"p:\", p)\n"
   ]
  },
  {
   "cell_type": "code",
   "execution_count": 60,
   "metadata": {},
   "outputs": [],
   "source": [
    "# perform permutation importance on the features of the decision tree\n",
    "\n",
    "from sklearn.inspection import permutation_importance\n",
    "\n",
    "X_train, X_test, y_train, y_test = preprocess_classifier(all_shots.drop([\"statsbomb_xg\", \"is_goal\", \"end_location_x\", \"end_location_y\"], axis=1), all_shots[\"is_goal\"])\n",
    "\n",
    "dt = DecisionTreeClassifier(criterion=\"gini\", max_depth=12, max_leaf_nodes=50, min_samples_split=100)\n",
    "dt.fit(X_train, y_train)\n",
    "\n",
    "result = permutation_importance(dt, X_test, y_test, n_repeats=50, random_state=42, n_jobs=2)\n",
    "\n",
    "sorted_idx = result.importances_mean.argsort()\n",
    "\n"
   ]
  },
  {
   "cell_type": "code",
   "execution_count": 37,
   "metadata": {},
   "outputs": [],
   "source": [
    "# perform permutation importance on laliga shots and bundesliga shots, compare the results\n",
    "\n",
    "X_train, X_test, y_train, y_test = preprocess_classifier(laliga_X, laliga_y2)\n",
    "\n",
    "dt = DecisionTreeClassifier(criterion=\"gini\", max_depth=12, max_leaf_nodes=50, min_samples_split=100)\n",
    "dt.fit(X_train, y_train)\n",
    "\n",
    "result_laliga = permutation_importance(dt, X_test, y_test, n_repeats=50, random_state=42, n_jobs=2)\n",
    "\n",
    "\n",
    "X_train, X_test, y_train, y_test = preprocess_classifier(bundesliga_X, bundesliga_y2)\n",
    "dt.fit(X_train, y_train)\n",
    "\n",
    "result_bundesliga = permutation_importance(dt, X_test, y_test, n_repeats=50, random_state=42, n_jobs=2)\n",
    "\n"
   ]
  },
  {
   "cell_type": "code",
   "execution_count": 38,
   "metadata": {},
   "outputs": [
    {
     "name": "stdout",
     "output_type": "stream",
     "text": [
      "All shots:\n",
      "position_Right Center Back: 0.0\n",
      "play_pattern_From Throw In: 0.0\n",
      "technique_Half Volley: 0.0\n",
      "position_Left Defensive Midfield: 0.0\n",
      "play_pattern_From Corner: 0.0\n",
      "position_Left Center Back: 0.0\n",
      "position_Left Center Midfield: 0.0\n",
      "position_Left Wing Back: 0.0013617021276596008\n",
      "technique_Normal: 0.0022723404255319333\n",
      "is_header: 0.00814468085106386\n",
      "body_part_Head: 0.0105617021276596\n",
      "shooting_range: 0.011038297872340447\n",
      "defenders_triangle: 0.012127659574468102\n",
      "distance_to_goalie: 0.021761702127659602\n",
      "goal_distance: 0.05464680851063831\n",
      "\n",
      "Laliga:\n",
      "distance_to_goalie: 0.00024680851063829445\n",
      "position_Left Wing Back: 0.000297872340425529\n",
      "position_Right Wing Back: 0.0005446808510638302\n",
      "position_Center Attacking Midfield: 0.0005531914893617085\n",
      "defenders_3m_radius: 0.0008340425531914986\n",
      "position_Right Back: 0.0009106382978723504\n",
      "play_pattern_From Goal Kick: 0.0010042553191489457\n",
      "position_Left Defensive Midfield: 0.0018042553191489551\n",
      "pass_angle: 0.0019148936170212893\n",
      "goalkeeper_x: 0.002757446808510644\n",
      "is_header: 0.0028680851063829847\n",
      "goal_distance: 0.004417021276595754\n",
      "defenders_triangle: 0.012221276595744686\n",
      "location_y_distance: 0.013829787234042568\n",
      "shooting_range: 0.09269787234042555\n",
      "\n",
      "Bundesliga:\n",
      "play_pattern_From Throw In: 0.0\n",
      "best_distance: 0.0\n",
      "position_Left Defensive Midfield: 0.0\n",
      "play_pattern_From Corner: 0.0\n",
      "position_Left Center Midfield: 0.0\n",
      "position_Left Center Back: 0.0\n",
      "pass_length: 6.808510638296461e-05\n",
      "position_Center Defensive Midfield: 0.0005191489361701862\n",
      "defenders_3m_radius: 0.0010042553191489212\n",
      "location_x_distance: 0.002663829787234031\n",
      "shooting_range: 0.005591489361702111\n",
      "location_y_distance: 0.01039148936170212\n",
      "defenders_triangle: 0.020408510638297853\n",
      "distance_to_goalie: 0.03574468085106382\n",
      "goal_distance: 0.07806808510638297\n"
     ]
    }
   ],
   "source": [
    "# list the top 10 most important features for each dataset\n",
    "\n",
    "sorted_idx = result.importances_mean.argsort()\n",
    "sorted_idx_bundesliga = result_bundesliga.importances_mean.argsort()\n",
    "sorted_idx_laliga = result_laliga.importances_mean.argsort()\n",
    "\n",
    "print(\"All shots:\")\n",
    "for i in sorted_idx[-15:]:\n",
    "    print(f\"{all_shots_X.columns[i]}: {result.importances_mean[i]}\")\n",
    "\n",
    "print(\"\\nLaliga:\")\n",
    "for i in sorted_idx_laliga[-15:]:\n",
    "    print(f\"{laliga_X.columns[i]}: {result_laliga.importances_mean[i]}\")\n",
    "    \n",
    "print(\"\\nBundesliga:\")\n",
    "for i in sorted_idx_bundesliga[-15:]:\n",
    "    print(f\"{bundesliga_X.columns[i]}: {result_bundesliga.importances_mean[i]}\")"
   ]
  },
  {
   "cell_type": "code",
   "execution_count": 39,
   "metadata": {},
   "outputs": [
    {
     "name": "stdout",
     "output_type": "stream",
     "text": [
      "Common features: ['goal_distance', 'defenders_triangle', 'shooting_range']\n",
      "\n",
      "in laliga but not in bundesliga: ['position_Right Back', 'play_pattern_From Goal Kick', 'goalkeeper_x', 'position_Left Defensive Midfield', 'pass_angle', 'is_header']\n",
      "\n",
      "in bundesliga but not in laliga: ['defenders_3m_radius', 'pass_length', 'location_x_distance', 'position_Center Defensive Midfield', 'distance_to_goalie']\n",
      "\n",
      "in all shots but not in laliga or bundesliga: ['body_part_Head']\n"
     ]
    }
   ],
   "source": [
    "# out of the top 10 features for each dataset, which aren't common?\n",
    "\n",
    "all_shots_features = [all_shots_X.columns[i] for i in sorted_idx[-6:]]\n",
    "laliga_features = [laliga_X.columns[i] for i in sorted_idx_laliga[-10:]]\n",
    "bundesliga_features = [bundesliga_X.columns[i] for i in sorted_idx_bundesliga[-9:]]\n",
    "\n",
    "common_features = list(set(all_shots_features) & set(laliga_features) & set(bundesliga_features))\n",
    "\n",
    "print(\"Common features:\", common_features)\n",
    "\n",
    "print(\"\\nin laliga but not in bundesliga:\", list(set(laliga_features) - set(bundesliga_features)))\n",
    "\n",
    "print(\"\\nin bundesliga but not in laliga:\", list(set(bundesliga_features) - set(laliga_features)))\n",
    "\n",
    "print(\"\\nin all shots but not in laliga or bundesliga:\", list(set(all_shots_features) - set(laliga_features) - set(bundesliga_features)))"
   ]
  }
 ],
 "metadata": {
  "kernelspec": {
   "display_name": "Python 3",
   "language": "python",
   "name": "python3"
  },
  "language_info": {
   "codemirror_mode": {
    "name": "ipython",
    "version": 3
   },
   "file_extension": ".py",
   "mimetype": "text/x-python",
   "name": "python",
   "nbconvert_exporter": "python",
   "pygments_lexer": "ipython3",
   "version": "3.11.2"
  }
 },
 "nbformat": 4,
 "nbformat_minor": 2
}
