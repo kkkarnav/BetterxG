{
 "cells": [
  {
   "cell_type": "code",
   "execution_count": 1,
   "metadata": {
    "collapsed": true
   },
   "outputs": [],
   "source": [
    "import pandas as pd\n",
    "import numpy as np\n",
    "import matplotlib.pyplot as plt\n",
    "import math\n",
    "\n",
    "import statsmodels.api as sm\n",
    "from sklearn.model_selection import train_test_split, GridSearchCV\n",
    "from sklearn.feature_selection import mutual_info_classif\n",
    "from sklearn.preprocessing import StandardScaler\n",
    "from imblearn.over_sampling import SMOTE\n",
    "\n",
    "from sklearn.linear_model import LogisticRegression\n",
    "from sklearn.linear_model import LinearRegression\n",
    "from sklearn.tree import DecisionTreeClassifier\n",
    "from sklearn.ensemble import GradientBoostingClassifier\n",
    "\n",
    "from sklearn.metrics import accuracy_score, precision_score, recall_score, f1_score\n",
    "from sklearn.metrics import mean_absolute_error, root_mean_squared_error, r2_score\n",
    "from sklearn.metrics import confusion_matrix, ConfusionMatrixDisplay\n",
    "from sklearn.metrics import roc_curve, roc_auc_score\n",
    "import dtreeviz\n",
    "\n",
    "from tqdm import tqdm\n",
    "import warnings\n",
    "from pprint import pprint\n",
    "\n",
    "warnings.filterwarnings(\"ignore\")"
   ]
  },
  {
   "cell_type": "code",
   "execution_count": 2,
   "outputs": [],
   "source": [
    "data = pd.read_csv(\"./data/augmented_data.csv\")"
   ],
   "metadata": {
    "collapsed": false,
    "pycharm": {
     "name": "#%%\n"
    }
   }
  },
  {
   "cell_type": "code",
   "execution_count": 3,
   "outputs": [
    {
     "data": {
      "text/plain": "period                     5\nminute                   139\nsecond                    60\npossession               290\nduration               77925\ncompetition_id            17\nseason_id                 41\nmatch_id                3312\ntimestamp              82726\nteam                     288\nplayer                  5638\nfreeze_frame           82866\nplay_pattern               9\nposition                  25\nplayer_type                5\nlocation_x               635\nlocation_x_distance      635\nlocation_y               701\nlocation_y_distance      471\ntechnique                  7\nbody_part                  4\ntype                       5\nis_penalty                 2\nis_header                  2\nfirst_time                 2\nopen_goal                  2\none_on_one                 2\naerial_won                 2\nfollows_dribble            2\nunder_pressure             2\npass_duration          11897\npass_angle             10504\npass_type                  8\npass_height                4\npass_length             9918\nnum_passes                13\ndefenders_3m_radius       10\ndefenders_triangle        13\ngoalkeeper_x             258\ngoalkeeper_y             355\ndistance_to_goalie     45505\nshooting_range         43794\nopen_range                13\ngoal_distance          36862\nbest_distance          30176\nstatsbomb_xg           82417\nend_location_x           375\nend_location_y           704\nis_goal                    2\nshot_angle             52863\ngood_foot                  2\nshots_so_far              46\nxg_so_far              77258\ngame_state                24\nwas_leading                3\npast_minute                6\npast_15                   28\nown_past_minute            6\nown_past_15               24\nis_extra_time              2\ndtype: int64"
     },
     "execution_count": 3,
     "metadata": {},
     "output_type": "execute_result"
    }
   ],
   "source": [
    "data.nunique()"
   ],
   "metadata": {
    "collapsed": false,
    "pycharm": {
     "name": "#%%\n"
    }
   }
  },
  {
   "cell_type": "code",
   "execution_count": 4,
   "outputs": [
    {
     "data": {
      "text/plain": "distance_to_goalie     0.057946\nshooting_range         0.052503\nbest_distance          0.049408\nopen_range             0.041420\ndefenders_triangle     0.041245\nlocation_x_distance    0.035676\ngoalkeeper_x           0.028497\nlocation_y_distance    0.022998\ngoalkeeper_y           0.022099\nis_penalty             0.017511\nown_past_minute        0.012997\nopen_goal              0.012847\npass_length            0.012442\npass_duration          0.009321\nperiod                 0.008647\ngood_foot              0.007831\nnum_passes             0.007005\nplayer_type            0.006258\nwas_leading            0.005626\nfirst_time             0.005401\npast_minute            0.005058\none_on_one             0.004239\npass_angle             0.003517\npast_15                0.003196\naerial_won             0.002238\nown_past_15            0.002170\nshots_so_far           0.001895\nminute                 0.001667\npossession             0.000984\nis_header              0.000901\nfollows_dribble        0.000641\nsecond                 0.000550\nis_extra_time          0.000000\ndtype: float64"
     },
     "execution_count": 4,
     "metadata": {},
     "output_type": "execute_result"
    }
   ],
   "source": [
    "# Use mutual_info classification to check which features yield the most information about the target variable\n",
    "data_copy = data.copy()\n",
    "X = data_copy.drop([\"statsbomb_xg\", \"is_goal\", \"end_location_x\", \"end_location_y\", \"shot_angle\", \"freeze_frame\", \"duration\", \"competition_id\", \"season_id\", \"match_id\", \"player\", \"timestamp\", \"team\", \"xg_so_far\", \"location_x\", \"location_y\", \"game_state\", \"body_part\", \"defenders_3m_radius\", \"under_pressure\", \"goal_distance\", \"play_pattern\", \"technique\", \"position\", \"body_part\", \"type\", \"pass_type\", \"pass_height\"], axis=1)\n",
    "mutual_info = mutual_info_classif(X, data[\"is_goal\"])\n",
    "mutual_info = pd.Series(mutual_info)\n",
    "mutual_info.index = X.columns\n",
    "mutual_info.sort_values(ascending=False)"
   ],
   "metadata": {
    "collapsed": false,
    "pycharm": {
     "name": "#%%\n"
    }
   }
  },
  {
   "cell_type": "code",
   "execution_count": 5,
   "outputs": [],
   "source": [
    "# drop redundant features\n",
    "data.drop([\"location_x\", \"location_y\", \"game_state\", \"body_part\", \"defenders_3m_radius\", \"under_pressure\", \"player_type\", \"best_distance\"], axis=1, inplace=True)\n",
    "# drop features that leak target information\n",
    "data.drop([\"end_location_x\", \"end_location_y\", \"shot_angle\", \"duration\", \"competition_id\", \"season_id\", \"match_id\", \"timestamp\", \"team\", \"player\", \"freeze_frame\", \"xg_so_far\"], axis=1, inplace=True)\n",
    "# drop low information features\n",
    "data.drop([\"period\", \"minute\", \"second\", \"possession\", \"aerial_won\", \"follows_dribble\", \"num_passes\", \"pass_length\", \"pass_duration\", \"pass_height\", \"pass_type\", \"pass_angle\", \"shots_so_far\", \"past_minute\", \"past_15\", \"own_past_minute\", \"own_past_15\"], axis=1, inplace=True)\n",
    "# drop penalties\n",
    "data = data[data[\"is_penalty\"] == False]"
   ],
   "metadata": {
    "collapsed": false,
    "pycharm": {
     "name": "#%%\n"
    }
   }
  },
  {
   "cell_type": "code",
   "execution_count": 6,
   "outputs": [
    {
     "data": {
      "text/plain": "play_pattern               9\nposition                  25\nlocation_x_distance      635\nlocation_y_distance      471\ntechnique                  7\ntype                       4\nis_penalty                 1\nis_header                  2\nfirst_time                 2\nopen_goal                  2\none_on_one                 2\ndefenders_triangle        12\ngoalkeeper_x             258\ngoalkeeper_y             355\ndistance_to_goalie     45441\nshooting_range         43788\nopen_range                12\ngoal_distance          36856\nstatsbomb_xg           82416\nis_goal                    2\ngood_foot                  2\nwas_leading                3\nis_extra_time              2\ndtype: int64"
     },
     "execution_count": 6,
     "metadata": {},
     "output_type": "execute_result"
    }
   ],
   "source": [
    "data.nunique()"
   ],
   "metadata": {
    "collapsed": false,
    "pycharm": {
     "name": "#%%\n"
    }
   }
  },
  {
   "cell_type": "code",
   "execution_count": 7,
   "outputs": [],
   "source": [
    "# one-hot encode the categorical data\n",
    "encoded_data = data\n",
    "for column_name in [\"play_pattern\", \"technique\", \"type\", \"position\"]:\n",
    "    one_hot_encoded = pd.get_dummies(encoded_data[column_name], prefix=column_name)\n",
    "    encoded_data = encoded_data.drop(column_name, axis=1)\n",
    "    encoded_data = pd.concat([encoded_data, one_hot_encoded], axis=1)\n",
    "data = encoded_data"
   ],
   "metadata": {
    "collapsed": false,
    "pycharm": {
     "name": "#%%\n"
    }
   }
  },
  {
   "cell_type": "code",
   "execution_count": 8,
   "outputs": [],
   "source": [
    "data = data.dropna()\n",
    "data.replace([np.inf, -np.inf], 0, inplace=True)"
   ],
   "metadata": {
    "collapsed": false,
    "pycharm": {
     "name": "#%%\n"
    }
   }
  },
  {
   "cell_type": "code",
   "execution_count": 9,
   "outputs": [],
   "source": [
    "y1 = data[\"statsbomb_xg\"]\n",
    "y2 = data[\"is_goal\"]\n",
    "X = data.drop([\"statsbomb_xg\", \"is_goal\"], axis=1)"
   ],
   "metadata": {
    "collapsed": false,
    "pycharm": {
     "name": "#%%\n"
    }
   }
  },
  {
   "cell_type": "code",
   "execution_count": 10,
   "outputs": [],
   "source": [
    "def preprocess_continuous(X, y):\n",
    "\n",
    "    scaler = StandardScaler().fit(X)\n",
    "    # X = scaler.transform(X)\n",
    "\n",
    "    X_train, X_test, y_train, y_test = train_test_split(X, y, test_size=0.3, random_state=20)\n",
    "\n",
    "    return X_train, X_test, y_train, y_test"
   ],
   "metadata": {
    "collapsed": false,
    "pycharm": {
     "name": "#%%\n"
    }
   }
  },
  {
   "cell_type": "code",
   "execution_count": 11,
   "outputs": [],
   "source": [
    "def preprocess_classifier(X, y):\n",
    "\n",
    "    scaler = StandardScaler().fit(X)\n",
    "    X = scaler.transform(X)\n",
    "\n",
    "    X_train, X_test, y_train, y_test = train_test_split(X, y, test_size=0.3, random_state=20)\n",
    "\n",
    "    X_train, y_train = SMOTE(sampling_strategy=0.2).fit_resample(X_train, y_train)\n",
    "\n",
    "    return X_train, X_test, y_train, y_test"
   ],
   "metadata": {
    "collapsed": false,
    "pycharm": {
     "name": "#%%\n"
    }
   }
  },
  {
   "cell_type": "code",
   "execution_count": 12,
   "outputs": [],
   "source": [
    "def calculate_errors(results_test, results_pred, name):\n",
    "    mae = mean_absolute_error(results_test, results_pred)\n",
    "    rmse = root_mean_squared_error(results_test, results_pred)\n",
    "    r2 = r2_score(results_test, results_pred)\n",
    "    print(f\"\\n{name}\")\n",
    "    print(\"Mean Absolute Error:\", mae)\n",
    "    print(\"Root Mean Squared Error:\", rmse)\n",
    "    print(\"R-squared (R2 Score):\", r2)"
   ],
   "metadata": {
    "collapsed": false,
    "pycharm": {
     "name": "#%%\n"
    }
   }
  },
  {
   "cell_type": "code",
   "execution_count": 13,
   "outputs": [],
   "source": [
    "def calculate_stats(results_test, results_pred, name):\n",
    "    cm = confusion_matrix(results_test, results_pred)\n",
    "    disp = ConfusionMatrixDisplay(confusion_matrix=cm, display_labels=[\"Not a goal\", \"Goal\"])\n",
    "    disp.plot(cmap=plt.cm.Blues)\n",
    "    plt.title(f'Confusion Matrix ({name})')\n",
    "    plt.show()\n",
    "\n",
    "    print(f\"\\n{name}\")\n",
    "    accuracy = accuracy_score(results_test, results_pred)\n",
    "    precision = precision_score(results_test, results_pred)\n",
    "    recall = recall_score(results_test, results_pred)\n",
    "    f1 = f1_score(results_test, results_pred)\n",
    "    print(\"Accuracy:\", accuracy)\n",
    "    print(\"Precision:\", precision)\n",
    "    print(\"Recall:\", recall)\n",
    "    print(\"F1:\", f1)"
   ],
   "metadata": {
    "collapsed": false,
    "pycharm": {
     "name": "#%%\n"
    }
   }
  },
  {
   "cell_type": "code",
   "execution_count": 14,
   "outputs": [],
   "source": [
    "def linear_regression():\n",
    "    linear_r = LinearRegression()\n",
    "    linear_r.fit(X_train, y_train)\n",
    "    y_pred = linear_r.predict(X_test)\n",
    "\n",
    "    calculate_errors(y_test, y_pred, \"Linear Regression\")\n",
    "\n",
    "    return y_pred"
   ],
   "metadata": {
    "collapsed": false,
    "pycharm": {
     "name": "#%%\n"
    }
   }
  },
  {
   "cell_type": "code",
   "execution_count": 15,
   "outputs": [
    {
     "name": "stdout",
     "output_type": "stream",
     "text": [
      "\n",
      "Linear Regression\n",
      "Mean Absolute Error: 0.03885812422763788\n",
      "Root Mean Squared Error: 0.061737628948550984\n",
      "R-squared (R2 Score): 0.751088532144331\n"
     ]
    }
   ],
   "source": [
    "X_train, X_test, y_train, y_test = preprocess_continuous(X, y1)\n",
    "lr_xg = linear_regression()"
   ],
   "metadata": {
    "collapsed": false,
    "pycharm": {
     "name": "#%%\n"
    }
   }
  },
  {
   "cell_type": "code",
   "execution_count": 16,
   "outputs": [
    {
     "name": "stdout",
     "output_type": "stream",
     "text": [
      "                 Generalized Linear Model Regression Results                  \n",
      "==============================================================================\n",
      "Dep. Variable:           statsbomb_xg   No. Observations:                57899\n",
      "Model:                            GLM   Df Residuals:                    57842\n",
      "Model Family:                Gaussian   Df Model:                           56\n",
      "Link Function:               Identity   Scale:                        0.014031\n",
      "Method:                          IRLS   Log-Likelihood:                 43431.\n",
      "Date:                Thu, 09 May 2024   Deviance:                       756.22\n",
      "Time:                        07:46:22   Pearson chi2:                     756.\n",
      "No. Iterations:                   100   Pseudo R-squ. (CS):             0.1788\n",
      "Covariance Type:            nonrobust                                         \n",
      "==============================================================================\n",
      "                 coef    std err          z      P>|z|      [0.025      0.975]\n",
      "------------------------------------------------------------------------------\n",
      "x1             0.0438      0.004     11.248      0.000       0.036       0.051\n",
      "x2             0.0074      0.001      5.272      0.000       0.005       0.010\n",
      "const      -2.081e+12   1.91e+11    -10.916      0.000   -2.45e+12   -1.71e+12\n",
      "x3            -0.0406      0.001    -54.192      0.000      -0.042      -0.039\n",
      "x4             0.0090      0.001     14.581      0.000       0.008       0.010\n",
      "x5             0.0279      0.001     50.960      0.000       0.027       0.029\n",
      "x6             0.0148      0.001     27.537      0.000       0.014       0.016\n",
      "x7            -0.0102      0.001     -9.899      0.000      -0.012      -0.008\n",
      "x8            -0.0220      0.001    -33.740      0.000      -0.023      -0.021\n",
      "x9             0.0018      0.001      3.086      0.002       0.001       0.003\n",
      "x10           -0.0443      0.002    -28.821      0.000      -0.047      -0.041\n",
      "x11            0.0776      0.001     78.895      0.000       0.076       0.080\n",
      "x12           -0.0127      0.001    -13.618      0.000      -0.015      -0.011\n",
      "x13           -0.0293      0.005     -6.137      0.000      -0.039      -0.020\n",
      "x14            0.0022      0.001      3.951      0.000       0.001       0.003\n",
      "x15            0.0019      0.001      3.829      0.000       0.001       0.003\n",
      "x16            0.0006      0.000      1.219      0.223      -0.000       0.002\n",
      "x17        -2.033e+11   1.86e+10    -10.916      0.000    -2.4e+11   -1.67e+11\n",
      "x18        -1.155e+11   1.06e+10    -10.916      0.000   -1.36e+11   -9.48e+10\n",
      "x19        -2.245e+11   2.06e+10    -10.916      0.000   -2.65e+11   -1.84e+11\n",
      "x20        -1.057e+11   9.69e+09    -10.916      0.000   -1.25e+11   -8.68e+10\n",
      "x21        -6.824e+10   6.25e+09    -10.916      0.000   -8.05e+10    -5.6e+10\n",
      "x22        -5.918e+10   5.42e+09    -10.916      0.000   -6.98e+10   -4.86e+10\n",
      "x23        -2.115e+11   1.94e+10    -10.916      0.000   -2.49e+11   -1.74e+11\n",
      "x24        -2.403e+10    2.2e+09    -10.916      0.000   -2.83e+10   -1.97e+10\n",
      "x25        -2.609e+11   2.39e+10    -10.916      0.000   -3.08e+11   -2.14e+11\n",
      "x26        -3.453e+10   3.16e+09    -10.916      0.000   -4.07e+10   -2.83e+10\n",
      "x27        -3.401e+10   3.12e+09    -10.916      0.000   -4.01e+10   -2.79e+10\n",
      "x28        -1.877e+11   1.72e+10    -10.916      0.000   -2.21e+11   -1.54e+11\n",
      "x29        -5.423e+10   4.97e+09    -10.916      0.000    -6.4e+10   -4.45e+10\n",
      "x30        -2.287e+11    2.1e+10    -10.916      0.000    -2.7e+11   -1.88e+11\n",
      "x31        -3.991e+10   3.66e+09    -10.916      0.000   -4.71e+10   -3.27e+10\n",
      "x32        -1.358e+11   1.24e+10    -10.916      0.000    -1.6e+11   -1.11e+11\n",
      "x33         4.712e+10   4.32e+09     10.916      0.000    3.87e+10    5.56e+10\n",
      "x34          6.01e+11   5.51e+10     10.916      0.000    4.93e+11    7.09e+11\n",
      "x35         9.619e+09   8.81e+08     10.916      0.000    7.89e+09    1.13e+10\n",
      "x36         6.027e+11   5.52e+10     10.916      0.000    4.95e+11    7.11e+11\n",
      "x37        -1.089e+10   9.97e+08    -10.916      0.000   -1.28e+10   -8.93e+09\n",
      "x38        -2.865e+09   2.62e+08    -10.916      0.000   -3.38e+09   -2.35e+09\n",
      "x39        -6.581e+09   6.03e+08    -10.916      0.000   -7.76e+09    -5.4e+09\n",
      "x40        -1.588e+10   1.45e+09    -10.916      0.000   -1.87e+10    -1.3e+10\n",
      "x41        -1.209e+09   1.11e+08    -10.916      0.000   -1.43e+09   -9.92e+08\n",
      "x42        -4.274e+08   3.92e+07    -10.916      0.000   -5.04e+08   -3.51e+08\n",
      "x43        -2.752e+09   2.52e+08    -10.916      0.000   -3.25e+09   -2.26e+09\n",
      "x44        -8.005e+09   7.33e+08    -10.916      0.000   -9.44e+09   -6.57e+09\n",
      "x45        -7.902e+09   7.24e+08    -10.916      0.000   -9.32e+09   -6.48e+09\n",
      "x46         -1.04e+10   9.53e+08    -10.916      0.000   -1.23e+10   -8.53e+09\n",
      "x47        -1.011e+10   9.26e+08    -10.916      0.000   -1.19e+10    -8.3e+09\n",
      "x48        -8.336e+09   7.64e+08    -10.916      0.000   -9.83e+09   -6.84e+09\n",
      "x49        -8.806e+09   8.07e+08    -10.916      0.000   -1.04e+10   -7.22e+09\n",
      "x50        -1.304e+10   1.19e+09    -10.916      0.000   -1.54e+10   -1.07e+10\n",
      "x51        -3.873e+09   3.55e+08    -10.916      0.000   -4.57e+09   -3.18e+09\n",
      "x52        -2.857e+09   2.62e+08    -10.916      0.000   -3.37e+09   -2.34e+09\n",
      "x53        -7.801e+09   7.15e+08    -10.916      0.000    -9.2e+09    -6.4e+09\n",
      "x54        -8.131e+09   7.45e+08    -10.916      0.000   -9.59e+09   -6.67e+09\n",
      "x55        -1.027e+10   9.41e+08    -10.916      0.000   -1.21e+10   -8.43e+09\n",
      "x56        -9.805e+09   8.98e+08    -10.916      0.000   -1.16e+10   -8.04e+09\n",
      "x57        -8.069e+09   7.39e+08    -10.916      0.000   -9.52e+09   -6.62e+09\n",
      "x58        -8.375e+09   7.67e+08    -10.916      0.000   -9.88e+09   -6.87e+09\n",
      "x59        -1.271e+10   1.16e+09    -10.916      0.000    -1.5e+10   -1.04e+10\n",
      "x60        -3.902e+09   3.57e+08    -10.916      0.000    -4.6e+09    -3.2e+09\n",
      "x61        -1.014e+09   9.28e+07    -10.916      0.000    -1.2e+09   -8.32e+08\n",
      "==============================================================================\n"
     ]
    }
   ],
   "source": [
    "gam_model = sm.GLM(y_train, X_train, family=sm.families.Gaussian())  # Assuming Gaussian family for continuous outcome\n",
    "gam_result = gam_model.fit()\n",
    "print(gam_result.summary())"
   ],
   "metadata": {
    "collapsed": false,
    "pycharm": {
     "name": "#%%\n"
    }
   }
  },
  {
   "cell_type": "code",
   "execution_count": 17,
   "outputs": [
    {
     "name": "stdout",
     "output_type": "stream",
     "text": [
      "\n",
      "GAM\n",
      "Mean Absolute Error: 0.09831388667422764\n",
      "Root Mean Squared Error: 0.11433101086472724\n",
      "R-squared (R2 Score): 0.14636325707483944\n"
     ]
    }
   ],
   "source": [
    "y_pred = gam_result.predict(X_test)\n",
    "calculate_errors(y_test, y_pred, \"GAM\")"
   ],
   "metadata": {
    "collapsed": false,
    "pycharm": {
     "name": "#%%\n"
    }
   }
  },
  {
   "cell_type": "code",
   "execution_count": 18,
   "outputs": [
    {
     "ename": "ValueError",
     "evalue": "continuous format is not supported",
     "output_type": "error",
     "traceback": [
      "\u001B[1;31m---------------------------------------------------------------------------\u001B[0m",
      "\u001B[1;31mValueError\u001B[0m                                Traceback (most recent call last)",
      "Cell \u001B[1;32mIn[18], line 1\u001B[0m\n\u001B[1;32m----> 1\u001B[0m fpr1, tpr1, thresholds1 \u001B[38;5;241m=\u001B[39m \u001B[43mroc_curve\u001B[49m\u001B[43m(\u001B[49m\u001B[43my_test\u001B[49m\u001B[43m,\u001B[49m\u001B[43m \u001B[49m\u001B[43my_pred\u001B[49m\u001B[43m)\u001B[49m\n\u001B[0;32m      2\u001B[0m roc_auc1 \u001B[38;5;241m=\u001B[39m roc_auc_score(y_test, y_pred)\n\u001B[0;32m      4\u001B[0m plt\u001B[38;5;241m.\u001B[39mfigure(figsize\u001B[38;5;241m=\u001B[39m(\u001B[38;5;241m8\u001B[39m, \u001B[38;5;241m6\u001B[39m))\n",
      "File \u001B[1;32m~\\AppData\\Roaming\\Python\\Python310\\site-packages\\sklearn\\utils\\_param_validation.py:213\u001B[0m, in \u001B[0;36mvalidate_params.<locals>.decorator.<locals>.wrapper\u001B[1;34m(*args, **kwargs)\u001B[0m\n\u001B[0;32m    207\u001B[0m \u001B[38;5;28;01mtry\u001B[39;00m:\n\u001B[0;32m    208\u001B[0m     \u001B[38;5;28;01mwith\u001B[39;00m config_context(\n\u001B[0;32m    209\u001B[0m         skip_parameter_validation\u001B[38;5;241m=\u001B[39m(\n\u001B[0;32m    210\u001B[0m             prefer_skip_nested_validation \u001B[38;5;129;01mor\u001B[39;00m global_skip_validation\n\u001B[0;32m    211\u001B[0m         )\n\u001B[0;32m    212\u001B[0m     ):\n\u001B[1;32m--> 213\u001B[0m         \u001B[38;5;28;01mreturn\u001B[39;00m func(\u001B[38;5;241m*\u001B[39margs, \u001B[38;5;241m*\u001B[39m\u001B[38;5;241m*\u001B[39mkwargs)\n\u001B[0;32m    214\u001B[0m \u001B[38;5;28;01mexcept\u001B[39;00m InvalidParameterError \u001B[38;5;28;01mas\u001B[39;00m e:\n\u001B[0;32m    215\u001B[0m     \u001B[38;5;66;03m# When the function is just a wrapper around an estimator, we allow\u001B[39;00m\n\u001B[0;32m    216\u001B[0m     \u001B[38;5;66;03m# the function to delegate validation to the estimator, but we replace\u001B[39;00m\n\u001B[0;32m    217\u001B[0m     \u001B[38;5;66;03m# the name of the estimator by the name of the function in the error\u001B[39;00m\n\u001B[0;32m    218\u001B[0m     \u001B[38;5;66;03m# message to avoid confusion.\u001B[39;00m\n\u001B[0;32m    219\u001B[0m     msg \u001B[38;5;241m=\u001B[39m re\u001B[38;5;241m.\u001B[39msub(\n\u001B[0;32m    220\u001B[0m         \u001B[38;5;124mr\u001B[39m\u001B[38;5;124m\"\u001B[39m\u001B[38;5;124mparameter of \u001B[39m\u001B[38;5;124m\\\u001B[39m\u001B[38;5;124mw+ must be\u001B[39m\u001B[38;5;124m\"\u001B[39m,\n\u001B[0;32m    221\u001B[0m         \u001B[38;5;124mf\u001B[39m\u001B[38;5;124m\"\u001B[39m\u001B[38;5;124mparameter of \u001B[39m\u001B[38;5;132;01m{\u001B[39;00mfunc\u001B[38;5;241m.\u001B[39m\u001B[38;5;18m__qualname__\u001B[39m\u001B[38;5;132;01m}\u001B[39;00m\u001B[38;5;124m must be\u001B[39m\u001B[38;5;124m\"\u001B[39m,\n\u001B[0;32m    222\u001B[0m         \u001B[38;5;28mstr\u001B[39m(e),\n\u001B[0;32m    223\u001B[0m     )\n",
      "File \u001B[1;32m~\\AppData\\Roaming\\Python\\Python310\\site-packages\\sklearn\\metrics\\_ranking.py:1095\u001B[0m, in \u001B[0;36mroc_curve\u001B[1;34m(y_true, y_score, pos_label, sample_weight, drop_intermediate)\u001B[0m\n\u001B[0;32m    993\u001B[0m \u001B[38;5;129m@validate_params\u001B[39m(\n\u001B[0;32m    994\u001B[0m     {\n\u001B[0;32m    995\u001B[0m         \u001B[38;5;124m\"\u001B[39m\u001B[38;5;124my_true\u001B[39m\u001B[38;5;124m\"\u001B[39m: [\u001B[38;5;124m\"\u001B[39m\u001B[38;5;124marray-like\u001B[39m\u001B[38;5;124m\"\u001B[39m],\n\u001B[1;32m   (...)\u001B[0m\n\u001B[0;32m   1004\u001B[0m     y_true, y_score, \u001B[38;5;241m*\u001B[39m, pos_label\u001B[38;5;241m=\u001B[39m\u001B[38;5;28;01mNone\u001B[39;00m, sample_weight\u001B[38;5;241m=\u001B[39m\u001B[38;5;28;01mNone\u001B[39;00m, drop_intermediate\u001B[38;5;241m=\u001B[39m\u001B[38;5;28;01mTrue\u001B[39;00m\n\u001B[0;32m   1005\u001B[0m ):\n\u001B[0;32m   1006\u001B[0m \u001B[38;5;250m    \u001B[39m\u001B[38;5;124;03m\"\"\"Compute Receiver operating characteristic (ROC).\u001B[39;00m\n\u001B[0;32m   1007\u001B[0m \n\u001B[0;32m   1008\u001B[0m \u001B[38;5;124;03m    Note: this implementation is restricted to the binary classification task.\u001B[39;00m\n\u001B[1;32m   (...)\u001B[0m\n\u001B[0;32m   1093\u001B[0m \u001B[38;5;124;03m    array([ inf, 0.8 , 0.4 , 0.35, 0.1 ])\u001B[39;00m\n\u001B[0;32m   1094\u001B[0m \u001B[38;5;124;03m    \"\"\"\u001B[39;00m\n\u001B[1;32m-> 1095\u001B[0m     fps, tps, thresholds \u001B[38;5;241m=\u001B[39m \u001B[43m_binary_clf_curve\u001B[49m\u001B[43m(\u001B[49m\n\u001B[0;32m   1096\u001B[0m \u001B[43m        \u001B[49m\u001B[43my_true\u001B[49m\u001B[43m,\u001B[49m\u001B[43m \u001B[49m\u001B[43my_score\u001B[49m\u001B[43m,\u001B[49m\u001B[43m \u001B[49m\u001B[43mpos_label\u001B[49m\u001B[38;5;241;43m=\u001B[39;49m\u001B[43mpos_label\u001B[49m\u001B[43m,\u001B[49m\u001B[43m \u001B[49m\u001B[43msample_weight\u001B[49m\u001B[38;5;241;43m=\u001B[39;49m\u001B[43msample_weight\u001B[49m\n\u001B[0;32m   1097\u001B[0m \u001B[43m    \u001B[49m\u001B[43m)\u001B[49m\n\u001B[0;32m   1099\u001B[0m     \u001B[38;5;66;03m# Attempt to drop thresholds corresponding to points in between and\u001B[39;00m\n\u001B[0;32m   1100\u001B[0m     \u001B[38;5;66;03m# collinear with other points. These are always suboptimal and do not\u001B[39;00m\n\u001B[0;32m   1101\u001B[0m     \u001B[38;5;66;03m# appear on a plotted ROC curve (and thus do not affect the AUC).\u001B[39;00m\n\u001B[1;32m   (...)\u001B[0m\n\u001B[0;32m   1106\u001B[0m     \u001B[38;5;66;03m# but does not drop more complicated cases like fps = [1, 3, 7],\u001B[39;00m\n\u001B[0;32m   1107\u001B[0m     \u001B[38;5;66;03m# tps = [1, 2, 4]; there is no harm in keeping too many thresholds.\u001B[39;00m\n\u001B[0;32m   1108\u001B[0m     \u001B[38;5;28;01mif\u001B[39;00m drop_intermediate \u001B[38;5;129;01mand\u001B[39;00m \u001B[38;5;28mlen\u001B[39m(fps) \u001B[38;5;241m>\u001B[39m \u001B[38;5;241m2\u001B[39m:\n",
      "File \u001B[1;32m~\\AppData\\Roaming\\Python\\Python310\\site-packages\\sklearn\\metrics\\_ranking.py:804\u001B[0m, in \u001B[0;36m_binary_clf_curve\u001B[1;34m(y_true, y_score, pos_label, sample_weight)\u001B[0m\n\u001B[0;32m    802\u001B[0m y_type \u001B[38;5;241m=\u001B[39m type_of_target(y_true, input_name\u001B[38;5;241m=\u001B[39m\u001B[38;5;124m\"\u001B[39m\u001B[38;5;124my_true\u001B[39m\u001B[38;5;124m\"\u001B[39m)\n\u001B[0;32m    803\u001B[0m \u001B[38;5;28;01mif\u001B[39;00m \u001B[38;5;129;01mnot\u001B[39;00m (y_type \u001B[38;5;241m==\u001B[39m \u001B[38;5;124m\"\u001B[39m\u001B[38;5;124mbinary\u001B[39m\u001B[38;5;124m\"\u001B[39m \u001B[38;5;129;01mor\u001B[39;00m (y_type \u001B[38;5;241m==\u001B[39m \u001B[38;5;124m\"\u001B[39m\u001B[38;5;124mmulticlass\u001B[39m\u001B[38;5;124m\"\u001B[39m \u001B[38;5;129;01mand\u001B[39;00m pos_label \u001B[38;5;129;01mis\u001B[39;00m \u001B[38;5;129;01mnot\u001B[39;00m \u001B[38;5;28;01mNone\u001B[39;00m)):\n\u001B[1;32m--> 804\u001B[0m     \u001B[38;5;28;01mraise\u001B[39;00m \u001B[38;5;167;01mValueError\u001B[39;00m(\u001B[38;5;124m\"\u001B[39m\u001B[38;5;132;01m{0}\u001B[39;00m\u001B[38;5;124m format is not supported\u001B[39m\u001B[38;5;124m\"\u001B[39m\u001B[38;5;241m.\u001B[39mformat(y_type))\n\u001B[0;32m    806\u001B[0m check_consistent_length(y_true, y_score, sample_weight)\n\u001B[0;32m    807\u001B[0m y_true \u001B[38;5;241m=\u001B[39m column_or_1d(y_true)\n",
      "\u001B[1;31mValueError\u001B[0m: continuous format is not supported"
     ]
    }
   ],
   "source": [
    "fpr1, tpr1, thresholds1 = roc_curve(y_test, y_pred)\n",
    "roc_auc1 = roc_auc_score(y_test, y_pred)\n",
    "\n",
    "plt.figure(figsize=(8, 6))\n",
    "plt.plot(fpr1, tpr1, color='firebrick', lw=2, label='Our ROC curve (area = {:.2f})'.format(roc_auc1))\n",
    "plt.plot([0, 1], [0, 1], color='gray', linestyle='--')  # Plot the random classifier\n",
    "plt.xlabel('False Positive Rate')\n",
    "plt.ylabel('True Positive Rate')\n",
    "plt.title('Receiver Operating Characteristic (ROC) Curve')\n",
    "plt.legend(loc='lower right')\n",
    "plt.show()"
   ],
   "metadata": {
    "collapsed": false,
    "pycharm": {
     "name": "#%%\n"
    }
   }
  },
  {
   "cell_type": "code",
   "execution_count": null,
   "outputs": [],
   "source": [
    "y_pred"
   ],
   "metadata": {
    "collapsed": false,
    "pycharm": {
     "name": "#%%\n"
    }
   }
  },
  {
   "cell_type": "code",
   "execution_count": 21,
   "outputs": [
    {
     "data": {
      "text/plain": "<Figure size 800x600 with 1 Axes>",
      "image/png": "[encoded data removed]"
     },
     "metadata": {},
     "output_type": "display_data"
    }
   ],
   "source": [
    "# Plot the partial dependence curve\n",
    "plt.figure(figsize=(8, 6))\n",
    "\n",
    "for index in range(0, 61):\n",
    "    feature_values = np.linspace(X_test[index].min(), X_test[index].max(), num=50)\n",
    "\n",
    "    # Function to compute partial dependence\n",
    "    def compute_partial_dependence(model, feature_index, feature_values, other_features):\n",
    "        X_pred = other_features.copy()\n",
    "        results = []\n",
    "        for value in feature_values:\n",
    "            X_pred[feature_index] = value\n",
    "            prediction = model.predict(X_pred)\n",
    "            results.append(prediction.mean())  # Use mean prediction if multiple samples are used\n",
    "        return results\n",
    "\n",
    "    # Compute partial dependence for the feature of interest\n",
    "    pdp_results = compute_partial_dependence(gam_result, index, feature_values, X_test)\n",
    "\n",
    "    plt.plot(feature_values, pdp_results, label=index)\n",
    "\n",
    "plt.ylabel('Partial Dependence')\n",
    "plt.title(f'Partial Dependence Plot for {\"0\"}')\n",
    "plt.legend()\n",
    "plt.grid(True)\n",
    "plt.show()"
   ],
   "metadata": {
    "collapsed": false,
    "pycharm": {
     "name": "#%%\n"
    }
   }
  },
  {
   "cell_type": "code",
   "execution_count": 20,
   "outputs": [
    {
     "data": {
      "text/plain": "array([[-0.57703715,  1.58933854,  0.        , ..., -0.32281453,\n        -0.09050429, -0.02333122],\n       [-0.30560633,  0.54516031,  0.        , ..., -0.32281453,\n        -0.09050429, -0.02333122],\n       [ 0.25987453,  0.66698111,  0.        , ..., -0.32281453,\n        -0.09050429, -0.02333122],\n       ...,\n       [ 0.2372553 , -1.26474862,  0.        , ..., -0.32281453,\n        -0.09050429, -0.02333122],\n       [-0.83715834, -0.18576445,  0.        , ..., -0.32281453,\n        -0.09050429, -0.02333122],\n       [ 1.23250161, -1.40397238,  0.        , ..., -0.32281453,\n        -0.09050429, -0.02333122]])"
     },
     "execution_count": 20,
     "metadata": {},
     "output_type": "execute_result"
    }
   ],
   "source": [
    "X_test"
   ],
   "metadata": {
    "collapsed": false,
    "pycharm": {
     "name": "#%%\n"
    }
   }
  },
  {
   "cell_type": "code",
   "execution_count": null,
   "outputs": [],
   "source": [],
   "metadata": {
    "collapsed": false,
    "pycharm": {
     "name": "#%%\n"
    }
   }
  }
 ],
 "metadata": {
  "kernelspec": {
   "display_name": "Python 3",
   "language": "python",
   "name": "python3"
  },
  "language_info": {
   "codemirror_mode": {
    "name": "ipython",
    "version": 2
   },
   "file_extension": ".py",
   "mimetype": "text/x-python",
   "name": "python",
   "nbconvert_exporter": "python",
   "pygments_lexer": "ipython2",
   "version": "2.7.6"
  }
 },
 "nbformat": 4,
 "nbformat_minor": 0
}